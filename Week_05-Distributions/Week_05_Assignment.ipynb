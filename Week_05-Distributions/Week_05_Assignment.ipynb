{
  "nbformat": 4,
  "nbformat_minor": 0,
  "metadata": {
    "colab": {
      "provenance": [],
      "authorship_tag": "ABX9TyM7wIYM0hpH6XeoKBdSkab/",
      "include_colab_link": true
    },
    "kernelspec": {
      "name": "python3",
      "display_name": "Python 3"
    },
    "language_info": {
      "name": "python"
    }
  },
  "cells": [
    {
      "cell_type": "markdown",
      "metadata": {
        "id": "view-in-github",
        "colab_type": "text"
      },
      "source": [
        "<a href=\"https://colab.research.google.com/github/gitmystuff/DTSC4050/blob/main/Week_05-Distributions/Week_05_Assignment.ipynb\" target=\"_parent\"><img src=\"https://colab.research.google.com/assets/colab-badge.svg\" alt=\"Open In Colab\"/></a>"
      ]
    },
    {
      "cell_type": "markdown",
      "source": [
        "# Week 5 - Assignment\n",
        "\n",
        "Your Name"
      ],
      "metadata": {
        "id": "yEAeLY1cHuRC"
      }
    },
    {
      "cell_type": "markdown",
      "source": [
        "## Getting Started\n",
        "\n",
        "* Colab - get notebook from gitmystuff DTSC4050 repository\n",
        "* Save a Copy in Drive\n",
        "* Remove Copy of\n",
        "* Edit name\n",
        "* Take attendance\n",
        "* Clean up Colab Notebooks folder\n",
        "* Submit shared link"
      ],
      "metadata": {
        "id": "oYahZ6se6hjA"
      }
    },
    {
      "cell_type": "markdown",
      "source": [
        "## Getting to Know your Distributions"
      ],
      "metadata": {
        "id": "RqbaqyJHH0k3"
      }
    },
    {
      "cell_type": "markdown",
      "source": [
        "**Instructions**\n",
        "\n",
        "Given 5 distributions, use the fitter library to see which KDE plot best fits the generated data from the distribution then, ask your LLM to describe the distribution and give examples of real-world phenomena it might model.\n",
        "\n",
        "<pre>\n",
        "# import scipy.stats as st\n",
        "# import numpy as np\n",
        "\n",
        "# dist_name_str = my_distributions.pop()  \n",
        "# dist_obj = getattr(st, dist_name_str)  # Get the actual distribution *object* using getattr\n",
        "# print(dist_name_str)  \n",
        "# data = dist_obj.rvs(size=1000)  # Use the object directly\n",
        "# dist_name_str = [dist_name_str]  # Make it a list (if fit_data requires it)\n",
        "# fit_data(data, dist_name_str)\n",
        "</pre>"
      ],
      "metadata": {
        "id": "nbQCQkmUQIYW"
      }
    },
    {
      "cell_type": "markdown",
      "source": [
        "### Step 1\n",
        "\n",
        "Set up your random seed, run this cell"
      ],
      "metadata": {
        "id": "jUjNj5qBJhgM"
      }
    },
    {
      "cell_type": "code",
      "execution_count": null,
      "metadata": {
        "id": "1n1XuNF8PRCX"
      },
      "outputs": [],
      "source": [
        "# # set seed\n",
        "# import time\n",
        "# import numpy as np\n",
        "# import random\n",
        "\n",
        "# def generate_user_seed():\n",
        "#     # Get current time in nanoseconds (more granular)\n",
        "#     nanoseconds = time.time_ns()\n",
        "\n",
        "#     # Add a small random component to further reduce collision chances\n",
        "#     random_component = random.randint(0, 1000)  # Adjust range as needed\n",
        "\n",
        "#     # Combine them (XOR is a good way to mix values)\n",
        "#     seed = nanoseconds ^ random_component\n",
        "\n",
        "#     # Ensure the seed is within the valid range for numpy's seed\n",
        "#     seed = seed % (2**32)  # Modulo to keep it within 32-bit range\n",
        "\n",
        "#     return seed\n",
        "\n",
        "# user_seed = generate_user_seed()\n",
        "# print(user_seed)\n",
        "# np.random.seed(user_seed)"
      ]
    },
    {
      "cell_type": "markdown",
      "source": [
        "### Step 2\n",
        "\n",
        "You may need to install fitter, uncomment the next cell and then execute it"
      ],
      "metadata": {
        "id": "fQ7oI4cEJrcU"
      }
    },
    {
      "cell_type": "code",
      "source": [
        "# pip install fitter"
      ],
      "metadata": {
        "id": "KJ3-ri5q1NPZ"
      },
      "execution_count": null,
      "outputs": []
    },
    {
      "cell_type": "markdown",
      "source": [
        "### Step 3\n",
        "\n",
        "Get a list of available distributions that we can work with. Run the next cell to make the list available."
      ],
      "metadata": {
        "id": "_4n0teQSJ41v"
      }
    },
    {
      "cell_type": "code",
      "source": [
        "# import scipy.stats as st\n",
        "# import numpy as np\n",
        "# import matplotlib.pyplot as plt\n",
        "# import pprint\n",
        "\n",
        "# def generate_defaults(dist):\n",
        "#     \"\"\"Generates distribution with default parameters.\"\"\"\n",
        "#     try:\n",
        "#         data = dist.rvs(size=1000)  # Generate data with defaults\n",
        "#         return True # Return true if it works\n",
        "#     except Exception as e:\n",
        "#         return False # Return false if it fails\n",
        "\n",
        "# continuous_dists = []\n",
        "# for dist_name_str in dir(st):\n",
        "#     dist_object = getattr(st, dist_name_str)\n",
        "#     if isinstance(dist_object, st.rv_continuous):\n",
        "#         continuous_dists.append(dist_object)\n",
        "\n",
        "# successful_dists = []\n",
        "# for dist in continuous_dists:\n",
        "#     if generate_defaults(dist):\n",
        "#         successful_dists.append(dist.__class__.__name__)\n",
        "\n",
        "# successful_dists = [item.replace(\"_gen\", \"\") for item in successful_dists]\n",
        "\n",
        "# for dist in [\"norm\"]:\n",
        "#   try:\n",
        "#       successful_dists.remove(dist)\n",
        "#   except:\n",
        "#       pass\n",
        "\n",
        "# pprint.pprint(successful_dists, compact=True)"
      ],
      "metadata": {
        "id": "1ZtkBen96B41"
      },
      "execution_count": null,
      "outputs": []
    },
    {
      "cell_type": "markdown",
      "source": [
        "### Step 4\n",
        "\n",
        "Randomly select 4 distributions using sample"
      ],
      "metadata": {
        "id": "wux5_CNmKCH0"
      }
    },
    {
      "cell_type": "code",
      "source": [
        "# import random\n",
        "\n",
        "# my_distributions = []\n",
        "# my_distributions.extend(random.sample(successful_dists, 4))\n",
        "# print(my_distributions)"
      ],
      "metadata": {
        "id": "RDqmX4Fm0sAP"
      },
      "execution_count": null,
      "outputs": []
    },
    {
      "cell_type": "markdown",
      "source": [
        "### Step 5\n",
        "\n",
        "Run the next cell to have a fitter function available"
      ],
      "metadata": {
        "id": "hgUs0APNKiJ9"
      }
    },
    {
      "cell_type": "code",
      "source": [
        "# from fitter import Fitter, get_common_distributions\n",
        "\n",
        "# def fit_data(data, distributions=None):\n",
        "#   common_distributions = get_common_distributions()\n",
        "#   if distributions not in common_distributions:\n",
        "#     distributions = common_distributions + distributions\n",
        "#   else:\n",
        "#     distributions = common_distributions\n",
        "#   distributions = distributions + get_common_distributions()\n",
        "#   f = Fitter(data, distributions=distributions)\n",
        "#   f.fit()\n",
        "#   f.summary()"
      ],
      "metadata": {
        "id": "2agggi523Ca-"
      },
      "execution_count": null,
      "outputs": []
    },
    {
      "cell_type": "markdown",
      "source": [
        "### Step 6\n",
        "\n",
        "Create, fit, and describe 5 distributions, the first one being the normal distribution and the other four being the distributions provided in the my_distributions list."
      ],
      "metadata": {
        "id": "GxVf6F3eKtXw"
      }
    },
    {
      "cell_type": "markdown",
      "source": [
        "## Distribution 1"
      ],
      "metadata": {
        "id": "9iACch8rHEyk"
      }
    },
    {
      "cell_type": "code",
      "source": [
        "# data = st.norm.rvs(size=1000)\n",
        "# dist_name = [\"norm\"]\n",
        "# print(dist_name)\n",
        "# fit_data(data, dist_name)"
      ],
      "metadata": {
        "id": "ckCJr0IN1oZi"
      },
      "execution_count": null,
      "outputs": []
    },
    {
      "cell_type": "markdown",
      "source": [
        "## Real World Phenomena\n",
        "\n",
        "prompt = Describe the {dist_name} distribution and give examples of real-world phenomena it might model.\n",
        "\n",
        "Answer:\n"
      ],
      "metadata": {
        "id": "nyg7jjABFbiG"
      }
    },
    {
      "cell_type": "markdown",
      "source": [
        "## Distribution 2"
      ],
      "metadata": {
        "id": "6yY9E5NtGH3Y"
      }
    },
    {
      "source": [
        "# code here\n"
      ],
      "cell_type": "code",
      "metadata": {
        "id": "bHe2dah-DduZ"
      },
      "execution_count": null,
      "outputs": []
    },
    {
      "cell_type": "markdown",
      "source": [
        "## Real World Phenomena\n",
        "\n",
        "prompt = Describe the {dist_name} distribution and give examples of real-world phenomena it might model.\n",
        "\n",
        "Answer:\n"
      ],
      "metadata": {
        "id": "ecVT9xlZGW-9"
      }
    },
    {
      "cell_type": "markdown",
      "source": [
        "## Distribution 3"
      ],
      "metadata": {
        "id": "vS5rceiIGop3"
      }
    },
    {
      "cell_type": "code",
      "source": [
        "# code here"
      ],
      "metadata": {
        "id": "Cjzlxn1LGtez"
      },
      "execution_count": null,
      "outputs": []
    },
    {
      "cell_type": "markdown",
      "source": [
        "## Real World Phenomena\n",
        "\n",
        "prompt = Describe the {dist_name} distribution and give examples of real-world phenomena it might model.\n",
        "\n",
        "Answer:\n"
      ],
      "metadata": {
        "id": "MvlhvXheGkmX"
      }
    },
    {
      "cell_type": "markdown",
      "source": [
        "## Distribution 4"
      ],
      "metadata": {
        "id": "vX84hEF-Gp2e"
      }
    },
    {
      "cell_type": "code",
      "source": [
        "# code here"
      ],
      "metadata": {
        "id": "0roYM9y2Gz1a"
      },
      "execution_count": null,
      "outputs": []
    },
    {
      "cell_type": "markdown",
      "source": [
        "## Real World Phenomena\n",
        "\n",
        "prompt = Describe the {dist_name} distribution and give examples of real-world phenomena it might model.\n",
        "\n",
        "Answer:\n"
      ],
      "metadata": {
        "id": "Lo3iVcOUGZOO"
      }
    },
    {
      "cell_type": "markdown",
      "source": [
        "## Distribution 5"
      ],
      "metadata": {
        "id": "k6lZvNjfGq5t"
      }
    },
    {
      "cell_type": "code",
      "source": [
        "# code here"
      ],
      "metadata": {
        "id": "tP5tOVnwG4wv"
      },
      "execution_count": null,
      "outputs": []
    },
    {
      "cell_type": "markdown",
      "source": [
        "## Real World Phenomena\n",
        "\n",
        "prompt = Describe the {dist_name} distribution and give examples of real-world phenomena it might model.\n",
        "\n",
        "Answer:\n"
      ],
      "metadata": {
        "id": "wPFqGriXGZW6"
      }
    }
  ]
}