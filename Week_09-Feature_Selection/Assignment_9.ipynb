{
  "nbformat": 4,
  "nbformat_minor": 0,
  "metadata": {
    "colab": {
      "provenance": [],
      "include_colab_link": true
    },
    "kernelspec": {
      "name": "python3",
      "display_name": "Python 3"
    },
    "language_info": {
      "name": "python"
    }
  },
  "cells": [
    {
      "cell_type": "markdown",
      "metadata": {
        "id": "view-in-github",
        "colab_type": "text"
      },
      "source": [
        "<a href=\"https://colab.research.google.com/github/gitmystuff/DTSC4050/blob/main/Week_09-Feature_Selection/Assignment_9.ipynb\" target=\"_parent\"><img src=\"https://colab.research.google.com/assets/colab-badge.svg\" alt=\"Open In Colab\"/></a>"
      ]
    },
    {
      "cell_type": "markdown",
      "source": [
        "# Assignment 9\n",
        "\n",
        "Your Name\n",
        "\n",
        "**Instructions**\n",
        "\n",
        "* Save a copy to your drive\n",
        "* Provide your name\n",
        "* Run the first code cell\n",
        "* Complete the rest of the cells given the prompt\n",
        "\n",
        "**Note**: There are three target variables. Only one is used in a code cell at a time."
      ],
      "metadata": {
        "id": "a8RuEXy0YGnJ"
      }
    },
    {
      "cell_type": "markdown",
      "source": [
        "## Filter Methods"
      ],
      "metadata": {
        "id": "M_GIpdn-JqFT"
      }
    },
    {
      "cell_type": "code",
      "execution_count": null,
      "metadata": {
        "id": "5mWXMl0w0WZN"
      },
      "outputs": [],
      "source": [
        "# import pandas as pd\n",
        "# import numpy as np\n",
        "# import random\n",
        "# import time\n",
        "# from sklearn.feature_selection import mutual_info_classif, chi2\n",
        "# from sklearn.preprocessing import LabelEncoder, OrdinalEncoder\n",
        "# from statsmodels.stats.outliers_influence import variance_inflation_factor\n",
        "\n",
        "\n",
        "# def generate_user_seed():\n",
        "#     # Get current time in nanoseconds (more granular)\n",
        "#     nanoseconds = time.time_ns()\n",
        "\n",
        "#     # Add a small random component to further reduce collision chances\n",
        "#     random_component = random.randint(0, 1000)  # Adjust range as needed\n",
        "\n",
        "#     # Combine them (XOR is a good way to mix values)\n",
        "#     seed = nanoseconds ^ random_component\n",
        "\n",
        "#     # Ensure the seed is within the valid range for numpy's seed\n",
        "#     seed = seed % (2**32)  # Modulo to keep it within 32-bit range\n",
        "\n",
        "#     return seed\n",
        "\n",
        "# user_seed = generate_user_seed()\n",
        "# print(user_seed)\n",
        "# np.random.seed(user_seed)\n",
        "\n",
        "\n",
        "# # Generate dataset\n",
        "# n_samples = 500\n",
        "# n_features = 10\n",
        "\n",
        "# # Numerical features\n",
        "# numerical_data = np.random.randn(n_samples, n_features - 2)  # 8 numerical features\n",
        "\n",
        "# # Categorical features\n",
        "# categorical_data = np.random.choice(['A', 'B', 'C', 'D'], size=(n_samples, 2))  # 2 categorical features\n",
        "\n",
        "# # Create DataFrame\n",
        "# columns_numerical = [f'num_{i}' for i in range(n_features - 2)]\n",
        "# columns_categorical = ['cat_1', 'cat_2']\n",
        "# df_numerical = pd.DataFrame(numerical_data, columns=columns_numerical)\n",
        "# df_categorical = pd.DataFrame(categorical_data, columns=columns_categorical)\n",
        "\n",
        "# df = pd.concat([df_numerical, df_categorical], axis=1)\n",
        "\n",
        "# # Target variable (numerical and categorical for different methods)\n",
        "# df['target_numerical'] = df['num_0'] + 0.5 * df['num_1'] + np.random.randn(n_samples) * 0.5\n",
        "# df['target_categorical'] = np.random.choice(['Yes', 'No'], size=n_samples, p=[0.7, 0.3])\n",
        "\n",
        "# # Create highly correlated features\n",
        "# df['num_6'] = df['num_0'] + 0.8 * df['num_1'] + np.random.randn(n_samples) * 0.1  # Highly correlated with num_0 and num_1\n",
        "# df['num_7'] = 0.7 * df['num_2'] - 0.9 * df['num_3'] + np.random.randn(n_samples) * 0.1  # Highly correlated with num_2 and num_3\n",
        "\n",
        "# # Encode categorical target\n",
        "# le = LabelEncoder()\n",
        "# df['target_categorical_encoded'] = le.fit_transform(df['target_categorical'])\n",
        "\n",
        "# # Encode categorical features\n",
        "# encoder = OrdinalEncoder()\n",
        "# df[columns_categorical] = encoder.fit_transform(df[columns_categorical])"
      ]
    },
    {
      "cell_type": "code",
      "source": [
        "# 1a. Print the Pearson correlation coefficients between the columns_numerical and the target_numerical only\n"
      ],
      "metadata": {
        "id": "5dFqaZguCCmK"
      },
      "execution_count": null,
      "outputs": []
    },
    {
      "cell_type": "markdown",
      "source": [
        "1b. What is the correlation between the columns_numerical and the target_numerical telling us?"
      ],
      "metadata": {
        "id": "OLXKF44xccBv"
      }
    },
    {
      "cell_type": "code",
      "source": [
        "# 2a. Print the feature and the Variance Inflation Factor (VIF) values for the numerical features only\n"
      ],
      "metadata": {
        "id": "HIHhuDVPCEzy"
      },
      "execution_count": null,
      "outputs": []
    },
    {
      "cell_type": "markdown",
      "source": [
        "2b. What is VIF telling us?"
      ],
      "metadata": {
        "id": "scdRVboccEYz"
      }
    },
    {
      "cell_type": "code",
      "source": [
        "# 3a. Print the Mutual Information Classification values between all features that start with num or cat and the categorical target encoded\n"
      ],
      "metadata": {
        "id": "jy7hp4BWCeQI"
      },
      "execution_count": null,
      "outputs": []
    },
    {
      "cell_type": "markdown",
      "source": [
        "3b. What are the mutual information values telling us?"
      ],
      "metadata": {
        "id": "BuX-vGERdVf8"
      }
    },
    {
      "cell_type": "code",
      "source": [
        "# 4a. Print the Chi-Square values for the categorical features (features that start with cat) vs categorical target encoded\n"
      ],
      "metadata": {
        "id": "mLcqXjbfG0F-"
      },
      "execution_count": null,
      "outputs": []
    },
    {
      "cell_type": "markdown",
      "source": [
        "4b. What are the Chi-Square values telling us?"
      ],
      "metadata": {
        "id": "ry31NGNMd9Bh"
      }
    },
    {
      "cell_type": "code",
      "source": [
        "# 5a. Print the Variance Threshold values for the columns_numerical\n"
      ],
      "metadata": {
        "id": "aQOUzgocG5H2"
      },
      "execution_count": null,
      "outputs": []
    },
    {
      "cell_type": "markdown",
      "source": [
        "5b. What is are the Variance Threshold values telling us?"
      ],
      "metadata": {
        "id": "fPD35xLTeVan"
      }
    },
    {
      "cell_type": "markdown",
      "source": [
        "**Run the following code cell**"
      ],
      "metadata": {
        "id": "Pjosnl6dJ10S"
      }
    },
    {
      "cell_type": "code",
      "source": [
        "# import pandas as pd\n",
        "# import numpy as np\n",
        "# from sklearn.datasets import make_regression\n",
        "# from sklearn.linear_model import LinearRegression\n",
        "# from sklearn.feature_selection import RFE\n",
        "# from sklearn.model_selection import train_test_split\n",
        "\n",
        "# # Generate a synthetic dataset for regression\n",
        "# X, y = make_regression(n_samples=200, n_features=10, n_informative=5, random_state=user_seed)\n",
        "# feature_names = [f\"feature_{i}\" for i in range(X.shape[1])]\n",
        "# X = pd.DataFrame(X, columns=feature_names)\n",
        "# y = pd.Series(y)\n",
        "\n",
        "# # Split data into training and testing sets\n",
        "# X_train, X_test, y_train, y_test = train_test_split(X, y, test_size=0.3, random_state=user_seed)\n",
        "# print(user_seed)\n",
        "\n"
      ],
      "metadata": {
        "id": "MFO1x71uKM3m"
      },
      "execution_count": null,
      "outputs": []
    },
    {
      "cell_type": "code",
      "source": [
        "# 6a. Create a linear regression model and a RFE object, selecting the top 5 features.\n",
        "# Fit (train) the RFE model with X_train and y_train\n",
        "# Print the selected features and their rankings\n"
      ],
      "metadata": {
        "id": "gwA1gH3KfJ7y"
      },
      "execution_count": null,
      "outputs": []
    },
    {
      "cell_type": "markdown",
      "source": [
        "6b. What is Recursive Feature Elimination doing for us?"
      ],
      "metadata": {
        "id": "ASabug21funK"
      }
    },
    {
      "cell_type": "markdown",
      "source": [
        "**Run the following code cell**"
      ],
      "metadata": {
        "id": "eY-o5D4kLKz8"
      }
    },
    {
      "cell_type": "code",
      "source": [
        "# import pandas as pd\n",
        "# import numpy as np\n",
        "# from sklearn.datasets import make_regression\n",
        "# from sklearn.linear_model import Lasso, Ridge, ElasticNet\n",
        "# from sklearn.feature_selection import SelectKBest, f_regression, SelectFromModel\n",
        "# from sklearn.model_selection import train_test_split\n",
        "# from sklearn.preprocessing import StandardScaler\n",
        "# from sklearn.ensemble import RandomForestRegressor\n",
        "\n",
        "# # Generate a synthetic dataset for regression\n",
        "# X, y = make_regression(n_samples=200, n_features=10, n_informative=5, random_state=user_seed)\n",
        "# feature_names = [f\"feature_{i}\" for i in range(X.shape[1])]\n",
        "# X = pd.DataFrame(X, columns=feature_names)\n",
        "# y = pd.Series(y)\n",
        "\n",
        "# # Split data into training and testing sets\n",
        "# X_train, X_test, y_train, y_test = train_test_split(X, y, test_size=0.3, random_state=user_seed)\n",
        "# print(user_seed)\n",
        "\n",
        "# # Scale the data\n",
        "# scaler = StandardScaler()\n",
        "# X_train_scaled = scaler.fit_transform(X_train)\n",
        "# X_test_scaled = scaler.transform(X_test)\n",
        "\n"
      ],
      "metadata": {
        "id": "mKGGZiFVLNZm"
      },
      "execution_count": null,
      "outputs": []
    },
    {
      "cell_type": "code",
      "source": [
        "# 7a. Create a Lasso model with alpha = 0.1\n",
        "# Fit (train) the model with X_train_scaled and y_train\n",
        "# Print the selected features and coefficients (with their feature names)"
      ],
      "metadata": {
        "id": "-go1hbJsLVkS"
      },
      "execution_count": null,
      "outputs": []
    },
    {
      "cell_type": "markdown",
      "source": [
        "7b. What is the Lasso model doing for us?"
      ],
      "metadata": {
        "id": "ZGDRPnlng7Lx"
      }
    },
    {
      "cell_type": "markdown",
      "source": [
        "7c. Why aren't we scaling y_train?"
      ],
      "metadata": {
        "id": "zSs0ua-jhFjz"
      }
    },
    {
      "cell_type": "code",
      "source": [
        "# 8a. Create a Ridge model aith alpha = 0.5\n",
        "# Fit (train) the model with X_train_scaled and y_train\n",
        "# Print the selected features based on threshold and print the coefficients (with their feature names)\n"
      ],
      "metadata": {
        "id": "AfzOQJcRLbiE"
      },
      "execution_count": null,
      "outputs": []
    },
    {
      "cell_type": "markdown",
      "source": [
        "8b. What does the ridge model do for us?"
      ],
      "metadata": {
        "id": "4UrUf9Zihqik"
      }
    },
    {
      "cell_type": "code",
      "source": [
        "# 9a. Print the top 5 Select K Best Selected Features using f_regression\n"
      ],
      "metadata": {
        "id": "hkO28C0TN7Og"
      },
      "execution_count": null,
      "outputs": []
    },
    {
      "cell_type": "markdown",
      "source": [
        "9b. What does Select K Best do for us?"
      ],
      "metadata": {
        "id": "xuNdqIe_iCjo"
      }
    },
    {
      "cell_type": "code",
      "source": [
        "# 10a. Print the Selected Features with Select From Model (using RandomForestRegressor)\n"
      ],
      "metadata": {
        "id": "qZ5Cri_gN_uu"
      },
      "execution_count": null,
      "outputs": []
    },
    {
      "cell_type": "markdown",
      "source": [
        "10b. What does Select From Model do for us?"
      ],
      "metadata": {
        "id": "tVf9HzwdiZAd"
      }
    }
  ]
}