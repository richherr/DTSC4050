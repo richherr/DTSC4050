{
 "cells": [
  {
   "cell_type": "markdown",
   "id": "41c9a5d1",
   "metadata": {},
   "source": [
    "## Assignment Two"
   ]
  },
  {
   "cell_type": "markdown",
   "id": "0edbb01a",
   "metadata": {},
   "source": [
    "### Markdown\n",
    "https://jupyter-notebook.readthedocs.io/en/stable/examples/Notebook/Working%20With%20Markdown%20Cells.html"
   ]
  },
  {
   "cell_type": "markdown",
   "id": "6e50a1e9",
   "metadata": {},
   "source": [
    "### Starting Out\n",
    "Identify problem<br />\n",
    "Establish causes and effects<br />\n",
    "\n",
    "The research question<br />\n",
    "According to Wikipedia (2022):\n",
    "\n",
    ">  A research question is 'a question that a research project sets out to answer'. Choosing a research question is an essential element of both quantitative and qualitative research. Investigation will require data collection and analysis, and the methodology for this will vary widely. Good research questions seek to improve knowledge on an important topic, and are usually narrow and specific (para 1).\n",
    "\n",
    "Research Question. (2022, January 24). In *Wikipedia*. https://en.wikipedia.org/wiki/Research_question\n",
    "\n",
    "Data ownership\n",
    "\n",
    "Sampling (Collecting Data)<br />\n",
    "According to Wikipedia (2022):\n",
    "\n",
    ">  sampling is the selection of a subset (a statistical sample) of individuals from within a statistical population [similar elements] to estimate characteristics of the whole population (para 1).\n",
    "\n",
    "Sampling. (2022, January 24). In *Wikipedia*.https://en.wikipedia.org/wiki/Sampling_(statistics)\n",
    "\n",
    "Probabilistic Sampling\n",
    "* Simple random sampling: https://www.statisticshowto.com/probability-and-statistics/statistics-definitions/simple-random-sample/\n",
    "* Systematic sampling: https://www.open.edu/openlearncreate/mod/oucontent/view.php?id=233&section=1.5.2\n",
    "* Stratified sampling: https://www.geeksforgeeks.org/stratified-sampling-in-pandas/\n",
    "* Clustering: https://www.voxco.com/blog/stratified-sampling-vs-cluster-sampling/\n",
    "\n",
    "Non-Probabilistic Sampling Methods<br />\n",
    "https://www.analyticsvidhya.com/blog/2019/09/data-scientists-guide-8-types-of-sampling-techniques/\n",
    "* Convenience sampling\n",
    "* Quota sampling\n",
    "* Snowball sampling\n",
    "\n",
    "Parameter vs Statistic: https://www.statisticshowto.com/statistics-basics/how-to-tell-the-difference-between-a-statistic-and-a-parameter/ (parameter describes population, statistic describes sample\n",
    "\n",
    "Statistical inference<br />\n",
    "According to Wikipedia (2022):\n",
    "\n",
    ">  the process of using data analysis to infer properties of an underlying distribution of probability (para 1).\n",
    "\n",
    "Statistical inference. (2022, January 24). In *Wikipedia*. https://en.wikipedia.org/wiki/Statistical_inference.\n",
    "\n",
    "https://www.analyticsvidhya.com/blog/2022/03/an-overview-of-data-collection-data-sources-and-data-mining/"
   ]
  },
  {
   "cell_type": "markdown",
   "id": "5ef13fb6",
   "metadata": {},
   "source": [
    "### Identify Features and Target\n",
    "<table align=\"left\">\n",
    "    <tr>\n",
    "        <th>Independent Variables (X)</th>\n",
    "        <th>Dependent Variable (y)</th>\n",
    "    <tr>\n",
    "    <tr>\n",
    "        <td>Features</td>\n",
    "        <td>Target</td>\n",
    "    </tr>\n",
    "    <tr>\n",
    "        <td>Regressors</td>\n",
    "        <td>Regressand</td>\n",
    "    </tr>\n",
    "    <tr>\n",
    "        <td>Predictors</td>\n",
    "        <td>Response</td>\n",
    "    </tr>\n",
    "    <tr>\n",
    "        <td>Observations</td>\n",
    "        <td>Outcomes</td>\n",
    "    </tr>\n",
    "    <tr>\n",
    "        <td>Explanatory</td>\n",
    "        <td>Labels</td>\n",
    "    </tr>\n",
    "    <tr>\n",
    "        <td>Input</td>\n",
    "        <td>Output</td>\n",
    "    </tr>\n",
    "    <tr>\n",
    "        <td>exog (exogenous)</td>\n",
    "        <td>endog (endogenous)</td>\n",
    "    </tr>\n",
    "</table>"
   ]
  },
  {
   "cell_type": "markdown",
   "id": "540b0d57",
   "metadata": {},
   "source": [
    "Data types:\n",
    "* Numerical: has measurement\n",
    "    * Discrete: can be counted (number of people in a class)\n",
    "    * Continuous: described as a measurement (height, weight, temps), usually rounded off\n",
    "* Categorical: some type of group, category, that can be represented by a number (female: 1, male: 2) but have no mathematical meaning\n",
    "* Nominal: named or labeled (31 flavors)\n",
    "* Ordinal: ordered or scaled (first, second, etc, very happy, happy, meh, sad, very sad)\n",
    "* Cardinal: the number of things, counted (1, 2, 3, 4, 6, etc)\n",
    "* Interval: ordered numbers with equal distances (50 degrees, 60 degrees, etc)\n",
    "* Ratio: has a true zero (can't have height of -2 inches, distance between 1 and 2 is the same as 3 and 4 and 4 is twice 2)"
   ]
  },
  {
   "cell_type": "code",
   "execution_count": 1,
   "id": "8c32d60e",
   "metadata": {},
   "outputs": [],
   "source": [
    "# examples of type and conversion of types https://www.w3schools.com/python/python_casting.asp\n"
   ]
  },
  {
   "cell_type": "markdown",
   "id": "464c7f6d",
   "metadata": {},
   "source": [
    "**Univariate Data**<br />\n",
    "According to Wikipedia (2022):\n",
    "\n",
    ">  Univariate analysis is the simplest form of analyzing data. Uni means one, so in other words the data has only one variable. Univariate data requires to analyze each variable separately. Data is gathered for the purpose of answering a question, or more specifically, a research question. Univariate data does not answer research questions about relationships between variables, but rather it is used to describe one characteristic or attribute that varies from observation to observation (para 4).\n",
    "\n",
    "Univariate (statistics). (2022, January 24). In *Wikipedia*. https://en.wikipedia.org/wiki/Univariate_(statistics)."
   ]
  },
  {
   "cell_type": "code",
   "execution_count": 2,
   "id": "6b8e5175",
   "metadata": {},
   "outputs": [],
   "source": [
    "# data example using https://archive.ics.uci.edu/ml/datasets/Auto+MPG\n",
    "# cars.columns=['mpg', 'cylinders', 'displacement', 'horsepower', 'weight', 'acceleration', 'model year', 'origin',  'car name']"
   ]
  },
  {
   "cell_type": "code",
   "execution_count": 3,
   "id": "c1e86b35",
   "metadata": {
    "scrolled": true
   },
   "outputs": [],
   "source": [
    "# show some info\n"
   ]
  },
  {
   "cell_type": "code",
   "execution_count": 4,
   "id": "bedf659a",
   "metadata": {},
   "outputs": [],
   "source": [
    "# convert horsepower\n"
   ]
  },
  {
   "cell_type": "code",
   "execution_count": 5,
   "id": "f87de79b",
   "metadata": {},
   "outputs": [],
   "source": [
    "# example of univariate histogram\n"
   ]
  },
  {
   "cell_type": "code",
   "execution_count": 6,
   "id": "19d5c394",
   "metadata": {},
   "outputs": [],
   "source": [
    "# example of univariate pie chart\n"
   ]
  },
  {
   "cell_type": "markdown",
   "id": "15e4562e",
   "metadata": {},
   "source": [
    "**Bivariate Data**<br />\n",
    "Used to describe the relationship between two variables such as between a feature and the target"
   ]
  },
  {
   "cell_type": "code",
   "execution_count": 7,
   "id": "862ebe6b",
   "metadata": {},
   "outputs": [],
   "source": [
    "# Scatter plot\n"
   ]
  },
  {
   "cell_type": "markdown",
   "id": "92800f08",
   "metadata": {},
   "source": [
    "**Multivariate Analysis vs Multiple Regression**<br />\n",
    "\n",
    "Multivariate analysis includes more than one outcome, dependent, variable such as MANOVA, MANCOVA, PCA, etc\n",
    "\n",
    "Multiple regression involves two or more features with one target"
   ]
  },
  {
   "cell_type": "code",
   "execution_count": 8,
   "id": "cf6ec5cc",
   "metadata": {},
   "outputs": [],
   "source": [
    "# showing correlation of multiple features with one target\n"
   ]
  },
  {
   "cell_type": "markdown",
   "id": "a3076611",
   "metadata": {},
   "source": [
    "### Toy datasets\n",
    "* https://scikit-learn.org/stable/datasets.html"
   ]
  },
  {
   "cell_type": "code",
   "execution_count": 9,
   "id": "dd40e354",
   "metadata": {},
   "outputs": [],
   "source": [
    "# show sklearn dataset example\n"
   ]
  },
  {
   "cell_type": "code",
   "execution_count": 10,
   "id": "cf385ea6",
   "metadata": {},
   "outputs": [],
   "source": [
    "# get keys\n"
   ]
  },
  {
   "cell_type": "code",
   "execution_count": 11,
   "id": "5e2816bb",
   "metadata": {},
   "outputs": [],
   "source": [
    "# get description\n"
   ]
  },
  {
   "cell_type": "code",
   "execution_count": 12,
   "id": "639d8790",
   "metadata": {},
   "outputs": [],
   "source": [
    "# show variable names\n"
   ]
  },
  {
   "cell_type": "code",
   "execution_count": 13,
   "id": "1c62c6de",
   "metadata": {},
   "outputs": [],
   "source": [
    "# create dataframe\n"
   ]
  },
  {
   "cell_type": "code",
   "execution_count": 14,
   "id": "3e85a2e3",
   "metadata": {},
   "outputs": [],
   "source": [
    "# alternative (return_X_y=True)\n"
   ]
  },
  {
   "cell_type": "code",
   "execution_count": 15,
   "id": "149d2500",
   "metadata": {},
   "outputs": [],
   "source": [
    "# get list of seaborn datasets\n"
   ]
  },
  {
   "cell_type": "code",
   "execution_count": 16,
   "id": "20ed687d",
   "metadata": {},
   "outputs": [],
   "source": [
    "# loading seaborn dataset\n"
   ]
  },
  {
   "cell_type": "markdown",
   "id": "fc8f5538",
   "metadata": {},
   "source": [
    "### Online repositories\n",
    "* https://archive.ics.uci.edu/ml/datasets/Auto+MPG\n",
    "* http://lib.stat.cmu.edu/datasets/\n",
    "* https://www.kaggle.com/datasets"
   ]
  },
  {
   "cell_type": "code",
   "execution_count": 17,
   "id": "2bc209c1",
   "metadata": {},
   "outputs": [],
   "source": [
    "# UCI data example\n"
   ]
  },
  {
   "cell_type": "code",
   "execution_count": 18,
   "id": "a7207616",
   "metadata": {},
   "outputs": [],
   "source": [
    "# reading from url\n",
    "# weather = pd.read_csv('https://www1.ncdc.noaa.gov/pub/data/cdo/samples/ANNUAL_sample_csv.csv')\n",
    "# weather.head()"
   ]
  },
  {
   "cell_type": "markdown",
   "id": "cbf36cc1",
   "metadata": {},
   "source": [
    "**Example with Codebook**<br />\n",
    "https://www.kaggle.com/rhuebner/human-resources-data-set<br />\n",
    "https://rpubs.com/rhuebner/hrd_cb_v14"
   ]
  },
  {
   "cell_type": "code",
   "execution_count": 19,
   "id": "aa2a0947",
   "metadata": {},
   "outputs": [],
   "source": [
    "# make regression with no noise\n"
   ]
  },
  {
   "cell_type": "code",
   "execution_count": 20,
   "id": "1af1f358",
   "metadata": {},
   "outputs": [],
   "source": [
    "# make regression with noise\n"
   ]
  },
  {
   "cell_type": "markdown",
   "id": "77c0046b",
   "metadata": {},
   "source": [
    "### Practice with the Data Science 'Process'"
   ]
  },
  {
   "cell_type": "code",
   "execution_count": 21,
   "id": "7e59a858",
   "metadata": {},
   "outputs": [],
   "source": [
    "# complete a bare bone predictive model for the auto_mpg dataset using only the numeric data and identify problems\n"
   ]
  },
  {
   "cell_type": "code",
   "execution_count": 22,
   "id": "1fe327ae",
   "metadata": {},
   "outputs": [],
   "source": [
    "# bare description\n"
   ]
  },
  {
   "cell_type": "code",
   "execution_count": 23,
   "id": "385f94d8",
   "metadata": {},
   "outputs": [],
   "source": [
    "# correct horsepower\n"
   ]
  },
  {
   "cell_type": "code",
   "execution_count": 24,
   "id": "c0a5b3d5",
   "metadata": {},
   "outputs": [],
   "source": [
    "# just use ['cylinders', 'displacement', 'horsepower', 'weight', 'acceleration']\n"
   ]
  },
  {
   "cell_type": "code",
   "execution_count": 25,
   "id": "ccdd8777",
   "metadata": {},
   "outputs": [],
   "source": [
    "# some descriptives again\n"
   ]
  },
  {
   "cell_type": "code",
   "execution_count": 26,
   "id": "6fd134eb",
   "metadata": {},
   "outputs": [],
   "source": [
    "# show histograms\n"
   ]
  },
  {
   "cell_type": "code",
   "execution_count": 27,
   "id": "f6c78376",
   "metadata": {},
   "outputs": [],
   "source": [
    "# train test split\n"
   ]
  },
  {
   "cell_type": "code",
   "execution_count": 28,
   "id": "eb00325c",
   "metadata": {},
   "outputs": [],
   "source": [
    "# train and test model\n"
   ]
  }
 ],
 "metadata": {
  "kernelspec": {
   "display_name": "Python 3 (ipykernel)",
   "language": "python",
   "name": "python3"
  },
  "language_info": {
   "codemirror_mode": {
    "name": "ipython",
    "version": 3
   },
   "file_extension": ".py",
   "mimetype": "text/x-python",
   "name": "python",
   "nbconvert_exporter": "python",
   "pygments_lexer": "ipython3",
   "version": "3.9.7"
  }
 },
 "nbformat": 4,
 "nbformat_minor": 5
}
