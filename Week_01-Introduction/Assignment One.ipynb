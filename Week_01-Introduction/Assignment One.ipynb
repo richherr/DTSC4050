{
 "cells": [
  {
   "cell_type": "markdown",
   "id": "1447dd83",
   "metadata": {},
   "source": [
    "## Week 1: Assignment \n",
    "\n",
    "Jupyter Notebook: Jupyter Notebook (formerly IPython Notebooks) is a web-based interactive computational environment for creating notebook documents. Project Jupyter's operating philosophy is to support interactive data science and scientific computing across all programming languages via the development of open-source software. It supports different languages such as Python, R, and Julia. You can also install kernels to run other things like JavaScript.\n",
    "\n",
    "A notebook kernel is a “computational engine” that executes the code contained in a Notebook document. The ipython kernel, referenced in this guide, executes python code. Kernels for many other languages exist.\n",
    "\n",
    "https://jupyter-notebook-beginner-guide.readthedocs.io/en/latest/what_is_jupyter.html\n",
    "https://github.com/jupyter/jupyter/wiki/Jupyter-kernels\n",
    "https://jupyter-notebook.readthedocs.io/en/stable/examples/Notebook/Notebook%20Basics.html\n",
    "https://realpython.com/jupyter-notebook-introduction/"
   ]
  },
  {
   "cell_type": "markdown",
   "id": "f2f1e74e",
   "metadata": {},
   "source": [
    "### Data Science Model Example"
   ]
  },
  {
   "cell_type": "code",
   "execution_count": null,
   "id": "0df6975c",
   "metadata": {},
   "outputs": [],
   "source": [
    "# import the libraries\n",
    "import numpy as np\n",
    "import pandas as pd\n",
    "import matplotlib.pyplot as plt\n",
    "import seaborn as sns\n",
    "\n",
    "from sklearn.linear_model import LinearRegression\n",
    "from sklearn.metrics import mean_squared_error, r2_score\n",
    "from sklearn.model_selection import train_test_split\n",
    "\n",
    "import warnings\n",
    "warnings.simplefilter(action='ignore')\n",
    "\n",
    "%matplotlib inline"
   ]
  },
  {
   "cell_type": "code",
   "execution_count": null,
   "id": "1521fe97",
   "metadata": {},
   "outputs": [],
   "source": [
    "# get the data\n",
    "df = pd.read_csv('Advertising.csv', usecols=['TV', 'radio', 'newspaper', 'sales'])\n",
    "df.head()"
   ]
  },
  {
   "cell_type": "code",
   "execution_count": null,
   "id": "b28f2575",
   "metadata": {},
   "outputs": [],
   "source": [
    "# shape of data\n",
    "df.shape"
   ]
  },
  {
   "cell_type": "code",
   "execution_count": null,
   "id": "fdece09d",
   "metadata": {},
   "outputs": [],
   "source": [
    "# look at info\n",
    "df.info()"
   ]
  },
  {
   "cell_type": "code",
   "execution_count": null,
   "id": "31595c6f",
   "metadata": {},
   "outputs": [],
   "source": [
    "# describe data\n",
    "df.describe()"
   ]
  },
  {
   "cell_type": "code",
   "execution_count": null,
   "id": "d12e52ef",
   "metadata": {},
   "outputs": [],
   "source": [
    "# plot TV histogram using matplotlib\n",
    "plt.hist(df['TV'])"
   ]
  },
  {
   "cell_type": "code",
   "execution_count": null,
   "id": "ddf68043",
   "metadata": {},
   "outputs": [],
   "source": [
    "# plot radio histogram using matplotlib\n",
    "plt.hist(df['radio'], bins=5)\n",
    "plt.xlabel('Amount')\n",
    "plt.ylabel('Quantity')\n",
    "plt.title('Radio Revenue')\n",
    "plt.show();"
   ]
  },
  {
   "cell_type": "code",
   "execution_count": null,
   "id": "c610a0b3",
   "metadata": {},
   "outputs": [],
   "source": [
    "# using subplots using matplotlib https://matplotlib.org/stable/gallery/statistics/hist.html\n",
    "fig, axs = plt.subplots(1, 3, sharey=False, tight_layout=True)\n",
    "axs[0].hist(df['TV'])\n",
    "axs[0].set_xlabel('TV')\n",
    "\n",
    "axs[1].hist(df['radio'])\n",
    "axs[1].set_xlabel('radio')\n",
    "\n",
    "axs[2].hist(df['newspaper'])\n",
    "axs[2].set_xlabel('newspaper')\n",
    "\n",
    "plt.show();"
   ]
  },
  {
   "cell_type": "code",
   "execution_count": null,
   "id": "94acbf3e",
   "metadata": {},
   "outputs": [],
   "source": [
    "# using pandas and matplotlib\n",
    "df.hist()\n",
    "plt.tight_layout()"
   ]
  },
  {
   "cell_type": "code",
   "execution_count": null,
   "id": "c9bacb5c",
   "metadata": {},
   "outputs": [],
   "source": [
    "# scatterplot example with seaborn (sns)\n",
    "sns.pairplot(df, x_vars=['TV','radio','newspaper'], y_vars='sales', \n",
    "             kind='reg', \n",
    "             size=5,\n",
    "             aspect=0.8, \n",
    "             plot_kws={'line_kws':{'color':'red'}, 'scatter_kws': {'alpha': 0.2}})"
   ]
  },
  {
   "cell_type": "code",
   "execution_count": null,
   "id": "f6519a4c",
   "metadata": {},
   "outputs": [],
   "source": [
    "# separate X, y\n",
    "X = df.drop(['sales'], axis=1)\n",
    "y = df.sales\n",
    "print(X.head())\n",
    "print()\n",
    "print(y.head())"
   ]
  },
  {
   "cell_type": "code",
   "execution_count": null,
   "id": "c6532dbd",
   "metadata": {},
   "outputs": [],
   "source": [
    "# train test split\n",
    "X_train, X_test, y_train, y_test = train_test_split(X, y, test_size=0.20, random_state=42)\n",
    "print(X_train.shape)\n",
    "print(y_train.shape)"
   ]
  },
  {
   "cell_type": "code",
   "execution_count": null,
   "id": "841d85e5",
   "metadata": {},
   "outputs": [],
   "source": [
    "# another split example\n",
    "X_train, X_test, y_train, y_test = train_test_split(df.drop(['sales'], axis=1), \n",
    "                                                    df.sales, \n",
    "                                                    test_size=0.20, \n",
    "                                                    random_state=42)\n",
    "print(X_train.shape)\n",
    "print(y_train.shape)"
   ]
  },
  {
   "cell_type": "code",
   "execution_count": null,
   "id": "5dfdc477",
   "metadata": {},
   "outputs": [],
   "source": [
    "# build, train (fit), predict, evaluate the model\n",
    "model = LinearRegression()\n",
    "model.fit(X_train, y_train)\n",
    "predictions = model.predict(X_test)\n",
    "print(f'MSE: {mean_squared_error(y_true=y_test, y_pred=predictions)}')\n",
    "print(f'R-Squared: {r2_score(y_test, predictions)}')"
   ]
  },
  {
   "cell_type": "code",
   "execution_count": null,
   "id": "96c65d48",
   "metadata": {},
   "outputs": [],
   "source": [
    "# make a prediction\n",
    "tv = 232.1\n",
    "radio = 8.6\n",
    "newspaper = 8.7\n",
    "model.predict(np.array([tv, radio, newspaper]).reshape(1, -1))"
   ]
  },
  {
   "cell_type": "code",
   "execution_count": null,
   "id": "9a5a8cf5",
   "metadata": {},
   "outputs": [],
   "source": [
    "# what are our coefficients?\n",
    "# what are our coefficients?\n",
    "list(zip(X, model.coef_))"
   ]
  },
  {
   "cell_type": "markdown",
   "id": "4ab3c041",
   "metadata": {},
   "source": [
    "### More on Using the Tools"
   ]
  },
  {
   "cell_type": "code",
   "execution_count": null,
   "id": "d73127aa",
   "metadata": {},
   "outputs": [],
   "source": [
    "# python examples\n",
    "# string\n",
    "# number\n",
    "# list (mutable)\n",
    "# tuple (immutable)\n",
    "# set\n",
    "# dictionary\n",
    "# comprehensions"
   ]
  },
  {
   "cell_type": "code",
   "execution_count": null,
   "id": "a0247b05",
   "metadata": {},
   "outputs": [],
   "source": [
    "# numpy examples\n",
    "# https://www.learndatasci.com/tutorials/applied-introduction-to-numpy-python-tutorial/"
   ]
  }
 ],
 "metadata": {
  "kernelspec": {
   "display_name": "Python 3 (ipykernel)",
   "language": "python",
   "name": "python3"
  },
  "language_info": {
   "codemirror_mode": {
    "name": "ipython",
    "version": 3
   },
   "file_extension": ".py",
   "mimetype": "text/x-python",
   "name": "python",
   "nbconvert_exporter": "python",
   "pygments_lexer": "ipython3",
   "version": "3.10.12"
  }
 },
 "nbformat": 4,
 "nbformat_minor": 5
}
