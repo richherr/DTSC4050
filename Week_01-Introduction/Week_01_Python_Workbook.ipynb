{
  "nbformat": 4,
  "nbformat_minor": 0,
  "metadata": {
    "colab": {
      "provenance": [],
      "authorship_tag": "ABX9TyMAcQi7M4k/FfEaHrx1/JUi",
      "include_colab_link": true
    },
    "kernelspec": {
      "name": "python3",
      "display_name": "Python 3"
    },
    "language_info": {
      "name": "python"
    }
  },
  "cells": [
    {
      "cell_type": "markdown",
      "metadata": {
        "id": "view-in-github",
        "colab_type": "text"
      },
      "source": [
        "<a href=\"https://colab.research.google.com/github/gitmystuff/DTSC4050/blob/main/Week_01-Introduction/Week_01_Python_Workbook.ipynb\" target=\"_parent\"><img src=\"https://colab.research.google.com/assets/colab-badge.svg\" alt=\"Open In Colab\"/></a>"
      ]
    },
    {
      "cell_type": "markdown",
      "source": [
        "# Week 01 - Python Workbook"
      ],
      "metadata": {
        "id": "5Daqkp2fHcI-"
      }
    },
    {
      "cell_type": "code",
      "execution_count": null,
      "metadata": {
        "id": "a8726d74"
      },
      "outputs": [],
      "source": [
        "# code example\n"
      ]
    },
    {
      "cell_type": "markdown",
      "metadata": {
        "id": "fd0e0634"
      },
      "source": [
        "# Python\n",
        "\n",
        "* **Interpreted**: a computer program that directly executes instructions written in a programming or scripting language, without requiring them previously to have been compiled into a machine language program. (Compiled languages: Go, C++)\n",
        "* **Object Oriented**: a programming paradigm based on the concept of \"objects\", which can contain data and code: data in the form of fields, and code, in the form of procedures. A common feature of objects is that procedures are attached to them and can access and modify the object's data fields.\n",
        "* **Object**: An object is simply a collection of data (variables) and methods (functions) that act on those data. Similarly, a class is a blueprint for that object. We can think of a class as a sketch (prototype) of a house. It contains all the details about the floors, doors, windows, etc.\n",
        "* **High-Level Language**: A high-level language (HLL) is a programming language such as C, FORTRAN, or Pascal that enables a programmer to write programs that are more or less independent of a particular type of computer. Such languages are considered high-level because they are closer to human languages and further from machine languages. Python, C#, C++, PHP, Java vs assembly language and machine code\n",
        "* **Dynamic Semantics**: dynamic objects are instances of values contained into constructs in the code, and they exist at run-time level. Furthermore, we can assign to one object multiple values, since it will update itself, differently from a static semantic language. Namely, if we set a=2 and then a=’hello’, the string value will substitute the integer one as soon as the line is executed\n",
        "* **Built-In Data Structures**: Organizing, managing, and storing data is important as it enables easier access and efficient modifications. Data Structures allows you to organize your data in such a way that enables you to store collections of data, relate them and perform operations on them accordingly. Python has implicit support for Data Structures which enable you to store and access data. Some of these structures are called List, Dictionary, Tuple and Set.\n",
        "* **Dynamic Typing**: The term dynamic typing means that a compiler or an interpreter assigns a type to all the variables at run-time. The type of a variable is decided based on its value. The programs written using dynamic-typed languages are more flexible but will compile even if they contain errors.\n"
      ]
    },
    {
      "cell_type": "code",
      "execution_count": null,
      "metadata": {
        "id": "c7beb936"
      },
      "outputs": [],
      "source": [
        "# dynamic typing example\n"
      ]
    },
    {
      "cell_type": "code",
      "execution_count": null,
      "metadata": {
        "id": "a79a69ea"
      },
      "outputs": [],
      "source": [
        "# low value integers are pre-allocated\n"
      ]
    },
    {
      "cell_type": "markdown",
      "metadata": {
        "id": "39e85de4"
      },
      "source": [
        "### Data Structures\n",
        "\n",
        "#### Primitive Types\n",
        "\n",
        "* Integers\n",
        "* Floats\n",
        "* Strings\n",
        "* Booleans\n",
        "\n",
        "#### Non-Primitive Types (Collections)\n",
        "\n",
        "* Lists\n",
        "* Tuples\n",
        "* Sets\n",
        "* Dictionaries"
      ]
    },
    {
      "cell_type": "markdown",
      "metadata": {
        "id": "13f1ffbe"
      },
      "source": [
        "## Python Core\n",
        "\n",
        "### Numbers\n",
        "\n",
        "Integral (whole numbers)\n",
        "\n",
        "* Integers\n",
        "* Booleans\n",
        "\n",
        "Non-Integral\n",
        "\n",
        "* Floats\n",
        "* Complex\n",
        "* Decimals\n",
        "* Fractions"
      ]
    },
    {
      "cell_type": "code",
      "execution_count": null,
      "metadata": {
        "id": "d79e032a"
      },
      "outputs": [],
      "source": [
        "# numbers\n"
      ]
    },
    {
      "cell_type": "code",
      "execution_count": null,
      "metadata": {
        "id": "3449094d"
      },
      "outputs": [],
      "source": [
        "# https://docs.python.org/3/library/fractions.html\n",
        "from fractions import Fraction\n"
      ]
    },
    {
      "cell_type": "markdown",
      "metadata": {
        "id": "280d2bff"
      },
      "source": [
        "## Lists, Dictionaries, Tuples, and Sets"
      ]
    },
    {
      "cell_type": "markdown",
      "metadata": {
        "id": "8a414bc7"
      },
      "source": [
        "### Collections\n",
        "\n",
        "Sequences\n",
        "\n",
        "* Mutable: Lists\n",
        "* Immutable: Tuples and Strings\n",
        "\n",
        "Sets\n",
        "\n",
        "* Mutable: Sets\n",
        "* Immutable: Frozen Sets\n",
        "\n",
        "Mappings\n",
        "\n",
        "* Dictionaries"
      ]
    },
    {
      "cell_type": "code",
      "execution_count": null,
      "metadata": {
        "id": "0940b6af"
      },
      "outputs": [],
      "source": [
        "# list\n"
      ]
    },
    {
      "cell_type": "code",
      "execution_count": null,
      "metadata": {
        "id": "5b2c3590"
      },
      "outputs": [],
      "source": [
        "# multiple lines\n"
      ]
    },
    {
      "cell_type": "code",
      "execution_count": null,
      "metadata": {
        "id": "58824751"
      },
      "outputs": [],
      "source": [
        "# mixed datatypes\n"
      ]
    },
    {
      "cell_type": "code",
      "execution_count": null,
      "metadata": {
        "id": "87a8e49f"
      },
      "outputs": [],
      "source": [
        "# mutable list\n"
      ]
    },
    {
      "cell_type": "code",
      "execution_count": null,
      "metadata": {
        "id": "6dfca583"
      },
      "outputs": [],
      "source": [
        "# tuple\n"
      ]
    },
    {
      "cell_type": "code",
      "execution_count": null,
      "metadata": {
        "id": "d1de9ae0"
      },
      "outputs": [],
      "source": [
        "# immutable tuple\n"
      ]
    },
    {
      "cell_type": "code",
      "execution_count": null,
      "metadata": {
        "id": "5f1a7d96"
      },
      "outputs": [],
      "source": [
        "# immutable string\n"
      ]
    },
    {
      "cell_type": "code",
      "execution_count": null,
      "metadata": {
        "id": "4c427adf"
      },
      "outputs": [],
      "source": [
        "# set\n"
      ]
    },
    {
      "cell_type": "code",
      "execution_count": null,
      "metadata": {
        "id": "d1b2def9"
      },
      "outputs": [],
      "source": [
        "# add and remove from set but can't change a value\n"
      ]
    },
    {
      "cell_type": "code",
      "execution_count": null,
      "metadata": {
        "id": "da7c2937"
      },
      "outputs": [],
      "source": [
        "# dictionary\n"
      ]
    },
    {
      "cell_type": "code",
      "execution_count": null,
      "metadata": {
        "id": "d5c68dc4"
      },
      "outputs": [],
      "source": [
        "# change values by key\n"
      ]
    },
    {
      "cell_type": "code",
      "execution_count": null,
      "metadata": {
        "id": "404f9c1b"
      },
      "outputs": [],
      "source": [
        "# adding to a dictionary\n"
      ]
    },
    {
      "cell_type": "markdown",
      "metadata": {
        "id": "40f1ef82"
      },
      "source": [
        "### Callables\n",
        "\n",
        "* User-Defined Functions\n",
        "* Classes\n",
        "* Built-in Functions (e.g. len(), abs(), range(), etc.)\n",
        "* Built-in Methods (e.g. my_list.append(x), my_list.extend(other_list), etc.)"
      ]
    },
    {
      "cell_type": "code",
      "execution_count": null,
      "metadata": {
        "id": "201d32f2"
      },
      "outputs": [],
      "source": [
        "# user defined function\n",
        "def my_funct(name):\n",
        "    return f'Hello {name}'\n",
        "\n",
        "print(my_funct('Toadette'))"
      ]
    },
    {
      "cell_type": "code",
      "execution_count": null,
      "metadata": {
        "id": "82f459e5"
      },
      "outputs": [],
      "source": [
        "# class\n",
        "class InfoKart:\n",
        "\n",
        "    def __init__(self, name1, name2):\n",
        "        self.name1 = name1\n",
        "        self.name2 = name2\n",
        "\n",
        "    def on_your_mark(self):\n",
        "        return f'Drivers! {self.name1} and {self.name2}. On your mark...'\n",
        "\n",
        "race = InfoKart('Toadette', 'Yoshi')\n",
        "print(race.on_your_mark())"
      ]
    },
    {
      "cell_type": "code",
      "execution_count": null,
      "metadata": {
        "id": "91de7e5b"
      },
      "outputs": [],
      "source": [
        "# built-in function\n"
      ]
    },
    {
      "cell_type": "code",
      "execution_count": null,
      "metadata": {
        "id": "2418145b"
      },
      "outputs": [],
      "source": [
        "# built-in methods\n"
      ]
    },
    {
      "cell_type": "markdown",
      "metadata": {
        "id": "9e92c050"
      },
      "source": [
        "## Len and Range\n",
        "\n",
        "* Len is short for length\n",
        "* Range is sequence of numbers, start through (stop - 1), step range(start, stop, step)"
      ]
    },
    {
      "cell_type": "code",
      "execution_count": null,
      "metadata": {
        "id": "75c02bda"
      },
      "outputs": [],
      "source": [
        "# len\n"
      ]
    },
    {
      "cell_type": "markdown",
      "metadata": {
        "id": "288a89ac"
      },
      "source": [
        "## For and Comprehensions"
      ]
    },
    {
      "cell_type": "code",
      "execution_count": null,
      "metadata": {
        "id": "3d9713f6"
      },
      "outputs": [],
      "source": [
        "# range\n"
      ]
    },
    {
      "cell_type": "code",
      "execution_count": null,
      "metadata": {
        "id": "84e170b8"
      },
      "outputs": [],
      "source": [
        "# range(start, stop, step)\n"
      ]
    },
    {
      "cell_type": "code",
      "execution_count": null,
      "metadata": {
        "id": "0f2eaa3a"
      },
      "outputs": [],
      "source": [
        "# reverse order\n"
      ]
    },
    {
      "cell_type": "code",
      "execution_count": null,
      "metadata": {
        "id": "c6a52369"
      },
      "outputs": [],
      "source": [
        "# list comprehension\n"
      ]
    },
    {
      "cell_type": "code",
      "execution_count": null,
      "metadata": {
        "id": "3aa24543"
      },
      "outputs": [],
      "source": [
        "# dictionary comprehension\n"
      ]
    },
    {
      "cell_type": "code",
      "execution_count": null,
      "metadata": {
        "id": "b9221c0e"
      },
      "outputs": [],
      "source": [
        "# for loop list\n",
        "my_kart = ['Baby Daisy', 'Baby Luigi', 'Baby Mario']\n"
      ]
    },
    {
      "cell_type": "code",
      "execution_count": null,
      "metadata": {
        "id": "46494fce"
      },
      "outputs": [],
      "source": [
        "# nested for loop\n",
        "\n",
        "my_kart = [['Baby Daisy', 'Baby Luigi', 'Baby Mario'], ['Birdo', 'Bowser', 'Donkey Kong'], ['Princess Peach', 'Isabelle', 'Koopa Troopa']]\n"
      ]
    },
    {
      "cell_type": "code",
      "execution_count": null,
      "metadata": {
        "id": "c4521489"
      },
      "outputs": [],
      "source": [
        "# nested comprehension\n"
      ]
    },
    {
      "cell_type": "code",
      "execution_count": null,
      "metadata": {
        "id": "d3c22d44"
      },
      "outputs": [],
      "source": [
        "# enumerate\n"
      ]
    },
    {
      "cell_type": "markdown",
      "metadata": {
        "id": "9c36bca9"
      },
      "source": [
        "## If Elif Else"
      ]
    },
    {
      "cell_type": "code",
      "execution_count": null,
      "metadata": {
        "id": "0ed029ea"
      },
      "outputs": [],
      "source": [
        "# if else\n",
        "my_kart = ['Baby Daisy', 'Baby Luigi', 'Baby Mario']\n",
        "for i, name in enumerate(my_kart):\n",
        "    if name == 'Baby Luigi':\n",
        "        print(i, f'{name} is here')\n",
        "    else:\n",
        "        print('Baby Luigi\\'s not at this index')"
      ]
    },
    {
      "cell_type": "code",
      "execution_count": null,
      "metadata": {
        "id": "07c10475"
      },
      "outputs": [],
      "source": [
        "# if elif else\n",
        "my_kart = ['Baby Daisy', 'Baby Luigi', 'Baby Mario']\n",
        "for i, name in enumerate(my_kart):\n",
        "    if name == 'Baby Daisy':\n",
        "        print(i, f'{name} is here')\n",
        "    elif name == 'Baby Luigi':\n",
        "        print(i, f'{name} is here')\n",
        "    else:\n",
        "        print(i, 'Baby Mario could be here')"
      ]
    },
    {
      "cell_type": "markdown",
      "metadata": {
        "id": "cffb0985"
      },
      "source": [
        "## Errors\n",
        "\n",
        "https://docs.python.org/3/library/exceptions.html"
      ]
    },
    {
      "cell_type": "code",
      "execution_count": null,
      "metadata": {
        "id": "564837d9"
      },
      "outputs": [],
      "source": [
        "# zero division error\n"
      ]
    },
    {
      "cell_type": "code",
      "execution_count": null,
      "metadata": {
        "id": "a9cdd18e"
      },
      "outputs": [],
      "source": [
        "# type error\n"
      ]
    },
    {
      "cell_type": "markdown",
      "metadata": {
        "id": "a9581701"
      },
      "source": [
        "## Try Except Break Continue"
      ]
    },
    {
      "cell_type": "code",
      "execution_count": null,
      "metadata": {
        "id": "6784f7b1"
      },
      "outputs": [],
      "source": [
        "# zero divison exception\n",
        "a = 10\n",
        "b = 0\n",
        "try:\n",
        "    a / b\n",
        "except ZeroDivisionError:\n",
        "    print('Ooops! Division by 0 not allowed.')"
      ]
    },
    {
      "cell_type": "code",
      "execution_count": null,
      "metadata": {
        "id": "c4b50e74"
      },
      "outputs": [],
      "source": [
        "# type error and finally\n",
        "a = 10\n",
        "b = '1'\n",
        "try:\n",
        "    a + b\n",
        "except TypeError:\n",
        "    print('Ooops! Adding a string and number causes problems')\n",
        "finally:\n",
        "    print('But, I can still do things')"
      ]
    },
    {
      "cell_type": "code",
      "execution_count": null,
      "metadata": {
        "id": "ab125b2a"
      },
      "outputs": [],
      "source": [
        "# operators https://www.tutorialspoint.com/python/python_basic_operators.htm\n",
        "a = 0\n",
        "b = 3\n",
        "while a < 3:\n",
        "    a += 1\n",
        "    b -= 1\n",
        "    print(a, b)\n",
        "\n",
        "print('All Done')"
      ]
    },
    {
      "cell_type": "code",
      "execution_count": null,
      "metadata": {
        "id": "0dbbddf2"
      },
      "outputs": [],
      "source": [
        "# break\n",
        "a = 0\n",
        "b = 3\n",
        "while a < 4:\n",
        "    a += 1\n",
        "    b -= 1\n",
        "    print(a, b)\n",
        "    try:\n",
        "        a / b\n",
        "    except ZeroDivisionError:\n",
        "        print('Ooops!')\n",
        "        break\n",
        "    print('Still in while loop')\n",
        "\n",
        "print('All Done')"
      ]
    },
    {
      "cell_type": "code",
      "execution_count": null,
      "metadata": {
        "id": "c89bc533"
      },
      "outputs": [],
      "source": [
        "# continue\n",
        "a = 0\n",
        "b = 3\n",
        "while a < 4:\n",
        "    a += 1\n",
        "    b -= 1\n",
        "    print(a, b)\n",
        "    try:\n",
        "        a / b\n",
        "    except ZeroDivisionError:\n",
        "        print('Ooops!')\n",
        "        continue\n",
        "    print('Still in while loop')\n",
        "\n",
        "print('All Done')"
      ]
    },
    {
      "cell_type": "markdown",
      "metadata": {
        "id": "de0e489e"
      },
      "source": [
        "# Numpy\n",
        "\n",
        "* Scalars\n",
        "* Vectors\n",
        "* Matrices"
      ]
    },
    {
      "cell_type": "code",
      "execution_count": null,
      "metadata": {
        "id": "b51b0e52"
      },
      "outputs": [],
      "source": [
        "# list to array\n",
        "import numpy as np\n",
        "\n",
        "my_list = [1, 2, 3, 4, 5, 6, 7, 8, 9]\n",
        "print(type(my_list))\n",
        "my_array = np.array(my_list)\n",
        "print(type(my_array)) # n-dimensional array"
      ]
    },
    {
      "cell_type": "code",
      "execution_count": null,
      "metadata": {
        "id": "0ecbbdec"
      },
      "outputs": [],
      "source": [
        "# view list\n"
      ]
    },
    {
      "cell_type": "code",
      "execution_count": null,
      "metadata": {
        "id": "bc412ef9"
      },
      "outputs": [],
      "source": [
        "# view array\n"
      ]
    },
    {
      "cell_type": "code",
      "execution_count": null,
      "metadata": {
        "id": "10abda4e"
      },
      "outputs": [],
      "source": [
        "# 3 x 3 array\n",
        "my_kart = [['Baby Daisy', 'Baby Luigi', 'Baby Mario'], ['Birdo', 'Bowser', 'Donkey Kong'], ['Princess Peach', 'Isabelle', 'Koopa Troopa']]\n"
      ]
    },
    {
      "cell_type": "code",
      "execution_count": null,
      "metadata": {
        "id": "239f01c0"
      },
      "outputs": [],
      "source": [
        "# np.zeroes\n"
      ]
    },
    {
      "cell_type": "code",
      "execution_count": null,
      "metadata": {
        "id": "cc8d2163"
      },
      "outputs": [],
      "source": [
        "# arrays from arange and reshape\n",
        "import numpy as np\n"
      ]
    },
    {
      "cell_type": "code",
      "execution_count": null,
      "metadata": {
        "id": "2b931704"
      },
      "outputs": [],
      "source": [
        "# scalar multiplaction\n"
      ]
    },
    {
      "cell_type": "code",
      "execution_count": null,
      "metadata": {
        "id": "489f3fed"
      },
      "outputs": [],
      "source": [
        "# scalar division\n"
      ]
    },
    {
      "cell_type": "code",
      "execution_count": null,
      "metadata": {
        "id": "243303c0"
      },
      "outputs": [],
      "source": [
        "# element wise multiplication\n"
      ]
    },
    {
      "cell_type": "code",
      "execution_count": null,
      "metadata": {
        "id": "5c5741fe"
      },
      "outputs": [],
      "source": [
        "# dot product\n"
      ]
    },
    {
      "cell_type": "code",
      "execution_count": null,
      "metadata": {
        "id": "f7342103"
      },
      "outputs": [],
      "source": [
        "# https://nbviewer.org/github/jmportilla/Udemy-notes/blob/master/Lec%209%20-Indexing%20Arrays.ipynb\n"
      ]
    },
    {
      "cell_type": "code",
      "execution_count": null,
      "metadata": {
        "id": "22b4167a"
      },
      "outputs": [],
      "source": []
    },
    {
      "cell_type": "code",
      "execution_count": null,
      "metadata": {
        "id": "9c85ab37"
      },
      "outputs": [],
      "source": []
    },
    {
      "cell_type": "code",
      "execution_count": null,
      "metadata": {
        "id": "aa3e0c69"
      },
      "outputs": [],
      "source": []
    },
    {
      "cell_type": "code",
      "execution_count": null,
      "metadata": {
        "id": "3edabec6"
      },
      "outputs": [],
      "source": []
    },
    {
      "cell_type": "code",
      "execution_count": null,
      "metadata": {
        "id": "83440738"
      },
      "outputs": [],
      "source": []
    },
    {
      "cell_type": "code",
      "execution_count": null,
      "metadata": {
        "id": "ee12fc8a"
      },
      "outputs": [],
      "source": []
    },
    {
      "cell_type": "code",
      "execution_count": null,
      "metadata": {
        "id": "75db49da"
      },
      "outputs": [],
      "source": []
    },
    {
      "cell_type": "code",
      "execution_count": null,
      "metadata": {
        "id": "477ca4ab"
      },
      "outputs": [],
      "source": [
        "# universal functions\n",
        "import random\n",
        "\n",
        "np.random.randint(10, size=9).reshape(3, 3)"
      ]
    },
    {
      "cell_type": "code",
      "execution_count": null,
      "metadata": {
        "id": "71b78e8e"
      },
      "outputs": [],
      "source": [
        "# some descriptive statistics\n",
        "import numpy as np\n",
        "\n",
        "stats_array = np.random.randint(10, size=9).reshape(3, 3)\n",
        "print(stats_array)\n",
        "print(stats_array.sum())\n",
        "print(stats_array.mean())\n",
        "print(stats_array.var())\n",
        "print(stats_array.std())"
      ]
    },
    {
      "cell_type": "markdown",
      "metadata": {
        "id": "3029c1fa"
      },
      "source": [
        "# Pandas"
      ]
    },
    {
      "cell_type": "code",
      "execution_count": null,
      "metadata": {
        "id": "1ab7c7e4"
      },
      "outputs": [],
      "source": [
        "# pandas read_csv\n",
        "import pandas as pd\n",
        "\n",
        "df = pd.read_csv('iris.csv')\n"
      ]
    },
    {
      "cell_type": "code",
      "execution_count": null,
      "metadata": {
        "id": "Pge8zOG2OBWg"
      },
      "outputs": [],
      "source": [
        "# get a column by name\n",
        "df['sepal_width'].head()"
      ]
    },
    {
      "cell_type": "code",
      "execution_count": null,
      "metadata": {
        "id": "UuoAFUHnOBWg"
      },
      "outputs": [],
      "source": [
        "# get two columns by column name\n",
        "df[['sepal_width', 'petal_length']].head()"
      ]
    },
    {
      "cell_type": "code",
      "execution_count": null,
      "metadata": {
        "id": "0PiY-qUDOBWg"
      },
      "outputs": [],
      "source": [
        "# get two columns by position\n",
        "df[df.columns[1:3]].head()"
      ]
    },
    {
      "cell_type": "code",
      "execution_count": null,
      "metadata": {
        "id": "qv9btuxtOBWh"
      },
      "outputs": [],
      "source": [
        "# The loc[] function uses the row index and column names\n",
        "df.loc[1:3, ['sepal_width_', 'petal_length']].head()"
      ]
    },
    {
      "cell_type": "code",
      "execution_count": null,
      "metadata": {
        "id": "VDg9aQSIOBWh"
      },
      "outputs": [],
      "source": [
        "# select two rows and start stop columns\n",
        "df.loc[1:3, 'sepal_width': 'petal_width'].head()"
      ]
    },
    {
      "cell_type": "code",
      "execution_count": null,
      "metadata": {
        "id": "dXYcWtIBOBWh"
      },
      "outputs": [],
      "source": [
        "# select 3rd row\n",
        "df.loc[2, :]"
      ]
    },
    {
      "cell_type": "code",
      "execution_count": null,
      "metadata": {
        "id": "D7BaX_PfOBWh"
      },
      "outputs": [],
      "source": [
        "# iloc uses index and column numbers\n",
        "df.iloc[1:3, 1:3]"
      ]
    },
    {
      "cell_type": "code",
      "execution_count": null,
      "metadata": {
        "id": "uogcm7KqOBWh"
      },
      "outputs": [],
      "source": [
        "# using just an index\n",
        "df.iloc[1]"
      ]
    },
    {
      "cell_type": "code",
      "execution_count": null,
      "metadata": {
        "id": "Bq_cyWugOBWh"
      },
      "outputs": [],
      "source": [
        "# using at\n",
        "df.at[1, 'sepal_width']"
      ]
    },
    {
      "cell_type": "code",
      "execution_count": null,
      "metadata": {
        "id": "fFLzi7iaOBWi"
      },
      "outputs": [],
      "source": [
        "# using iat\n",
        "df.iat[1, 1]"
      ]
    },
    {
      "cell_type": "code",
      "execution_count": null,
      "metadata": {
        "id": "yJgO4fiTOBWi"
      },
      "outputs": [],
      "source": [
        "# filter by single category\n",
        "df[df['sepal_width'] < 3].head()"
      ]
    },
    {
      "cell_type": "code",
      "execution_count": null,
      "metadata": {
        "id": "Bi-DGRZTOBWi"
      },
      "outputs": [],
      "source": [
        "# how much did we filter\n",
        "print(df.shape)\n",
        "print(df[df['sepal_width'] < 3].shape)"
      ]
    },
    {
      "cell_type": "code",
      "execution_count": null,
      "metadata": {
        "id": "cB3w-HX5OBWi"
      },
      "outputs": [],
      "source": [
        "# multiple columns using or\n",
        "df[(df['sepal_width'] < 3) | (df['petal_length'] > 4)].shape"
      ]
    },
    {
      "cell_type": "code",
      "execution_count": null,
      "metadata": {
        "id": "R_jFI4UbOBWi"
      },
      "outputs": [],
      "source": [
        "# multiple columns using and\n",
        "df[(df['sepal_width'] < 3) & (df['petal_length'] > 4)].shape"
      ]
    },
    {
      "cell_type": "code",
      "execution_count": null,
      "metadata": {
        "scrolled": true,
        "id": "UNw-Q_6YOBWi"
      },
      "outputs": [],
      "source": [
        "# query\n",
        "df.query('`sepal_width` < 3').shape"
      ]
    },
    {
      "cell_type": "code",
      "execution_count": null,
      "metadata": {
        "id": "KKoI9g11OBWi"
      },
      "outputs": [],
      "source": [
        "# query and\n",
        "df.query('`sepal_width` < 3 & `petal_length` > 4').shape"
      ]
    },
    {
      "cell_type": "markdown",
      "metadata": {
        "id": "97bb49da"
      },
      "source": [
        "# Matplotlib and Seaborn"
      ]
    },
    {
      "cell_type": "code",
      "source": [
        "import matplotlib.pyplot as plt\n",
        "\n",
        "# Sample data\n",
        "x = [1, 2, 3, 4, 5]\n",
        "y = [2, 4, 1, 3, 5]\n",
        "\n",
        "# Create a line plot\n",
        "plt.plot(x, y)\n",
        "\n",
        "# Add labels and title\n",
        "plt.xlabel(\"X-axis\")\n",
        "plt.ylabel(\"Y-axis\")\n",
        "plt.title(\"Simple Line Plot\")\n",
        "\n",
        "# Display the plot\n",
        "plt.show()"
      ],
      "outputs": [],
      "execution_count": null,
      "metadata": {
        "id": "XInAh512csN0"
      }
    },
    {
      "cell_type": "markdown",
      "source": [
        "**Explanation:**\n",
        "\n",
        "* `import matplotlib.pyplot as plt`: Imports the Matplotlib library's `pyplot` module, which provides functions for creating plots.\n",
        "* `x` and `y`: These lists hold the data points for the plot.\n",
        "* `plt.plot(x, y)`: Creates a line plot using the data in `x` and `y`.\n",
        "* `plt.xlabel()`, `plt.ylabel()`, `plt.title()`: Add labels to the x-axis, y-axis, and the plot title.\n",
        "* `plt.show()`: Displays the generated plot.\n",
        "\n",
        "**Additional Matplotlib Examples:**\n",
        "\n",
        "* **Scatter plot:**"
      ],
      "metadata": {
        "id": "CPpkMZC9csN1"
      }
    },
    {
      "cell_type": "code",
      "source": [
        "plt.scatter(x, y)\n",
        "plt.xlabel(\"X-axis\")\n",
        "plt.ylabel(\"Y-axis\")\n",
        "plt.title(\"Simple Scatter Plot\")\n",
        "plt.show()"
      ],
      "outputs": [],
      "execution_count": null,
      "metadata": {
        "id": "Lf9WC41VcsN1"
      }
    },
    {
      "cell_type": "markdown",
      "source": [
        "* **Bar chart:**"
      ],
      "metadata": {
        "id": "bm4TrnQYcsN2"
      }
    },
    {
      "cell_type": "code",
      "source": [
        "categories = ['A', 'B', 'C', 'D']\n",
        "values = [10, 15, 5, 20]\n",
        "plt.bar(categories, values)\n",
        "plt.xlabel(\"Categories\")\n",
        "plt.ylabel(\"Values\")\n",
        "plt.title(\"Simple Bar Chart\")\n",
        "plt.show()"
      ],
      "outputs": [],
      "execution_count": null,
      "metadata": {
        "id": "_EmG0Rm1csN2"
      }
    },
    {
      "cell_type": "markdown",
      "source": [
        "* **Histogram:**"
      ],
      "metadata": {
        "id": "ZxCfGLMxcsN2"
      }
    },
    {
      "cell_type": "code",
      "source": [
        "data = [1, 2, 2, 3, 3, 3, 4, 4, 5]\n",
        "plt.hist(data)\n",
        "plt.xlabel(\"Value\")\n",
        "plt.ylabel(\"Frequency\")\n",
        "plt.title(\"Simple Histogram\")\n",
        "plt.show()"
      ],
      "outputs": [],
      "execution_count": null,
      "metadata": {
        "id": "CkFcYUrdcsN2"
      }
    },
    {
      "cell_type": "markdown",
      "source": [
        "**Introduction to Seaborn**"
      ],
      "metadata": {
        "id": "KRAJnTRlcsN3"
      }
    },
    {
      "cell_type": "code",
      "source": [
        "import seaborn as sns\n",
        "import matplotlib.pyplot as plt\n",
        "\n",
        "# Load a sample dataset\n",
        "data = sns.load_dataset('iris')\n",
        "\n",
        "# Create a scatter plot with colors based on species\n",
        "sns.scatterplot(x='sepal_length', y='sepal_width', hue='species', data=data)\n",
        "\n",
        "# Add title\n",
        "plt.title(\"Scatter Plot with Seaborn\")\n",
        "\n",
        "# Display the plot\n",
        "plt.show()"
      ],
      "outputs": [],
      "execution_count": null,
      "metadata": {
        "id": "ilSYPcOPcsN3"
      }
    },
    {
      "cell_type": "markdown",
      "source": [
        "**Explanation:**\n",
        "\n",
        "* `import seaborn as sns`: Imports the Seaborn library.\n",
        "* `data = sns.load_dataset('iris')`: Loads the built-in 'iris' dataset from Seaborn.\n",
        "* `sns.scatterplot(...)`: Creates a scatter plot using Seaborn.\n",
        "    * `x` and `y`: Specify the columns for the x and y axes.\n",
        "    * `hue`: Specifies a third column to color the points based on categories.\n",
        "    * `data`: Specifies the dataset to use.\n",
        "* `plt.title()`: Adds a title to the plot.\n",
        "* `plt.show()`: Displays the generated plot.\n",
        "\n",
        "**Additional Seaborn Examples:**\n",
        "\n",
        "* **Histogram with density plot:**"
      ],
      "metadata": {
        "id": "KjYCZePucsN3"
      }
    },
    {
      "cell_type": "code",
      "source": [
        "sns.histplot(data['sepal_length'], kde=True)\n",
        "plt.title(\"Histogram with Density Plot\")\n",
        "plt.show()"
      ],
      "outputs": [],
      "execution_count": null,
      "metadata": {
        "id": "CBwogm8gcsN3"
      }
    },
    {
      "cell_type": "markdown",
      "source": [
        "* **Box plot:**"
      ],
      "metadata": {
        "id": "JP-iJxN3csN4"
      }
    },
    {
      "cell_type": "code",
      "source": [
        "sns.boxplot(x='species', y='sepal_length', data=data)\n",
        "plt.title(\"Box Plot\")\n",
        "plt.show()"
      ],
      "outputs": [],
      "execution_count": null,
      "metadata": {
        "id": "bbuUVbabcsN4"
      }
    },
    {
      "cell_type": "markdown",
      "source": [
        "* **Violin plot:**"
      ],
      "metadata": {
        "id": "xLLIK9cBcsN4"
      }
    },
    {
      "cell_type": "code",
      "source": [
        "sns.violinplot(x='species', y='sepal_length', data=data)\n",
        "plt.title(\"Violin Plot\")\n",
        "plt.show()"
      ],
      "outputs": [],
      "execution_count": null,
      "metadata": {
        "id": "b0dcHqWjcsN4"
      }
    },
    {
      "cell_type": "markdown",
      "source": [
        "**Key Points for Teaching:**\n",
        "\n",
        "* **Start with basics:** Begin with simple plots and gradually introduce more complex ones.\n",
        "* **Explain the code:** Clearly explain each line of code and its purpose.\n",
        "* **Hands-on practice:** Encourage students to code along and experiment with different parameters and datasets.\n",
        "* **Highlight the differences:** Compare and contrast Matplotlib and Seaborn to show their strengths and weaknesses.\n",
        "* **Use real-world examples:** Show how these libraries can be used to visualize real-world data.\n",
        "\n",
        "Remember to adjust the complexity and examples based on your students' level of understanding and the goals of your class. Have fun teaching!"
      ],
      "metadata": {
        "id": "-FqDRvRDcsN4"
      }
    },
    {
      "cell_type": "markdown",
      "source": [
        "<div class=\"md-recitation\">\n",
        "  Sources\n",
        "  <ol>\n",
        "  <li><a href=\"https://github.com/colinchcode/colinchcode.github.io\">https://github.com/colinchcode/colinchcode.github.io</a> subject to MIT</li>\n",
        "  </ol>\n",
        "</div>"
      ],
      "metadata": {
        "id": "VfpVFfIwcsN4"
      }
    },
    {
      "cell_type": "markdown",
      "metadata": {
        "id": "dd75910b"
      },
      "source": [
        "# Sklearn"
      ]
    },
    {
      "cell_type": "markdown",
      "source": [
        "**1. Linear Regression**"
      ],
      "metadata": {
        "id": "rsfcKaGmcZz4"
      }
    },
    {
      "cell_type": "code",
      "source": [
        "import pandas as pd\n",
        "from sklearn.linear_model import LinearRegression\n",
        "from sklearn.model_selection import train_test_split\n",
        "from sklearn.metrics import mean_squared_error, r2_score\n",
        "\n",
        "# Load the diabetes dataset (or any dataset with numeric features and a target variable)\n",
        "from sklearn.datasets import load_diabetes\n",
        "diabetes = load_diabetes()\n",
        "data = pd.DataFrame(diabetes.data, columns=diabetes.feature_names)\n",
        "data['target'] = diabetes.target\n",
        "\n",
        "# Split data into features (X) and target (y)\n",
        "X = data.drop('target', axis=1)\n",
        "y = data['target']\n",
        "\n",
        "# Split data into training and testing sets\n",
        "X_train, X_test, y_train, y_test = train_test_split(X, y, test_size=0.2, random_state=42)\n",
        "\n",
        "# Create a linear regression model\n",
        "model = LinearRegression()\n",
        "\n",
        "# Train the model\n",
        "model.fit(X_train, y_train)\n",
        "\n",
        "# Make predictions on the test set\n",
        "y_pred = model.predict(X_test)\n",
        "\n",
        "# Evaluate the model\n",
        "mse = mean_squared_error(y_test, y_pred)\n",
        "r2 = r2_score(y_test, y_pred)\n",
        "\n",
        "print(f\"Mean Squared Error: {mse}\")\n",
        "print(f\"R-squared: {r2}\")"
      ],
      "outputs": [],
      "execution_count": null,
      "metadata": {
        "id": "4BXWqbPEcZz5"
      }
    },
    {
      "cell_type": "markdown",
      "source": [
        "**Explanation:**\n",
        "\n",
        "* **Import necessary libraries:** `pandas` for data manipulation, `sklearn.linear_model` for the Linear Regression model, `train_test_split` to split the data, and `mean_squared_error` and `r2_score` for model evaluation.\n",
        "* **Load the dataset:** Use `load_diabetes()` to get a sample dataset, or replace it with your own data.\n",
        "* **Prepare the data:** Separate features (X) and the target variable (y).\n",
        "* **Split data:** Divide the data into training and testing sets using `train_test_split`.\n",
        "* **Create and train the model:** Initialize a `LinearRegression` model and train it using the training data.\n",
        "* **Make predictions:** Use the trained model to predict the target variable on the test set.\n",
        "* **Evaluate the model:** Calculate Mean Squared Error and R-squared to assess the model's performance.\n",
        "\n",
        "**2. Logistic Regression**"
      ],
      "metadata": {
        "id": "9PbiAu8ccZz7"
      }
    },
    {
      "cell_type": "code",
      "source": [
        "import pandas as pd\n",
        "from sklearn.linear_model import LogisticRegression\n",
        "from sklearn.model_selection import train_test_split\n",
        "from sklearn.metrics import accuracy_score, confusion_matrix\n",
        "\n",
        "# Load the breast cancer dataset (or any dataset with numeric features and a binary target variable)\n",
        "from sklearn.datasets import load_breast_cancer\n",
        "breast_cancer = load_breast_cancer()\n",
        "data = pd.DataFrame(breast_cancer.data, columns=breast_cancer.feature_names)\n",
        "data['target'] = breast_cancer.target\n",
        "\n",
        "# Split data into features (X) and target (y)\n",
        "X = data.drop('target', axis=1)\n",
        "y = data['target']\n",
        "\n",
        "# Split data into training and testing sets\n",
        "X_train, X_test, y_train, y_test = train_test_split(X, y, test_size=0.2, random_state=42)\n",
        "\n",
        "# Create a logistic regression model\n",
        "model = LogisticRegression()\n",
        "\n",
        "# Train the model\n",
        "model.fit(X_train, y_train)\n",
        "\n",
        "# Make predictions on the test set\n",
        "y_pred = model.predict(X_test)\n",
        "\n",
        "# Evaluate the model\n",
        "accuracy = accuracy_score(y_test, y_pred)\n",
        "conf_matrix = confusion_matrix(y_test, y_pred)\n",
        "\n",
        "print(f\"Accuracy: {accuracy}\")\n",
        "print(f\"Confusion Matrix:\\n {conf_matrix}\")"
      ],
      "outputs": [],
      "execution_count": null,
      "metadata": {
        "id": "EzxQJFTQcZz7"
      }
    },
    {
      "cell_type": "markdown",
      "source": [
        "**Explanation:**\n",
        "\n",
        "* **Import necessary libraries:** Similar to linear regression, but import `LogisticRegression` for the model and `accuracy_score` and `confusion_matrix` for evaluation.\n",
        "* **Load the dataset:** Use `load_breast_cancer()` or your own data with a binary target variable.\n",
        "* **Prepare and split the data:** Similar to linear regression.\n",
        "* **Create and train the model:** Initialize a `LogisticRegression` model and train it on the training data.\n",
        "* **Make predictions:** Predict the target variable (classes) on the test set.\n",
        "* **Evaluate the model:** Calculate accuracy and generate a confusion matrix to assess the model's performance in classification.\n",
        "\n",
        "**Key Points for Teaching:**\n",
        "\n",
        "* **Explain the concepts:** Briefly explain the theory behind linear and logistic regression.\n",
        "* **Dataset selection:** Choose datasets that are easy to understand and relevant to your students.\n",
        "* **Feature importance:** Discuss the importance of feature selection and engineering.\n",
        "* **Model evaluation:** Explain different evaluation metrics and their significance.\n",
        "* **Hands-on practice:** Encourage students to experiment with different datasets and model parameters.\n",
        "\n",
        "Remember to tailor the code and explanations to your students' level of understanding and the specific goals of your class. Good luck!"
      ],
      "metadata": {
        "id": "jXNVUNKpcZz8"
      }
    },
    {
      "cell_type": "markdown",
      "source": [
        "<div class=\"md-recitation\">\n",
        "  Sources\n",
        "  <ol>\n",
        "  <li><a href=\"https://blog.gopenai.com/creating-your-own-large-language-model-step-by-step-guide-4cada28c13ad\">https://blog.gopenai.com/creating-your-own-large-language-model-step-by-step-guide-4cada28c13ad</a></li>\n",
        "  <li><a href=\"https://medium.com/@nandiniverma78988/ridge-regression-also-known-as-l2-regularization-is-a-linear-regression-technique-used-in-0b3935dddfd0\">https://medium.com/@nandiniverma78988/ridge-regression-also-known-as-l2-regularization-is-a-linear-regression-technique-used-in-0b3935dddfd0</a></li>\n",
        "  <li><a href=\"https://blog.csdn.net/u010916338/article/details/105990192\">https://blog.csdn.net/u010916338/article/details/105990192</a></li>\n",
        "  <li><a href=\"https://github.com/koppolisubramanyam/gdk\">https://github.com/koppolisubramanyam/gdk</a></li>\n",
        "  <li><a href=\"https://www.analyticsvidhya.com/blog/2023/07/using-data-science-to-identify-top-twitter-influencers/\">https://www.analyticsvidhya.com/blog/2023/07/using-data-science-to-identify-top-twitter-influencers/</a></li>\n",
        "  <li><a href=\"https://medium.com/@conniezhou678/decoding-my-musical-journey-insights-from-spotify-track-data-visualized-with-matplotlib-and-41263c819bb0\">https://medium.com/@conniezhou678/decoding-my-musical-journey-insights-from-spotify-track-data-visualized-with-matplotlib-and-41263c819bb0</a></li>\n",
        "  <li><a href=\"https://medium.com/@johnmccool_83148/predict-customer-nps-with-machine-learning-8aab1a2aeee1\">https://medium.com/@johnmccool_83148/predict-customer-nps-with-machine-learning-8aab1a2aeee1</a></li>\n",
        "  <li><a href=\"https://github.com/FutureInsightTech/FutureIsnight-Site\">https://github.com/FutureInsightTech/FutureIsnight-Site</a> subject to MIT</li>\n",
        "  <li><a href=\"https://github.com/drcfsorg/DRCFS_Chitwan_ML_Bootcamp\">https://github.com/drcfsorg/DRCFS_Chitwan_ML_Bootcamp</a></li>\n",
        "  <li><a href=\"https://github.com/Gonnabattula-Sravani/Bharat-intern\">https://github.com/Gonnabattula-Sravani/Bharat-intern</a></li>\n",
        "  <li><a href=\"https://www.sarthaks.com/3530205/artificial-intelligence\">https://www.sarthaks.com/3530205/artificial-intelligence</a></li>\n",
        "  <li><a href=\"https://buffml.com/titanic-dataset-classification-using-python/\">https://buffml.com/titanic-dataset-classification-using-python/</a></li>\n",
        "  <li><a href=\"https://medium.com/@shashikumarsiva12/logistic-regression-algorithm-an-introduction-to-binary-classification-4bbf8fc655c5?responsesOpen=true&sortBy=REVERSE_CHRON\">https://medium.com/@shashikumarsiva12/logistic-regression-algorithm-an-introduction-to-binary-classification-4bbf8fc655c5?responsesOpen=true&sortBy=REVERSE_CHRON</a></li>\n",
        "  </ol>\n",
        "</div>"
      ],
      "metadata": {
        "id": "lZVy9JWncZz8"
      }
    },
    {
      "cell_type": "markdown",
      "metadata": {
        "id": "1291da52"
      },
      "source": [
        "# Statsmodels and SciPy"
      ]
    },
    {
      "cell_type": "markdown",
      "source": [
        "**Statsmodels**\n",
        "\n",
        "Statsmodels is a powerful library for statistical modeling, providing a wide range of statistical tests, models, and diagnostic tools. Here are a couple of examples:\n",
        "\n",
        "**1. Ordinary Least Squares (OLS) Regression**"
      ],
      "metadata": {
        "id": "WQ1hIGZLdIgK"
      }
    },
    {
      "cell_type": "code",
      "source": [
        "import statsmodels.api as sm\n",
        "import pandas as pd\n",
        "from sklearn.datasets import load_diabetes\n",
        "\n",
        "# Load the diabetes dataset\n",
        "diabetes = load_diabetes()\n",
        "data = pd.DataFrame(diabetes.data, columns=diabetes.feature_names)\n",
        "data['target'] = diabetes.target  # Target variable is a quantitative measure of disease progression one year after baseline\n",
        "\n",
        "# Define the dependent and independent variables\n",
        "X = data[['bmi', 's5']]  # Body mass index and a blood serum measurement\n",
        "y = data['target']\n",
        "\n",
        "# Add a constant term to the independent variables\n",
        "X = sm.add_constant(X)\n",
        "\n",
        "# Create and fit the OLS model\n",
        "model = sm.OLS(y, X)\n",
        "results = model.fit()\n",
        "\n",
        "# Print the regression results\n",
        "print(results.summary())"
      ],
      "outputs": [],
      "execution_count": null,
      "metadata": {
        "id": "XedpYMrqdIgM"
      }
    },
    {
      "cell_type": "markdown",
      "source": [
        "This code demonstrates how to perform OLS regression using `statsmodels`. It loads the Boston housing dataset, selects two predictor variables (`RM` and `LSTAT`), adds a constant term, and fits the model. The `results.summary()` function provides a comprehensive output with statistical details, including coefficients, R-squared, p-values, and more.\n",
        "\n",
        "**2. Analysis of Variance (ANOVA)**"
      ],
      "metadata": {
        "id": "LAHPks57dIgO"
      }
    },
    {
      "cell_type": "code",
      "source": [
        "import statsmodels.formula.api as smf\n",
        "import pandas as pd\n",
        "\n",
        "# Create a sample dataset\n",
        "data = {'group': ['A', 'A', 'B', 'B', 'C', 'C'],\n",
        "        'value': [10, 12, 15, 18, 20, 22]}\n",
        "df = pd.DataFrame(data)\n",
        "\n",
        "# Fit the ANOVA model\n",
        "model = smf.ols('value ~ group', data=df)\n",
        "results = model.fit()\n",
        "\n",
        "# Perform ANOVA table\n",
        "anova_table = sm.stats.anova_lm(results, typ=2)\n",
        "\n",
        "# Print the ANOVA table\n",
        "print(anova_table)"
      ],
      "outputs": [],
      "execution_count": null,
      "metadata": {
        "id": "3CLsuNjldIgO"
      }
    },
    {
      "cell_type": "markdown",
      "source": [
        "This example shows how to conduct ANOVA using `statsmodels`. It creates a sample dataset with groups and their corresponding values. The `ols` function from `statsmodels.formula.api` is used to specify the model using R-style formulas. The `anova_lm` function then performs the ANOVA analysis and generates a table with F-statistics, p-values, and other relevant information.\n",
        "\n",
        "**Scipy**\n",
        "\n",
        "Scipy is a library for scientific computing that builds on NumPy and provides a wide range of algorithms and functions for various scientific tasks. Here's an example:\n",
        "\n",
        "**1. T-test**"
      ],
      "metadata": {
        "id": "gJaVWIY-dIgP"
      }
    },
    {
      "cell_type": "code",
      "source": [
        "from scipy import stats\n",
        "import numpy as np\n",
        "\n",
        "# Generate two sample datasets\n",
        "group1 = np.random.normal(loc=10, scale=2, size=20)\n",
        "group2 = np.random.normal(loc=12, scale=2, size=20)\n",
        "\n",
        "# Perform independent samples t-test\n",
        "t_stat, p_value = stats.ttest_ind(group1, group2)\n",
        "\n",
        "print(f\"T-statistic: {t_stat}\")\n",
        "print(f\"P-value: {p_value}\")"
      ],
      "outputs": [],
      "execution_count": null,
      "metadata": {
        "id": "yGthvWX6dIgP"
      }
    },
    {
      "cell_type": "markdown",
      "source": [
        "This code demonstrates how to perform an independent samples t-test using `scipy.stats`. It generates two sample datasets and uses the `ttest_ind` function to calculate the t-statistic and p-value. This test is used to determine if there is a significant difference between the means of two independent groups.\n",
        "\n",
        "**Key Points for Teaching:**\n",
        "\n",
        "* **Explain the purpose:** Clearly explain the purpose and applications of each library.\n",
        "* **Focus on practical examples:** Use simple, relatable examples to demonstrate the functionality.\n",
        "* **Connect to statistical concepts:** Emphasize the connection between the code and the underlying statistical concepts.\n",
        "* **Encourage exploration:** Encourage students to explore the documentation and experiment with different functions and datasets.\n",
        "\n",
        "By introducing `statsmodels` and `scipy` with these examples, you can provide your students with a solid foundation in statistical analysis and scientific computing in Python. Remember to adapt the complexity and examples to your students' level and the specific goals of your class."
      ],
      "metadata": {
        "id": "qiusIL4EdIgQ"
      }
    },
    {
      "cell_type": "markdown",
      "source": [
        "<div class=\"md-recitation\">\n",
        "  Sources\n",
        "  <ol>\n",
        "  <li><a href=\"https://medium.com/@gururajab/linear-regression-a-comprehensive-guide-8d4ac0714ec1\">https://medium.com/@gururajab/linear-regression-a-comprehensive-guide-8d4ac0714ec1</a></li>\n",
        "  <li><a href=\"https://www.ml-zhuang.club/0521/787/\">https://www.ml-zhuang.club/0521/787/</a></li>\n",
        "  </ol>\n",
        "</div>"
      ],
      "metadata": {
        "id": "jHRwEYK9dIgQ"
      }
    }
  ]
}