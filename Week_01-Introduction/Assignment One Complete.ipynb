{
 "cells": [
  {
   "cell_type": "markdown",
   "id": "1447dd83",
   "metadata": {},
   "source": [
    "## Week 1: Assignment \n",
    "\n",
    "Jupyter Notebook: Jupyter Notebook (formerly IPython Notebooks) is a web-based interactive computational environment for creating notebook documents. Project Jupyter's operating philosophy is to support interactive data science and scientific computing across all programming languages via the development of open-source software. It supports different languages such as Python, R, and Julia. You can also install kernels to run other things like JavaScript.\n",
    "\n",
    "A notebook kernel is a “computational engine” that executes the code contained in a Notebook document. The ipython kernel, referenced in this guide, executes python code. Kernels for many other languages exist.\n",
    "\n",
    "https://jupyter-notebook-beginner-guide.readthedocs.io/en/latest/what_is_jupyter.html\n",
    "https://github.com/jupyter/jupyter/wiki/Jupyter-kernels\n",
    "https://jupyter-notebook.readthedocs.io/en/stable/examples/Notebook/Notebook%20Basics.html\n",
    "https://realpython.com/jupyter-notebook-introduction/"
   ]
  },
  {
   "cell_type": "markdown",
   "id": "aec9a808",
   "metadata": {},
   "source": [
    "### Menu\n",
    "\n",
    "**File** \n",
    "* Download as\n",
    "* Close and Halt\n",
    "\n",
    "**Edit**\n",
    "* Moving Cells\n",
    "* Find and Replace\n",
    "    \n",
    "**View** \n",
    "* Toggle Line Numbers\n",
    "    \n",
    "**Insert**\n",
    "* Insert Cell Above (A)\n",
    "* Insert Cell Below (B)\n",
    "\n",
    "**Cell**\n",
    "* Run Cell Ctrl-Enter\n",
    "* Run Cell and Select Below Ctrl-Shift\n",
    "* Run Cell and Insert Below Ctrl-Alt\n",
    "    \n",
    "**Kernel**\n",
    "* Restart\n",
    "    * Clear Output\n",
    "    * Run All\n",
    "\n",
    "**Widget**\n",
    "\n",
    "**Help**\n",
    "\n",
    "### Tool Bar\n",
    "\n",
    "**Markdown vs Code**\n",
    "* Markdown: https://www.ibm.com/docs/en/watson-studio-local/1.2.3?topic=notebooks-markdown-jupyter-cheatsheet\n",
    "* Code: Code example in next cell\n",
    "* Edit vs Command Modes (Green vs Blue Borders)\n",
    "    * A B X ESC"
   ]
  },
  {
   "cell_type": "markdown",
   "id": "f2f1e74e",
   "metadata": {},
   "source": [
    "### Data Science Model Example"
   ]
  },
  {
   "cell_type": "code",
   "execution_count": 1,
   "id": "0df6975c",
   "metadata": {},
   "outputs": [],
   "source": [
    "# import the libraries\n",
    "import numpy as np\n",
    "import pandas as pd\n",
    "import matplotlib.pyplot as plt\n",
    "import seaborn as sns\n",
    "\n",
    "from sklearn.linear_model import LinearRegression\n",
    "from sklearn.metrics import mean_squared_error, r2_score\n",
    "from sklearn.model_selection import train_test_split\n",
    "\n",
    "import warnings\n",
    "warnings.simplefilter(action='ignore')\n",
    "\n",
    "%matplotlib inline"
   ]
  },
  {
   "cell_type": "code",
   "execution_count": 2,
   "id": "1521fe97",
   "metadata": {},
   "outputs": [
    {
     "data": {
      "text/html": [
       "<div>\n",
       "<style scoped>\n",
       "    .dataframe tbody tr th:only-of-type {\n",
       "        vertical-align: middle;\n",
       "    }\n",
       "\n",
       "    .dataframe tbody tr th {\n",
       "        vertical-align: top;\n",
       "    }\n",
       "\n",
       "    .dataframe thead th {\n",
       "        text-align: right;\n",
       "    }\n",
       "</style>\n",
       "<table border=\"1\" class=\"dataframe\">\n",
       "  <thead>\n",
       "    <tr style=\"text-align: right;\">\n",
       "      <th></th>\n",
       "      <th>TV</th>\n",
       "      <th>radio</th>\n",
       "      <th>newspaper</th>\n",
       "      <th>sales</th>\n",
       "    </tr>\n",
       "  </thead>\n",
       "  <tbody>\n",
       "    <tr>\n",
       "      <th>0</th>\n",
       "      <td>230.1</td>\n",
       "      <td>37.8</td>\n",
       "      <td>69.2</td>\n",
       "      <td>22.1</td>\n",
       "    </tr>\n",
       "    <tr>\n",
       "      <th>1</th>\n",
       "      <td>44.5</td>\n",
       "      <td>39.3</td>\n",
       "      <td>45.1</td>\n",
       "      <td>10.4</td>\n",
       "    </tr>\n",
       "    <tr>\n",
       "      <th>2</th>\n",
       "      <td>17.2</td>\n",
       "      <td>45.9</td>\n",
       "      <td>69.3</td>\n",
       "      <td>9.3</td>\n",
       "    </tr>\n",
       "    <tr>\n",
       "      <th>3</th>\n",
       "      <td>151.5</td>\n",
       "      <td>41.3</td>\n",
       "      <td>58.5</td>\n",
       "      <td>18.5</td>\n",
       "    </tr>\n",
       "    <tr>\n",
       "      <th>4</th>\n",
       "      <td>180.8</td>\n",
       "      <td>10.8</td>\n",
       "      <td>58.4</td>\n",
       "      <td>12.9</td>\n",
       "    </tr>\n",
       "  </tbody>\n",
       "</table>\n",
       "</div>"
      ],
      "text/plain": [
       "      TV  radio  newspaper  sales\n",
       "0  230.1   37.8       69.2   22.1\n",
       "1   44.5   39.3       45.1   10.4\n",
       "2   17.2   45.9       69.3    9.3\n",
       "3  151.5   41.3       58.5   18.5\n",
       "4  180.8   10.8       58.4   12.9"
      ]
     },
     "execution_count": 2,
     "metadata": {},
     "output_type": "execute_result"
    }
   ],
   "source": [
    "# get the data\n",
    "df = pd.read_csv('Advertising.csv', usecols=['TV', 'radio', 'newspaper', 'sales'])\n",
    "df.head()"
   ]
  },
  {
   "cell_type": "code",
   "execution_count": 3,
   "id": "b28f2575",
   "metadata": {},
   "outputs": [
    {
     "data": {
      "text/plain": [
       "(200, 4)"
      ]
     },
     "execution_count": 3,
     "metadata": {},
     "output_type": "execute_result"
    }
   ],
   "source": [
    "# shape of data\n",
    "df.shape"
   ]
  },
  {
   "cell_type": "code",
   "execution_count": 4,
   "id": "fdece09d",
   "metadata": {},
   "outputs": [
    {
     "name": "stdout",
     "output_type": "stream",
     "text": [
      "<class 'pandas.core.frame.DataFrame'>\n",
      "RangeIndex: 200 entries, 0 to 199\n",
      "Data columns (total 4 columns):\n",
      " #   Column     Non-Null Count  Dtype  \n",
      "---  ------     --------------  -----  \n",
      " 0   TV         200 non-null    float64\n",
      " 1   radio      200 non-null    float64\n",
      " 2   newspaper  200 non-null    float64\n",
      " 3   sales      200 non-null    float64\n",
      "dtypes: float64(4)\n",
      "memory usage: 6.4 KB\n"
     ]
    }
   ],
   "source": [
    "# look at info\n",
    "df.info()"
   ]
  },
  {
   "cell_type": "code",
   "execution_count": 5,
   "id": "31595c6f",
   "metadata": {},
   "outputs": [
    {
     "data": {
      "text/html": [
       "<div>\n",
       "<style scoped>\n",
       "    .dataframe tbody tr th:only-of-type {\n",
       "        vertical-align: middle;\n",
       "    }\n",
       "\n",
       "    .dataframe tbody tr th {\n",
       "        vertical-align: top;\n",
       "    }\n",
       "\n",
       "    .dataframe thead th {\n",
       "        text-align: right;\n",
       "    }\n",
       "</style>\n",
       "<table border=\"1\" class=\"dataframe\">\n",
       "  <thead>\n",
       "    <tr style=\"text-align: right;\">\n",
       "      <th></th>\n",
       "      <th>TV</th>\n",
       "      <th>radio</th>\n",
       "      <th>newspaper</th>\n",
       "      <th>sales</th>\n",
       "    </tr>\n",
       "  </thead>\n",
       "  <tbody>\n",
       "    <tr>\n",
       "      <th>count</th>\n",
       "      <td>200.000000</td>\n",
       "      <td>200.000000</td>\n",
       "      <td>200.000000</td>\n",
       "      <td>200.000000</td>\n",
       "    </tr>\n",
       "    <tr>\n",
       "      <th>mean</th>\n",
       "      <td>147.042500</td>\n",
       "      <td>23.264000</td>\n",
       "      <td>30.554000</td>\n",
       "      <td>14.022500</td>\n",
       "    </tr>\n",
       "    <tr>\n",
       "      <th>std</th>\n",
       "      <td>85.854236</td>\n",
       "      <td>14.846809</td>\n",
       "      <td>21.778621</td>\n",
       "      <td>5.217457</td>\n",
       "    </tr>\n",
       "    <tr>\n",
       "      <th>min</th>\n",
       "      <td>0.700000</td>\n",
       "      <td>0.000000</td>\n",
       "      <td>0.300000</td>\n",
       "      <td>1.600000</td>\n",
       "    </tr>\n",
       "    <tr>\n",
       "      <th>25%</th>\n",
       "      <td>74.375000</td>\n",
       "      <td>9.975000</td>\n",
       "      <td>12.750000</td>\n",
       "      <td>10.375000</td>\n",
       "    </tr>\n",
       "    <tr>\n",
       "      <th>50%</th>\n",
       "      <td>149.750000</td>\n",
       "      <td>22.900000</td>\n",
       "      <td>25.750000</td>\n",
       "      <td>12.900000</td>\n",
       "    </tr>\n",
       "    <tr>\n",
       "      <th>75%</th>\n",
       "      <td>218.825000</td>\n",
       "      <td>36.525000</td>\n",
       "      <td>45.100000</td>\n",
       "      <td>17.400000</td>\n",
       "    </tr>\n",
       "    <tr>\n",
       "      <th>max</th>\n",
       "      <td>296.400000</td>\n",
       "      <td>49.600000</td>\n",
       "      <td>114.000000</td>\n",
       "      <td>27.000000</td>\n",
       "    </tr>\n",
       "  </tbody>\n",
       "</table>\n",
       "</div>"
      ],
      "text/plain": [
       "               TV       radio   newspaper       sales\n",
       "count  200.000000  200.000000  200.000000  200.000000\n",
       "mean   147.042500   23.264000   30.554000   14.022500\n",
       "std     85.854236   14.846809   21.778621    5.217457\n",
       "min      0.700000    0.000000    0.300000    1.600000\n",
       "25%     74.375000    9.975000   12.750000   10.375000\n",
       "50%    149.750000   22.900000   25.750000   12.900000\n",
       "75%    218.825000   36.525000   45.100000   17.400000\n",
       "max    296.400000   49.600000  114.000000   27.000000"
      ]
     },
     "execution_count": 5,
     "metadata": {},
     "output_type": "execute_result"
    }
   ],
   "source": [
    "# describe data\n",
    "df.describe()"
   ]
  },
  {
   "cell_type": "code",
   "execution_count": 6,
   "id": "d12e52ef",
   "metadata": {},
   "outputs": [
    {
     "data": {
      "text/plain": [
       "(array([26., 15., 21., 18., 19., 17., 22., 26., 20., 16.]),\n",
       " array([  0.7 ,  30.27,  59.84,  89.41, 118.98, 148.55, 178.12, 207.69,\n",
       "        237.26, 266.83, 296.4 ]),\n",
       " <BarContainer object of 10 artists>)"
      ]
     },
     "execution_count": 6,
     "metadata": {},
     "output_type": "execute_result"
    },
    {
     "data": {
      "image/png": "[encoded data removed]",
      "text/plain": [
       "<Figure size 432x288 with 1 Axes>"
      ]
     },
     "metadata": {
      "needs_background": "light"
     },
     "output_type": "display_data"
    }
   ],
   "source": [
    "# plot TV histogram using matplotlib\n",
    "plt.hist(df['TV'])"
   ]
  },
  {
   "cell_type": "code",
   "execution_count": 7,
   "id": "ddf68043",
   "metadata": {},
   "outputs": [
    {
     "data": {
      "image/png": "[encoded data removed]",
      "text/plain": [
       "<Figure size 432x288 with 1 Axes>"
      ]
     },
     "metadata": {
      "needs_background": "light"
     },
     "output_type": "display_data"
    }
   ],
   "source": [
    "# plot radio histogram using matplotlib\n",
    "plt.hist(df['radio'], bins=5)\n",
    "plt.xlabel('Amount')\n",
    "plt.ylabel('Quantity')\n",
    "plt.title('Radio Revenue')\n",
    "plt.show();"
   ]
  },
  {
   "cell_type": "code",
   "execution_count": 8,
   "id": "c610a0b3",
   "metadata": {},
   "outputs": [
    {
     "data": {
      "image/png": "[encoded data removed]",
      "text/plain": [
       "<Figure size 432x288 with 3 Axes>"
      ]
     },
     "metadata": {
      "needs_background": "light"
     },
     "output_type": "display_data"
    }
   ],
   "source": [
    "# using subplots using matplotlib https://matplotlib.org/stable/gallery/statistics/hist.html\n",
    "fig, axs = plt.subplots(1, 3, sharey=False, tight_layout=True)\n",
    "axs[0].hist(df['TV'])\n",
    "axs[0].set_xlabel('TV')\n",
    "\n",
    "axs[1].hist(df['radio'])\n",
    "axs[1].set_xlabel('radio')\n",
    "\n",
    "axs[2].hist(df['newspaper'])\n",
    "axs[2].set_xlabel('newspaper')\n",
    "\n",
    "plt.show();"
   ]
  },
  {
   "cell_type": "code",
   "execution_count": 9,
   "id": "94acbf3e",
   "metadata": {},
   "outputs": [
    {
     "data": {
      "image/png": "[encoded data removed]",
      "text/plain": [
       "<Figure size 432x288 with 4 Axes>"
      ]
     },
     "metadata": {
      "needs_background": "light"
     },
     "output_type": "display_data"
    }
   ],
   "source": [
    "# using pandas and matplotlib\n",
    "df.hist()\n",
    "plt.tight_layout()"
   ]
  },
  {
   "cell_type": "code",
   "execution_count": 10,
   "id": "c9bacb5c",
   "metadata": {},
   "outputs": [
    {
     "data": {
      "text/plain": [
       "<seaborn.axisgrid.PairGrid at 0x221c48669a0>"
      ]
     },
     "execution_count": 10,
     "metadata": {},
     "output_type": "execute_result"
    },
    {
     "data": {
      "image/png": "[encoded data removed]",
      "text/plain": [
       "<Figure size 864x360 with 3 Axes>"
      ]
     },
     "metadata": {
      "needs_background": "light"
     },
     "output_type": "display_data"
    }
   ],
   "source": [
    "# scatterplot example with seaborn (sns)\n",
    "sns.pairplot(df, x_vars=['TV','radio','newspaper'], y_vars='sales', \n",
    "             kind='reg', \n",
    "             size=5,\n",
    "             aspect=0.8, \n",
    "             plot_kws={'line_kws':{'color':'red'}, 'scatter_kws': {'alpha': 0.2}})"
   ]
  },
  {
   "cell_type": "code",
   "execution_count": 11,
   "id": "f6519a4c",
   "metadata": {},
   "outputs": [
    {
     "name": "stdout",
     "output_type": "stream",
     "text": [
      "      TV  radio  newspaper\n",
      "0  230.1   37.8       69.2\n",
      "1   44.5   39.3       45.1\n",
      "2   17.2   45.9       69.3\n",
      "3  151.5   41.3       58.5\n",
      "4  180.8   10.8       58.4\n",
      "\n",
      "0    22.1\n",
      "1    10.4\n",
      "2     9.3\n",
      "3    18.5\n",
      "4    12.9\n",
      "Name: sales, dtype: float64\n"
     ]
    }
   ],
   "source": [
    "# separate X, y\n",
    "X = df.drop(['sales'], axis=1)\n",
    "y = df.sales\n",
    "print(X.head())\n",
    "print()\n",
    "print(y.head())"
   ]
  },
  {
   "cell_type": "code",
   "execution_count": 12,
   "id": "c6532dbd",
   "metadata": {},
   "outputs": [
    {
     "name": "stdout",
     "output_type": "stream",
     "text": [
      "(160, 3)\n",
      "(160,)\n"
     ]
    }
   ],
   "source": [
    "# train test split\n",
    "X_train, X_test, y_train, y_test = train_test_split(X, y, test_size=0.20, random_state=42)\n",
    "print(X_train.shape)\n",
    "print(y_train.shape)"
   ]
  },
  {
   "cell_type": "code",
   "execution_count": 13,
   "id": "841d85e5",
   "metadata": {},
   "outputs": [
    {
     "name": "stdout",
     "output_type": "stream",
     "text": [
      "(160, 3)\n",
      "(160,)\n"
     ]
    }
   ],
   "source": [
    "# another split example\n",
    "X_train, X_test, y_train, y_test = train_test_split(df.drop(['sales'], axis=1), \n",
    "                                                    df.sales, \n",
    "                                                    test_size=0.20, \n",
    "                                                    random_state=42)\n",
    "print(X_train.shape)\n",
    "print(y_train.shape)"
   ]
  },
  {
   "cell_type": "code",
   "execution_count": 14,
   "id": "5dfdc477",
   "metadata": {},
   "outputs": [
    {
     "name": "stdout",
     "output_type": "stream",
     "text": [
      "MSE: 3.174097353976105\n",
      "R-Squared: 0.899438024100912\n"
     ]
    }
   ],
   "source": [
    "# build, train (fit), predict, evaluate the model\n",
    "model = LinearRegression()\n",
    "model.fit(X_train, y_train)\n",
    "predictions = model.predict(X_test)\n",
    "print(f'MSE: {mean_squared_error(y_true=y_test, y_pred=predictions)}')\n",
    "print(f'R-Squared: {r2_score(y_test, predictions)}')"
   ]
  },
  {
   "cell_type": "code",
   "execution_count": 15,
   "id": "96c65d48",
   "metadata": {},
   "outputs": [
    {
     "data": {
      "text/plain": [
       "array([15.0118875])"
      ]
     },
     "execution_count": 15,
     "metadata": {},
     "output_type": "execute_result"
    }
   ],
   "source": [
    "# make a prediction\n",
    "tv = 232.1\n",
    "radio = 8.6\n",
    "newspaper = 8.7\n",
    "model.predict(np.array([tv, radio, newspaper]).reshape(1, -1))"
   ]
  },
  {
   "cell_type": "code",
   "execution_count": 16,
   "id": "9a5a8cf5",
   "metadata": {},
   "outputs": [
    {
     "data": {
      "text/plain": [
       "[('TV', 0.044729517468716326),\n",
       " ('radio', 0.18919505423437655),\n",
       " ('newspaper', 0.0027611143413671896)]"
      ]
     },
     "execution_count": 16,
     "metadata": {},
     "output_type": "execute_result"
    }
   ],
   "source": [
    "# what are our coefficients?\n",
    "# what are our coefficients?\n",
    "list(zip(X, model.coef_))"
   ]
  },
  {
   "cell_type": "markdown",
   "id": "4ab3c041",
   "metadata": {},
   "source": [
    "### More on Using the Tools"
   ]
  },
  {
   "cell_type": "code",
   "execution_count": 17,
   "id": "d73127aa",
   "metadata": {},
   "outputs": [
    {
     "name": "stdout",
     "output_type": "stream",
     "text": [
      "12\n",
      "3\n",
      "[1, 2, 'hello', 3, 'there']\n",
      "(1, 2, 'hello', 3, 'there')\n",
      "{1, 2, 3, 4}\n",
      "{'one': 1, 'two': 2, 'three': 3}\n",
      "1\n",
      "[1, 2, 'hello', 3, 'world']\n",
      "1\n",
      "2\n",
      "hello\n",
      "3\n",
      "world\n",
      "{'one': 1, 'two': 2, 'three': 3}\n",
      "one 1\n",
      "two 2\n",
      "three 3\n"
     ]
    }
   ],
   "source": [
    "# python examples\n",
    "# string\n",
    "print('1' + '2')\n",
    "# number\n",
    "print(1 + 2)\n",
    "# list (mutable)\n",
    "l = [1, 2, 'hello', 3, 'there']\n",
    "print(l)\n",
    "l[4] = 'world'\n",
    "# tuple (immutable)\n",
    "t = (1, 2, 'hello', 3, 'there')\n",
    "print(t)\n",
    "# t[4] = 'world'\n",
    "# set\n",
    "print({1, 2, 3, 3, 4})\n",
    "# dictionary\n",
    "d = {'one': 1, 'two': 2, 'three': 3}\n",
    "print(d)\n",
    "print(d['one'])\n",
    "# comprehensions\n",
    "print([el for el in l])\n",
    "for el in l:\n",
    "    print(el)\n",
    "    \n",
    "print({k: v for k, v in d.items()})\n",
    "for k, v in d.items():\n",
    "    print(k, v)"
   ]
  },
  {
   "cell_type": "code",
   "execution_count": 18,
   "id": "a0247b05",
   "metadata": {},
   "outputs": [
    {
     "name": "stdout",
     "output_type": "stream",
     "text": [
      "0.39850156140080384\n",
      "0\n",
      "[[7 1 4 0 2]\n",
      " [3 1 4 9 3]\n",
      " [5 3 1 4 4]\n",
      " [0 0 7 3 0]\n",
      " [4 8 4 3 5]]\n",
      "[[7 1 4 0 2]]\n"
     ]
    }
   ],
   "source": [
    "# numpy examples\n",
    "# https://www.learndatasci.com/tutorials/applied-introduction-to-numpy-python-tutorial/\n",
    "print(np.random.rand())\n",
    "print(np.random.randint(10))\n",
    "mat = np.random.randint(10, size=(5, 5))\n",
    "print(mat)\n",
    "print(mat[0:1])"
   ]
  },
  {
   "cell_type": "code",
   "execution_count": 19,
   "id": "8b05c005",
   "metadata": {},
   "outputs": [
    {
     "name": "stdout",
     "output_type": "stream",
     "text": [
      "[[0]\n",
      " [9]\n",
      " [4]]\n",
      "[[0 2]\n",
      " [9 3]\n",
      " [4 4]]\n"
     ]
    }
   ],
   "source": [
    "print(mat[0:3,3:4])\n",
    "print(mat[0:3,3:])"
   ]
  },
  {
   "cell_type": "code",
   "execution_count": 20,
   "id": "c9d79042",
   "metadata": {},
   "outputs": [],
   "source": [
    "# pandas examples\n",
    "# https://pandas.pydata.org/docs/user_guide/10min.html"
   ]
  },
  {
   "cell_type": "code",
   "execution_count": 21,
   "id": "ba7a41d9",
   "metadata": {},
   "outputs": [
    {
     "name": "stdout",
     "output_type": "stream",
     "text": [
      "   0  1  2  3  4\n",
      "0  7  1  4  0  2\n",
      "1  3  1  4  9  3\n",
      "2  5  3  1  4  4\n",
      "3  0  0  7  3  0\n",
      "4  4  8  4  3  5\n"
     ]
    }
   ],
   "source": [
    "print(pd.DataFrame(mat))"
   ]
  },
  {
   "cell_type": "code",
   "execution_count": 22,
   "id": "44df17e2",
   "metadata": {},
   "outputs": [
    {
     "name": "stdout",
     "output_type": "stream",
     "text": [
      "   one  two  three  four  five\n",
      "0    7    1      4     0     2\n",
      "1    3    1      4     9     3\n",
      "2    5    3      1     4     4\n",
      "3    0    0      7     3     0\n",
      "4    4    8      4     3     5\n"
     ]
    }
   ],
   "source": [
    "ex = pd.DataFrame(mat, columns=['one', 'two', 'three', 'four', 'five'])\n",
    "print(ex)"
   ]
  },
  {
   "cell_type": "code",
   "execution_count": 23,
   "id": "04e03740",
   "metadata": {},
   "outputs": [
    {
     "name": "stdout",
     "output_type": "stream",
     "text": [
      "one      3\n",
      "two      1\n",
      "three    4\n",
      "four     9\n",
      "five     3\n",
      "Name: 1, dtype: int32\n"
     ]
    }
   ],
   "source": [
    "print(ex.loc[1])"
   ]
  },
  {
   "cell_type": "code",
   "execution_count": 24,
   "id": "ec0e07e8",
   "metadata": {
    "scrolled": true
   },
   "outputs": [
    {
     "name": "stdout",
     "output_type": "stream",
     "text": [
      "   four  five\n",
      "0     0     2\n",
      "1     9     3\n"
     ]
    }
   ],
   "source": [
    "print(ex.iloc[0:2,3:5])"
   ]
  }
 ],
 "metadata": {
  "kernelspec": {
   "display_name": "Python 3 (ipykernel)",
   "language": "python",
   "name": "python3"
  },
  "language_info": {
   "codemirror_mode": {
    "name": "ipython",
    "version": 3
   },
   "file_extension": ".py",
   "mimetype": "text/x-python",
   "name": "python",
   "nbconvert_exporter": "python",
   "pygments_lexer": "ipython3",
   "version": "3.10.12"
  }
 },
 "nbformat": 4,
 "nbformat_minor": 5
}
