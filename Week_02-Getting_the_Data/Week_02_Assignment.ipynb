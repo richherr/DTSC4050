{
 "cells": [
  {
   "cell_type": "markdown",
   "id": "9f7b8dbf",
   "metadata": {
    "colab_type": "text",
    "id": "view-in-github"
   },
   "source": [
    "<a href=\"https://colab.research.google.com/github/gitmystuff/DTSC4050/blob/main/Week_02-Getting_the_Data/Week_02_Assignment.ipynb\" target=\"_parent\"><img src=\"https://colab.research.google.com/assets/colab-badge.svg\" alt=\"Open In Colab\"/></a>"
   ]
  },
  {
   "cell_type": "raw",
   "id": "59645a62-d64a-4b9c-b59e-5a7889cd82e2",
   "metadata": {
    "id": "41c9a5d1"
   },
   "source": [
    "# Week 02: Assignment\n",
    "\n",
    "by Your Name\n",
    "\n",
    "## Getting Started\n",
    "\n",
    "* Get notebook from richherr DTSC4050 repository\n",
    "* Upload copy to the 149 class server. You are also free to use the Google Colab server. \n",
    "* Edit your name.\n",
    "* Finish the assignment.  \n",
    "* Download the completed notebook from 149 server and upload to the Canvas Assignment 2 page\n",
    "\n",
    "## Assignment\n",
    "\n",
    "* Import three different datasets, one from sklearn.datasets, one from seaborn.load_dataset, and one from the UCI Machine Learning Repository\n",
    "* Create a dataframe for each dataset if necessary\n",
    "* Print the shape\n",
    "* Print the information about the dataset using info()\n",
    "* Show the first five rows of each dataset"
   ]
  },
  {
   "cell_type": "code",
   "execution_count": null,
   "id": "6b8e5175",
   "metadata": {
    "id": "6b8e5175"
   },
   "outputs": [],
   "source": [
    "# sklearn example\n"
   ]
  },
  {
   "cell_type": "code",
   "execution_count": null,
   "id": "eb00325c",
   "metadata": {
    "id": "eb00325c"
   },
   "outputs": [],
   "source": [
    "# seaborn example\n"
   ]
  },
  {
   "cell_type": "code",
   "execution_count": null,
   "id": "a05c7d33",
   "metadata": {
    "id": "a05c7d33"
   },
   "outputs": [],
   "source": [
    "# uci machine learning repository example\n"
   ]
  }
 ],
 "metadata": {
  "colab": {
   "include_colab_link": true,
   "provenance": []
  },
  "kernelspec": {
   "display_name": "Python 3 (ipykernel)",
   "language": "python",
   "name": "python3"
  },
  "language_info": {
   "codemirror_mode": {
    "name": "ipython",
    "version": 3
   },
   "file_extension": ".py",
   "mimetype": "text/x-python",
   "name": "python",
   "nbconvert_exporter": "python",
   "pygments_lexer": "ipython3",
   "version": "3.10.12"
  }
 },
 "nbformat": 4,
 "nbformat_minor": 5
}
