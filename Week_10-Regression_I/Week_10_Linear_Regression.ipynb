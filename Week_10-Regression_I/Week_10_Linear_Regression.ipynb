{
  "nbformat": 4,
  "nbformat_minor": 0,
  "metadata": {
    "colab": {
      "provenance": [],
      "toc_visible": true,
      "authorship_tag": "ABX9TyO4hgJxplUpAMfVucu1sHHz",
      "include_colab_link": true
    },
    "kernelspec": {
      "name": "python3",
      "display_name": "Python 3"
    },
    "language_info": {
      "name": "python"
    }
  },
  "cells": [
    {
      "cell_type": "markdown",
      "metadata": {
        "id": "view-in-github",
        "colab_type": "text"
      },
      "source": [
        "<a href=\"https://colab.research.google.com/github/gitmystuff/DTSC4050/blob/main/Week_10-Regression_I/Week_10_Linear_Regression.ipynb\" target=\"_parent\"><img src=\"https://colab.research.google.com/assets/colab-badge.svg\" alt=\"Open In Colab\"/></a>"
      ]
    },
    {
      "cell_type": "markdown",
      "source": [
        "# Linear Regression\n",
        "Your Name"
      ],
      "metadata": {
        "id": "iRUIwzJVpxpZ"
      }
    },
    {
      "cell_type": "markdown",
      "source": [
        "## Getting Started\n",
        "\n",
        "* Colab - get notebook from gitmystuff DTSC4050 repository\n",
        "* Save a Copy in Drive\n",
        "* Remove Copy of\n",
        "* Edit name\n",
        "* Take attendance\n",
        "* Clean up Colab Notebooks folder\n",
        "* Submit shared link\n"
      ],
      "metadata": {
        "id": "bGezCn18xkLd"
      }
    },
    {
      "cell_type": "markdown",
      "source": [
        "## Remarks\n",
        "\n",
        "* Suggest Data Science Fiction (Revised)\n",
        "* Categorical Encoding"
      ],
      "metadata": {
        "id": "LTq-mT1UqBlB"
      }
    },
    {
      "cell_type": "markdown",
      "source": [
        "## Issue with Ordinal Encoding"
      ],
      "metadata": {
        "id": "Nrrdhbh5vENx"
      }
    },
    {
      "cell_type": "code",
      "source": [
        "# import pandas as pd\n",
        "# import numpy as np\n",
        "# from sklearn.model_selection import train_test_split\n",
        "# from sklearn.linear_model import LinearRegression\n",
        "# from sklearn.tree import DecisionTreeRegressor\n",
        "# import matplotlib.pyplot as plt\n",
        "# import seaborn as sns\n",
        "\n",
        "# # Create a dataset with a very strong quadratic trend\n",
        "# np.random.seed(42)\n",
        "# data = {\n",
        "#     'grade': ['low', 'medium', 'high', 'very high', 'extremely high', 'low', 'medium', 'high', 'very high', 'extremely high'],\n",
        "#     'grade_encoded': [1, 2, 3, 4, 5, 1, 2, 3, 4, 5],\n",
        "#     'target': np.array([1, 4, 9, 16, 25, 1, 4, 9, 16, 25]) + np.random.randn(10) * 1  # Reduced noise for clarity\n",
        "# }\n",
        "# df = pd.DataFrame(data)\n",
        "\n",
        "# # Split data\n",
        "# X = df[['grade_encoded']]\n",
        "# y = df['target']\n",
        "# X_train, X_test, y_train, y_test = train_test_split(X, y, test_size=0.2, random_state=42)\n",
        "\n",
        "# # Linear Regression\n",
        "# model_linear = LinearRegression()\n",
        "# model_linear.fit(X_train, y_train)\n",
        "# coefficient = model_linear.coef_[0]\n",
        "# intercept = model_linear.intercept_\n",
        "\n",
        "# print(\"Linear Regression Coefficient (grade_encoded):\", coefficient)\n",
        "# print(f\"For every 1 unit increase in grade_encoded, the target increases by {coefficient:.4f}\")\n",
        "\n",
        "# # Decision Tree\n",
        "# model_tree = DecisionTreeRegressor(random_state=42)\n",
        "# model_tree.fit(X_train, y_train)\n",
        "# print(\"Decision Tree Feature Importance (grade_encoded):\", model_tree.feature_importances_)\n",
        "\n",
        "# # Visualizations\n",
        "# plt.figure(figsize=(12, 5))\n",
        "\n",
        "# plt.subplot(1, 2, 1)\n",
        "# sns.scatterplot(x='grade_encoded', y='target', data=df, s=100) # Increased marker size\n",
        "# plt.title('Scatter Plot: Encoded Grade vs. Target (Quadratic Trend)')\n",
        "\n",
        "# plt.subplot(1, 2, 2)\n",
        "# sns.boxplot(x='grade', y='target', data=df)\n",
        "# plt.title('Box Plot: Original Grade vs. Target (Quadratic Trend)')\n",
        "\n",
        "# plt.show()\n",
        "\n",
        "# # Visualize the Linear Regression Fit\n",
        "# plt.figure(figsize=(8, 6))\n",
        "# sns.regplot(x='grade_encoded', y='target', data=df, scatter_kws={'s': 100}) # increased marker size\n",
        "# plt.title('Linear Regression Fit (Misleading)')\n",
        "# plt.xlabel('Grade Encoded (low=1, extremely high=5)')\n",
        "# plt.ylabel('Target')\n",
        "\n",
        "# # Add Annotations\n",
        "# predicted_low = coefficient * 1 + intercept\n",
        "# predicted_extreme = coefficient * 5 + intercept\n",
        "# plt.annotate(f'Low Pred: {predicted_low:.2f}', xy=(1, predicted_low), xytext=(1.2, predicted_low + 0.5), arrowprops=dict(arrowstyle=\"->\"))\n",
        "# plt.annotate(f'Extreme Pred: {predicted_extreme:.2f}', xy=(5, predicted_extreme), xytext=(4.8, predicted_extreme + 0.5), arrowprops=dict(arrowstyle=\"->\"))\n",
        "\n",
        "# plt.show()\n",
        "\n",
        "# # Demonstrate the correct behavior of a decision tree.\n",
        "# X_train_tree, X_test_tree, y_train_tree, y_test_tree = train_test_split(X, y, test_size=0.2, random_state=42)\n",
        "\n",
        "# model_tree_correct = DecisionTreeRegressor(random_state=42)\n",
        "# model_tree_correct.fit(X_train_tree, y_train_tree)\n",
        "\n",
        "# plt.figure(figsize=(8, 6))\n",
        "# plt.scatter(X, y, label='Actual Data', s=100) # increased marker size\n",
        "# plt.plot(X, model_tree_correct.predict(X), color='red', label='Decision Tree Prediction')\n",
        "# plt.title('Decision Tree Fit (Correct Capture of Non-Linearity)')\n",
        "# plt.xlabel('Grade Encoded')\n",
        "# plt.ylabel('Target')\n",
        "# plt.legend()\n",
        "# plt.show()\n",
        "\n",
        "# print(\"\\nDecision Tree Feature Importances (grade_encoded):\", model_tree_correct.feature_importances_)"
      ],
      "metadata": {
        "colab": {
          "base_uri": "https://localhost:8080/",
          "height": 1000
        },
        "id": "kvoQen0BK7ya",
        "outputId": "6ccda264-40ff-4e04-b264-354615a910b4"
      },
      "execution_count": null,
      "outputs": [
        {
          "output_type": "stream",
          "name": "stdout",
          "text": [
            "Linear Regression Coefficient (grade_encoded): 6.001970888138991\n",
            "For every 1 unit increase in grade_encoded, the target increases by 6.0020\n",
            "Decision Tree Feature Importance (grade_encoded): [1.]\n"
          ]
        },
        {
          "output_type": "display_data",
          "data": {
            "text/plain": [
              "<Figure size 1200x500 with 2 Axes>"
            ],
            "image/png": "[encoded data removed]"
          },
          "metadata": {}
        },
        {
          "output_type": "display_data",
          "data": {
            "text/plain": [
              "<Figure size 800x600 with 1 Axes>"
            ],
            "image/png": "[encoded data removed]"
          },
          "metadata": {}
        },
        {
          "output_type": "display_data",
          "data": {
            "text/plain": [
              "<Figure size 800x600 with 1 Axes>"
            ],
            "image/png": "[encoded data removed]"
          },
          "metadata": {}
        },
        {
          "output_type": "stream",
          "name": "stdout",
          "text": [
            "\n",
            "Decision Tree Feature Importances (grade_encoded): [1.]\n"
          ]
        }
      ]
    },
    {
      "cell_type": "markdown",
      "source": [
        "1.  **Non-Linear Relationship:**\n",
        "    * The `target` variable is generated with a quadratic trend concerning the `grade`. This means the relationship isn't a straight line (linear), but rather a curve.\n",
        "    * Ordinal encoding treats the grades as linearly spaced numbers (1, 2, 3, 4, 5).\n",
        "    * When you fit a linear regression model, it tries to find the best linear fit, which is a poor representation of the actual non-linear relationship.\n",
        "    * The scatter plot and the linear regression fit plot will show that the linear model does not capture the true trend.\n",
        "\n",
        "2.  **Misleading Linear Regression Interpretation:**\n",
        "    * The linear regression coefficient will suggest a constant increase in the `target` for each unit increase in the encoded `grade`.\n",
        "    * However, the actual increase in the `target` is not constant; it accelerates as the `grade` increases.\n",
        "    * The annotations on the linear regression graph will show how the predictions are off, especially in the extreme values.\n",
        "\n",
        "3.  **Decision Trees Handle Non-Linearity:**\n",
        "    * Decision trees can naturally capture non-linear relationships.\n",
        "    * The decision tree graph will demonstrate how the model is able to follow the curve of the data.\n",
        "    * This is the reason that even with ordinal data, a decision tree will often perform better than linear regression.\n",
        "\n",
        "4.  **Ordinal Encoding vs. True Relationship:**\n",
        "    * The boxplot shows the true distribution of the target variable concerning the original grade categories.\n",
        "    * The scatterplot using ordinal encoding tries to force a linear relationship where one does not exist.\n",
        "    * This demonstrates that while ordinal encoding retains order, it imposes a linear spacing that may not reflect the actual data distribution.\n"
      ],
      "metadata": {
        "id": "mADrgFRbK3wR"
      }
    },
    {
      "cell_type": "markdown",
      "source": [
        "When dealing with linear regression and ordinal encoding, the \"single coefficient value\" you're asking about represents the slope of the line that best fits the relationship between the ordinally encoded feature and the target variable.\n",
        "\n",
        "Here's a breakdown:\n",
        "\n",
        "**Understanding the Coefficient**\n",
        "\n",
        "* **Linear Regression Equation:**\n",
        "    * In a simple linear regression, the relationship between the predicted target (y) and the feature (x) is represented by the equation: y = mx + b\n",
        "        * Where:\n",
        "            * 'm' is the coefficient (slope).\n",
        "            * 'x' is the feature value (in this case, the ordinal encoded value).\n",
        "            * 'b' is the intercept.\n",
        "* **Coefficient's Meaning:**\n",
        "    * The coefficient (m) tells you how much the predicted target changes for every one-unit increase in the feature.\n",
        "    * In the context of ordinal encoding, it indicates how much the predicted target changes for each step in the ordinal scale.\n",
        "* **Single Value:**\n",
        "    * Because ordinal encoding results in a single numerical feature, linear regression calculates a single coefficient to represent its relationship with the target.\n",
        "\n",
        "**How to Find the Coefficient**\n",
        "\n",
        "In your Python code, you can access the coefficient using the `coef_` attribute of the trained linear regression model. For example:\n",
        "\n",
        "```python\n",
        "model_linear = LinearRegression()\n",
        "model_linear.fit(X_train, y_train)\n",
        "coefficient = model_linear.coef_[0] # the [0] is used because coef_ returns an array.\n",
        "print(coefficient)\n",
        "```\n",
        "\n",
        "**Important Considerations**\n",
        "\n",
        "* **Interpretation:**\n",
        "    * Remember that the coefficient's interpretation is based on the assumption that the ordinal scale has a meaningful linear relationship with the target.\n",
        "    * If this assumption is incorrect, the coefficient's value may be misleading.\n",
        "* **One-Hot Encoding vs. Ordinal Encoding:**\n",
        "    * In contrast to ordinal encoding, one-hot encoding results in multiple coefficients, one for each category.\n",
        "    * Therefore, with One hot encoding, there is not a single coefficient, but a coefficient for each created column.\n"
      ],
      "metadata": {
        "id": "34rwV8kz6mN0"
      }
    },
    {
      "cell_type": "markdown",
      "source": [
        "```python\n",
        "# Categorical Features\n",
        "categorical_data = {\n",
        "    'cat_personality': np.random.choice(['Annoying', 'Sweet', 'Wise', 'Playful'], n_samples),\n",
        "    'meow_volume': np.random.choice(['Low', 'Medium', 'High'], n_samples, p=[0.2,0.5,0.3]),\n",
        "    'mystery_stain_colors': np.random.choice(['Red','Blue','Yellow', None], n_samples)\n",
        "}\n",
        "```\n",
        "\n",
        "**Analysis of Categorical Features:**\n",
        "\n",
        "1.  **`cat_personality`:**\n",
        "    * Categories: 'Annoying', 'Sweet', 'Wise', 'Playful'\n",
        "    * Nature: These categories are purely nominal. There is no inherent order or ranking among them. A cat being \"Sweet\" is not \"greater\" or \"lesser\" than being \"Annoying.\"\n",
        "    * Encoding: Use one-hot encoding.\n",
        "\n",
        "2.  **`meow_volume`:**\n",
        "    * Categories: 'Low', 'Medium', 'High'\n",
        "    * Nature: These categories have a clear ordinal relationship. \"Low\" is less than \"Medium,\" and \"Medium\" is less than \"High.\"\n",
        "    * Encoding: Ordinal encoding *could* be considered here, but you would need to be very careful, and consider the model being used.\n",
        "        * If the model is a tree based model, then ordinal encoding is fine.\n",
        "        * If the model is a linear based model, then one hot encoding is still the safest option.\n",
        "        * If you are unsure of the model, one hot encoding is the best option.\n",
        "\n",
        "3.  **`mystery_stain_colors`:**\n",
        "    * Categories: 'Red', 'Blue', 'Yellow', `None`\n",
        "    * Nature: These categories are nominal. There is no inherent order among colors. The `None` category should be treated as a separate, distinct category.\n",
        "    * Encoding: Use one-hot encoding.\n",
        "\n",
        "**Why Avoid Ordinal Encoding (Except for `meow_volume` with caution):**\n",
        "\n",
        "* **Misleading Relationships:**\n",
        "    * Ordinal encoding would impose an artificial order on categories that have no inherent ranking.\n",
        "    * This could lead the model to misinterpret the relationships between the categories and the target variable.\n",
        "* **Linear Assumption:**\n",
        "    * Linear models, in particular, would assume a linear relationship between the encoded values, which would be incorrect.\n",
        "* **Tree Based Models:**\n",
        "    * Tree based models handle ordinal data much better.\n",
        "    * Ordinal encoding would be acceptable for `meow_volume` with tree based models.\n",
        "* **Safety:**\n",
        "    * When in doubt, use one-hot encoding. It is the safest option.\n",
        "\n",
        "**Recommended Encoding:**\n",
        "\n",
        "* **`cat_personality`:** One-hot encoding\n",
        "* **`meow_volume`:** One-hot encoding (or ordinal encoding with caution if using tree based models)\n",
        "* **`mystery_stain_colors`:** One-hot encoding\n",
        "\n",
        "By using one-hot encoding, you'll allow your model to treat each category independently and avoid any misleading interpretations.\n"
      ],
      "metadata": {
        "id": "uzvg02M17zud"
      }
    },
    {
      "cell_type": "markdown",
      "source": [
        "## ANOVA (Analysis of Variance)\n",
        "\n",
        "**Hypothesis**:\n",
        "- $H_0:; \\mu_1 = \\mu_2 = \\mu_3$\n",
        "- We could test each pair\n",
        "    * $H_0: \\mu_1 = \\mu_2, \\alpha = 0.05$\n",
        "    * $H_0: \\mu_1 = \\mu_3, \\alpha = 0.05$\n",
        "    * $H_0: \\mu_2 = \\mu_3, \\alpha = 0.05$\n",
        "- Overall confidence drops: .95 x .95 x .95 = .857\n",
        "- ANOVA works by computing an F value and compares it to a critical value determined by our degrees of freedom which is determined by the number of groups and number of items in each group\n",
        "- Considers two types of variance:\n",
        "    * Between Groups: group mean varies from total mean\n",
        "    * Within Groups: individual mean varies from group mean\n",
        "- The F value is the ratio between these two variances\n",
        "\n",
        "$\n",
        "F = \\frac{Variance Between Groups}{Variance Within Groups} = \\frac{\\frac{SSG}{df_{groups}}}{\\frac{SSE}{df_{error}}} = \\frac{\\frac{SSG}{ngroups-1}}{\\frac{SSE}{(n_{rows}-1)*n_{groups}}}\n",
        "$\n",
        "\n",
        "With ANOVA, you see:\n",
        "* F-statistic: To test for overall differences between group means.\n",
        "* Sums of squares: To partition the variance.\n",
        "* P-values: To assess statistical significance.\n",
        "* Group means."
      ],
      "metadata": {
        "id": "WLJ7Vu6MwCDE"
      }
    },
    {
      "cell_type": "markdown",
      "source": [
        "### Variance Between Groups (VBG)\n",
        "\n",
        "* $SSG = \\sum_{i=1}^{k} n_i (\\bar{x}_i - \\bar{x})^2$\n",
        "* $VBG = SSG/ngroups - 1$"
      ],
      "metadata": {
        "id": "UXzxUf_R8aA7"
      }
    },
    {
      "cell_type": "code",
      "source": [
        "# import numpy as np\n",
        "\n",
        "# def calculate_vbg(groups):\n",
        "#     \"\"\"\n",
        "#     Calculates the Mean Square Between (MSB) for ANOVA.\n",
        "\n",
        "#     Args:\n",
        "#         groups: A list of lists, where each inner list represents a group.\n",
        "\n",
        "#     Returns:\n",
        "#         The MSB value.\n",
        "#     \"\"\"\n",
        "\n",
        "#     k = len(groups)  # Number of groups\n",
        "#     group_means = [np.mean(group) for group in groups]\n",
        "#     all_data = np.concatenate(groups)\n",
        "#     overall_mean = np.mean(all_data)\n",
        "#     n_values = [len(group) for group in groups]\n",
        "\n",
        "#     ssg = sum(n * (group_mean - overall_mean) ** 2 for n, group_mean in zip(n_values, group_means))\n",
        "#     df_b = k - 1\n",
        "\n",
        "#     vbg = ssg / df_b if df_b > 0 else 0  # Avoid division by zero\n",
        "\n",
        "#     return vbg, df_b, ssg\n",
        "\n",
        "# # Example usage:\n",
        "# group1 = [10, 12, 14, 11, 13]\n",
        "# group2 = [18, 20, 19, 21, 22]\n",
        "# group3 = [5, 7, 6, 8, 9]\n"
      ],
      "metadata": {
        "id": "SEqXfuzj3_Wy"
      },
      "execution_count": null,
      "outputs": []
    },
    {
      "cell_type": "markdown",
      "source": [
        "# Practice 1"
      ],
      "metadata": {
        "id": "ekK3fp6DIFXU"
      }
    },
    {
      "cell_type": "code",
      "source": [
        "# follow along coding"
      ],
      "metadata": {
        "id": "akYnSnrtIIBl"
      },
      "execution_count": null,
      "outputs": []
    },
    {
      "cell_type": "markdown",
      "source": [
        "### Variance Within Groups\n",
        "\n",
        "* SSE = $\\sum_{i=1}^{k} \\sum_{j=1}^{n_i} (x_{ij} - \\bar{x}_i)^2$\n",
        "* VWG = SSE / nrows-1(ngroups)"
      ],
      "metadata": {
        "id": "PdRG170R8vFh"
      }
    },
    {
      "cell_type": "code",
      "source": [
        "# import numpy as np\n",
        "\n",
        "# def calculate_variance_within_groups(groups):\n",
        "#     \"\"\"\n",
        "#     Calculates the variance within groups (Mean Square Within - MSW) for ANOVA.\n",
        "\n",
        "#     Args:\n",
        "#         groups: A list of lists, where each inner list represents a group.\n",
        "\n",
        "#     Returns:\n",
        "#         The MSW value.\n",
        "#     \"\"\"\n",
        "\n",
        "#     sse = 0  # Sum of Squares Within\n",
        "#     df_within = 0  # Degrees of freedom within groups\n",
        "\n",
        "#     for group in groups:\n",
        "#         group_array = np.array(group)\n",
        "#         group_mean = np.mean(group_array)\n",
        "#         sse += np.sum((group_array - group_mean) ** 2)\n",
        "#         df_within += len(group) - 1\n",
        "\n",
        "#     vwg = sse / df_within if df_within > 0 else 0 #Avoid division by zero\n",
        "\n",
        "#     return vwg, df_within, sse\n"
      ],
      "metadata": {
        "id": "lf6-jUo88zf3"
      },
      "execution_count": null,
      "outputs": []
    },
    {
      "cell_type": "markdown",
      "source": [
        "# Practice 2"
      ],
      "metadata": {
        "id": "O51ysiQ7Jo-p"
      }
    },
    {
      "cell_type": "code",
      "source": [
        "# follow along coding"
      ],
      "metadata": {
        "id": "ET0be5HNJsoJ"
      },
      "execution_count": null,
      "outputs": []
    },
    {
      "cell_type": "markdown",
      "source": [
        "# Practice 3"
      ],
      "metadata": {
        "id": "l9Pdoj4DJxVU"
      }
    },
    {
      "cell_type": "code",
      "source": [
        "# follow along codeing"
      ],
      "metadata": {
        "id": "pPhIjVpQ91aI"
      },
      "execution_count": null,
      "outputs": []
    },
    {
      "cell_type": "markdown",
      "source": [
        "# Practice 4"
      ],
      "metadata": {
        "id": "mMFV-YWoJ1sU"
      }
    },
    {
      "cell_type": "code",
      "source": [
        "# follow along coding"
      ],
      "metadata": {
        "id": "2X6yBkK--Gu-"
      },
      "execution_count": null,
      "outputs": []
    },
    {
      "cell_type": "markdown",
      "source": [
        "# Practice 5"
      ],
      "metadata": {
        "id": "0bRYSIcwJ81V"
      }
    },
    {
      "cell_type": "code",
      "source": [
        "# follow along coding"
      ],
      "metadata": {
        "id": "KFx6hVMM-ZeX"
      },
      "execution_count": null,
      "outputs": []
    },
    {
      "cell_type": "markdown",
      "source": [
        "Our F-statistic falls to the right of the critical value (or your p-value is less than your alpha), so we've established that there is a statistically significant difference *somewhere* among the groups. However, ANOVA doesn't tell you *which* groups are different from each other.\n",
        "\n",
        "Here's what you do next:\n",
        "\n",
        "**1. Post-Hoc Tests (Pairwise Comparisons):**\n",
        "\n",
        "* **Purpose:**\n",
        "    * To determine exactly which pairs of groups have significantly different means.\n",
        "* **Common Tests:**\n",
        "    * **Tukey's Honestly Significant Difference (HSD):**\n",
        "        * A widely used test, especially when you have equal sample sizes in each group.\n",
        "        * Controls for the familywise error rate (the probability of making at least one Type I error across all comparisons).\n",
        "    * **Bonferroni Correction:**\n",
        "        * A more conservative method that adjusts the alpha level for each comparison.\n",
        "        * Good for when you have a small number of comparisons.\n",
        "    * **Scheffé's Test:**\n",
        "        * A very conservative test, suitable for complex comparisons beyond just pairwise comparisons.\n",
        "    * **Games-Howell Test:**\n",
        "        * Used when you have unequal variances or unequal sample sizes.\n",
        "\n",
        "**2. Effect Size:**\n",
        "\n",
        "* **Purpose:**\n",
        "    * To determine the practical significance or magnitude of the differences.\n",
        "    * Statistical significance doesn't always equal practical significance.\n",
        "* **Common Measures:**\n",
        "    * **Eta-squared (η²):**\n",
        "        * Represents the proportion of variance in the dependent variable that is accounted for by the independent variable.\n",
        "    * **Omega-squared (ω²):**\n",
        "        * A less biased estimate of the population effect size.\n",
        "    * **Cohen's d (for pairwise comparisons):**\n",
        "        * Measures the standardized difference between two group means.\n",
        "\n",
        "**3. Visualizations:**\n",
        "\n",
        "* **Box Plots:**\n",
        "    * Show the distribution of data in each group, including the median and quartiles.\n",
        "* **Bar Graphs with Error Bars:**\n",
        "    * Show the mean of each group with error bars representing the standard error or confidence intervals.\n",
        "* These visualizations can help you understand the patterns of differences between the groups.\n",
        "\n",
        "**4. Reporting:**\n",
        "\n",
        "* **Clearly state the results of your post-hoc tests:**\n",
        "    * Indicate which pairs of groups were found to be significantly different.\n",
        "    * Report the test statistic, p-value, and effect size for each comparison.\n",
        "* **Provide appropriate visualizations.**\n",
        "* **Interpret the findings in the context of your research question.**\n",
        "\n",
        "**In Python (example using `statsmodels`):**\n",
        "\n",
        "The following code shows how to perform an ANOVA, Tukey's HSD test, and calculate the eta squared effect size. Replace the example data with your own data.\n"
      ],
      "metadata": {
        "id": "MTxTh-B4_NG5"
      }
    },
    {
      "cell_type": "code",
      "source": [
        "# import pandas as pd\n",
        "# import matplotlib.pyplot as plt\n",
        "# import seaborn as sns\n",
        "# import numpy as np\n",
        "\n",
        "# # Example data\n",
        "# data = pd.DataFrame({\n",
        "#     'value': [10, 12, 14, 11, 13, 18, 20, 19, 21, 22, 5, 7, 6, 8, 9],\n",
        "#     'group': ['A', 'A', 'A', 'A', 'A', 'B', 'B', 'B', 'B', 'B', 'C', 'C', 'C', 'C', 'C']\n",
        "# })\n",
        "\n",
        "# # Box Plots\n",
        "# plt.figure(figsize=(8, 6))\n",
        "# sns.boxplot(x='group', y='value', data=data)\n",
        "# plt.title('Box Plots of Value by Group')\n",
        "# plt.xlabel('Group')\n",
        "# plt.ylabel('Value')\n",
        "# plt.show()\n",
        "\n",
        "# # Bar Graphs with Error Bars (using standard error)\n",
        "# group_means = data.groupby('group')['value'].mean()\n",
        "# group_stds = data.groupby('group')['value'].std()\n",
        "# group_counts = data.groupby('group')['value'].count()\n",
        "# group_se = group_stds / np.sqrt(group_counts)  # Standard Error\n",
        "\n",
        "# plt.figure(figsize=(8, 6))\n",
        "# plt.bar(group_means.index, group_means.values, yerr=group_se.values, capsize=5)\n",
        "# plt.title('Bar Graphs of Mean Value by Group with Standard Error')\n",
        "# plt.xlabel('Group')\n",
        "# plt.ylabel('Mean Value')\n",
        "# plt.show()\n",
        "\n",
        "# #Bar graph with confidence intervals.\n",
        "# confidence_interval = 1.96 * group_se #95% confidence interval.\n",
        "# plt.figure(figsize=(8, 6))\n",
        "# plt.bar(group_means.index, group_means.values, yerr=confidence_interval.values, capsize=5)\n",
        "# plt.title('Bar Graphs of Mean Value by Group with 95% Confidence Intervals')\n",
        "# plt.xlabel('Group')\n",
        "# plt.ylabel('Mean Value')\n",
        "# plt.show()"
      ],
      "metadata": {
        "id": "kKo5Ac8ZCLCn"
      },
      "execution_count": null,
      "outputs": []
    },
    {
      "cell_type": "code",
      "source": [
        "# import pandas as pd\n",
        "# import statsmodels.api as sm\n",
        "# from statsmodels.formula.api import ols\n",
        "# from statsmodels.stats.multicomp import pairwise_tukeyhsd\n",
        "\n",
        "# # ANOVA\n",
        "# model = ols('value ~ group', data=data).fit()\n",
        "# anova_table = sm.stats.anova_lm(model, typ=2)\n",
        "# print(\"ANOVA Table:\\n\", anova_table)\n",
        "\n",
        "# # Tukey's HSD test\n",
        "# tukey_result = pairwise_tukeyhsd(data['value'], data['group'], alpha=0.05)\n",
        "# print(\"\\nTukey's HSD:\\n\", tukey_result)\n",
        "\n",
        "# #Effect size.\n",
        "# eta_squared = anova_table['sum_sq']['group'] / anova_table['sum_sq'].sum()\n",
        "# print(f\"\\nEta Squared : {eta_squared}\")"
      ],
      "metadata": {
        "id": "PT5dnOsY_j9m"
      },
      "execution_count": null,
      "outputs": []
    },
    {
      "cell_type": "markdown",
      "source": [
        "**1. ANOVA Table:**\n",
        "\n",
        "* **`sum_sq` (Sum of Squares):**\n",
        "    * `group`: 430.0 - This is the Sum of Squares Between groups (SSB). It represents the variability between the means of groups A, B, and C. A large value indicates that the group means are quite different.\n",
        "    * `Residual`: 30.0 - This is the Sum of Squares Within groups (SSW or SSE). It represents the variability within each group.\n",
        "* **`df` (Degrees of Freedom):**\n",
        "    * `group`: 2.0 - This is the degrees of freedom between groups (number of groups - 1).\n",
        "    * `Residual`: 12.0 - This is the degrees of freedom within groups (total number of observations - number of groups).\n",
        "* **`F` (F-statistic):**\n",
        "    * 86.0 - This is the F-statistic, calculated as MSB/MSW (Mean Square Between / Mean Square Within). A large F-statistic suggests that the differences between group means are statistically significant.\n",
        "* **`PR(>F)` (P-value):**\n",
        "    * 7.694502e-08 - This is the p-value, which is extremely small (essentially 0). It indicates the probability of observing the data if there were no real differences between the groups. Since it's much smaller than the typical alpha level of 0.05, we reject the null hypothesis, concluding that there are statistically significant differences among the group means.\n",
        "\n",
        "**2. Tukey's HSD (Honestly Significant Difference):**\n",
        "\n",
        "* This section shows the results of Tukey's HSD post-hoc test, which is used to determine which specific pairs of groups have significantly different means.\n",
        "* **`group1` and `group2`:** These columns indicate the pairs of groups being compared (A vs. B, A vs. C, B vs. C).\n",
        "* **`meandiff` (Mean Difference):** This column shows the difference between the means of the two groups being compared.\n",
        "* **`p-adj` (Adjusted P-value):** This is the p-value adjusted for multiple comparisons. It's used to determine statistical significance for each pair.\n",
        "* **`lower` and `upper`:** These columns represent the confidence interval for the mean difference.\n",
        "* **`reject`:** This column indicates whether the null hypothesis (that the means are equal) is rejected. \"True\" means that the means are significantly different.\n",
        "* **Interpretation:**\n",
        "    * All three pairs (A vs. B, A vs. C, and B vs. C) show a \"True\" in the `reject` column. This means that all pairs of groups have statistically significant differences in their means.\n",
        "    * The mean differences show the direction and magnitude of the differences. For example, group B has a mean that is 8.0 higher than group A.\n",
        "\n",
        "**3. Eta Squared:**\n",
        "\n",
        "* **0.9347826086956522:**\n",
        "    * Eta squared (η²) is a measure of effect size, indicating the proportion of variance in the dependent variable (the \"value\" in your data) that is explained by the independent variable (the \"group\").\n",
        "    * An eta squared of 0.93 is very high, suggesting that the \"group\" variable explains a large portion of the variance in the \"value\" variable.\n",
        "\n",
        "**In summary:**\n",
        "\n",
        "* The ANOVA table indicates that there are statistically significant differences among the means of groups A, B, and C.\n",
        "* Tukey's HSD test reveals that all pairs of groups have significantly different means.\n",
        "* The eta squared value indicates a very large effect size.\n",
        "\n",
        "This means that the different groups have a very large effect on the outcome of the value being measured.\n"
      ],
      "metadata": {
        "id": "KtLYClbQ_8yv"
      }
    },
    {
      "cell_type": "markdown",
      "source": [
        "### Scenario\n",
        "\n",
        "Here's a practical scenario that could produce data like the groups you've provided and then interpret the ANOVA and Tukey's HSD results.\n",
        "\n",
        "**Scenario: Fertilizer Effectiveness on Plant Growth**\n",
        "\n",
        "Imagine you're an agricultural researcher testing the effectiveness of three different fertilizers (A, B, and C) on the height of a specific type of plant. You randomly assign 15 plants to three groups:\n",
        "\n",
        "* **Group 1 (Fertilizer A):** [10, 12, 14, 11, 13] - These are the heights (in centimeters) of the plants treated with Fertilizer A.\n",
        "* **Group 2 (Fertilizer B):** [18, 20, 19, 21, 22] - Heights of plants treated with Fertilizer B.\n",
        "* **Group 3 (Fertilizer C):** [5, 7, 6, 8, 9] - Heights of plants treated with Fertilizer C.\n",
        "\n",
        "**Interpretation of the Results:**\n",
        "\n",
        "1.  **ANOVA Table:**\n",
        "    * The ANOVA table tells us that there is a statistically significant difference in plant height among the three fertilizer groups. The extremely small p-value (7.694502e-08) indicates a very high level of confidence in this result.\n",
        "    * The large F-statistic (86.0) also reinforces this finding.\n",
        "2.  **Tukey's HSD:**\n",
        "    * The Tukey's HSD test reveals that:\n",
        "        * Plants treated with Fertilizer B (Group 2) are significantly taller than plants treated with Fertilizer A (Group 1).\n",
        "        * Plants treated with Fertilizer A (Group 1) are significantly taller than plants treated with Fertilizer C (Group 3).\n",
        "        * Plants treated with Fertilizer B (Group 2) are significantly taller than plants treated with Fertilizer C (Group 3).\n",
        "    * Essentially, all three fertilizers produce statistically different plant heights from each other.\n",
        "3.  **Eta Squared:**\n",
        "    * The eta squared value (0.9347826086956522) indicates that 93.48% of the variability in plant height can be attributed to the type of fertilizer used. This is a very strong effect, meaning the fertilizer type has a large and important impact on the plant height.\n",
        "\n",
        "**Practical Implications:**\n",
        "\n",
        "* Based on this analysis, Fertilizer B is the most effective in promoting plant growth, followed by Fertilizer A, and then Fertilizer C.\n",
        "* A farmer or gardener could use this information to choose the most effective fertilizer for maximizing plant height.\n",
        "* The high Eta squared value, means that the choice of fertilizer is extremely important to the outcome of plant height.\n",
        "* The results of this study would be statistically valid.\n",
        "* This study could be repeated, and the results would likely be the same.\n",
        "\n",
        "**Important Note:**\n",
        "\n",
        "* While the statistical results are strong, real-world applications would also consider other factors, such as the cost of the fertilizers, their environmental impact, and their long-term effects on soil health.\n",
        "* This example is a simplification. Real world agricultural studies would include many more plants per group, and many more variables.\n"
      ],
      "metadata": {
        "id": "AG0aJvdUBtyR"
      }
    },
    {
      "cell_type": "markdown",
      "source": [
        "### Historical Progression to Linear Regression\n",
        "\n",
        "There's a logical progression and an evolving understanding that bridges ANOVA and multiple linear regression. It's not just a timeline, but a story of conceptual development. Let's build that bridge:\n",
        "\n",
        "**1. Early Foundations (Pre-20th Century):**\n",
        "\n",
        "* **Linear Regression's Origins:**\n",
        "    * Gauss and Legendre's work on least squares laid the groundwork for linear regression.\n",
        "    * Early applications focused on astronomical calculations and surveying, dealing with continuous variables.\n",
        "* **Concept of Variance:**\n",
        "    * The concept of variance as a measure of data dispersion was developing.\n",
        "\n",
        "**2. The Rise of ANOVA (Early 20th Century):**\n",
        "\n",
        "* **R.A. Fisher's Contribution:**\n",
        "    * Fisher developed ANOVA primarily for agricultural experiments.\n",
        "    * The focus was on comparing means of groups defined by categorical factors (treatments).\n",
        "    * ANOVA introduced the powerful concept of partitioning variance, separating the effects of factors from random error.\n",
        "    * ANOVA was initially designed to handle categorical independent variables.\n",
        "\n",
        "**3. The General Linear Model (Mid-20th Century):**\n",
        "\n",
        "* **Unifying Framework:**\n",
        "    * Statisticians began to recognize that ANOVA and multiple linear regression were not separate entities but rather special cases of a more general model: the General Linear Model (GLM).\n",
        "    * The GLM provided a framework for modeling a dependent variable as a linear combination of independent variables, regardless of whether those variables were continuous or categorical.\n",
        "    * Generalized Linear Models (GLMs) extend linear regression to handle various response variable distributions and non-linear relationships using a link function and an exponential family of distributions.\n",
        "* **Dummy Variables:**\n",
        "    * The key to bridging ANOVA and regression was the use of dummy variables.\n",
        "    * Dummy variables allowed categorical variables to be incorporated into a regression framework.\n",
        "    * This made it possible to perform ANOVA-like analyses using regression software.\n",
        "\n",
        "**4. Increased Computing Power and Software (Late 20th Century):**\n",
        "\n",
        "* **Practical Implementation:**\n",
        "    * The development of computers and statistical software made it much easier to perform complex regression analyses.\n",
        "    * This led to the increased use of multiple linear regression, as it offered greater flexibility and power.\n",
        "    * Statistical software made the use of dummy variables to encode categorical data simple.\n",
        "* **Shift in Focus:**\n",
        "    * As regression became more accessible, it gradually became the dominant tool for analyzing relationships between variables.\n",
        "    * ANOVA, while still valuable, was increasingly seen as a specialized case of regression.\n",
        "\n",
        "**5. Modern Statistical Practice (21st Century):**\n",
        "\n",
        "* **Integrated Approach:**\n",
        "    * Modern statisticians recognize the close relationship between ANOVA and multiple linear regression.\n",
        "    * The choice of method depends on the research question and the nature of the data.\n",
        "    * Regression is the more general method, and ANOVA is a special case.\n",
        "* **Emphasis on the GLM:**\n",
        "    * The General Linear Model is the corner stone of most analysis.\n",
        "    * The focus is on understanding the underlying principles of the GLM, rather than treating ANOVA and regression as separate techniques.\n",
        "\n",
        "**Key Bridging Concepts:**\n",
        "\n",
        "* The General Linear Model.\n",
        "* Dummy variables.\n",
        "* Partitioning of variance.\n",
        "* The understanding that both are linear models.\n",
        "\n",
        "In essence, it's a story of moving from specialized tools for specific types of data to a more unified and flexible framework that can handle a wider range of data and research questions.\n"
      ],
      "metadata": {
        "id": "KACGAWUN8QqB"
      }
    },
    {
      "cell_type": "markdown",
      "source": [
        "* **Linear Foundation:**\n",
        "    * Both ANOVA and multiple linear regression are rooted in the general linear model, modeling dependent variables as linear combinations of independent variables.\n",
        "    * \"Linear\" signifies a straight-line relationship, crucial for both methods.\n",
        "* **ANOVA's Focus:**\n",
        "    * ANOVA specializes in analyzing differences between group means when independent variables are categorical, a linear approach using dummy variables.\n",
        "    * It's prevalent in experimental settings (agriculture, manufacturing quality control) where categorical treatments are compared.\n",
        "* **Multiple Regression's Versatility:**\n",
        "    * Multiple regression handles both continuous and categorical predictors, enabling complex linear modeling.\n",
        "    * It is the primary tool for analyzing datasets with multiple continuous numerical independent features, and a continuous dependent variable.\n",
        "    * Its flexibility allows for predictive modeling and is widely used across industries like finance, healthcare, and marketing.\n",
        "* **Real-World Applications:**\n",
        "    * ANOVA remains vital in controlled experiments and quality assurance.\n",
        "    * Multiple regression dominates in data-driven fields, providing insights and predictions from complex datasets.\n",
        "    * Both methods aim to partition variance to understand the relationships between the dependent and independent variables.\n",
        "* **Non-Linear Considerations:**\n",
        "    * While both methods assume linearity, real-world relationships can be non-linear. In such cases, other modeling techniques are needed.\n",
        "    * Multiple regression, when used improperly, can still be used to model non linear data, but that is generally considered bad practice.\n"
      ],
      "metadata": {
        "id": "nMuAwTvSwHFT"
      }
    },
    {
      "cell_type": "markdown",
      "source": [
        "### Examples\n",
        "\n",
        "**ANOVA Examples:**\n",
        "\n",
        "* **Pharmaceutical Testing:**\n",
        "    * A pharmaceutical company tests three different dosages of a new drug to see if they affect blood pressure.\n",
        "    * * Dependent variable: Blood pressure (continuous, numerical).\n",
        "    * * Independent variable: Drug dosage (categorical: low, medium, high).\n",
        "    * * ANOVA determines if there are statistically significant differences in average blood pressure among the dosage groups.\n",
        "* **Education Research:**\n",
        "    * Researchers want to compare the effectiveness of three different teaching methods on student test scores.\n",
        "    * * Dependent variable: Test scores (continuous, numerical).\n",
        "    * * Independent variable: Teaching method (categorical: method A, method B, method C).\n",
        "    * * ANOVA identifies if any teaching method leads to significantly different average test scores.\n",
        "* **Manufacturing Quality Control:**\n",
        "    * A factory wants to determine if different production lines affect the quality of a product (measured by a quality score).\n",
        "    * * Dependent variable: Product quality score (continuous, numerical).\n",
        "    * * Independent variable: Production line (categorical: line 1, line 2, line 3).\n",
        "    * * ANOVA helps identify if any production line produces products with significantly different average quality scores.\n",
        "\n",
        "**Multiple Linear Regression Examples:**\n",
        "\n",
        "* **Real Estate Price Prediction:**\n",
        "    * Predicting the price of a house based on its square footage, number of bedrooms, number of bathrooms, and location.\n",
        "    * * Dependent variable: House price (continuous, numerical).\n",
        "    * * Independent variables: Square footage, bedrooms, bathrooms (all continuous, numerical), and location (categorical, converted to dummy variables).\n",
        "    * * Regression provides coefficients that show how each factor influences house price.\n",
        "* **Sales Forecasting:**\n",
        "    * Predicting monthly sales based on advertising spending, seasonality (represented by month), and economic indicators.\n",
        "    * * Dependent variable: Monthly sales (continuous, numerical).\n",
        "    * * Independent variables: Advertising spending, month (categorical, converted to dummy variables), and economic indicators (continuous, numerical).\n",
        "    * * Regression models the combined effect of these factors on sales.\n",
        "* **Healthcare Risk Assessment:**\n",
        "    * Predicting a patient's risk of developing heart disease based on age, cholesterol levels, blood pressure, and smoking status.\n",
        "    * * Dependent variable: Risk score (continuous, numerical).\n",
        "    * * Independent variables: Age, cholesterol, blood pressure (all continuous, numerical), and smoking status (categorical, converted to dummy variables).\n",
        "    * * Regression helps identify the relative importance of each risk factor.\n",
        "\n",
        "**Linear and Non-Linear Relationship Examples:**\n",
        "\n",
        "* **Linear:**\n",
        "    * **Distance and Time (Constant Speed):** If a car travels at a constant speed, the distance traveled is directly proportional to time. The relationship is a straight line.\n",
        "    * **Simple Interest:** The amount of simple interest earned is linearly related to the principal amount.\n",
        "    * **Hooke's Law:** The extension of a spring is linearly proportional to the force applied to it.\n",
        "* **Non-Linear:**\n",
        "    * **Population Growth (Exponential):** Bacterial population growth, or even human population growth, often follows an exponential curve, where the rate of growth increases over time.\n",
        "    * **Gravity and Distance:** The gravitational force between two objects decreases inversely with the square of the distance between them (an inverse square law).\n",
        "    * **Enzyme Kinetics:** The rate of enzyme-catalyzed reactions often follows a non-linear curve (Michaelis-Menten kinetics).\n",
        "    * **Vehicle drag:** The amount of drag on a vehicle increases exponentially with the speed of the vehicle.\n",
        "    * **Compound Interest:** The amount of money gained from compound interest increases exponentially over time.\n"
      ],
      "metadata": {
        "id": "MtmwBniF1cyS"
      }
    },
    {
      "cell_type": "markdown",
      "source": [
        "**1. \"Both ANOVA and multiple linear regression are based on the general linear model.\"**\n",
        "\n",
        "* **General Linear Model (GLM):**\n",
        "    * This is a foundational statistical framework that encompasses a wide range of statistical techniques, including ANOVA and multiple linear regression.\n",
        "    * The GLM expresses a dependent variable as a linear combination of independent variables, plus an error term.\n",
        "    * It assumes that the relationship between the variables is linear and that the errors are normally distributed.\n",
        "    * Essentially, both ANOVA and regression are special cases of this more general statistical model.\n",
        "* **Significance:**\n",
        "    * This means they share a common mathematical foundation. They are not entirely separate entities but rather related methods within the same statistical framework.\n",
        "\n",
        "**2. \"They both aim to model a dependent variable as a linear combination of independent variables.\"**\n",
        "\n",
        "* **Linear Combination:**\n",
        "    * This means that the dependent variable (the outcome you're trying to predict or explain) is expressed as a sum of the independent variables (the predictors), each multiplied by a coefficient.\n",
        "    * Mathematically, this looks like:\n",
        "        * $Y = β₀ + β₁X₁ + β₂X₂ + ... + ε$\n",
        "        * Where:\n",
        "            * Y is the dependent variable.\n",
        "            * X₁, X₂, ... are the independent variables.\n",
        "            * β₀, β₁, β₂, ... are the coefficients (representing the strength of the relationship).\n",
        "            * ε is the error term.\n",
        "* **Application to ANOVA:**\n",
        "    * In ANOVA, categorical independent variables are represented using \"dummy variables\" (variables with values of 0 or 1).\n",
        "    * These dummy variables are then used in the linear combination to model the group means.\n",
        "* **Application to Multiple Linear Regression:**\n",
        "    * Multiple linear regression directly uses continuous and/or dummy variables within the linear combination.\n",
        "* **Significance:**\n",
        "    * This highlights the core similarity in how they model relationships between variables.\n",
        "\n",
        "**3. \"They both rely on the concept of partitioning variance.\"**\n",
        "\n",
        "* **Partitioning Variance:**\n",
        "    * Variance is a measure of how spread out the data is.\n",
        "    * Both ANOVA and regression aim to break down the total variance of the dependent variable into different components.\n",
        "    * In ANOVA, this involves partitioning the variance into:\n",
        "        * Variance between groups (due to the categorical independent variables).\n",
        "        * Variance within groups (due to random error).\n",
        "    * In regression, this involves partitioning the variance into:\n",
        "        * Variance explained by the regression model (due to the independent variables).\n",
        "        * Variance not explained by the model (residual error).\n",
        "* **Significance:**\n",
        "    * This means that both methods analyze how much of the variation in the dependent variable can be attributed to the independent variables.\n",
        "    * This is fundamental to determining the statistical significance of the results.\n",
        "\n",
        "In essence, these three points emphasize that ANOVA and multiple linear regression are deeply connected through their shared foundation in the general linear model. They both aim to model linear relationships and understand how the variance in the dependent variable is explained by the independent variables.\n"
      ],
      "metadata": {
        "id": "Rwly_36cwkYB"
      }
    },
    {
      "cell_type": "markdown",
      "source": [
        "# Practice 6"
      ],
      "metadata": {
        "id": "gDfV52AfKWdK"
      }
    },
    {
      "cell_type": "code",
      "source": [
        "# follow along coding"
      ],
      "metadata": {
        "id": "TgWenelECl3j"
      },
      "execution_count": null,
      "outputs": []
    },
    {
      "cell_type": "markdown",
      "source": [
        "# Practice 7"
      ],
      "metadata": {
        "id": "yKq4IgCtKba9"
      }
    },
    {
      "cell_type": "code",
      "source": [
        "# follow along coding"
      ],
      "metadata": {
        "id": "FGHHTBd6C-_p"
      },
      "execution_count": null,
      "outputs": []
    },
    {
      "cell_type": "markdown",
      "source": [
        "Alright, let's break down this OLS (Ordinary Least Squares) Regression Results output, which is the result of running a multiple linear regression on your plant height data, using the \"group\" information as dummy variables.\n",
        "\n",
        "**Understanding the Sections:**\n",
        "\n",
        "1.  **Model Summary:**\n",
        "\n",
        "    * **Dep. Variable: value:** This confirms that \"value\" (plant height in our example) is the dependent variable we're trying to predict.\n",
        "    * **R-squared: 0.935:** This is a very high R-squared value, indicating that 93.5% of the variance in plant height is explained by the fertilizer groups. This is a very good fit.\n",
        "    * **Adj. R-squared: 0.924:** This is the adjusted R-squared, which takes into account the number of predictors in the model. It is very close to the R-squared, which is good.\n",
        "    * **Model: OLS:** This confirms that the model used is Ordinary Least Squares regression.\n",
        "    * **F-statistic: 86.00:** This is the F-statistic, which tests the overall significance of the model. It's high, indicating strong significance.\n",
        "    * **Prob (F-statistic): 7.69e-08:** This is the p-value associated with the F-statistic. It's extremely small (close to 0), meaning the overall model is highly statistically significant.\n",
        "    * **No. Observations: 15:** This is the number of data points used in the regression.\n",
        "    * **Df Residuals: 12:** This is the degrees of freedom for the residuals (error).\n",
        "    * **Df Model: 2:** This is the degrees of freedom for the model (number of predictors).\n",
        "\n",
        "2.  **Coefficients Table:**\n",
        "\n",
        "    * **coef:** These are the estimated coefficients for each predictor.\n",
        "        * **Intercept: 12.0000:** This is the estimated mean plant height for the reference group (Group A).\n",
        "        * **group_B[T.True]: 8.0000:** This is the difference in mean plant height between Group B and Group A. Plants in Group B are, on average, 8 centimeters taller than plants in Group A.\n",
        "        * **group_C[T.True]: -5.0000:** This is the difference in mean plant height between Group C and Group A. Plants in Group C are, on average, 5 centimeters shorter than plants in Group A.\n",
        "    * **std err:** This is the standard error of the coefficients.\n",
        "    * **t:** This is the t-statistic, which tests the significance of each coefficient.\n",
        "    * **P > |t|:** This is the p-value associated with each t-statistic. All are 0.000, meaning all coefficients are highly statistically significant.\n",
        "    * **[0.025 0.975]:** This is the 95% confidence interval for each coefficient.\n",
        "\n",
        "3.  **Omnibus/Durbin-Watson/Skew/Kurtosis:**\n",
        "\n",
        "    * These are diagnostic statistics that assess the model's assumptions.\n",
        "        * **Omnibus and Prob(Omnibus):** These test for the normality of the residuals. A p-value above 0.05 suggests that the residuals are normally distributed.\n",
        "        * **Durbin-Watson:** This tests for autocorrelation (dependence) in the residuals. A value close to 2 is generally good.\n",
        "        * **Skew and Kurtosis:** These describe the shape of the residual distribution.\n",
        "\n",
        "4.  **Jarque-Bera (JB):**\n",
        "\n",
        "    * This is another test for the normality of the residuals.\n",
        "\n",
        "5.  **Cond. No.:**\n",
        "\n",
        "    * This is the condition number, which tests for multicollinearity (high correlation between predictors). A high value might indicate multicollinearity.\n",
        "\n",
        "**In the Context of Plant Height:**\n",
        "\n",
        "* This output essentially confirms the ANOVA results.\n",
        "    * The model as a whole is highly significant (F-statistic and p-value).\n",
        "    * The R-squared indicates a very good fit.\n",
        "    * The coefficients tell us that:\n",
        "        * Plants in Group A (the reference) had an average height of 12 cm.\n",
        "        * Plants in Group B were, on average, 8 cm taller than plants in Group A.\n",
        "        * Plants in Group C were, on average, 5 cm shorter than plants in Group A.\n",
        "    * All group differences are statistically significant.\n",
        "\n",
        "This regression model confirms that the type of fertilizer used significantly impacts plant height, with Group B resulting in the tallest plants, followed by Group A, and then Group C.\n",
        "\n",
        "**NOTES**:\n",
        "\n",
        "* T.True indicates how the categorical variable (in this case, \"group\") has been coded using dummy variables\n",
        "* Group A becomes our reference or comparison group\n",
        "* We don't need a group_A[T.True] because the intercept provides the information we need about group A, and the other groups are compared to group A."
      ],
      "metadata": {
        "id": "pEP6X-dRD-lF"
      }
    },
    {
      "cell_type": "markdown",
      "metadata": {
        "id": "2a28391a"
      },
      "source": [
        "## Simple Linear Regression"
      ]
    },
    {
      "cell_type": "markdown",
      "metadata": {
        "id": "ad012ad7"
      },
      "source": [
        "### $y = mx + b$\n",
        "\n",
        "* $m = \\frac{N * \\sum{(xy)} - \\sum{x}\\sum{y}}{N * \\sum{x^2} - (\\sum{x})^2}$\n",
        "* $b = \\frac{\\sum{y} - m * \\sum{x}}{N}$"
      ]
    },
    {
      "cell_type": "code",
      "execution_count": null,
      "metadata": {
        "id": "7b5f0d69"
      },
      "outputs": [],
      "source": [
        "# # https://www.mathsisfun.com/data/least-squares-regression.html\n",
        "# import numpy as np\n",
        "# import pandas as pd\n",
        "\n",
        "# x = np.array([1, 2, 3, 4, 5])\n",
        "# y = np.array([1, 3, 2, 3, 5])\n",
        "\n",
        "# def xy(r):\n",
        "#     return r.x * r.y\n",
        "\n",
        "# m_table = pd.DataFrame({'x': x, 'y': y})\n",
        "# m_table['x^2'] = m_table['x'].apply(lambda x: x**2)\n",
        "# m_table['xy'] = m_table.apply(xy, axis=1)\n",
        "# print(m_table.head())\n",
        "\n",
        "# N = len(x)\n",
        "# sums = list(m_table.sum())\n",
        "# print(sums)\n",
        "# m = (N * sums[3] - sums[0] * sums[1]) / (N * sums[2] - sums[0]**2)\n",
        "# print('m:', m)\n",
        "# b = (sums[1]-m*sums[0])/N\n",
        "# print('b:', b)"
      ]
    },
    {
      "cell_type": "markdown",
      "metadata": {
        "id": "7f4e815f"
      },
      "source": [
        "### Correlation vs Simple Linear Regression\n",
        "\n",
        "* A correlation analysis provides information on the strength and direction of the linear relationship between two variables, while a simple linear regression analysis estimates parameters in a linear equation that can be used to predict values of one variable based on the other.\n",
        "* If x and y have the same standard deviation then r equals slope\n",
        "\n",
        "### $y_i = \\alpha + \\beta x_i + \\epsilon_i$<br>$y = \\alpha + \\beta x$\n",
        "\n",
        "The parameters for linear regression are $\\alpha$ and $\\beta$ and $e$. The error term, $e$, represents the rest of $y$ that $X$ cannot explain. If we look at $y = f(X) + e$ and assume that the function of $e$ is iid, then the sum of $e$ will be zero and is usually left off of the equation.\n",
        "\n",
        "The sum of the residuals always equals zero (assuming that your line is actually the line of 'best fit...' The mean of residuals is also equal to zero, as the mean = the sum of the residuals / the number of items. The sum is zero, so 0/n will always equal zero.\n",
        "\n",
        "Stephanie Glen. \"Residual Values (Residuals) in Regression Analysis\" From StatisticsHowTo.com: Elementary Statistics for the rest of us! https://www.statisticshowto.com/residual/\n",
        "\n",
        "* $\\hat{\\alpha} = \\bar{y} - (\\hat{\\beta}\\bar{x})$\n",
        "* $\\hat{\\beta} = \\frac{\\sum^N_{i=1}(x_i - \\bar{x})(y_i - \\bar{y})}{\\sum^N_{i=1}(x_i - \\bar{x})^2}$\n",
        "* $ = \\frac{s_{xy}}{s^2_x}$\n",
        "* $ = r_{xy}\\frac{s_y}{s_x}$\n",
        "* $ r_{xy} = \\frac{cov(x,y)}{\\sigma_x\\sigma_y} = \\frac{\\frac{1}{N}\\sum(x-\\bar{x})(y-\\bar{y})}{\\sqrt\\frac{\\sum(x-\\bar{x})^2}{N}\\sqrt\\frac{\\sum(y-\\bar{y})^2}{N}}  = \\frac{\\sum(x-\\bar{x})(y-\\bar{y})}{\\sqrt{\\sum(x-\\bar{x})^2}\\sqrt{\\sum(y-\\bar{y})^2}}$\n",
        "\n",
        "where\n",
        "\n",
        "* $\\bar{x}$ and $\\bar{y}$ as the average of $x_i$ and $y_i$, respectively\n",
        "* $r_{xy}$ is the **sample correlation coefficient** between x and y\n",
        "* $s_x$ and $s_y$ is the **uncorrected sample standard deviations** of x and y\n",
        "* $s_{x}^2$ and $s_{x,y}$ is the **sample variance** and **sample covariance**, respectively\n",
        "\n",
        "**Sample Correlation Coefficient**: In statistics, correlation or dependence is any statistical relationship, whether causal or not, between two random variables or bivariate data. Although in the broadest sense, \"correlation\" may indicate any type of association, in statistics it normally refers to the degree to which a pair of variables are linearly related. The sample correlation coefficient can be used to estimate the population Pearson correlation\n",
        "\n",
        "https://en.wikipedia.org/wiki/Correlation#Sample_correlation_coefficient\n",
        "\n",
        "**Uncorrected Sample Standard Deviation**: In statistics, the standard deviation is a measure of the amount of variation or dispersion of a set of values. A low standard deviation indicates that the values tend to be close to the mean (also called the expected value) of the set, while a high standard deviation indicates that the values are spread out over a wider range. The formula for the population standard deviation (of a finite population) can be applied to the sample, using the size of the sample as the size of the population (though the actual population size from which the sample is drawn may be much larger). This estimator, denoted by sN, is known as the uncorrected sample standard deviation, or sometimes the standard deviation of the sample (considered as the entire population), and is defined as follows:\n",
        "\n",
        "$s_N = \\sqrt{\\frac{1}{N}\\sum{(x-\\bar{x})^2}}$\n",
        "\n",
        "https://en.wikipedia.org/wiki/Standard_deviation#Uncorrected_sample_standard_deviation\n",
        "\n",
        "### Residuals\n",
        "\n",
        "https://www.statology.org/residual-sum-of-squares-in-excel/\n",
        "\n",
        "### Bias\n",
        "\n",
        "According to Wikipedia (2022):\n",
        "\n",
        "In statistics, Bessel's correction is the use of n − 1 instead of n in the formula for the sample variance and sample standard deviation, where n is the number of observations in a sample. This method corrects the bias in the estimation of the population variance. It also partially corrects the bias in the estimation of the population standard deviation. However, the correction often increases the mean squared error in these estimations. This technique is named after Friedrich Bessel (para 1).\n",
        "\n",
        "Bessel's correction. (June 13, 2022). In *Wikipedia*. https://en.wikipedia.org/wiki/Bessel%27s_correction\n",
        "\n",
        "* What is bias? https://stats.libretexts.org/Bookshelves/Applied_Statistics/Book%3A_Answering_Questions_with_Data_-__Introductory_Statistics_for_Psychology_Students_(Crump)/04%3A_Probability_Sampling_and_Estimation/4.13%3A_Estimating_population_parameters\n",
        "* What are degrees of freedom? https://www.statisticshowto.com/probability-and-statistics/hypothesis-testing/degrees-of-freedom/\n",
        "\n",
        "### Biased\n",
        "\n",
        "**Standard Deviation of the Population**: $\\sigma = \\sqrt{\\frac{1}{N}\\sum(x-\\bar{x})^2}$\n",
        "\n",
        "**Uncorrected Sample Standard Deviation**: $sN = \\sqrt{\\frac{1}{N}\\sum(x-\\bar{x})^2}$\n",
        "\n",
        "### Unbiased\n",
        "\n",
        "**Standard Deviation of the Sample**: $s = \\sqrt{\\frac{1}{n-1}\\sum(x-\\bar{x})^2}$\n",
        "\n",
        "**SEE BESSEL'S CORRECTION**"
      ]
    },
    {
      "cell_type": "markdown",
      "metadata": {
        "id": "14a38ea7"
      },
      "source": [
        "### Line of Best Fit\n",
        "\n",
        "The following plots the line of best fit. We'll break it down using the formulas for $\\widehat{\\alpha }$ and $\\widehat{\\beta}$. The points are plotted along with the line of best fit. The red lines indicate how much error there is with the actual values (the green points) and the predicted values (the black points) that forms the line of best fit."
      ]
    },
    {
      "cell_type": "code",
      "execution_count": null,
      "metadata": {
        "id": "e1d64c98"
      },
      "outputs": [],
      "source": [
        "# # plot x, y coordinates\n",
        "# import matplotlib.pyplot as plt\n",
        "# import numpy as np\n",
        "\n",
        "# x = np.array([1, 2, 3, 4, 5])\n",
        "# y = np.array([1, 3, 2, 3, 5])\n",
        "\n",
        "# # create basic scatterplot\n",
        "# plt.plot(x, y, 'go',)\n",
        "\n",
        "# # obtain a and b of linear regression line\n",
        "# b, a = np.polyfit(x, y, 1)\n",
        "# print('a=', a.round(1), 'b=', b.round(1))\n",
        "\n",
        "# # predicted values\n",
        "# y_hat = [round(a + (b*x), 2) for x in x]\n",
        "# print(f'x values: {x}')\n",
        "# print(f'y values: {y}')\n",
        "# print(f'predicted values: {y_hat}')\n",
        "# plt.plot(x, y_hat, 'ko')\n",
        "\n",
        "# # add linear regression line to scatterplot\n",
        "# plt.plot(x, a+b*x, 'b')\n",
        "\n",
        "# # ax.vlines(x,y,y)\n",
        "# plt.vlines(x, y, a+b*x, 'r')\n",
        "\n",
        "# plt.show()"
      ]
    },
    {
      "cell_type": "markdown",
      "metadata": {
        "id": "94750343"
      },
      "source": [
        "Let's do some math and solve for $\\beta$ using the formula\n",
        "\n",
        "$\\widehat{\\beta} = \\frac{s_{x,y}}{s^2_x} = r_{xy}\\frac{s_y}{s_x} = \\frac{\\sum{(x - \\bar{x})(y - \\bar{y})}}{\\sum(x - \\bar{x})^2}$\n",
        "\n",
        "where:\n",
        "* $\\bar{x}$ and $\\bar{y}$ are the averages of x and y\n",
        "* $r_{xy}$ is the sample variance\n",
        "* $s_x$ and $s_y$ are the sample standard deviation (uncorrected)\n",
        "* $s_{x,y}$ and $s^2_x$ are the sample variance and sample covariance"
      ]
    },
    {
      "cell_type": "markdown",
      "source": [
        "# Practice 8"
      ],
      "metadata": {
        "id": "jFcn0ihiKnb7"
      }
    },
    {
      "cell_type": "code",
      "execution_count": null,
      "metadata": {
        "id": "bf5e92c2"
      },
      "outputs": [],
      "source": [
        "# follow along conding x and y"
      ]
    },
    {
      "cell_type": "markdown",
      "metadata": {
        "id": "0de7da0f"
      },
      "source": [
        "Recall the $\\beta$ formula according to Wikipedia\n",
        "\n",
        "$\\widehat{\\beta} = \\frac{\\sum{(x - \\bar{x})(y - \\bar{y})}}{\\sum(x - \\bar{x})^2}$\n",
        "\n",
        "So, solving for the numerator of $\\widehat{\\beta}$ we would use: $\\sum(x-\\bar{x})(y-\\bar{y})$\n",
        "\n",
        "Since the dataset is small we can do something like this: <br />\n",
        "((1 - 3) * (1 - 2.8)) +<br />\n",
        "((2 - 3) * (3 - 2.8)) +<br />\n",
        "((3 - 3) * (2 - 2.8)) +<br />\n",
        "((4 - 3) * (3 - 2.8)) +<br />\n",
        "((5 - 3) * (5 - 2.8)) = 8"
      ]
    },
    {
      "cell_type": "markdown",
      "source": [
        "# Practice 9"
      ],
      "metadata": {
        "id": "eJSaKhmRKx0-"
      }
    },
    {
      "cell_type": "code",
      "execution_count": null,
      "metadata": {
        "id": "800fdba6"
      },
      "outputs": [],
      "source": [
        "# follow along coding"
      ]
    },
    {
      "cell_type": "markdown",
      "metadata": {
        "id": "6395afd3"
      },
      "source": [
        "Recall the $\\beta$ formula according to Wikipedia\n",
        "\n",
        "$\\widehat{\\beta} = \\frac{\\sum{(x - \\bar{x})(y - \\bar{y})}}{\\sum(x - \\bar{x})^2}$\n",
        "\n",
        "So, solving for the denominator of $\\widehat{\\beta}$ we would use: $\\sum(x - \\bar{x})^2$"
      ]
    },
    {
      "cell_type": "code",
      "execution_count": null,
      "metadata": {
        "id": "c38a2037"
      },
      "outputs": [],
      "source": [
        "# follow along coding"
      ]
    },
    {
      "cell_type": "markdown",
      "metadata": {
        "id": "c8c68bb0"
      },
      "source": [
        "So, $\\beta$, or specifically $\\widehat{\\beta}$, is equal to the numerator divided by the denominator"
      ]
    },
    {
      "cell_type": "code",
      "execution_count": null,
      "metadata": {
        "id": "1a003ad9"
      },
      "outputs": [],
      "source": [
        "# follow along coding"
      ]
    },
    {
      "cell_type": "markdown",
      "metadata": {
        "id": "057dd937"
      },
      "source": [
        "To find $\\alpha$ we use the formula $\\widehat{\\alpha} = \\bar{y} - \\beta \\bar{x}$"
      ]
    },
    {
      "cell_type": "code",
      "execution_count": null,
      "metadata": {
        "id": "d5021be7"
      },
      "outputs": [],
      "source": [
        "# follow along coding"
      ]
    },
    {
      "cell_type": "markdown",
      "metadata": {
        "id": "b8a84f83"
      },
      "source": [
        "$y = a + \\beta X$\n",
        "\n",
        "Our linear regression equation is solved: <br />\n",
        "y = 0.4 + 0.8(X)"
      ]
    },
    {
      "cell_type": "markdown",
      "metadata": {
        "id": "c5658481"
      },
      "source": [
        "### Least Squares\n",
        "\n",
        "The method of least squares is a standard approach in regression analysis to approximate the solution of overdetermined systems (sets of equations in which there are more equations than unknowns) by minimizing the sum of the squares of the residuals (a residual being: the difference between an observed value, and the fitted value provided by a model) made in the results of each individual equation.\n",
        "\n",
        "https://en.wikipedia.org/wiki/Least_squares\n",
        "\n",
        "* You have data points (dots).\n",
        "* You want a line that fits them well.\n",
        "* \"Well\" means the line has the smallest possible total squared distance from the dots.\n",
        "\n",
        "### The Constant\n",
        "\n",
        "In linear regression you need that constants to have lines which are not constrained to pass through the origin. Think of linear model y=b1x1+b2x2+.... If all xi are 0, y must be 0, you need an additional parameter to pass that constraint\n",
        "\n",
        "https://datascience.stackexchange.com/questions/55598/why-we-add-a-constant-value-column-in-our-dataframe-sometimes\n",
        "\n",
        "... our regression slopes would be less useful (without the constant).\n",
        "\n",
        "1. Imagine the equation for a line: y=mx + b -> take the constant out and you have y=mx which means that the slope will have to account for a larger explanation than with the constant.\n",
        "2. think of the constant as the “baseline” of the data and the explanatory values (the beta slopes) as the things that can affect this mean. For example, ...suppose a particular leaf will average 2 inches long (constant), but with different weather conditions, the leaf will either grow (+ length) or grow (- length). Without the constant, all the data will point to the weather conditions having a tremendous weight on the regressions - mathematically showing y = weather conditions times slope.\n",
        "\n",
        "In a nut shell, it’s there to assist in providing an accurate view of the slope values.\n",
        "\n",
        "https://www.quora.com/In-regression-why-do-we-include-a-constant-term (Hamilton Goff)\n",
        "\n",
        "The constant term prevents this overall bias by forcing the residual mean to equal zero. Imagine that you can move the regression line up or down to the point where the residual mean equals zero. For example, if the regression produces residuals with a positive average, just move the line up until the mean equals zero.\n",
        "\n",
        "https://statisticsbyjim.com/regression/interpret-constant-y-intercept-regression/"
      ]
    },
    {
      "cell_type": "code",
      "execution_count": null,
      "metadata": {
        "id": "03333762"
      },
      "outputs": [],
      "source": [
        "# using scipy\n",
        "import scipy.stats as stats\n",
        "\n",
        "x = np.array([1, 2, 3, 4, 5])\n",
        "y = np.array([1, 3, 2, 3, 5])\n",
        "\n",
        "model = stats.linregress(x, y)\n",
        "\n",
        "plt.plot(x, y, 'go', label='original data')\n",
        "plt.plot(x, model.intercept + model.slope*x, 'b', label='fitted line')\n",
        "plt.legend()\n",
        "plt.show()\n",
        "\n",
        "print(f'y = {model.intercept:.2} + {model.slope:.2}(X)')"
      ]
    },
    {
      "cell_type": "code",
      "execution_count": null,
      "metadata": {
        "id": "5159157e"
      },
      "outputs": [],
      "source": [
        "# use numpy linear algebra least squares\n",
        "import numpy as np\n",
        "\n",
        "x = np.array([1, 2, 3, 4, 5])\n",
        "y = np.array([1, 3, 2, 3, 5])\n",
        "\n",
        "x = np.vstack([np.ones(len(x)), x]).T\n",
        "a, b = np.linalg.lstsq(x, y, rcond=None)[0]\n",
        "print(f'y = {a:0.1f} + {b:0.1f}X')"
      ]
    },
    {
      "cell_type": "markdown",
      "metadata": {
        "id": "f8c0ce75"
      },
      "source": [
        "### Linear Regression with Scikit-learn\n",
        "\n",
        "Scikit-learn (formerly scikits.learn and also known as sklearn) is a free software machine learning library for the Python programming language. It features various classification, regression and clustering algorithms including support vector machines, random forests, gradient boosting, k-means and DBSCAN, and is designed to interoperate with the Python numerical and scientific libraries NumPy and SciPy.\n",
        "\n",
        "https://en.wikipedia.org/wiki/Scikit-learn\n",
        "\n",
        "As mentioned, Scikit-learn provides us with a linear regression model that we can use as demonstrated in the next cell."
      ]
    },
    {
      "cell_type": "code",
      "execution_count": null,
      "metadata": {
        "id": "c1ba706b",
        "outputId": "9fe45b14-e4bc-4b33-9397-1827a288d552"
      },
      "outputs": [
        {
          "name": "stdout",
          "output_type": "stream",
          "text": [
            "y = 0.4 + 0.8(X)\n"
          ]
        }
      ],
      "source": [
        "# using sklearn\n",
        "from sklearn.linear_model import LinearRegression\n",
        "\n",
        "x = np.array([1, 2, 3, 4, 5])\n",
        "y = np.array([1, 3, 2, 3, 5])\n",
        "x = x.reshape(-1, 1)\n",
        "\n",
        "model = LinearRegression()\n",
        "model.fit(x, y)\n",
        "print(f'y = {model.intercept_:.2} + {model.coef_[0]:.2}(X)')"
      ]
    },
    {
      "cell_type": "markdown",
      "metadata": {
        "id": "21aa8502"
      },
      "source": [
        "### Matrix Multiplication (x = x.reshape(-1, 1))\n",
        "\n",
        "In mathematics, particularly in linear algebra, matrix multiplication is a binary operation that produces a matrix from two matrices. For matrix multiplication, the number of columns in the first matrix must be equal to the number of rows in the second matrix. The resulting matrix, known as the matrix product, has the number of rows of the first and the number of columns of the second matrix. The product of matrices A and B is denoted as AB.\n",
        "\n",
        "https://en.wikipedia.org/wiki/Matrix_multiplication\n",
        "\n",
        "m = rows; n = columns; (m, n) can be multiplied with another (m, n) if n from first matrix is equal to m for second matrix"
      ]
    },
    {
      "cell_type": "markdown",
      "source": [
        "# Practice 10"
      ],
      "metadata": {
        "id": "rePNZIdEL3sl"
      }
    },
    {
      "cell_type": "code",
      "execution_count": null,
      "metadata": {
        "id": "1ba53c59"
      },
      "outputs": [],
      "source": [
        "# follow along coding"
      ]
    },
    {
      "cell_type": "markdown",
      "metadata": {
        "id": "cbfc5a0f"
      },
      "source": [
        "To be able to multiply two matrices, the number of columns in the first matrix must equal the number of rows in the second matrix (array)."
      ]
    },
    {
      "cell_type": "code",
      "execution_count": null,
      "metadata": {
        "id": "5a5e27cc"
      },
      "outputs": [],
      "source": [
        "# Reshape x so that the columns in x equals the number of rows in y\n"
      ]
    },
    {
      "cell_type": "markdown",
      "metadata": {
        "id": "747b9656"
      },
      "source": [
        "### Linear Algebra\n",
        "\n",
        "* $y_i = \\theta^TX_i + \\epsilon_i$\n",
        "* $h_\\theta(x) = \\theta_0 + \\theta_1x_1$\n",
        "* See Gradient Descent"
      ]
    },
    {
      "cell_type": "code",
      "execution_count": null,
      "metadata": {
        "id": "9b3b3b57"
      },
      "outputs": [],
      "source": [
        "# np.linalg.inv(x.T.dot(x)).dot(x.T).dot(y)); print(x)"
      ]
    },
    {
      "cell_type": "markdown",
      "metadata": {
        "id": "2bdf60d9"
      },
      "source": [
        "### Why Matrix Multiplication?\n",
        "\n",
        "```python\n",
        "x = np.append(arr = np.ones((5, 1)).astype(int), values = x, axis = 1)\n",
        "print(x)\n",
        "print('weights = ', np.linalg.inv(x.T.dot(x)).dot(x.T).dot(y))\n",
        "```\n",
        "\n",
        "Linear algebra is often used in data science / machine learning which includes matrix multiplication. To stay within the scope of this course we will simply say that because of the large number of features that X can potentially represent, it is more efficient to use matrix multiplication.\n",
        "\n",
        "Because matrix multiplication is such a central operation in many numerical algorithms, much work has been invested in making matrix multiplication algorithms efficient. Applications of matrix multiplication in computational problems are found in many fields including scientific computing and pattern recognition and in seemingly unrelated problems such as counting the paths through a graph.\n",
        "\n",
        "https://en.wikipedia.org/wiki/Matrix_multiplication_algorithm\n",
        "\n",
        "Please review the following links to learn more:\n",
        "\n",
        "* https://en.wikipedia.org/wiki/Linear_algebra\n",
        "* https://online.stat.psu.edu/stat462/node/132/\n",
        "* https://www.mathsisfun.com/algebra/matrix-multiplying.html"
      ]
    },
    {
      "cell_type": "markdown",
      "metadata": {
        "id": "e628248c"
      },
      "source": [
        "## Multiple Linear Regression\n",
        "\n",
        "https://www.investopedia.com/terms/m/mlr.asp\n",
        "\n",
        "$y = \\beta_0 + \\beta_1 x_1 + \\beta_2 x_2 ... + \\beta_n x_n + \\epsilon$\n",
        "\n",
        "where:\n",
        "* y = dependent variable\n",
        "* x = explanatory  variable\n",
        "* $\\beta_0$ = intercept\n",
        "* $\\beta_n$ = slope coefficients\n",
        "* $\\epsilon$ = the model's error term\n",
        "\n",
        "### Confounding Variables\n",
        "\n",
        "* https://sphweb.bumc.bu.edu/otlt/mph-modules/bs/bs704_multivariable/bs704_multivariable7.html\n",
        "\n",
        "### Closed Form\n",
        "\n",
        "* http://faculty.cas.usf.edu/mbrannick/regression/Part3/Reg2.html\n",
        "\n",
        "### Assumptions of Linear Regression\n",
        "\n",
        "* Linearity: There is a linear relationship between the independent variable and the dependent variable\n",
        "* No Multicollinearity: Features should not be highly correlated\n",
        "* Normality: The residuals are normally distributed\n",
        "* Homoscedasticity: The residuals have an even distribution around the mean and across the spread\n",
        "* Independence: There is no correlation between residuals; there is no trend, no pattern, no structure in residuals\n",
        "* Time series may violate independence\n",
        "* Elements that are randomly assigned to features may violate independence\n",
        "* All relevant explanatory variables must be used\n",
        "* Features cannot be correlated with error term\n",
        "\n",
        "Become familiar with the plots provided in the following links:\n",
        "* https://www.analyticsvidhya.com/blog/2016/07/deeper-regression-analysis-assumptions-plots-solutions/\n",
        "* https://www.jmp.com/en_us/statistics-knowledge-portal/what-is-regression/simple-linear-regression-assumptions.html"
      ]
    },
    {
      "cell_type": "markdown",
      "source": [
        "## Coefficient Interpretation\n",
        "\n",
        "* See notebook in DSChunks with same name"
      ],
      "metadata": {
        "id": "lJFyyKb1GUh1"
      }
    },
    {
      "cell_type": "markdown",
      "source": [
        "## Linear vs Non Linear Relationships\n",
        "\n",
        "**Linear Regression**\n",
        "\n",
        "**Definition:**\n",
        "* Linear regression assumes a linear relationship between the independent and dependent variables. This relationship can be represented by a straight line.\n",
        "* A linear relationship means that as the independent variable changes, the dependent variable changes in a consistent, proportional way. This change can be represented by a straight line on a graph.\n",
        "* For example, if we assume a linear relationship between hours studied and exam scores, we're saying that for every additional hour studied, the exam score tends to increase by a certain fixed amount.\n",
        "* The simple linear regression equation:\n",
        "    \n",
        "$y = \\beta_0 + \\beta_1x + \\epsilon$, where:\n",
        "* $y$ is the dependent variable.\n",
        "* $x$ is the independent variable.\n",
        "* $\\beta_0$ is the intercept.\n",
        "* $\\beta_1$ is the slope.\n",
        "* $\\epsilon$ is the error term.\n",
        "\n",
        "\n",
        "\n"
      ],
      "metadata": {
        "id": "1M3gUn_oGv2X"
      }
    },
    {
      "cell_type": "code",
      "source": [
        "# import numpy as np\n",
        "# import matplotlib.pyplot as plt\n",
        "# from sklearn.linear_model import LinearRegression\n",
        "\n",
        "# # Sample data\n",
        "# hours = np.array([1, 2, 3, 4, 5]).reshape(-1, 1)  # Reshape for sklearn\n",
        "# scores = np.array([20, 35, 50, 65, 80])\n",
        "\n",
        "# # Create and fit the model\n",
        "# model = LinearRegression()\n",
        "# model.fit(hours, scores)\n",
        "\n",
        "# # Predict scores\n",
        "# predictions = model.predict(hours)\n",
        "\n",
        "# # Plot the data and the regression line\n",
        "# plt.scatter(hours, scores)\n",
        "# plt.plot(hours, predictions, color='red')\n",
        "# plt.xlabel(\"Hours Studied\")\n",
        "# plt.ylabel(\"Exam Score\")\n",
        "# plt.title(\"Linear Regression: Hours vs. Scores\")\n",
        "# plt.show()\n",
        "\n",
        "# # Print the coefficients\n",
        "# print(\"Intercept:\", model.intercept_)\n",
        "# print(\"Slope:\", model.coef_[0])"
      ],
      "metadata": {
        "colab": {
          "base_uri": "https://localhost:8080/",
          "height": 508
        },
        "id": "ScX_iEpmHYSm",
        "outputId": "89e71546-60c3-4287-8dbc-674b0f08c33f"
      },
      "execution_count": null,
      "outputs": [
        {
          "output_type": "display_data",
          "data": {
            "text/plain": [
              "<Figure size 640x480 with 1 Axes>"
            ],
            "image/png": "[encoded data removed]"
          },
          "metadata": {}
        },
        {
          "output_type": "stream",
          "name": "stdout",
          "text": [
            "Intercept: 4.999999999999993\n",
            "Slope: 15.000000000000002\n"
          ]
        }
      ]
    },
    {
      "cell_type": "markdown",
      "source": [
        "**Nonlinear Regression**\n",
        "\n",
        "**Definition:**\n",
        "* Nonlinear regression models relationships that cannot be represented by a straight line. These relationships can take various forms, like polynomial, exponential, or logarithmic.\n",
        "* Nonlinear regression is used when the relationship between the independent and dependent variables exhibits a curve.\n",
        "\n",
        "**Practical Example:**\n",
        "* \"Consider the relationship between the time elapsed after administering a drug and its concentration in the bloodstream. This relationship might not be linear.\"\n",
        "* **Python Code (Type along):**"
      ],
      "metadata": {
        "id": "uvI1sA0SHUZs"
      }
    },
    {
      "cell_type": "code",
      "source": [
        "# import numpy as np\n",
        "# import matplotlib.pyplot as plt\n",
        "# from sklearn.preprocessing import PolynomialFeatures\n",
        "# from sklearn.linear_model import LinearRegression\n",
        "\n",
        "# # Sample nonlinear data\n",
        "# time = np.array([1, 2, 3, 4, 5, 6, 7, 8, 9, 10]).reshape(-1, 1)\n",
        "# concentration = np.array([2, 5, 10, 17, 26, 37, 50, 65, 82, 101])\n",
        "# # Drug Concentration = b0 + b1 * Time + b2 * Time^2\n",
        "\n",
        "# # Transform the data to polynomial features (e.g., degree 2)\n",
        "# poly = PolynomialFeatures(degree=2)\n",
        "# time_poly = poly.fit_transform(time)\n",
        "\n",
        "# # Create and fit the model\n",
        "# model = LinearRegression()\n",
        "# model.fit(time_poly, concentration)\n",
        "\n",
        "# # Predict concentrations\n",
        "# predictions = model.predict(time_poly)\n",
        "\n",
        "# # Plot the data and the regression curve\n",
        "# plt.scatter(time, concentration)\n",
        "# plt.plot(time, predictions, color='green')\n",
        "# plt.xlabel(\"Time Elapsed\")\n",
        "# plt.ylabel(\"Drug Concentration\")\n",
        "# plt.title(\"Nonlinear Regression: Time vs. Concentration (Polynomial)\")\n",
        "# plt.show()\n",
        "\n",
        "# #Print the coefficients.\n",
        "# print(\"Drug Concentration\")\n",
        "# print(\"Coefficients (b0 for intercept, b1 for time, b2 for time_squared or concentration over time):\\n\", model.coef_)"
      ],
      "metadata": {
        "colab": {
          "base_uri": "https://localhost:8080/",
          "height": 490
        },
        "id": "7HDMQnidIf76",
        "outputId": "fdae5600-977b-457a-f68f-05ec32d87fdb"
      },
      "execution_count": null,
      "outputs": [
        {
          "output_type": "display_data",
          "data": {
            "text/plain": [
              "<Figure size 640x480 with 1 Axes>"
            ],
            "image/png": "[encoded data removed]"
          },
          "metadata": {}
        },
        {
          "output_type": "stream",
          "name": "stdout",
          "text": [
            "coefficients: [ 0.00000000e+00 -6.32827124e-15  1.00000000e+00]\n"
          ]
        }
      ]
    },
    {
      "cell_type": "markdown",
      "source": [
        "This code tells a story about modeling a drug's concentration in the body over time. However, the relationship isn't a simple straight line; it's curved, suggesting a nonlinear relationship. Here's a narrative breakdown:\n",
        "\n",
        "**The Setup:**\n",
        "\n",
        "1.  **The Experiment:** Imagine a scientist is tracking the concentration of a drug in a patient's bloodstream over 10 time intervals. They record the time elapsed (`time`) and the corresponding drug concentration (`concentration`).\n",
        "2.  **The Data:** The scientist collects data points and stores them in NumPy arrays. They notice that as time increases, the drug concentration increases, but not at a constant rate – it seems to curve upwards.\n",
        "\n",
        "**The Challenge:**\n",
        "\n",
        "3.  **Nonlinear Relationship:** The scientist realizes that a simple linear model (a straight line) won't accurately represent the drug's behavior. They suspect a polynomial relationship, possibly a quadratic curve (a parabola).\n",
        "\n",
        "**The Solution:**\n",
        "\n",
        "4.  **Polynomial Transformation:** To handle the curve, the scientist uses `PolynomialFeatures` from scikit-learn. This tool transforms the `time` data by adding polynomial terms. In this case, it adds a squared term (`time^2`), effectively creating new features that can capture the curvature.\n",
        "5.  **Linear Regression Magic:** Even though the original relationship is nonlinear, the scientist cleverly uses `LinearRegression`. By transforming the input features into polynomial features, they can still use a linear model to fit the curved pattern. This is because the model is linear in terms of the *transformed* features.\n",
        "6.  **Model Fitting:** The `model.fit()` function \"learns\" the best coefficients (weights) for the linear combination of the polynomial features that best fit the observed `concentration` data.\n",
        "7.  **Prediction:** The `model.predict()` function uses the learned model to predict the drug concentration for each time point, producing a smooth, curved line.\n",
        "\n",
        "**The Visualization and Insight:**\n",
        "\n",
        "8.  **Plotting the Results:** The scientist plots the original data points (scatter plot) and the predicted concentrations (curved line). This visualization clearly shows how the polynomial model fits the nonlinear data.\n",
        "9.  **Understanding the Model:** The `model.coef_` represents the coefficients of the fitted polynomial. The code prints these coefficients, allowing the scientist to see the specific equation that describes the drug's concentration over time. This equation (Drug Concentration = b0 + b1 \\* Time + b2 \\* Time^2) can then be used to predict the concentration at other times, or to better understand the drug's pharmacokinetics.\n",
        "\n",
        "**In essence, the code demonstrates how to model a nonlinear relationship by transforming the input features into polynomial features and then using a linear regression model. It's a powerful technique for fitting curves to data.**\n"
      ],
      "metadata": {
        "id": "4fKfp4uzNfRQ"
      }
    }
  ]
}