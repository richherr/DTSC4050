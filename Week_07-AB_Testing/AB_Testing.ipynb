{
  "cells": [
    {
      "cell_type": "markdown",
      "metadata": {
        "id": "view-in-github",
        "colab_type": "text"
      },
      "source": [
        "<a href=\"https://colab.research.google.com/github/gitmystuff/DTSC4050/blob/main/Week_07-AB_Testing/AB_Testing.ipynb\" target=\"_parent\"><img src=\"https://colab.research.google.com/assets/colab-badge.svg\" alt=\"Open In Colab\"/></a>"
      ]
    },
    {
      "cell_type": "markdown",
      "id": "0ace9043",
      "metadata": {
        "id": "0ace9043"
      },
      "source": [
        "# AB Testing\n",
        "\n",
        "Free AB Testing Course: https://www.udacity.com/course/ab-testing--ud257\n",
        "\n",
        "What is an AB Test?\n",
        "\n",
        "* A/B testing, also known as split testing, refers to a randomized experimentation process wherein two or more versions of a variable (web page, page element, etc.) are shown to different segments of website visitors at the same time to determine which version leaves the maximum impact and drives business metrics.\n",
        "* Randomized Control Trials\n",
        "\n",
        "* Randomized Control Trials\n",
        "\n",
        "Essentially, randomized controlled trials (RCTs) and A/B testing share a core methodology: they are both forms of controlled experiments that use randomization to determine cause-and-effect. Here's a breakdown:\n",
        "\n",
        "**Randomized Controlled Trials (RCTs)**\n",
        "\n",
        "* **Core Concept:**\n",
        "    * RCTs are considered the \"gold standard\" for determining the effectiveness of an intervention.\n",
        "    * Participants are randomly assigned to either a \"control\" group (which receives a standard treatment or a placebo) or an \"experimental\" group (which receives the new intervention).\n",
        "    * Randomization minimizes bias by ensuring that both groups are as similar as possible at the start of the experiment.\n",
        "    * Outcomes are then compared between the groups to determine if the intervention had a significant effect.\n",
        "* **Common Applications:**\n",
        "    * Medical research (testing new drugs or treatments)\n",
        "    * Social science research (evaluating the impact of social programs)\n",
        "    * Any field where it is important to establish a causal relationship.\n",
        "\n",
        "**A/B Testing**\n",
        "\n",
        "* **Core Concept:**\n",
        "    * A/B testing is a specific type of RCT commonly used in online environments.\n",
        "    * It involves comparing two versions of a webpage, app, or other digital product (version A and version B) to see which performs better.\n",
        "    * Users are randomly assigned to see either version A or version B.\n",
        "    * Metrics such as click-through rates, conversion rates, or user engagement are then compared to determine which version is more effective.\n",
        "* **Common Applications:**\n",
        "    * Website optimization\n",
        "    * Marketing campaigns\n",
        "    * App development\n",
        "    * User experience (UX) design\n",
        "\n",
        "**Similarities**\n",
        "\n",
        "* **Randomization:** Both RCTs and A/B testing rely on random assignment to minimize bias and ensure that groups are comparable.\n",
        "* **Control Groups:** Both involve a control group (or version A) that serves as a baseline for comparison.\n",
        "* **Causal Inference:** Both aim to establish a causal relationship between the intervention (or version B) and the observed outcomes.\n",
        "* **Statistical Analysis:** Both use statistical methods to analyze the data and determine if the observed differences are statistically significant.\n",
        "\n",
        "**Key Takeaways**\n",
        "\n",
        "* A/B testing is essentially a specific, practical application of the broader concept of randomized controlled trials, particularly in the digital realm.\n",
        "* They both provide a reliable way to get evidence based results.\n",
        "* The goal of both is to remove bias from testing, and provide accurate data to make informed decisions.\n",
        "\n",
        "https://vwo.com/ab-testing/"
      ]
    },
    {
      "cell_type": "markdown",
      "source": [
        "## Key Terms\n",
        "\n",
        "### A/B Cheat Sheet:\n",
        "\n",
        "https://towardsdatascience.com/25-a-b-testing-concepts-interview-cheat-sheet-c998a501f911\n",
        "\n",
        "Descriptive / Summary Statistics\n",
        "\n",
        "* Population\n",
        "* Sample\n",
        "* Sample Mean\n",
        "* Sample Variability\n",
        "\n",
        "Experiment Design\n",
        "\n",
        "* Null Hypothesis\n",
        "* Key Metrics\n",
        "* Lifetime Value (LTV)\n",
        "* Objectives and Key Results (OKR)\n",
        "* Overall Evaluation Criteria (OEC)\n",
        "* Guardrail Metrics\n",
        "* Randomization Unit\n",
        "* Interference\n",
        "\n",
        "A/B Test Statistics\n",
        "\n",
        "* Confidence Level\n",
        "* Margin of Error\n",
        "* Confidence Interval\n",
        "* Type I Error\n",
        "* Type II Error\n",
        "* p-Value\n",
        "* Statistical Significance\n",
        "* Statistical Power\n",
        "* Minimum Detectable Effect\n",
        "* Practical Significance\n",
        "* Sample Size and Duration\n",
        "\n",
        "Threats to Experiment Validity\n",
        "\n",
        "* Novelty Effect\n",
        "* Primary Effect\n",
        "* Seasonality\n",
        "* Day of the Week\n",
        "\n",
        "### Dictionary of Terms\n",
        "\n",
        "https://marketingexperiments.com/a-b-testing/marketing-and-online-testing-dictionary"
      ],
      "metadata": {
        "id": "zsmBQgI_1OZl"
      },
      "id": "zsmBQgI_1OZl"
    },
    {
      "cell_type": "markdown",
      "source": [
        "### Descriptive / Summary Statistics\n",
        "\n",
        "* **Descriptive/Summary Statistics:**\n",
        "    * These are values that summarize and describe the main features of a dataset. They provide a concise overview of the data without making inferences about a larger population.\n",
        "    * Descriptive statistics include:\n",
        "        * Measures of central tendency (e.g., mean, median, mode).\n",
        "        * Measures of variability or dispersion (e.g., range, variance, standard deviation).\n",
        "        * Measures of frequency distribution (e.g., counts, percentages).\n",
        "    * Essentially, they help you understand the \"shape\" of your data.\n",
        "\n",
        "* **Population:**\n",
        "    * In statistics, a population is the entire group of individuals, objects, or events that are of interest in a study.\n",
        "    * It's the complete set of all possible observations.\n",
        "    * For example, if you're studying the heights of all high school students in a country, then all high school students in that country constitute the population.\n",
        "\n",
        "* **Sample:**\n",
        "    * A sample is a subset of a population selected for study.\n",
        "    * Because it's often impractical or impossible to study an entire population, researchers collect data from a sample and use it to make inferences about the population.\n",
        "    * A good sample is representative of the population, meaning it reflects the characteristics of the population as a whole.\n",
        "\n",
        "* **Sample Mean:**\n",
        "    * The sample mean is the average of the values in a sample.\n",
        "    * It's calculated by summing all the values in the sample and dividing by the number of values.\n",
        "    * It's used as an estimate of the population mean.\n",
        "    * It is often represented by the symbol x̄.\n",
        "\n",
        "* **Sample Variability:**\n",
        "    * Sample variability refers to how spread out or dispersed the data points are in a sample.\n",
        "    * It measures the extent to which the values in the sample differ from each other and from the sample mean.\n",
        "    * Common measures of sample variability include:\n",
        "        * **Variance:** The average of the squared differences from the mean.\n",
        "        * **Standard deviation:** The square root of the variance, which provides a measure of variability in the same units as the data.\n",
        "        * **Range:** The difference between the largest and smallest values.\n",
        "    * Sample variability is important because it indicates how representative the sample mean is of the data as a whole.\n"
      ],
      "metadata": {
        "id": "v41eo37L1Siq"
      },
      "id": "v41eo37L1Siq"
    },
    {
      "cell_type": "markdown",
      "source": [
        "### Experimental Design\n",
        "\n",
        "Okay, let's break down these important terms related to experimentation and measurement:\n",
        "\n",
        "* **Experiment Design:**\n",
        "    * This is the process of planning a study to test a hypothesis. It involves determining how to manipulate variables, assign participants, and collect data to minimize bias and ensure valid results.\n",
        "    * Key aspects include:\n",
        "        * Defining the independent and dependent variables.\n",
        "        * Establishing control groups.\n",
        "        * Implementing randomization.\n",
        "        * Choosing appropriate statistical methods.\n",
        "\n",
        "* **Null Hypothesis:**\n",
        "    * In hypothesis testing, the null hypothesis is a statement that there is no significant difference or effect. It's the default assumption that researchers aim to disprove.\n",
        "\n",
        "* **Key Metrics:**\n",
        "    * These are the specific, measurable values that are tracked to assess the performance or impact of an experiment or process. They are vital for determining whether objectives are being met.\n",
        "\n",
        "* **Lifetime Value (LTV):**\n",
        "    * LTV is a prediction of the total value a customer will bring to a business over the entire duration of their relationship. It's a crucial metric for understanding customer profitability.\n",
        "\n",
        "* **Objectives and Key Results (OKR):**\n",
        "    * OKR is a framework for setting and tracking goals.\n",
        "    * Objectives are qualitative, aspirational goals.\n",
        "    * Key Results are quantitative, measurable outcomes that indicate progress toward the objective.\n",
        "\n",
        "* **Overall Evaluation Criteria (OEC):**\n",
        "    * OEC refers to the primary metrics that will be used to judge the overall success of an experiment or project. It's the overarching measure of whether the desired outcome was achieved.\n",
        "\n",
        "* **Guardrail Metrics:**\n",
        "    * These are metrics that are monitored to ensure that an experiment or change does not have unintended negative consequences. They act as \"safety checks\" to prevent harmful side effects.\n",
        "\n",
        "* **Randomization Unit:**\n",
        "    * This is the entity (e.g., individual, user, group) that is randomly assigned to different experimental conditions. It's the level at which randomization occurs.\n",
        "\n",
        "* **Interference:**\n",
        "    * In experimental contexts, interference occurs when the behavior of one experimental unit affects the behavior of another. This can compromise the validity of the results, as it violates the assumption of independent observations."
      ],
      "metadata": {
        "id": "QSqn9xPB15aa"
      },
      "id": "QSqn9xPB15aa"
    },
    {
      "cell_type": "markdown",
      "source": [
        "### A/B Test Statistics\n",
        "\n",
        "* **Confidence Level:**\n",
        "    * This represents the probability that the confidence interval contains the true population parameter. Commonly expressed as a percentage (e.g., 95%). A 95% confidence level means that if you repeated the experiment many times, 95% of the confidence intervals would contain the true value.\n",
        "* **Margin of Error:**\n",
        "    * This is the range of values above and below the sample statistic within which the true population parameter is likely to fall. It quantifies the uncertainty in your estimate.\n",
        "* **Confidence Interval:**\n",
        "    * This is the range of values, calculated from sample data, that is likely to contain the true population parameter with a certain level of confidence.\n",
        "* **Type I Error (False Positive):**\n",
        "    * This occurs when you reject the null hypothesis when it is actually true. In A/B testing, it means concluding that there is a significant difference between variations when there isn't.\n",
        "* **Type II Error (False Negative):**\n",
        "    * This occurs when you fail to reject the null hypothesis when it is actually false. In A/B testing, it means missing a real difference between variations.\n",
        "* **p-Value:**\n",
        "    * This is the probability of obtaining the observed results (or more extreme) if the null hypothesis were true. A small p-value indicates strong evidence against the null hypothesis.\n",
        "* **Statistical Significance:**\n",
        "    * This refers to the likelihood that an observed effect is not due to chance. It is typically determined by comparing the p-value to a predetermined significance level (alpha).\n",
        "* **Statistical Power:**\n",
        "    * This is the probability of correctly rejecting the null hypothesis when it is false. It represents the test's ability to detect a real effect.\n",
        "* **Minimum Detectable Effect (MDE):**\n",
        "    * This is the smallest effect size that you want to be able to detect with your A/B test. It helps determine the required sample size.\n",
        "* **Practical Significance:**\n",
        "    * While statistical significance indicates whether an effect is likely real, practical significance addresses whether the effect is meaningful in a real-world context. A statistically significant result may not be practically significant if the effect size is too small.\n",
        "* **Sample Size and Duration:**\n",
        "    * Sample size is the number of participants or observations in a study. Duration refers to the length of time the study is conducted. Both are critical for achieving statistically reliable results. Larger sample sizes and longer durations generally increase statistical power.\n",
        "\n",
        "Understanding these concepts is crucial for designing and interpreting A/B tests effectively.\n"
      ],
      "metadata": {
        "id": "OhQKcJAS2IYv"
      },
      "id": "OhQKcJAS2IYv"
    },
    {
      "cell_type": "markdown",
      "source": [
        "### Threats to Validity\n",
        "\n",
        "When conducting experiments, it's crucial to be aware of potential threats to their validity. These factors can introduce bias and distort the results, making it difficult to draw accurate conclusions. Here's a breakdown of the terms you provided:\n",
        "\n",
        "* **Novelty Effect:**\n",
        "    * This occurs when participants in an experiment react differently simply because something is new or unfamiliar. The introduction of a new feature, interface, or product can lead to a temporary surge in engagement or positive behavior, which may not be sustained over time.\n",
        "    * It's important to allow sufficient time for the novelty effect to wear off before drawing conclusions about the long-term impact of a change.\n",
        "* **Primary Effect:**\n",
        "    * This is a cognitive bias where people tend to remember the first items in a series better than subsequent items. In an experiment, if participants are exposed to multiple treatments or variations, their responses to the initial ones may be disproportionately influential.\n",
        "    * This is a form of an order effect.\n",
        "* **Seasonality:**\n",
        "    * This refers to predictable patterns in data that occur at specific times of the year. For example, retail sales tend to increase during the holiday season, and website traffic may fluctuate depending on school schedules.\n",
        "    * Seasonality can confound experimental results if the study is conducted during a period of unusually high or low activity. It's important to account for seasonality when analyzing data and drawing conclusions.\n",
        "* **Day of the Week:**\n",
        "    * This is a specific form of seasonality, but focused on the weekly cycle. User behavior and activity levels can vary significantly depending on the day of the week. For example, website traffic may be higher on weekdays than on weekends.\n",
        "    * Similar to seasonality, the day of the week can introduce bias into experimental results if the study is not designed to account for these variations.\n"
      ],
      "metadata": {
        "id": "i4pj2WDA2j6G"
      },
      "id": "i4pj2WDA2j6G"
    },
    {
      "cell_type": "markdown",
      "source": [
        "### Example\n",
        "\n",
        "**Scenario:**\n",
        "\n",
        "Imagine you have a website with a \"Sign Up\" button. You want to test whether changing the button's color from blue (version A) to green (version B) will increase the sign-up rate."
      ],
      "metadata": {
        "id": "uiWHqXIY3Ri3"
      },
      "id": "uiWHqXIY3Ri3"
    },
    {
      "cell_type": "code",
      "source": [
        "import numpy as np\n",
        "import scipy.stats as stats\n",
        "\n",
        "# Simulated data (replace with actual data)\n",
        "np.random.seed(42)  # For reproducibility\n",
        "\n",
        "# Number of users in each group\n",
        "n_A = 1000\n",
        "n_B = 1000\n",
        "\n",
        "# Simulated sign-up rates (replace with actual data)\n",
        "conversion_rate_A = 0.10  # 10% for blue button\n",
        "conversion_rate_B = 0.12  # 12% for green button\n",
        "\n",
        "# Generate simulated sign-up data (1 = sign-up, 0 = no sign-up)\n",
        "signups_A = np.random.choice([1, 0], size=n_A, p=[conversion_rate_A, 1 - conversion_rate_A])\n",
        "signups_B = np.random.choice([1, 0], size=n_B, p=[conversion_rate_B, 1 - conversion_rate_B])\n",
        "\n",
        "# Calculate conversion rates from the simulated data.\n",
        "actual_conversion_rate_A = np.mean(signups_A)\n",
        "actual_conversion_rate_B = np.mean(signups_B)\n",
        "\n",
        "print(f\"Version A (Blue): Conversion Rate = {actual_conversion_rate_A:.4f}\")\n",
        "print(f\"Version B (Green): Conversion Rate = {actual_conversion_rate_B:.4f}\")\n",
        "\n",
        "# Perform a two-sample z-test (or a chi-squared test for proportions, which is more common)\n",
        "#Here we will use the z-test.\n",
        "z_stat, p_value = stats.ttest_ind(signups_A, signups_B) #Using ttest because we are using binary data.\n",
        "\n",
        "print(f\"Z-statistic: {z_stat:.4f}\")\n",
        "print(f\"P-value: {p_value:.4f}\")\n",
        "\n",
        "# Determine statistical significance\n",
        "alpha = 0.05  # Significance level\n",
        "\n",
        "if p_value < alpha:\n",
        "    print(\"Result: Statistically significant. Reject the null hypothesis.\")\n",
        "    if actual_conversion_rate_B > actual_conversion_rate_A:\n",
        "        print(\"Version B (Green) performed better.\")\n",
        "    else:\n",
        "        print(\"Version A (Blue) performed better.\")\n",
        "else:\n",
        "    print(\"Result: Not statistically significant. Fail to reject the null hypothesis.\")"
      ],
      "metadata": {
        "id": "fuuFadIw3NeS"
      },
      "id": "fuuFadIw3NeS",
      "execution_count": null,
      "outputs": []
    },
    {
      "cell_type": "markdown",
      "source": [
        "**Explanation:**\n",
        "\n",
        "1.  **Simulated Data:**\n",
        "    * We use `numpy` to generate simulated sign-up data for both versions. In a real scenario, you'd replace this with actual data from your website.\n",
        "    * We generate binary data, a 1 means a conversion, and a 0 means no conversion.\n",
        "2.  **Conversion Rates:**\n",
        "    * We calculate the actual conversion rates from the simulated data.\n",
        "3.  **Z-test (or T-test):**\n",
        "    * We use `scipy.stats.ttest_ind` to perform a two-sample t-test. This test determines whether the difference in conversion rates between the two versions is statistically significant.\n",
        "    * A z-test or a chi-squared test are also valid options for this scenario.\n",
        "4.  **P-value and Significance:**\n",
        "    * We obtain the p-value from the test.\n",
        "    * We compare the p-value to a significance level (alpha, typically 0.05).\n",
        "    * If the p-value is less than alpha, we reject the null hypothesis, indicating that there is a statistically significant difference.\n",
        "5.  **Conclusion:**\n",
        "    * Based on the p-value and the observed conversion rates, we determine whether the green button (version B) performed better than the blue button (version A).\n",
        "\n",
        "**Important Notes:**\n",
        "\n",
        "* This is a simplified example. In real-world A/B testing, you'd need to consider factors like sample size, duration, and potential biases.\n",
        "* For binary conversion data, a Chi-Squared test is typically used. The T-test, while valid, assumes normality that is not present in binary data.\n",
        "* Always ensure you have a statistically significant and *practically* significant result before making changes.\n",
        "* Real A/B test platforms provide much more robust tools for data analysis and reporting.\n"
      ],
      "metadata": {
        "id": "yCh-ZJ5X3Hum"
      },
      "id": "yCh-ZJ5X3Hum"
    },
    {
      "cell_type": "markdown",
      "source": [
        "### Python Coding Practice"
      ],
      "metadata": {
        "id": "33ZOXvJXHHW9"
      },
      "id": "33ZOXvJXHHW9"
    },
    {
      "cell_type": "code",
      "source": [
        "# follow along"
      ],
      "metadata": {
        "id": "EdJNb6dJ95MN"
      },
      "id": "EdJNb6dJ95MN",
      "execution_count": null,
      "outputs": []
    },
    {
      "cell_type": "code",
      "source": [
        "import scipy.stats\n",
        "\n",
        "conversions_a = 50\n",
        "nonconversions_a = 950\n",
        "conversions_b = 60\n",
        "nonconversions_b = 940\n",
        "\n",
        "chi2, p, dof, expected = scipy.stats.chi2_contingency([[conversions_a, nonconversions_a], [conversions_b, nonconversions_b]])\n",
        "print(chi2, p, dof, expected)"
      ],
      "metadata": {
        "colab": {
          "base_uri": "https://localhost:8080/"
        },
        "id": "CJJnP4-QC_5v",
        "outputId": "bf385be5-b4e5-47c4-b4c1-d7922ee86446"
      },
      "id": "CJJnP4-QC_5v",
      "execution_count": null,
      "outputs": [
        {
          "output_type": "stream",
          "name": "stdout",
          "text": [
            "0.7792207792207791 0.37737955917024435 1 [[ 55. 945.]\n",
            " [ 55. 945.]]\n"
          ]
        }
      ]
    },
    {
      "cell_type": "markdown",
      "source": [
        "This code snippet represents the results of an A/B test where you're tracking conversions (e.g., sign-ups, purchases, clicks). Here's what each variable means:\n",
        "\n",
        "* **`conversions_a`:** The number of users in group A who completed the desired action (converted). In this case, 50 users in group A converted.\n",
        "* **`nonconversions_a`:** The number of users in group A who did *not* complete the desired action. Here, 950 users in group A did not convert.\n",
        "* **`conversions_b`:** The number of users in group B who converted. In this case, 60 users in group B converted.\n",
        "* **`nonconversions_b`:** The number of users in group B who did not convert. Here, 940 users in group B did not convert.\n",
        "\n",
        "**Why this format?**\n",
        "\n",
        "This format is often used to prepare data for a chi-squared test, which is a common statistical test used to analyze A/B testing results with binary outcomes (conversion or no conversion).\n",
        "\n",
        "**How it relates to a chi-squared test:**\n",
        "\n",
        "The chi-squared test compares the observed frequencies (the actual conversions and non-conversions in each group) to the expected frequencies (what you'd expect if there were no difference between the groups). This helps determine if there's a statistically significant difference in conversion rates between groups A and B.\n",
        "\n",
        "**Example:**\n",
        "\n",
        "Let's say you're testing two versions of a website landing page (A and B) to see which one leads to more sign-ups. You might collect data that looks like this:\n",
        "\n",
        "* **Group A:** 50 sign-ups, 950 no sign-ups\n",
        "* **Group B:** 60 sign-ups, 940 no sign-ups\n",
        "\n",
        "You would then use these values in a chi-squared test to determine if the difference in sign-up rates between the two landing pages is statistically significant."
      ],
      "metadata": {
        "id": "lIOq357pDZcr"
      },
      "id": "lIOq357pDZcr"
    },
    {
      "cell_type": "code",
      "source": [
        "print(chi2, p, dof, expected)"
      ],
      "metadata": {
        "id": "cNwwulHjECa6"
      },
      "id": "cNwwulHjECa6",
      "execution_count": null,
      "outputs": []
    },
    {
      "cell_type": "markdown",
      "source": [
        "* **`0.7792207792207791` (chi2):** This is the chi-squared test statistic. It measures the difference between the observed frequencies (actual conversions and non-conversions in each group) and the expected frequencies (what you'd expect if there were no difference between the groups). A higher chi-squared statistic indicates a larger difference between observed and expected values.\n",
        "* **`0.37737955917024435` (p):** This is the p-value. It represents the probability of observing the obtained results (or more extreme results) if there were no actual difference between the groups (i.e., if the null hypothesis were true). In this case, the p-value is quite high, indicating that the observed difference could easily have occurred due to chance.\n",
        "* **`1` (dof):** This is the degrees of freedom, which is related to the number of categories being compared (in this case, likely 2 - conversion and non-conversion).\n",
        "* **`[[ 55. 945.] [ 55. 945.]]` (expected):** This is the expected frequency table. It shows the expected number of conversions and non-conversions in each group if there were no difference between them. In this case, the expected values are almost identical for both groups, further supporting the idea that there's no significant difference.\n",
        "\n",
        "**Interpretation:**\n",
        "\n",
        "Based on these values, particularly the high p-value, you would **fail to reject the null hypothesis**. This means there is **not enough evidence** to conclude that there is a statistically significant difference between the two groups in the A/B test. The observed difference in conversions is likely due to random chance.\n",
        "\n",
        "**In simpler terms:** It seems like whatever you were testing in your A/B test (e.g., different website designs, ad copy, button colors) didn't have a significant impact on conversions. The results you saw could easily have happened randomly, and there's no strong reason to believe that one version is truly better than the other."
      ],
      "metadata": {
        "id": "0UNPPedsD-bH"
      },
      "id": "0UNPPedsD-bH"
    },
    {
      "cell_type": "code",
      "source": [
        "import numpy as np\n",
        "import matplotlib.pyplot as plt\n",
        "from scipy.stats import chi2\n",
        "\n",
        "x = np.linspace(0, 9, 100)\n",
        "plt.plot(x, chi2(1).pdf(x), label=f'df = 1')\n",
        "plt.plot(x, chi2(2).pdf(x), label=f'df = 2')\n",
        "plt.plot(x, chi2(3).pdf(x), label=f'df = 3')\n",
        "plt.plot(x, chi2(4).pdf(x), label=f'df = 4')\n",
        "plt.plot(x, chi2(6).pdf(x), label=f'df = 6')\n",
        "plt.plot(x, chi2(9).pdf(x), label=f'df = 9')\n",
        "plt.ylim(0, 1)\n",
        "\n",
        "plt.legend();"
      ],
      "metadata": {
        "colab": {
          "base_uri": "https://localhost:8080/",
          "height": 435
        },
        "id": "z3pcTNxyFUwI",
        "outputId": "377c7119-a862-4912-d64d-13ecd25fbf92"
      },
      "id": "z3pcTNxyFUwI",
      "execution_count": null,
      "outputs": [
        {
          "output_type": "display_data",
          "data": {
            "text/plain": [
              "<Figure size 640x480 with 1 Axes>"
            ],
            "image/png": "[encoded data removed]"
          },
          "metadata": {}
        }
      ]
    },
    {
      "cell_type": "markdown",
      "source": [
        "The degrees of freedom (df) is the only parameter needed to define the shape of a chi-squared distribution because it encapsulates the essential information about the variability and constraints within the data being analyzed.\n",
        "\n",
        "Here's a breakdown of why df is so crucial:\n",
        "\n",
        "1. **Sum of Squared Variables:** The chi-squared distribution arises from the sum of squared standard normal random variables. Each squared standard normal variable contributes one degree of freedom.\n",
        "\n",
        "2. **Constraints and Independence:** The degrees of freedom represent the number of independent pieces of information available in the data. When you have constraints or dependencies within the data, the degrees of freedom are reduced.\n",
        "\n",
        "3. **Shape of the Distribution:** The degrees of freedom directly determine the shape of the chi-squared distribution. Here's how:\n",
        "    * **Lower df:** The distribution is highly skewed to the right, with a long tail.\n",
        "    * **Higher df:** The distribution becomes more symmetrical and approaches a normal distribution.\n",
        "\n",
        "4. **Variability:** The degrees of freedom also reflect the variability of the distribution. Lower df means higher variability (and heavier tails).\n",
        "\n",
        "**In simpler terms:**\n",
        "\n",
        "Think of degrees of freedom as the amount of \"wiggle room\" or freedom you have in your data. If you have few degrees of freedom, your data is more constrained, and the distribution will be more skewed. As you gain more degrees of freedom, the constraints loosen, and the distribution becomes more like a normal curve.\n",
        "\n",
        "**Key Takeaway:**\n",
        "\n",
        "The degrees of freedom essentially \"tell\" the chi-squared distribution how much variability and constraint to exhibit. This single parameter is sufficient to define its shape and behavior.\n"
      ],
      "metadata": {
        "id": "7oRq5z96FuqV"
      },
      "id": "7oRq5z96FuqV"
    },
    {
      "cell_type": "code",
      "source": [
        "import numpy as np\n",
        "import matplotlib.pyplot as plt\n",
        "import scipy.stats as stats\n",
        "\n",
        "# Parameters\n",
        "df = 1  # Degrees of freedom\n",
        "alpha = 0.05  # Significance level\n",
        "chi2_stat = 0.779  # Example test statistic (from your previous output)\n",
        "\n",
        "# Generate x-values for the distribution\n",
        "x = np.linspace(0, 10, 500)\n",
        "\n",
        "# Calculate the chi-squared distribution PDF\n",
        "pdf = stats.chi2.pdf(x, df)\n",
        "\n",
        "# Calculate the critical value\n",
        "critical_value = stats.chi2.ppf(1 - alpha, df)\n",
        "\n",
        "# Plot the chi-squared distribution\n",
        "plt.plot(x, pdf, label=f\"Chi-Square Distribution (df={df})\")\n",
        "\n",
        "# Shade the rejection region\n",
        "plt.fill_between(x[x > critical_value], pdf[x > critical_value], color='red', alpha=0.5, label=\"Rejection Region\")\n",
        "\n",
        "# Mark the critical value\n",
        "plt.axvline(x=critical_value, color='black', linestyle='--', label=f\"Critical Value ({critical_value:.2f})\")\n",
        "\n",
        "# Mark the test statistic\n",
        "plt.axvline(x=chi2_stat, color='green', linestyle='--', label=f\"Test Statistic ({chi2_stat:.2f})\")\n",
        "\n",
        "# Add labels and title\n",
        "plt.xlabel(\"Chi-Squared Statistic\")\n",
        "plt.ylabel(\"Probability Density\")\n",
        "plt.title(\"Chi-Squared Distribution with Critical Value and Test Statistic\")\n",
        "plt.legend()\n",
        "plt.show()"
      ],
      "metadata": {
        "colab": {
          "base_uri": "https://localhost:8080/",
          "height": 472
        },
        "id": "09YSnwb2ErPI",
        "outputId": "da6f18c2-f115-4280-f61d-bd80682ea4e9"
      },
      "id": "09YSnwb2ErPI",
      "execution_count": null,
      "outputs": [
        {
          "output_type": "display_data",
          "data": {
            "text/plain": [
              "<Figure size 640x480 with 1 Axes>"
            ],
            "image/png": "[encoded data removed]"
          },
          "metadata": {}
        }
      ]
    },
    {
      "cell_type": "markdown",
      "source": [
        "In the chi-squared test for A/B testing with conversions and non-conversions, the degrees of freedom (df) should be **(number of rows - 1) * (number of columns - 1)**.\n",
        "\n",
        "Since we have:\n",
        "\n",
        "* 2 rows (Group A and Group B)\n",
        "* 2 columns (Conversions and Non-conversions)\n",
        "\n",
        "The df should be (2-1) * (2-1) = 1.\n",
        "\n",
        "**Why 1 df in this case?**\n",
        "\n",
        "In this specific scenario, with a 2x2 contingency table, the constraint is that the total number of observations in each group is fixed. Once you know the number of conversions in one group, the number of non-conversions is automatically determined. This reduces the independent pieces of information by one, leading to 1 degree of freedom.\n",
        "\n",
        "**Key takeaway:**\n",
        "\n",
        "While the chi-squared distribution itself can have various degrees of freedom, in the context of a 2x2 A/B test with conversions and non-conversions, the df will always be 1 due to the inherent constraints in the data."
      ],
      "metadata": {
        "id": "pwly_YQVGFBP"
      },
      "id": "pwly_YQVGFBP"
    },
    {
      "cell_type": "markdown",
      "source": [
        "## Hypothesis Testing\n",
        "\n",
        "**Hypothesis Testing**\n",
        "\n",
        "Hypothesis testing is a statistical method used to determine if there is enough evidence in a sample of data to infer that a certain condition is true for the entire population.\n",
        "\n",
        "**Null and Alternative Hypotheses**\n",
        "\n",
        "* **Null Hypothesis (H0):** A statement of no effect or no difference. It's what you're trying to disprove.\n",
        "* **Alternative Hypothesis (Ha or H1):** A statement that contradicts the null hypothesis, proposing the effect or difference you're interested in.\n",
        "\n",
        "**Types of Tests**\n",
        "\n",
        "* **One-Tailed Test:** Used when you have a directional hypothesis (e.g., you expect one group to be greater than or less than the other).\n",
        "    * Symbols:  ≤ (less than or equal to) or ≥ (greater than or equal to) for the null hypothesis, and < (less than) or > (greater than) for the alternative hypothesis.\n",
        "* **Two-Tailed Test:** Used when you're looking for a difference in either direction (greater than or less than).\n",
        "    * Symbols: = (equals) for the null hypothesis, and ≠ (not equals) for the alternative hypothesis.\n",
        "\n",
        "**Examples**\n",
        "\n",
        "* **One-Tailed:**\n",
        "    * H0: The average weight of apples in Group A is greater than or equal to the average weight of apples in Group B (x̄1 ≥ x̄2).\n",
        "    * Ha: The average weight of apples in Group A is less than the average weight of apples in Group B (x̄1 < x̄2).\n",
        "* **Two-Tailed:**\n",
        "    * H0: The average height of men is equal to the average height of women (x̄1 = x̄2).\n",
        "    * Ha: The average height of men is not equal to the average height of women (x̄1 ≠ x̄2).\n",
        "\n",
        "**Important Notes**\n",
        "\n",
        "* **Decision:** In hypothesis testing, you either *reject* the null hypothesis (if there's enough evidence against it) or *fail to reject* it (if there's not enough evidence). You never \"accept\" the null hypothesis.\n",
        "* **Business vs. Academia:** In business contexts, like A/B testing, the focus is often on finding practical, meaningful differences that drive success. Academic research may explore more subtle differences that might not have immediate business implications.\n",
        "\n",
        "**Key takeaway:** Hypothesis testing helps you use data to make informed decisions about whether your observed results are likely due to chance or a real effect."
      ],
      "metadata": {
        "id": "cVLv0-UVCrT9"
      },
      "id": "cVLv0-UVCrT9"
    },
    {
      "cell_type": "markdown",
      "source": [
        "### Hypothesis Testing Notebook"
      ],
      "metadata": {
        "id": "1_TpFkb8JRnY"
      },
      "id": "1_TpFkb8JRnY"
    },
    {
      "cell_type": "markdown",
      "id": "48242722",
      "metadata": {
        "id": "48242722"
      },
      "source": [
        "### Test of Means\n",
        "\n",
        "The test of means is a specific type of hypothesis test. It's used when you want to compare the means of two or more groups to see if there's a statistically significant difference between them.\n",
        "\n",
        "Here's a breakdown of how they connect:\n",
        "\n",
        "**Hypothesis Testing Framework:**\n",
        "\n",
        "* **Formulate Hypotheses:**\n",
        "    * Null hypothesis (H0): States that there's no difference between the means of the groups.\n",
        "    * Alternative hypothesis (Ha): States that there is a difference between the means.\n",
        "* **Collect Data:** Gather data from samples representing each group.\n",
        "* **Choose a Test:** Select an appropriate test of means based on the nature of your data and research question (e.g., t-test, ANOVA).\n",
        "* **Calculate Test Statistic:** Compute the test statistic, which measures the difference between the sample means relative to the variability within the groups.\n",
        "* **Determine P-value:** Calculate the probability of observing the obtained results (or more extreme results) if the null hypothesis were true.\n",
        "* **Make a Decision:**\n",
        "    * If the p-value is less than your significance level (alpha), reject the null hypothesis and conclude that there is a statistically significant difference between the means.\n",
        "    * If the p-value is greater than or equal to alpha, fail to reject the null hypothesis, indicating that there's not enough evidence to support a difference.\n",
        "\n",
        "**Types of Tests of Means:**\n",
        "\n",
        "* **t-test:** Used to compare the means of two groups.\n",
        "    * Independent samples t-test: For comparing means of two independent groups.\n",
        "    * Paired samples t-test: For comparing means of two related groups (e.g., before-and-after measurements).\n",
        "* **ANOVA (Analysis of Variance):** Used to compare the means of three or more groups.\n",
        "\n",
        "**Key Points:**\n",
        "\n",
        "* Tests of means are a subset of hypothesis tests, specifically designed for comparing means.\n",
        "* The choice of which test of means to use depends on factors like the number of groups being compared, the nature of the data, and the assumptions of the test.\n",
        "* Hypothesis testing provides the overall framework for conducting tests of means, guiding the decision-making process based on the p-value and significance level.\n",
        "\n",
        "In essence, tests of means are tools within the broader hypothesis testing framework, providing specific methods for comparing means and drawing conclusions about differences between groups.\n",
        "\n",
        "Many, if not most experiments are designed to compare means. The experiment may involve only one sample mean that is to be compared to a specific value. Or the experiment could be testing differences among many different experimental conditions, and the experimenter could be interested in comparing each mean with each of the other means.\n",
        "\n",
        "https://onlinestatbook.com/2/tests_of_means/testing_means.html\n",
        "\n",
        "### Assumptions\n",
        "\n",
        "* Groups are normally distributed (no significant outliers)\n",
        "* Groups are independent\n",
        "* Equal variance between groups\n",
        "* Rule of thumb: equal variances if the ratio is less than 4 (larger / smaller)\n",
        "* Scipy.ttest_ind equal_var: if True, perform a standard independent 2 sample t-test that assumes equal population variances. If False, perform Welch’s t-test, which does not assume equal population variances. This is True by default.\n",
        "* Scipy.ttest_ind alternative: two-sided, less, greater\n",
        "\n",
        "The loc and scale parameters let you adjust the location and scale of a distribution. For example, to model IQ data, you'd build iq = scipy.stats.norm(loc=100, scale=15) because IQs are constructed so as to have a mean of 100 and a standard deviation of 15. Why don't we just call them mean and sd? It helps to have a more generalized concept because not every distribution has a mean.\n",
        "\n",
        "https://stats.stackexchange.com/questions/560281/what-is-the-meaning-of-loc-and-scale-for-the-distributions-in-scipy-stats"
      ]
    },
    {
      "cell_type": "code",
      "source": [
        "import random\n",
        "import seaborn as sns\n",
        "import matplotlib.pyplot as plt\n",
        "import scipy.stats as stats\n",
        "\n",
        "# Generate two groups with similar conversion rates\n",
        "group_a, group_b = weighted_groups(1000, 0.50, 0.52)  # Very close conversion rates\n",
        "\n",
        "# Perform t-test\n",
        "t_stat, p_value = stats.ttest_ind(group_a, group_b)\n",
        "print(f\"T-statistic: {t_stat}, P-value: {p_value}\")\n",
        "\n",
        "# Plot KDEs\n",
        "def plot_kde(group_a, group_b, p_value):\n",
        "  sns.kdeplot(group_a, label=\"Group A\", fill=True)\n",
        "  sns.kdeplot(group_b, label=\"Group B\", fill=True)\n",
        "  plt.xlabel(\"Conversion (1) or No Conversion (0)\")\n",
        "  plt.ylabel(\"Density\")\n",
        "  if p_value < 0.05:\n",
        "      plt.title(\"KDE of Two Groups (Statistically Different)\")\n",
        "  else:\n",
        "      plt.title(\"KDE of Two Groups (Not Significantly Different)\")\n",
        "\n",
        "plot_kde(group_a, group_b, p_value)\n",
        "plt.legend()\n",
        "plt.show()"
      ],
      "metadata": {
        "colab": {
          "base_uri": "https://localhost:8080/",
          "height": 490
        },
        "id": "pbxv2DuY-KD7",
        "outputId": "27a123e7-4f7d-4554-d88f-ed567356f978"
      },
      "id": "pbxv2DuY-KD7",
      "execution_count": null,
      "outputs": [
        {
          "output_type": "stream",
          "name": "stdout",
          "text": [
            "T-statistic: -0.2815375831546883, P-value: 0.7785921241344349\n"
          ]
        },
        {
          "output_type": "display_data",
          "data": {
            "text/plain": [
              "<Figure size 640x480 with 1 Axes>"
            ],
            "image/png": "[encoded data removed]"
          },
          "metadata": {}
        }
      ]
    },
    {
      "cell_type": "code",
      "source": [
        "# Generate two groups with similar conversion rates\n",
        "group_a, group_b = weighted_groups(1000, 0.5, 0.7)\n",
        "\n",
        "# Perform t-test\n",
        "t_stat, p_value = stats.ttest_ind(group_a, group_b)\n",
        "print(f\"T-statistic: {t_stat}, P-value: {p_value}\")\n",
        "\n",
        "# Plot KDEs\n",
        "plot_kde(group_a, group_b, p_value)\n",
        "plt.legend()\n",
        "plt.show()"
      ],
      "metadata": {
        "colab": {
          "base_uri": "https://localhost:8080/",
          "height": 490
        },
        "id": "wNuzlZPK-yLL",
        "outputId": "8b851668-8902-4a67-afd7-50a7c18a04c9"
      },
      "id": "wNuzlZPK-yLL",
      "execution_count": null,
      "outputs": [
        {
          "output_type": "stream",
          "name": "stdout",
          "text": [
            "T-statistic: -3.2288678305813203, P-value: 0.0014549089872183277\n"
          ]
        },
        {
          "output_type": "display_data",
          "data": {
            "text/plain": [
              "<Figure size 640x480 with 1 Axes>"
            ],
            "image/png": "[encoded data removed]"
          },
          "metadata": {}
        }
      ]
    },
    {
      "cell_type": "markdown",
      "id": "fcfc11f4",
      "metadata": {
        "id": "fcfc11f4"
      },
      "source": [
        "### Margin Error\n",
        "\n",
        "In a normal distribution with a desired 95% confidence level, the margin of error is calculated as:\n",
        "\n",
        "**Margin of Error = Z * (σ / √n)**\n",
        "\n",
        "Where:\n",
        "\n",
        "* **Z** is the critical value for a 95% confidence level. For a normal distribution, this is approximately **1.96**.  (This value comes from the standard normal distribution table or can be calculated using statistical software).\n",
        "* **σ** is the population standard deviation. If you don't know the population standard deviation, you can estimate it with the sample standard deviation (s).\n",
        "* **n** is the sample size.\n",
        "\n",
        "**Explanation:**\n",
        "\n",
        "* The margin of error tells you how much your sample estimate (like the sample mean) is likely to differ from the true population parameter (the population mean).\n",
        "* The Z value (1.96 for 95% confidence) reflects the number of standard deviations you need to go from the mean to capture the desired percentage of the distribution.\n",
        "* The standard error (σ / √n) measures the variability of the sample mean.\n",
        "\n",
        "**Example:**\n",
        "\n",
        "Let's say you want to estimate the average height of adults in a city with 95% confidence. You take a sample of 100 adults and find the sample mean height is 5'8\" with a standard deviation of 4 inches.\n",
        "\n",
        "* Z = 1.96\n",
        "* σ (estimated by s) = 4 inches\n",
        "* n = 100\n",
        "\n",
        "Margin of Error = 1.96 * (4 / √100) = 0.784 inches\n",
        "\n",
        "This means you can be 95% confident that the true average height of adults in the city is within 0.784 inches of your sample mean (5'8\").\n",
        "\n",
        "Standard error: The standard error measures the variability or spread of the sample mean. It tells you how much you can expect the sample mean to vary from sample to sample.\n",
        "\n",
        "**Important Note:** This formula assumes a normal distribution. If your data is not normally distributed, you may need to use a different critical value or a different method altogether.\n",
        "\n",
        "$\\bar{x} \\pm margin error$\n",
        "\n",
        "where the margin of error is a statistic expressing the amount of random sampling error in the results of a survey. The larger the margin of error, the less confidence one should have that a poll result would reflect the result of a census of the entire population.\n",
        "\n",
        "https://en.wikipedia.org/wiki/Margin_of_error"
      ]
    },
    {
      "cell_type": "markdown",
      "id": "c0722134",
      "metadata": {
        "id": "c0722134"
      },
      "source": [
        "### Confidence Intervals\n",
        "\n",
        "Confidence intervals are used to express how likely $\\bar{x}$ falls within a range of values. If the hypothesized value falls in the tail outside of the one-directional area of interest, we reject the null hypothesis. If our hypothesized value falls outside of the two-tailed interval, we reject the null hypothesis.\n",
        "\n",
        "In frequentist statistics, a confidence interval (CI) is a range of estimates for an unknown parameter. A confidence interval is computed at a designated confidence level. The 95% level is most common, but other levels (such as 90% or 99%) are sometimes used. The confidence level represents the long-run proportion of correspondingly computed intervals that end up containing the true value of the parameter. For example, out of all confidence intervals computed at the 95% level, 95% of them should contain the parameter's true value.\n",
        "\n",
        "https://en.wikipedia.org/wiki/Confidence_interval"
      ]
    },
    {
      "cell_type": "markdown",
      "id": "70bb5714",
      "metadata": {
        "id": "70bb5714"
      },
      "source": [
        "**Calculating Confidence Intervals for Proportions**\n",
        "\n",
        "**1. Estimate the Proportion (phat)**\n",
        "\n",
        "* `phat = x / n` where:\n",
        "    * x is the number of successes (e.g., users who clicked)\n",
        "    * n is the total number of trials (e.g., number of users)\n",
        "\n",
        "**2. Check for Normal Approximation**\n",
        "\n",
        "* If `N * phat > 5` and `N * (1 - phat) > 5`, you can use the normal distribution to approximate the binomial distribution.\n",
        "\n",
        "**3. Calculate the Margin of Error**\n",
        "\n",
        "* `Margin of Error = z * SE` where:\n",
        "    * z is the critical value from the standard normal distribution (e.g., 1.96 for 95% confidence)\n",
        "    * SE (Standard Error) = `sqrt(phat * (1 - phat) / n)`\n",
        "\n",
        "**4. Construct the Confidence Interval**\n",
        "\n",
        "* `Confidence Interval = phat ± Margin of Error`\n",
        "\n",
        "**Key Points**\n",
        "\n",
        "* **Factors Affecting Confidence Interval Width:**\n",
        "    * **Distance of phat from 0.5:** The closer phat is to 0.5, the wider the interval (more uncertainty).\n",
        "    * **Sample Size (n):** Larger sample sizes lead to narrower intervals (more precision).\n",
        "* **Z-Score:** The z-score corresponds to the desired confidence level. For a 95% confidence interval, the z-score is approximately 1.96. This means that 95% of the time, the true population proportion will fall within 1.96 standard errors of the sample proportion.\n",
        "* **Hypothesis Testing:** Confidence intervals are often used in hypothesis testing. If the confidence interval for the difference between two proportions (e.g., treatment and control groups) does not include 0, you can reject the null hypothesis that there is no difference.\n",
        "\n",
        "This summary provides a clear and concise guide to calculating and interpreting confidence intervals for proportions, which is essential for analyzing A/B testing data and making informed decisions."
      ]
    },
    {
      "cell_type": "markdown",
      "id": "67a4fbc4",
      "metadata": {
        "id": "67a4fbc4"
      },
      "source": [
        "### One Sided"
      ]
    },
    {
      "cell_type": "code",
      "execution_count": null,
      "id": "fb1d876b",
      "metadata": {
        "id": "fb1d876b",
        "outputId": "2e4c9c05-f209-4d72-c08a-483f5564242a"
      },
      "outputs": [
        {
          "data": {
            "image/png": "[encoded data removed]",
            "text/plain": [
              "<Figure size 640x480 with 1 Axes>"
            ]
          },
          "metadata": {},
          "output_type": "display_data"
        }
      ],
      "source": [
        "import numpy as np\n",
        "from scipy import stats\n",
        "import matplotlib.pyplot as plt\n",
        "\n",
        "x = np.arange(-3, 3, 0.001)\n",
        "\n",
        "pdf = stats.norm.pdf(x,loc=0,scale=1)\n",
        "plt.plot(x, pdf)\n",
        "\n",
        "z = 1.645 # 95% CI\n",
        "uci = z\n",
        "\n",
        "plt.fill_between(x, pdf, where=(x < uci), alpha=0.5)\n",
        "plt.text(uci, 0, uci, ha='center', fontsize=20)\n",
        "plt.text(-0.4, .2, f'95%', fontsize=20)\n",
        "plt.text(-1.1, .15, f'fail to reject', fontsize=20)\n",
        "plt.grid(True)"
      ]
    },
    {
      "cell_type": "markdown",
      "id": "8e2677f6",
      "metadata": {
        "id": "8e2677f6"
      },
      "source": [
        "Note: A null hypothesis is either true or false. Unfortunately, we do not know which is the case, and we almost never will. It is important to realize that there is no probability that the null hypothesis is true or that it is false, because there is no element of chance.\n",
        "\n",
        "http://strata.uga.edu/8370/lecturenotes/errors.html#:~:text=A%20null%20hypothesis%20is%20either,is%20no%20element%20of%20chance."
      ]
    },
    {
      "cell_type": "markdown",
      "id": "32620997",
      "metadata": {
        "id": "32620997"
      },
      "source": [
        "### Two Sided"
      ]
    },
    {
      "cell_type": "code",
      "execution_count": null,
      "id": "1e0c531e",
      "metadata": {
        "id": "1e0c531e",
        "outputId": "e7d780e9-7bfe-4072-94b7-ba3522e29e53"
      },
      "outputs": [
        {
          "data": {
            "image/png": "[encoded data removed]",
            "text/plain": [
              "<Figure size 640x480 with 1 Axes>"
            ]
          },
          "metadata": {},
          "output_type": "display_data"
        }
      ],
      "source": [
        "import numpy as np\n",
        "from scipy import stats\n",
        "import matplotlib.pyplot as plt\n",
        "\n",
        "x = np.arange(-3, 3, 0.001)\n",
        "\n",
        "pdf = stats.norm.pdf(x,loc=0,scale=1)\n",
        "plt.plot(x, pdf)\n",
        "\n",
        "z = 1.96 # 95% CI\n",
        "lci = -z\n",
        "uci = z\n",
        "\n",
        "plt.fill_between(x, pdf, where=(lci < x) & (x < uci), alpha=0.5)\n",
        "plt.text(lci, 0, lci, ha='center', fontsize=20)\n",
        "plt.text(uci, 0, uci, ha='center', fontsize=20)\n",
        "plt.text(-0.4, .2, f'95%', fontsize=20)\n",
        "plt.grid(True)"
      ]
    },
    {
      "cell_type": "markdown",
      "id": "90f9a38e",
      "metadata": {
        "id": "90f9a38e"
      },
      "source": [
        "### Alpha (Significance Levels)\n",
        "\n",
        "The significance level or alpha level is the probability of making the wrong decision when the null hypothesis is true. Alpha levels (sometimes just called “significance levels”) are used in hypothesis tests. Usually, these tests are run with an alpha level of .05 (5%), but other levels commonly used are .01 and .10.\n",
        "\n",
        "https://www.statisticshowto.com/probability-and-statistics/statistics-definitions/what-is-an-alpha-level/\n",
        "\n",
        "Stephanie Glen. \"Alpha Level (Significance Level): What is it?\" From StatisticsHowTo.com: Elementary Statistics for the rest of us! https://www.statisticshowto.com/probability-and-statistics/statistics-definitions/what-is-an-alpha-level/"
      ]
    },
    {
      "cell_type": "markdown",
      "id": "def212ba",
      "metadata": {
        "id": "def212ba"
      },
      "source": [
        "### One Sided"
      ]
    },
    {
      "cell_type": "code",
      "execution_count": null,
      "id": "43d59884",
      "metadata": {
        "id": "43d59884",
        "outputId": "7638b9c5-4bd3-401a-e0d5-a601a18c2bd3"
      },
      "outputs": [
        {
          "data": {
            "image/png": "[encoded data removed]",
            "text/plain": [
              "<Figure size 640x480 with 1 Axes>"
            ]
          },
          "metadata": {},
          "output_type": "display_data"
        }
      ],
      "source": [
        "import numpy as np\n",
        "from scipy import stats\n",
        "import matplotlib.pyplot as plt\n",
        "\n",
        "x = np.arange(-3, 3, 0.001)\n",
        "\n",
        "pdf = stats.norm.pdf(x,loc=0,scale=1)\n",
        "plt.plot(x, pdf)\n",
        "\n",
        "z = 1.645 # 95% CI\n",
        "uci = z\n",
        "\n",
        "plt.fill_between(x, pdf, where=(x > uci), alpha=0.5)\n",
        "plt.text(uci, 0, uci, ha='center', fontsize=20)\n",
        "plt.text(uci, .05, f'5%', fontsize=20)\n",
        "plt.grid(True)"
      ]
    },
    {
      "cell_type": "markdown",
      "source": [
        "### Region of Rejection\n",
        "\n",
        "The region of rejection, also known as the critical region, is a crucial concept in hypothesis testing. It's the range of values for the test statistic that would lead you to reject the null hypothesis.\n",
        "\n",
        "Here's a breakdown:\n",
        "\n",
        "1. **Hypothesis Testing:**\n",
        "   - You start with a null hypothesis (H0), which is a statement of no effect or no difference.\n",
        "   - You also have an alternative hypothesis (Ha), which contradicts the null hypothesis.\n",
        "   - The goal of hypothesis testing is to determine if there's enough evidence to reject the null hypothesis in favor of the alternative hypothesis.\n",
        "\n",
        "2. **Test Statistic:**\n",
        "   - You calculate a test statistic from your sample data. This statistic measures how far your sample data deviates from what you'd expect if the null hypothesis were true.\n",
        "\n",
        "3. **Distribution of the Test Statistic:**\n",
        "   - The test statistic follows a specific probability distribution (e.g., t-distribution, chi-squared distribution) under the assumption that the null hypothesis is true.\n",
        "\n",
        "4. **Critical Value(s) and Significance Level:**\n",
        "   - You choose a significance level (alpha), typically 0.05. This represents the probability of rejecting the null hypothesis when it's actually true (Type I error).\n",
        "   - Based on the chosen alpha and the distribution of the test statistic, you determine the critical value(s). These values define the boundaries of the rejection region.\n",
        "\n",
        "5. **Rejection Region:**\n",
        "   - The rejection region is the area in the tails of the distribution beyond the critical value(s).\n",
        "   - If your calculated test statistic falls within the rejection region, you reject the null hypothesis.\n",
        "   - If the test statistic falls outside the rejection region, you fail to reject the null hypothesis.\n",
        "\n",
        "**Visual Example:**\n",
        "\n",
        "Imagine a normal distribution. For a two-tailed test with alpha = 0.05, the rejection region would be the 2.5% in each tail. The critical values would be the points on the x-axis that mark these boundaries (approximately ±1.96 standard deviations from the mean).\n",
        "\n",
        "**Key Points:**\n",
        "\n",
        "* The rejection region is determined by the chosen significance level (alpha) and the distribution of the test statistic.\n",
        "* If the test statistic falls in the rejection region, it suggests that the observed data is unlikely to have occurred if the null hypothesis were true, leading you to reject the null hypothesis.\n",
        "* The region of rejection helps make objective decisions in hypothesis testing by providing a clear criterion for rejecting or failing to reject the null hypothesis."
      ],
      "metadata": {
        "id": "AbzzH9n9OY48"
      },
      "id": "AbzzH9n9OY48"
    },
    {
      "cell_type": "markdown",
      "id": "088c8c47",
      "metadata": {
        "id": "088c8c47"
      },
      "source": [
        "### Two Sided"
      ]
    },
    {
      "cell_type": "code",
      "execution_count": null,
      "id": "db89285e",
      "metadata": {
        "id": "db89285e",
        "outputId": "52ab0039-bc4c-46a6-f749-e09fd4fed871"
      },
      "outputs": [
        {
          "data": {
            "image/png": "[encoded data removed]",
            "text/plain": [
              "<Figure size 640x480 with 1 Axes>"
            ]
          },
          "metadata": {},
          "output_type": "display_data"
        }
      ],
      "source": [
        "import numpy as np\n",
        "from scipy import stats\n",
        "import matplotlib.pyplot as plt\n",
        "\n",
        "x = np.arange(-3, 3, 0.001)\n",
        "\n",
        "pdf = stats.norm.pdf(x,loc=0,scale=1)\n",
        "plt.plot(x, pdf)\n",
        "\n",
        "z = 1.96 # 95% CI\n",
        "lci = -z\n",
        "uci = z\n",
        "\n",
        "plt.fill_between(x, pdf, where=(lci > x) | (x > uci), alpha=0.5)\n",
        "plt.text(lci, 0, lci, ha='center', fontsize=20)\n",
        "plt.text(uci, 0, uci, ha='center', fontsize=20)\n",
        "# plt.text(-0.4, .2, f'95%', fontsize=20)\n",
        "plt.text(lci-.5, 0.05, f'2.5%', ha='center', fontsize=20)\n",
        "plt.text(uci+.5, 0.05, f'2.5%', ha='center', fontsize=20)\n",
        "plt.grid(True)"
      ]
    },
    {
      "cell_type": "markdown",
      "id": "8f6b239c",
      "metadata": {
        "id": "8f6b239c"
      },
      "source": [
        "### Test Statistic vs Critical Value\n",
        "\n",
        "In order to make a decision whether to reject the null hypothesis a test statistic is calculated. The decision is made on the basis of the numerical value of the test statistic. There are two approaches how to derive at that decision: The critical value approach and the p-value approach.\n",
        "\n",
        "https://www.geo.fu-berlin.de/en/v/soga/Basics-of-statistics/Hypothesis-Tests/Introduction-to-Hypothesis-Testing/Critical-Value-and-the-p-Value-Approach/index.html\n",
        "\n",
        "Critical value example:\n",
        "\n",
        "* 1.96 - if the test statistic is greater than the critical value we reject the null"
      ]
    },
    {
      "cell_type": "markdown",
      "id": "2767fc4b",
      "metadata": {
        "id": "2767fc4b"
      },
      "source": [
        "### P-Value\n",
        "\n",
        "For a p value test:\n",
        "* Get the test statistic\n",
        "* Use it to determine the p-value\n",
        "* Compare the p-value to the level of significance\n",
        "* If the p-value is low the null must go! Reject $H_0$\n",
        "* If the p-value is high the null must fly! Fail to reject $H_0$\n",
        "\n",
        "\"The p value is the evidence against a null hypothesis. The smaller the p-value, the stronger the evidence that you should reject the null hypothesis.\"\n",
        "\n",
        "Stephanie Glen. \"P-Value in Statistical Hypothesis Tests: What is it?\" From StatisticsHowTo.com: Elementary Statistics for the rest of us! https://www.statisticshowto.com/probability-and-statistics/statistics-definitions/p-value/\n",
        "\n",
        "The lower the p value, the more predictive the feature is in principle. When we run tests, we are often concerned with the alpha level to help us reject or fail to reject the null hypothesis. The alpha level is (1 - our confidence interval), so if we wanted to have a confidence level of 95% we would use a alpha value of 5%. If our p value is less than the alpha value then the evidence points to rejecting the null hypothesis. If our p values is less than the alpha value then we can say our results are statistcally significant. We found something that is probably not the result of chance. But beware."
      ]
    },
    {
      "cell_type": "markdown",
      "id": "7297ad82",
      "metadata": {
        "id": "7297ad82"
      },
      "source": [
        "### P Value vs Alpha\n",
        "\n",
        "Alpha, the significance level, is the probability that you will make the mistake of rejecting the null hypothesis when in fact it is true. The p-value measures the probability of getting a more extreme value than the one you got from the experiment. If the p-value is greater than alpha, we fail to reject the null hypothesis.\n",
        "\n",
        "https://www.spcforexcel.com/knowledge/basic-statistics/interpretation-alpha-and-p-value"
      ]
    },
    {
      "cell_type": "markdown",
      "id": "74f2ef41",
      "metadata": {
        "id": "74f2ef41"
      },
      "source": [
        "### Statistical Power (Sensitivity)"
      ]
    },
    {
      "cell_type": "markdown",
      "id": "7a5fad79",
      "metadata": {
        "id": "7a5fad79"
      },
      "source": [
        "https://www.statisticshowto.com/wp-content/uploads/2015/04/statistical-power.png\n",
        "\n",
        "Beta is directly related to the power of a test. Power relates to how likely a test is to distinguish an actual effect from one you could expect to happen by chance alone. Beta plus the power of a test is always equal to 1. Usually, researchers will refer to the power of a test (e.g. a power of .8), leaving the beta level (.2 in this case) as implied.\n",
        "\n",
        "https://www.statisticshowto.com/beta-level/\n",
        "\n",
        "The **statistical power of a binary hypothesis test** is the probability that the test correctly rejects the null hypothesis $H_{0}$ when a specific alternative hypothesis $H_{a}$ is true. It is commonly **denoted by $1-\\beta$** , and represents the chances of a \"true positive\" detection conditional on the actual existence of an effect to detect. Statistical power ranges from 0 to 1, and as the power of a test increases, the probability $\\beta$  of making a type II error by wrongly failing to reject the null hypothesis decreases.\n",
        "\n",
        "https://en.wikipedia.org/wiki/Power_of_a_test"
      ]
    },
    {
      "cell_type": "markdown",
      "source": [
        "### Types of Errors in Hypothesis Testing\n",
        "\n",
        "When conducting hypothesis testing, there's always a risk of making an incorrect decision. These incorrect decisions are classified into two types of errors:\n",
        "\n",
        "* **Type I Error (False Positive):** This occurs when you reject the null hypothesis when it is actually true. In other words, you conclude that there is a significant effect or difference when there really isn't.\n",
        "* **Type II Error (False Negative):** This occurs when you fail to reject the null hypothesis when it is actually false. In other words, you miss a real effect or difference.\n",
        "\n",
        "**Alpha (α)**\n",
        "\n",
        "* Alpha is the probability of making a Type I error. It's the significance level you set for your hypothesis test, typically 0.05. This means you're willing to accept a 5% chance of rejecting the null hypothesis when it's true.\n",
        "\n",
        "**Beta (β)**\n",
        "\n",
        "* Beta is the probability of making a Type II error. It's influenced by factors like the sample size, the effect size, and the variability in the data.\n",
        "\n",
        "**Statistical Power (1 - β)**\n",
        "\n",
        "* Statistical power, also known as the power of a test, is the probability of correctly rejecting the null hypothesis when it is false. In other words, it's the probability of detecting a real effect.\n",
        "* It's calculated as 1 - beta.\n",
        "* Higher power means a lower chance of missing a real effect.\n",
        "\n",
        "**1 - Alpha**\n",
        "\n",
        "* 1 - alpha represents the confidence level. It's the probability of correctly failing to reject the null hypothesis when it is true.\n",
        "* For example, if alpha is 0.05, then 1 - alpha is 0.95, or a 95% confidence level.\n",
        "\n",
        "**Relationship Between Concepts**\n",
        "\n",
        "These concepts are interconnected:\n",
        "\n",
        "* **Alpha and Beta:** There's a trade-off between alpha and beta. Decreasing alpha (lowering the risk of a Type I error) generally increases beta (increasing the risk of a Type II error), and vice versa.\n",
        "* **Power and Sample Size:** Increasing the sample size generally increases statistical power, as you have more data to detect a real effect.\n",
        "* **Power and Effect Size:** Larger effect sizes are easier to detect, leading to higher power.\n",
        "\n",
        "**Practical Implications**\n",
        "\n",
        "Understanding these concepts is crucial for designing and interpreting hypothesis tests:\n",
        "\n",
        "* **Choosing Alpha:** You need to balance the risks of Type I and Type II errors based on the consequences of each in your specific context.\n",
        "* **Ensuring Adequate Power:** Aim for sufficient statistical power (often 80% or higher) to increase the chances of detecting a real effect if one exists.\n",
        "* **Interpreting Results:** Consider the possibility of both types of errors when interpreting the results of a hypothesis test.\n",
        "\n",
        "By carefully considering these factors, you can conduct more robust and reliable hypothesis tests."
      ],
      "metadata": {
        "id": "UZItULGcPkf3"
      },
      "id": "UZItULGcPkf3"
    },
    {
      "cell_type": "markdown",
      "id": "ebdbd2ab",
      "metadata": {
        "id": "ebdbd2ab"
      },
      "source": [
        "The importance of proper A/B testing methodology and focusing on the dangers of p-hacking and the benefits of power analysis.\n",
        "\n",
        "**The Problem with P-hacking**\n",
        "\n",
        "P-hacking refers to the practice of repeatedly analyzing data or manipulating test parameters until a statistically significant result (low p-value) is achieved. This can lead to false positives, where you mistakenly conclude that a change has an effect when it actually doesn't.\n",
        "\n",
        "Why is this bad?\n",
        "\n",
        "* **Misleading Results:** P-hacking can lead to implementing changes based on flawed data, wasting resources and potentially harming user experience.\n",
        "* **Lack of Reproducibility:** P-hacked results are often not reproducible, as they are based on chance findings rather than true effects.\n",
        "\n",
        "**The Solution: Power Analysis**\n",
        "\n",
        "Instead of p-hacking, the recommended approach is to conduct a power analysis before running the A/B test. This involves determining the minimum sample size needed to detect a meaningful effect with a certain level of confidence.\n",
        "\n",
        "**Key Components of Power Analysis**\n",
        "\n",
        "* **Significance Level (Alpha):** The probability of rejecting a true null hypothesis (false positive). It's the risk you're willing to take of concluding there's an effect when there isn't.\n",
        "* **Statistical Power (1 - Beta):** The probability of correctly rejecting a false null hypothesis (true positive). It's the likelihood of detecting a real effect if one exists.\n",
        "* **Minimum Detectable Effect (MDE):** The smallest effect size that is practically meaningful for your business.\n",
        "\n",
        "**How Power Analysis Helps**\n",
        "\n",
        "* **Determines Sample Size:** By specifying the desired significance level, power, and MDE, you can calculate the minimum sample size needed for a reliable A/B test.\n",
        "* **Reduces Bias:** This approach reduces the risk of p-hacking by pre-determining the sample size and avoiding the temptation to stop the test early based on seemingly significant results.\n",
        "* **Increases Confidence:** A well-powered A/B test gives you greater confidence that your results are valid and reproducible.\n",
        "\n",
        "**In Summary**\n",
        "\n",
        "The passage emphasizes the importance of conducting A/B tests with a robust methodology. By avoiding p-hacking and utilizing power analysis, you can increase the reliability and trustworthiness of your results, leading to better data-driven decisions."
      ]
    },
    {
      "cell_type": "markdown",
      "id": "37e980de",
      "metadata": {
        "id": "37e980de"
      },
      "source": [
        "## AB Terms"
      ]
    },
    {
      "cell_type": "markdown",
      "id": "2233bd78",
      "metadata": {
        "id": "2233bd78"
      },
      "source": [
        "### Overall Evaluation Criteria (OEC)\n",
        "\n",
        "An Overall Evaluation Criterion (OEC) is a (usually composite) quantitative measure of the experiment's objective. Other names include Response or Dependent Variable, Outcome Variable, Evaluation metric, Performance metric.\n",
        "\n",
        "https://www.analytics-toolkit.com/glossary/overall-evaluation-criterion/"
      ]
    },
    {
      "cell_type": "markdown",
      "id": "e34239a0",
      "metadata": {
        "id": "e34239a0"
      },
      "source": [
        "### Guardrail Metrics\n",
        "\n",
        "Business metrics designed to indirectly measure business value and provide alerts about any potentially misleading or erroneous results and analysis.\n",
        "\n",
        "https://www.split.io/glossary/guardrail-metrics/"
      ]
    },
    {
      "cell_type": "markdown",
      "id": "a43885bc",
      "metadata": {
        "id": "a43885bc"
      },
      "source": [
        "### Randomization Unit\n",
        "\n",
        "A who or what randomly assigned to a group.\n",
        "\n",
        "https://ianwhitestone.work/choosing-randomization-unit/"
      ]
    },
    {
      "cell_type": "markdown",
      "id": "0d781e3b",
      "metadata": {
        "id": "0d781e3b"
      },
      "source": [
        "### Data Leakage (Interference)\n",
        "\n",
        "The behavior of the control group is influenced by the treatment given to the test group.\n",
        "\n",
        "https://towardsdatascience.com/25-a-b-testing-concepts-interview-cheat-sheet-c998a501f911"
      ]
    },
    {
      "cell_type": "markdown",
      "id": "c349d919",
      "metadata": {
        "id": "c349d919"
      },
      "source": [
        "### SUTVA Assumptions\n",
        "\n",
        "The Stable Unit Treatment Value Assumption (SUTVA) is a key assumption that is usually made in causal inference. Reference 1 gives a clear definition of SUTVA, which points out that SUTVA is really two assumptions rolled into one:\n",
        "\n",
        "* The potential outcomes for any unit do not vary with the treatments assigned to other units.\n",
        "* For each unit, there are no different forms or versions of each treatment level, which lead to different potential outcomes.\n",
        "\n",
        "https://statisticaloddsandends.wordpress.com/2021/06/08/what-is-the-stable-unit-treatment-value-assumption-sutva/"
      ]
    },
    {
      "cell_type": "markdown",
      "id": "5e267c86",
      "metadata": {
        "id": "5e267c86"
      },
      "source": [
        "### The Stable Unit Treatment Value Assumption (SUTVA)\n",
        "\n",
        "**What is SUTVA?**\n",
        "\n",
        "SUTVA states that the outcome of a treatment on one individual should not be affected by the treatment assignment of other individuals. In simpler terms, there should be no interaction or interference between the treatment and control groups.\n",
        "\n",
        "**Why is SUTVA Important?**\n",
        "\n",
        "* **Valid Causal Inference:** SUTVA is essential for drawing valid conclusions about cause-and-effect relationships in A/B tests. If there's interference between groups, it becomes difficult to isolate the true effect of the treatment.\n",
        "* **Unbiased Estimates:** Violations of SUTVA can lead to biased estimates of the treatment effect. This means your results may be inaccurate and misleading.\n",
        "\n",
        "**Example of SUTVA Violation**\n",
        "\n",
        "The passage provides a helpful example with Joe and Mary:\n",
        "\n",
        "* Joe's blood pressure is the outcome of interest.\n",
        "* The treatment is a drug that Mary might receive.\n",
        "* If the drug causes Mary to cook with more salt, and Joe eats Mary's cooking, then Joe's blood pressure could be affected by Mary's treatment, even if Joe himself doesn't receive the drug. This is a violation of SUTVA.\n",
        "\n",
        "**How to Address SUTVA Violations**\n",
        "\n",
        "* **Identify Potential Interference:** Carefully consider the nature of your experiment and identify any potential sources of interference between groups.\n",
        "* **Adjust Design:** If interference is likely, you may need to adjust your experimental design. This could involve:\n",
        "    * Isolating groups to prevent interaction.\n",
        "    * Accounting for the interference in your analysis (e.g., by including interaction terms in a statistical model).\n",
        "    * Redesigning the experiment to measure the indirect effects as well.\n",
        "\n",
        "**In Summary**\n",
        "\n",
        "SUTVA is a critical assumption in A/B testing that ensures the treatment and control groups don't influence each other's outcomes. Violations of SUTVA can lead to biased and misleading results. By understanding and addressing potential SUTVA violations, you can improve the validity and reliability of your A/B testing conclusions."
      ]
    },
    {
      "cell_type": "markdown",
      "id": "b933dcb4",
      "metadata": {
        "id": "b933dcb4"
      },
      "source": [
        "### Minimum Detectable Effect\n",
        "\n",
        "Minimum Detectable Effect = Practical Significance Level\n",
        "\n",
        "Minimum detectable effect (MDE) is a calculation that estimates the smallest improvement you are willing to be able to detect. It determines how \"sensitive\" an experiment is. Use MDE to estimate how long an experiment will take given the following:\n",
        "\n",
        "* Baseline conversion rate\n",
        "* Statistical significance\n",
        "* Traffic allocation\n",
        "\n",
        "https://support.optimizely.com/hc/en-us/articles/4410288881293-Use-minimum-detectable-effect-MDE-when-designing-an-experiment\n",
        "\n",
        "Minimum effect is a business decision more than anything else, not really a data scientist decision. At work, it will typically be a product manager decision. After all, for that you need to take into account things like engineering costs, time, and opportunity-cost of not using those resources to run other tests. And that requires a comprehensive company vision which is typical of product managers, or VP/Director of product in smaller companies.\n",
        "\n",
        "https://productds.com/wp-content/uploads/Sample_size.html"
      ]
    },
    {
      "cell_type": "markdown",
      "id": "8792cbab",
      "metadata": {
        "id": "8792cbab"
      },
      "source": [
        "### Practical, or Substantive, Significance\n",
        "\n",
        "The fact that an estimated regression coefficient is “statistically significant” (i.e., you can reject the null hypothesis that the true β is 0 with a high level of confidence) does not mean that your independent variable is substantively important. Did it reach MDE?"
      ]
    },
    {
      "cell_type": "markdown",
      "id": "a9da1e2f",
      "metadata": {
        "id": "a9da1e2f"
      },
      "source": [
        "### A/B Testing and Statistical Significance\n",
        "\n",
        "**Power Analysis**\n",
        "\n",
        "* **Significance Level and Sample Size:** A lower significance level (alpha) means you require stronger evidence to reject the null hypothesis. This often necessitates a larger sample size to detect a true effect with higher confidence.\n",
        "* **Statistical Power and Sample Size:** Higher statistical power (1 - beta) means a greater ability to detect a real effect.  Increasing the sample size generally increases power.\n",
        "* **MDE and Sample Size:** A smaller Minimum Detectable Effect (MDE) means you're looking for more subtle differences.  Detecting smaller effects requires a larger sample size.\n",
        "\n",
        "**A/A Testing**\n",
        "\n",
        "* **Purpose:** A/A tests involve splitting users into two groups but giving them the *same* treatment. This helps assess random variability and understand how much difference can occur between groups simply due to chance.\n",
        "* **Observations:**\n",
        "    * Initially, you might see noticeable differences between the groups, even though they receive the same treatment.\n",
        "    * Over time, these differences tend to decrease as the sample size increases and random variations average out.\n",
        "\n",
        "**Statistical Significance**\n",
        "\n",
        "* **Meaning:** Statistical significance indicates whether an observed effect is likely due to chance or a real difference. A low p-value (typically less than 0.05) suggests that the observed effect is unlikely to be due to random variation.\n",
        "* **Misinterpretations:** The passage highlights common misunderstandings of statistical significance:\n",
        "    * **Not Evidence of No Improvement:** A high p-value doesn't necessarily mean there's no improvement; it could just mean you don't have enough data to detect it.\n",
        "    * **Confusing with Practical Significance:** Statistical significance doesn't guarantee practical significance. An effect might be statistically significant but too small to be meaningful in a real-world context.\n",
        "    * **Not the Likelihood of True Improvement:** Statistical significance doesn't tell you how likely the observed improvement is the true improvement. It only tells you how likely it is to observe the data if there were no improvement.\n",
        "    * **Not the Likelihood of the Alternative Hypothesis:** Statistical significance doesn't directly tell you the probability of the alternative hypothesis being true or false.\n",
        "\n",
        "**Key Takeaways**\n",
        "\n",
        "* Power analysis helps determine the appropriate sample size for your A/B test.\n",
        "* A/A testing helps assess random variability and understand the baseline differences between groups.\n",
        "* Statistical significance should be interpreted carefully, avoiding common misinterpretations.\n",
        "* Focus on both statistical and practical significance when making decisions based on A/B testing results."
      ]
    },
    {
      "cell_type": "markdown",
      "id": "5364cf34",
      "metadata": {
        "id": "5364cf34"
      },
      "source": [
        "### Effect Size\n",
        "\n",
        "In statistics, an effect size is a value measuring the strength of the relationship between two variables in a population, or a sample-based estimate of that quantity. It can refer to the value of a statistic calculated from a sample of data, the value of a parameter for a hypothetical population, or to the equation that operationalizes how statistics or parameters lead to the effect size value.\n",
        "\n",
        "https://en.wikipedia.org/wiki/Effect_size\n",
        "\n",
        "https://www.simplypsychology.org/effect-size.html"
      ]
    },
    {
      "cell_type": "markdown",
      "id": "42b2c63a",
      "metadata": {
        "id": "42b2c63a"
      },
      "source": [
        "### Sample Size\n",
        "\n",
        "How long should we run the experiment? How many customers do we need?\n",
        "\n",
        "Requires:\n",
        "\n",
        "* MDE\n",
        "* Power\n",
        "* Significance\n",
        "\n",
        "https://www.evanmiller.org/ab-testing/sample-size.html"
      ]
    },
    {
      "cell_type": "code",
      "execution_count": null,
      "id": "d25e9bd0",
      "metadata": {
        "id": "d25e9bd0",
        "outputId": "e7f9a0ad-fdd2-411c-83c3-6bac8d125f52"
      },
      "outputs": [
        {
          "name": "stdout",
          "output_type": "stream",
          "text": [
            "Effect Size: -0.0491\n",
            "Sample Size: 6507\n"
          ]
        }
      ],
      "source": [
        "# power analysis\n",
        "import statsmodels.stats.api as sms\n",
        "\n",
        "effect_size = sms.proportion_effectsize(0.20, 0.22) # baseline = .20, MDE = 2%\n",
        "print(f'Effect Size: {effect_size.round(4)}')\n",
        "\n",
        "size = sms.NormalIndPower().solve_power(\n",
        "    effect_size,\n",
        "    power=0.8,\n",
        "    alpha=0.05,\n",
        "    ratio=1\n",
        "    )\n",
        "\n",
        "print(f'Sample Size: {round(size)}')"
      ]
    },
    {
      "cell_type": "markdown",
      "id": "e1d239f3",
      "metadata": {
        "id": "e1d239f3"
      },
      "source": [
        "### Pooled Variance\n",
        "\n",
        "Pooled variance (also called combined, composite, or overall variance) is a way to estimate common variance when you believe that different populations have the same variances.\n",
        "\n",
        "https://www.statisticshowto.com/pooled-variance/\n",
        "\n",
        "Stephanie Glen. \"Pooled Variance\" From StatisticsHowTo.com: Elementary Statistics for the rest of us! https://www.statisticshowto.com/pooled-variance/\n",
        "\n",
        "The standard error of a sample is another name for the standard deviation of a sample (it tells you how spread out your data is from some the mean). A pooled standard error accounts for two sample variances and assumes that both of the variances from the two samples are equal. **It’s called a “pooled” standard error because you’re pooling the data from both samples into one**. There’s a slight difference between standard deviation and pooled sample standard error:\n",
        "\n",
        "* When we are talking about a population, we talk about standard deviations.\n",
        "* When we talk about a sample we call it a standard error.\n",
        "\n",
        "https://www.statisticshowto.com/find-pooled-sample-standard-error/\n",
        "\n",
        "Stephanie Glen. \"Pooled Sample Standard Error: How to Calculate it\" From StatisticsHowTo.com: Elementary Statistics for the rest of us! https://www.statisticshowto.com/find-pooled-sample-standard-error/\n",
        "\n",
        "**More Reading**\n",
        "\n",
        "* https://sphweb.bumc.bu.edu/otlt/mph-modules/bs/bs704_confidence_intervals/bs704_confidence_intervals5.html\n",
        "* https://statisticsbyjim.com/hypothesis-testing/confidence-intervals-compare-means/"
      ]
    },
    {
      "cell_type": "markdown",
      "id": "3ff499a5",
      "metadata": {
        "id": "3ff499a5"
      },
      "source": [
        "### Pooled Standard Error\n",
        "\n",
        "Used in A/B testing for comparing proportions (e.g., conversion rates)\n",
        "\n",
        "**Pooled Standard Error**\n",
        "\n",
        "When comparing two groups in an A/B test (e.g., treatment and control), the pooled standard error is a way to estimate the overall variability in the data, assuming that the true population proportions are equal.\n",
        "\n",
        "**Calculation**\n",
        "\n",
        "1. **Pooled Proportion (Ppool):**\n",
        "   - `Ppool = (Xcontrol + Xtreatment) / (Ncontrol + Ntreatment)`\n",
        "   - This calculates the combined proportion of successes (e.g., conversions) across both groups.\n",
        "   - `Xcontrol` and `Xtreatment` are the number of successes in the control and treatment groups, respectively.\n",
        "   - `Ncontrol` and `Ntreatment` are the total number of observations in the control and treatment groups, respectively.\n",
        "\n",
        "2. **Pooled Standard Error (SEpool):**\n",
        "   - `SEpool = sqrt(Ppool * (1 - Ppool) * (1 / Ncontrol + 1 / Ntreatment))`\n",
        "   - This formula calculates the standard error of the difference between the two proportions, using the pooled proportion.\n",
        "\n",
        "**Hypothesis Testing with Pooled Standard Error**\n",
        "\n",
        "* **Difference in Proportions (dhat):**\n",
        "   - `dhat = phat(treatment) - phat(control)`\n",
        "   - This calculates the observed difference in proportions between the treatment and control groups.\n",
        "\n",
        "* **Null Hypothesis (Hnull):**\n",
        "   - `d = 0`\n",
        "   - The null hypothesis assumes there's no true difference between the population proportions.\n",
        "\n",
        "* **Distribution of dhat:**\n",
        "   - `dhat ~ N(0, SEpool)`\n",
        "   - This assumes that the difference in proportions (dhat) follows a normal distribution with a mean of 0 (under the null hypothesis) and a standard deviation equal to the pooled standard error.\n",
        "\n",
        "* **Decision Rule:**\n",
        "   - If `dhat > 1.96 * SEpool` or `dhat < -1.96 * SEpool`, you reject the null hypothesis. This means the observed difference is statistically significant at the 5% level (using a z-score of 1.96 for a 95% confidence level).\n",
        "\n",
        "**In Simpler Terms**\n",
        "\n",
        "The pooled standard error helps you determine if the difference you see between the treatment and control groups is likely due to chance or a real effect. If the observed difference is much larger than the pooled standard error (more than 1.96 times larger), it suggests that the difference is statistically significant and not just random variation."
      ]
    },
    {
      "cell_type": "markdown",
      "id": "39137882",
      "metadata": {
        "id": "39137882"
      },
      "source": [
        "## Metrics"
      ]
    },
    {
      "cell_type": "markdown",
      "id": "e78de06e",
      "metadata": {
        "id": "e78de06e"
      },
      "source": [
        "### Discrete Metrics (Binomial Metrics)\n",
        "\n",
        "Only two values are possible (0 or 1)\n",
        "\n",
        "* Click-Through-Rate: Does a user click after seeing something\n",
        "* Conversion Rate: Does a user become a customer after seeing something\n",
        "* Click-Through-Probability: The probability a user clicks on the next step\n",
        "* Bounce Rate: Percentage of people that land on your page and then leave"
      ]
    },
    {
      "cell_type": "markdown",
      "id": "83bc499a",
      "metadata": {
        "id": "83bc499a"
      },
      "source": [
        "### Continuous Metrics\n",
        "\n",
        "* Average Revenue Per User\n",
        "* Average Session Duration\n",
        "* Average Order Value"
      ]
    },
    {
      "cell_type": "markdown",
      "id": "b4f61638",
      "metadata": {
        "id": "b4f61638"
      },
      "source": [
        "### Binomial Distribution\n",
        "\n",
        "Successes and Fails\n",
        "\n",
        "Formula:<br />\n",
        "$P(x: n,p) = \\binom {n}{x} p^x (1 - p)^{(n-x)}$\n",
        "\n",
        "* n trials\n",
        "* x successes\n",
        "\n",
        "According to StatisticsHowTo (2022):\n",
        "\n",
        "> A binomial distribution can be thought of as simply the probability of a SUCCESS or FAILURE outcome in an experiment or survey that is repeated multiple times. The binomial is a type of distribution that has two possible outcomes (the prefix “bi” means two, or twice). For example, a coin toss has only two possible outcomes: heads or tails and taking a test could have two possible outcomes: pass or fail.\n",
        "\n",
        "https://www.statisticshowto.com/probability-and-statistics/binomial-theorem/binomial-distribution-formula/\n",
        "\n",
        "Stephanie Glen. \"Binomial Distribution: Formula, What it is, How to use it\" From StatisticsHowTo.com: Elementary Statistics for the rest of us! https://www.statisticshowto.com/probability-and-statistics/binomial-theorem/binomial-distribution-formula/"
      ]
    },
    {
      "cell_type": "code",
      "execution_count": null,
      "id": "e46b7610",
      "metadata": {
        "id": "e46b7610",
        "outputId": "6216fb53-0ebe-41df-a82f-32739049e3c8"
      },
      "outputs": [
        {
          "data": {
            "text/plain": [
              "0.24609375000000003"
            ]
          },
          "execution_count": 12,
          "metadata": {},
          "output_type": "execute_result"
        }
      ],
      "source": [
        "# define success - getting heads; A fair coins is flipped 10 times. What is the probability of getting 5 heads?\n",
        "# vs getting 5 heads in a row 1/2^5\n",
        "from scipy import stats\n",
        "\n",
        "stats.binom.pmf(5, 10, .5)"
      ]
    },
    {
      "cell_type": "markdown",
      "id": "3cf4a0d2",
      "metadata": {
        "id": "3cf4a0d2"
      },
      "source": [
        "### Normal Distribution\n",
        "\n",
        "Compare the formula for the normal distribution as shown below\n",
        "\n",
        "$\n",
        "\\frac{1}{\\sqrt{2\\pi\\sigma^2}}\\large{e^\\frac{-(x-\\mu)^2}{2\\sigma^2}}\n",
        "$\n",
        "\n",
        "with the python code below\n",
        "\n",
        "1/(np.sqrt(2 * np.pi * sigma&ast;&ast;2)) * np.exp( - (x - mu)&ast;&ast;2 / (2 * sigma&ast;&ast;2))\n",
        "\n",
        "Let's break the code down:\n",
        "* x = our set of numbers\n",
        "* mu = mean\n",
        "* sigma&ast;&ast;2 (sigma squared) = variance of x (sigma = std)\n",
        "* exp = exponential\n",
        "* 1 is our numerator\n",
        "* np.sqrt(2 * np.pi * sigma&ast;&ast;2) = $\\sqrt{2\\pi\\sigma^2}$ NOTE: the two asterisk designate a power such as squared\n",
        "* np.exp( - (x - mu)&ast;&ast;2 / (2 * sigma&ast;&ast;2)) = $\\large{e^\\frac{-(x-\\mu)^2}{2\\sigma^2}}$"
      ]
    },
    {
      "cell_type": "markdown",
      "source": [
        "**Question:**\n",
        "\n",
        "\"In an A/B test comparing two versions of a website landing page, we observed that the average time spent on the new version (treatment) was 2 minutes with a standard deviation of 30 seconds. The control version had an average time spent of 1.8 minutes with a standard deviation of 45 seconds.  Assuming the time spent on each page is normally distributed, is the difference in average time spent between the two versions statistically significant at a 95% confidence level?\"\n",
        "\n",
        "**Why this can be answered with a normal distribution:**\n",
        "\n",
        "* **Assumption of Normality:** The question explicitly states that the time spent on each page is normally distributed. This is a key assumption for using a z-test or t-test, which are based on the normal distribution.\n",
        "* **Comparing Means:** The question focuses on comparing the average time spent, which is a continuous variable. Tests of means (like the z-test or t-test) are appropriate for comparing continuous data that is normally distributed.\n",
        "* **Confidence Level:** The question specifies a 95% confidence level, which directly relates to the critical value used in the normal distribution to determine statistical significance.\n",
        "\n",
        "**How to Answer the Question:**\n",
        "\n",
        "1. **Calculate the difference in means:** 2 minutes (treatment) - 1.8 minutes (control) = 0.2 minutes.\n",
        "2. **Calculate the standard error of the difference:** This will depend on whether you're assuming equal variances or unequal variances between the groups. The formula involves the standard deviations and sample sizes of both groups.\n",
        "3. **Calculate the test statistic (z or t):** Divide the difference in means by the standard error.\n",
        "4. **Determine the p-value:** Use the test statistic and the normal distribution (or t-distribution if sample sizes are small) to find the p-value.\n",
        "5. **Compare the p-value to alpha (0.05):** If the p-value is less than 0.05, the difference is statistically significant at the 95% confidence level.\n",
        "\n",
        "Here's how to use the cumulative distribution function (CDF) and percent point function (PPF).\n",
        "\n",
        "**Scenario:**\n",
        "\n",
        "Recall that we're comparing the average time spent on two versions of a website landing page:\n",
        "\n",
        "* Treatment: Average time = 2 minutes, Standard Deviation = 30 seconds\n",
        "* Control: Average time = 1.8 minutes, Standard Deviation = 45 seconds\n",
        "\n",
        "We want to determine if the difference in average time spent is statistically significant at a 95% confidence level, assuming the time spent on each page is normally distributed.\n",
        "\n",
        "**Using CDF and PPF**\n",
        "\n",
        "Here's how you can use the CDF and PPF in this scenario:\n",
        "\n",
        "1. **Calculate the Test Statistic**\n",
        "\n",
        "   - First, you'd calculate the test statistic (z or t) as mentioned. This involves calculating the difference in means and the standard error of the difference. Let's assume you've done that and obtained a z-score of `z_stat`.\n",
        "\n",
        "2. **P-value using CDF**\n",
        "\n",
        "   - To find the p-value, you can use the CDF of the standard normal distribution (`scipy.stats.norm.cdf`).\n",
        "   - For a two-tailed test:\n",
        "     - `p_value = 2 * (1 - stats.norm.cdf(abs(z_stat)))`\n",
        "     - This calculates the area in both tails of the distribution beyond the absolute value of your test statistic.\n",
        "\n",
        "3. **Critical Value using PPF**\n",
        "\n",
        "   - Alternatively, you can find the critical value (z_critical) for a 95% confidence level using the PPF (`scipy.stats.norm.ppf`).\n",
        "   - For a two-tailed test:\n",
        "     - `alpha = 0.05`\n",
        "     - `z_critical = stats.norm.ppf(1 - alpha/2)`\n",
        "\n",
        "4. **Decision**\n",
        "\n",
        "   - Compare the p-value to alpha (0.05) or compare the absolute value of the test statistic (`abs(z_stat)`) to the critical value (`z_critical`).\n",
        "   - If `p_value < alpha` or `abs(z_stat) > z_critical`, you reject the null hypothesis and conclude that the difference in average time spent is statistically significant.\n",
        "\n",
        "**In Summary**\n",
        "\n",
        "The CDF and PPF are powerful tools in hypothesis testing. The CDF helps calculate the p-value, while the PPF helps determine the critical value. Both approaches can lead you to the same conclusion about whether to reject or fail to reject the null hypothesis."
      ],
      "metadata": {
        "id": "XjaqbOnuSITz"
      },
      "id": "XjaqbOnuSITz"
    },
    {
      "cell_type": "markdown",
      "id": "283490ea",
      "metadata": {
        "id": "283490ea"
      },
      "source": [
        "### Conversion Rates\n",
        "\n",
        "* Conversion rate: Conversion rates are calculated by simply taking the number of conversions and dividing that by the number of total ad interactions that can be tracked to a conversion during the same time period. For example, if you had 50 conversions from 1,000 interactions, your conversion rate would be 5%, since 50 ÷ 1,000 = 5%. https://support.google.com/google-ads/answer/2684489?hl=en\n",
        "* Baseline conversion rate: Current conversion rate represented as a percentage\n",
        "* A conversion can refer to any desired action that you want the user to take. This can include anything from a click on a button to making a purchase and becoming a customer. Websites and apps often have multiple conversion goals, and each will have its own conversion rate.\n",
        "\n",
        "https://www.optimizely.com/optimization-glossary/conversion-rate/"
      ]
    },
    {
      "cell_type": "markdown",
      "id": "e3ea6331",
      "metadata": {
        "id": "e3ea6331"
      },
      "source": [
        "### One Tail vs Two Tail AB Tests in Terms of CVR\n",
        "\n",
        "* Both Control and Treatment have equal conversion rates:\n",
        "    * null $Control (A) = Treatment (B)$\n",
        "    * alt $Control (A) \\ne Treatment (B)$\n",
        "* Treatment group's conversion rate is no better than the Control group's and could be worse:\n",
        "    * null $Control (A) \\geq Treatment (B)$\n",
        "    * alt $Control (A) \\lt Treatment (B)$\n",
        "* One tail tests look for an improvement in customer experience\n",
        "\n",
        "https://dominicsando.medium.com/why-two-sided-testing-is-reducing-your-a-b-testing-programs-impact-by-25-11d72276446a"
      ]
    },
    {
      "cell_type": "markdown",
      "id": "fa98f5f5",
      "metadata": {
        "id": "fa98f5f5"
      },
      "source": [
        "### Lift\n",
        "\n",
        "Lift indicates if the treatment is better than the control. Lift is a percentage of how the treatment compares to the null hypothesis (control group).\n",
        "\n",
        "Formula:\n",
        "* (test - control) / control (* 100)\n",
        "\n",
        "https://henrykpano.medium.com/a-b-testing-calculating-lift-rate-of-a-test-3d071514deb4"
      ]
    },
    {
      "cell_type": "markdown",
      "id": "22f5bf61",
      "metadata": {
        "id": "22f5bf61"
      },
      "source": [
        "## The Tests"
      ]
    },
    {
      "cell_type": "markdown",
      "source": [
        "### Assumptions\n",
        "* Groups are normally distributed (no significant outliers)\n",
        "* Groups are independent\n",
        "* Equal variance between groups\n",
        "* Rule of thumb: equal variances if the ratio is less than 4 (larger / smaller)\n",
        "* Scipy.ttest_ind equal_var: if True, perform a standard independent 2 sample t-test that assumes equal population variances. If False, perform Welch’s t-test, which does not assume equal population variances. This is True by default.\n",
        "* Scipy.ttest_ind alternative: two-sided, less, greater"
      ],
      "metadata": {
        "id": "Q1PWodkk7foa"
      },
      "id": "Q1PWodkk7foa"
    },
    {
      "cell_type": "markdown",
      "id": "ba51b278",
      "metadata": {
        "id": "ba51b278"
      },
      "source": [
        "###  The T-Test\n",
        "\n",
        "A t-test is any statistical hypothesis test in which the test statistic follows a Student's t-distribution under the null hypothesis. It is most commonly applied when the test statistic would follow a normal distribution if the value of a scaling term in the test statistic were known (typically, the scaling term is unknown and therefore a nuisance parameter). When the scaling term is estimated based on the data, the test statistic—under certain conditions—follows a Student's t distribution. The t-test's most common application is to test whether the means of two populations are different.\n",
        "\n",
        "https://en.wikipedia.org/wiki/Student%27s_t-test\n",
        "\n",
        "### The Student's t-Statistic (A Test Statistic)\n",
        "\n",
        "* Developed by William Gosset in 1908 while working at the Guiness brewery but couldn't use his name, his employer preferred staff to use pen names when publishing scientific papers\n",
        "* Used to determine how far the statistic is from 0 (the mean) in respect to standard errors\n",
        "* The standard deviation reflects variability within a sample, while the standard error estimates the variability across samples of a population https://www.scribbr.com/statistics/standard-error/\n",
        "* Standard error of the mean (SEM) measures how far the sample mean (average) of the data is likely to be from the true population mean. The SEM is always smaller than the SD. https://www.investopedia.com/ask/answers/042415/what-difference-between-standard-error-means-and-standard-deviation.asp\n",
        "* The standard deviation of sample means, is called the standard error. The standard error tells you how accurate the mean of any given sample from that population is likely to be compared to the true population mean. When the standard error increases, i.e. the means are more spread out, it becomes more likely that any given mean is an inaccurate representation of the true population mean. https://s4be.cochrane.org/blog/2018/09/26/a-beginners-guide-to-standard-deviation-and-standard-error/\n",
        "* Given a t-value and the sample size, software can provide a precise p-value\n",
        "* For large samples, t-values +- 2 standard errors corresponds to p-value < 0.05\n",
        "\n",
        "If the population standard deviation is not known, you can substitute the sample standard deviation, s, in the numerator to approximate the standard error.\n",
        "\n",
        "https://www.investopedia.com/terms/s/standard-error.asp\n",
        "\n",
        "The standard error (SE) of a statistic (usually an estimate of a parameter) is the standard deviation of its sampling distribution or an estimate of that standard deviation. If the statistic is the sample mean, it is called the standard error of the mean (SEM). The sampling distribution of a mean is generated by repeated sampling from the same population and recording of the sample means obtained. This forms a distribution of different means, and this distribution has its own mean and variance. Mathematically, the variance of the sampling mean distribution obtained is equal to the variance of the population divided by the sample size. This is because as the sample size increases, sample means cluster more closely around the population mean.\n",
        "\n",
        "https://en.wikipedia.org/wiki/Standard_error\n",
        "\n",
        "The standard deviation reflects variability within a sample, while the standard error estimates the variability across samples of a population https://www.scribbr.com/statistics/standard-error/\n",
        "\n",
        "### t-Test\n",
        "\n",
        "Note: Standard deviation is the square root of the variance\n",
        "\n",
        "- When we use z scores with a normal distribution, we have to know the population's standard deviation\n",
        "- If we don't know the population standard deviation, Student's T-Distribution\n",
        "- Student's t-test determines if there is a significant difference between two sets of data\n",
        "- Can't just compare means due to variance and outliers\n",
        "- t-test also considers sample variances"
      ]
    },
    {
      "cell_type": "markdown",
      "id": "48c64853",
      "metadata": {
        "id": "48c64853"
      },
      "source": [
        "### One Sample t Test\n",
        "\n",
        "- We don't know the population standard deviation\n",
        "- Tests null hypothesis that population mean is equal to a specified $\\mu$ based on a sample mean $\\bar{x}$\n",
        "- $H_0$: Sample mean = Population mean\n",
        "\n",
        "In statistics, the t-statistic is the ratio of the departure of the estimated value of a parameter from its hypothesized value to its standard error.\n",
        "\n",
        "https://en.wikipedia.org/wiki/T-statistic\n",
        "\n",
        "t-statistic formula:\n",
        "- $t = \\frac{\\bar{x} - \\mu}{s/\\sqrt{n}}$"
      ]
    },
    {
      "cell_type": "code",
      "execution_count": null,
      "id": "ee847f75",
      "metadata": {
        "id": "ee847f75",
        "outputId": "2db94871-7486-4c0b-e1a0-0e5eb1bc36ee"
      },
      "outputs": [
        {
          "name": "stdout",
          "output_type": "stream",
          "text": [
            "Ttest_1sampResult(statistic=array([-50.89876467, -48.48896788]), pvalue=array([8.40877727e-73, 8.52005718e-71]))\n"
          ]
        }
      ],
      "source": [
        "# one sample t test\n",
        "from scipy import stats\n",
        "\n",
        "rvs = stats.norm.rvs(loc=0, scale=1, size=(100, 2))\n",
        "print(stats.ttest_1samp(rvs, popmean=5.0))"
      ]
    },
    {
      "cell_type": "markdown",
      "id": "af016310",
      "metadata": {
        "id": "af016310"
      },
      "source": [
        "Returns:\n",
        "\n",
        "* The t-statistic\n",
        "* The p-value associated with the given alternative"
      ]
    },
    {
      "cell_type": "markdown",
      "id": "c1124f0f",
      "metadata": {
        "id": "c1124f0f"
      },
      "source": [
        "### Independent Two-Sample t-Test\n",
        "\n",
        "- $H_0$: $\\bar{x_1} = \\bar{x_2}$\n",
        "- Are two samples from the class equal?\n",
        "\n",
        "t-statistic can have:\n",
        "- equal sample sizes, equal variance\n",
        "- unequal sample sizes, equal variance\n",
        "- equal of unequal sample sizes, unequal variance (Welch's t-test)\n",
        "\n",
        "t = signal/noise = difference in means/sample variability = $\\frac{(\\bar{x_1} - \\bar{x_2})}{\\sqrt{\\frac{s_1^2}{n_1}+\\frac{s_2^2}{n_2}}}$\n",
        "\n",
        "Compared to a t-score:\n",
        "- $t$ = t-statistic\n",
        "- $t_{df, \\alpha}$ = t-critical\n",
        "- df = degrees of freedom\n",
        "- General formula for df = n1 + n2 - 2 for equal variance or\n",
        "- Also see Welch-Satterthwaite Formula\n",
        "- $\\alpha$ = significance level"
      ]
    },
    {
      "cell_type": "code",
      "execution_count": null,
      "id": "13585371",
      "metadata": {
        "id": "13585371",
        "outputId": "c7b9bd48-0c49-4d93-8733-21687ab23ea0"
      },
      "outputs": [
        {
          "name": "stdout",
          "output_type": "stream",
          "text": [
            "Ttest_indResult(statistic=-1.2884594556775644, pvalue=0.1978846913896977)\n"
          ]
        }
      ],
      "source": [
        "# independent t test\n",
        "from scipy import stats\n",
        "\n",
        "rvs1 = stats.norm.rvs(loc=5, scale=10, size=500)\n",
        "rvs2 = stats.norm.rvs(loc=5, scale=10, size=500)\n",
        "print(stats.ttest_ind(rvs1,rvs2)) # assumes that the populations have identical variances by default"
      ]
    },
    {
      "cell_type": "markdown",
      "id": "abf528b9",
      "metadata": {
        "id": "abf528b9"
      },
      "source": [
        "### Shapiro-Wilk\n",
        "\n",
        "https://www.ncbi.nlm.nih.gov/pmc/articles/PMC6676026/#:~:text=The%20purpose%20of%20the%20t,essential%20in%20the%20t%2Dtest\n",
        "\n",
        "The Shapiro–Wilk test is a test of normality. It was published in 1965 by Samuel Sanford Shapiro and Martin Wilk.\n",
        "\n",
        "https://en.wikipedia.org/wiki/Shapiro%E2%80%93Wilk_test\n",
        "\n",
        "If the p-value of the test is greater than α = .05, then the data is assumed to be normally distributed."
      ]
    },
    {
      "cell_type": "code",
      "execution_count": null,
      "id": "30ad145f",
      "metadata": {
        "id": "30ad145f",
        "outputId": "f7181037-c572-4464-da4b-337074530b9b"
      },
      "outputs": [
        {
          "data": {
            "text/plain": [
              "ShapiroResult(statistic=0.9983264207839966, pvalue=0.4467959403991699)"
            ]
          },
          "execution_count": 16,
          "metadata": {},
          "output_type": "execute_result"
        }
      ],
      "source": [
        "import math\n",
        "import numpy as np\n",
        "from scipy.stats import shapiro\n",
        "\n",
        "x = np.random.normal(0, 1, 1000)\n",
        "shapiro(x)"
      ]
    },
    {
      "cell_type": "markdown",
      "id": "9e896179",
      "metadata": {
        "id": "9e896179"
      },
      "source": [
        "### Kolmogorov-Smirnov Test\n",
        "\n",
        "In statistics, the Kolmogorov–Smirnov test (K–S test or KS test) is a nonparametric test of the equality of continuous (or discontinuous), one-dimensional probability distributions that can be used to compare a sample with a reference probability distribution (one-sample K–S test), or to compare two samples (two-sample K–S test). In essence, the test answers the question \"What is the probability that this collection of samples could have been drawn from that probability distribution?\" or, in the second case, \"**What is the probability that these two sets of samples were drawn from the same (but unknown) probability distribution?**\". It is named after Andrey Kolmogorov and Nikolai Smirnov.\n",
        "\n",
        "Tests for normality.\n",
        "\n",
        "[5]\n",
        "\n",
        "### A/A Testing\n",
        "\n",
        "* Split the users into two groups and give them both the treatment\n",
        "* The idea here is to validate the test setup by seeing that you get roughly the same performance from each variant. You’re testing the same thing against itself, to see if there’s noise in the data, instead of signal\n",
        "\n",
        "https://cxl.com/blog/aa-testing-waste-time/"
      ]
    },
    {
      "cell_type": "code",
      "execution_count": null,
      "id": "30f64bac",
      "metadata": {
        "id": "30f64bac",
        "outputId": "81afc0e7-5803-4706-86b8-53d4a420b094"
      },
      "outputs": [
        {
          "data": {
            "text/plain": [
              "KstestResult(statistic=0.009058866902973084, pvalue=0.38239176747742043)"
            ]
          },
          "execution_count": 17,
          "metadata": {},
          "output_type": "execute_result"
        }
      ],
      "source": [
        "# A/A test\n",
        "import numpy as np\n",
        "import random\n",
        "from scipy import stats\n",
        "\n",
        "population = np.random.normal(loc = 0, scale = 1, size = 30)\n",
        "p_values = []\n",
        "\n",
        "for i in range(10000):\n",
        "    g1 = []\n",
        "    g2 = []\n",
        "    for j in population:\n",
        "        rnd_num = random.random()\n",
        "        g2.append(j) if rnd_num <= 0.5 else g1.append(j)\n",
        "\n",
        "    result = stats.ttest_ind(g1, g2)\n",
        "    p_values.append(result.pvalue)\n",
        "\n",
        "stats.kstest(p_values, 'uniform')"
      ]
    },
    {
      "cell_type": "markdown",
      "id": "1cbe1dee",
      "metadata": {
        "id": "1cbe1dee"
      },
      "source": [
        "### Sample Ratio Mismatch Using Chi-Square\n",
        "\n",
        "Are group sizes significantly different from expected values?\n",
        "\n",
        "[6]"
      ]
    },
    {
      "cell_type": "code",
      "execution_count": null,
      "id": "7afe134f",
      "metadata": {
        "id": "7afe134f",
        "outputId": "5758676a-602f-411c-cf11-238d38c45dc3"
      },
      "outputs": [
        {
          "data": {
            "text/plain": [
              "Power_divergenceResult(statistic=2.7607361963190185, pvalue=0.0966037727627497)"
            ]
          },
          "execution_count": 18,
          "metadata": {},
          "output_type": "execute_result"
        }
      ],
      "source": [
        "import numpy as np\n",
        "from scipy.stats import chisquare\n",
        "\n",
        "g1 = 4000\n",
        "g2 = 4150\n",
        "expv = np.mean([g1, g2])\n",
        "chisquare([g1, g2], f_exp=[expv, expv])"
      ]
    },
    {
      "cell_type": "markdown",
      "id": "b05b16a9",
      "metadata": {
        "id": "b05b16a9"
      },
      "source": [
        "### Fisher's Exact Test\n",
        "\n",
        "Although in practice it is employed when sample sizes are small, it is valid for all sample sizes. It is named after its inventor, Ronald Fisher, and is one of a class of exact tests, so called because the significance of the deviation from a null hypothesis (e.g., P-value) can be calculated exactly, rather than relying on an approximation that becomes exact in the limit as the sample size grows to infinity, as with many statistical tests. [7]\n",
        "\n",
        "Fisher's exact test is a statistical test used to **determine if there are nonrandom associations between two categorical variables**.\n",
        "\n",
        "https://mathworld.wolfram.com/FishersExactTest.html#:~:text=Fisher's%20exact%20test%20is%20a,of%20observations%20in%20which%20and%20."
      ]
    },
    {
      "cell_type": "code",
      "execution_count": null,
      "id": "2b3df35a",
      "metadata": {
        "id": "2b3df35a",
        "outputId": "d9fe108b-80d2-4cef-fb8f-43b11d17daf3"
      },
      "outputs": [
        {
          "name": "stdout",
          "output_type": "stream",
          "text": [
            "Data\n",
            "x: [1 0 0 1 1 1 1 0 1 0 1 0 0 1 1 1 1 1 1]\n",
            "y: [0 0 0 0 0 0 1 0 0 0 0 0 0 0 1 1 1 0 0 0 0]\n",
            "\n",
            "Contingency Table\n",
            "         A   B\n",
            "stay     6  17\n",
            "bounce  13   4\n",
            "\n",
            "p: 0.003\n"
          ]
        }
      ],
      "source": [
        "import numpy as np\n",
        "import pandas as pd\n",
        "from scipy.stats import hypergeom\n",
        "from scipy.stats import fisher_exact\n",
        "\n",
        "np.random.seed(42)\n",
        "\n",
        "x = np.random.binomial(n=1, p=0.7, size=19)\n",
        "y = np.random.binomial(n=1, p=0.3, size=21)\n",
        "\n",
        "_, (a, c) = np.unique(x, return_counts=True)\n",
        "_, (b, d) = np.unique(y, return_counts=True)\n",
        "\n",
        "ct = pd.DataFrame(data=[[a, b], [c, d]], index=['stay', 'bounce'], columns=['A', 'B'])\n",
        "\n",
        "m = ct.values\n",
        "print('Data')\n",
        "print(f'x: {x}')\n",
        "print(f'y: {y}')\n",
        "print('\\nContingency Table')\n",
        "print(ct)\n",
        "\n",
        "table = np.array([[m[0, 0], m[0, 1]], [m[1, 0], m[1, 1]]])\n",
        "_, p = fisher_exact(table, alternative='two-sided')\n",
        "print(f'\\np: {p:.3f}')"
      ]
    },
    {
      "cell_type": "markdown",
      "id": "963e4a3c",
      "metadata": {
        "id": "963e4a3c"
      },
      "source": [
        "### Pearson's Chi-Squared Test\n",
        "\n",
        "A statistical test applied to sets of categorical data to evaluate how likely it is that any observed difference between the sets arose by chance.\n",
        "\n",
        "https://en.wikipedia.org/wiki/Pearson%27s_chi-squared_test"
      ]
    },
    {
      "cell_type": "code",
      "execution_count": null,
      "id": "05993e25",
      "metadata": {
        "id": "05993e25",
        "outputId": "2165370e-0a5d-4d07-ca1a-865c08fe174c"
      },
      "outputs": [
        {
          "name": "stdout",
          "output_type": "stream",
          "text": [
            "Political Affiliation  Democrat  Other  Republican  Total\n",
            "Age Group                                                \n",
            "18-29                        68      4         141    213\n",
            "30-44                       159      7         179    345\n",
            "45-65                       216      4         220    440\n",
            "65 & older                   86      4         101    191\n",
            "Total                       529     19         641   1189\n",
            "\n",
            "Approach 1: The p-value approach to hypothesis testing in the decision rule\n",
            "chisquare-score is: 19.481729605501187  and p value is: 0.0034228899561198345\n",
            "Null Hypothesis is rejected.\n",
            "--------------------------------------------------------------------------------------\n",
            "Approach 2: The critical value approach to hypothesis testing in the decision rule\n",
            "chisquare-score is: 19.481729605501187  and critical value is: 12.591587243743977\n",
            "Null Hypothesis is rejected.\n"
          ]
        }
      ],
      "source": [
        "# https://towardsdatascience.com/chi-square-test-with-python-d8ba98117626\n",
        "import pandas as pd\n",
        "import scipy.stats as stats\n",
        "\n",
        "# create sample data according to survey\n",
        "data = [['18-29', 'Republican'] for i in range(141)] + \\\n",
        "        [['18-29', 'Democrat'] for i in range(68)] + \\\n",
        "        [['18-29', 'Other'] for i in range(4)] + \\\n",
        "        [['30-44', 'Republican'] for i in range(179)] + \\\n",
        "        [['30-44', 'Democrat'] for i in range(159)] + \\\n",
        "        [['30-44', 'Other'] for i in range(7)] + \\\n",
        "        [['45-65', 'Republican'] for i in range(220)] + \\\n",
        "        [['45-65', 'Democrat'] for i in range(216)] + \\\n",
        "        [['45-65', 'Other'] for i in range(4)] + \\\n",
        "        [['65 & older', 'Republican'] for i in range(101)] + \\\n",
        "        [['65 & older', 'Democrat'] for i in range(86)] + \\\n",
        "        [['65 & older', 'Other'] for i in range(4)]\n",
        "df = pd.DataFrame(data, columns = ['Age Group', 'Political Affiliation'])\n",
        "\n",
        "# create contingency table\n",
        "data_crosstab = pd.crosstab(df['Age Group'],\n",
        "                            df['Political Affiliation'],\n",
        "                           margins=True, margins_name=\"Total\")\n",
        "\n",
        "# significance level\n",
        "alpha = 0.05\n",
        "\n",
        "# Calcualtion of Chisquare\n",
        "chi_square = 0\n",
        "rows = df['Age Group'].unique()\n",
        "columns = df['Political Affiliation'].unique()\n",
        "for i in columns:\n",
        "    for j in rows:\n",
        "        O = data_crosstab[i][j]\n",
        "        E = data_crosstab[i]['Total'] * data_crosstab['Total'][j] / data_crosstab['Total']['Total']\n",
        "        chi_square += (O-E)**2/E\n",
        "\n",
        "print(data_crosstab)\n",
        "print()\n",
        "\n",
        "# The p-value approach\n",
        "print(\"Approach 1: The p-value approach to hypothesis testing in the decision rule\")\n",
        "p_value = 1 - stats.chi2.cdf(chi_square, (len(rows)-1)*(len(columns)-1))\n",
        "conclusion = \"Failed to reject the null hypothesis.\"\n",
        "if p_value <= alpha:\n",
        "    conclusion = \"Null Hypothesis is rejected.\"\n",
        "\n",
        "print(\"chisquare-score is:\", chi_square, \" and p value is:\", p_value)\n",
        "print(conclusion)\n",
        "\n",
        "# The critical value approach\n",
        "print(\"--------------------------------------------------------------------------------------\")\n",
        "print(\"Approach 2: The critical value approach to hypothesis testing in the decision rule\")\n",
        "critical_value = stats.chi2.ppf(1-alpha, (len(rows)-1)*(len(columns)-1))\n",
        "conclusion = \"Failed to reject the null hypothesis.\"\n",
        "if chi_square > critical_value:\n",
        "    conclusion = \"Null Hypothesis is rejected.\"\n",
        "\n",
        "print(\"chisquare-score is:\", chi_square, \" and critical value is:\", critical_value)\n",
        "print(conclusion)"
      ]
    },
    {
      "cell_type": "markdown",
      "id": "f21d5a80",
      "metadata": {
        "id": "f21d5a80"
      },
      "source": [
        "### Z-Test\n",
        "\n",
        "* Observations are normally distributed or the sample is large\n",
        "* Variances are known\n",
        "* $t = \\frac{\\bar{x}_1 - \\bar{x}_2}{\\sqrt{\\frac{{s^2_1}}{n_1} + \\frac{{s^2_2}}{n_2}}}$\n",
        "* https://docs.scipy.org/doc/scipy/reference/generated/scipy.stats.ttest_ind.html\n",
        "\n",
        "Before we perform the test, we need to decide if we’ll assume the two populations have equal variances or not. As a rule of thumb, we can assume the populations have equal variances if the ratio of the larger sample variance to the smaller sample variance is less than 4:1... The ratio of the larger sample variance to the smaller sample variance is 12.26 / 7.73 = 1.586, which is less than 4. This means we can assume that the population variances are equal. [8]\n",
        "\n",
        "[1][8]"
      ]
    },
    {
      "cell_type": "code",
      "execution_count": null,
      "id": "be2e3d53",
      "metadata": {
        "id": "be2e3d53",
        "outputId": "e7f19ecc-d196-4ad8-f4cb-21734c28b0a1"
      },
      "outputs": [
        {
          "name": "stdout",
          "output_type": "stream",
          "text": [
            "LeveneResult(statistic=0.10171036138963314, pvalue=0.7506502410783215)\n",
            "4:1 ratio: 1.1435038598268332\n",
            "Ttest_indResult(statistic=-0.11253381760304303, pvalue=0.910693020615128)\n"
          ]
        }
      ],
      "source": [
        "from scipy import stats\n",
        "\n",
        "g1 = np.random.normal(0, 1, 37)\n",
        "g2 = np.random.normal(0, 1, 42)\n",
        "\n",
        "variances = [np.var(g1), np.var(g2)]\n",
        "\n",
        "print(stats.levene(g1, g2)) # p > 0.05 signifies eq var\n",
        "print(f'4:1 ratio: {max(variances) / min(variances)}')\n",
        "\n",
        "# zval = (g1.mean() - g2.mean()) / np.sqrt(np.var(g1)/len(x) + np.var(g2)/len(y))\n",
        "# print(zval)\n",
        "# print((stats.norm.cdf(zval) * 2).round(3)) # * 2 for two tailed assignment 5\n",
        "# print((stats.norm.sf(abs(zval)) * 2).round(3)) # assignment 8\n",
        "print(stats.ttest_ind(g1, g2, equal_var=True, alternative='two-sided'))"
      ]
    },
    {
      "cell_type": "markdown",
      "id": "4fff6cec",
      "metadata": {
        "id": "4fff6cec"
      },
      "source": [
        "### Student's T-Test Two Sided\n",
        "\n",
        "* The observations are normally distributed or the sample size is large\n",
        "* The sampling distributions have similar variances, $\\sigma^2_x \\approx \\sigma^2_y$\n",
        "\n",
        "[1]"
      ]
    },
    {
      "cell_type": "code",
      "execution_count": null,
      "id": "b5f5176b",
      "metadata": {
        "id": "b5f5176b",
        "outputId": "a2f0ea6b-8f18-48e5-fe28-5419c7585fc0"
      },
      "outputs": [
        {
          "name": "stdout",
          "output_type": "stream",
          "text": [
            "LeveneResult(statistic=0.1975584620228295, pvalue=0.6599983245710374)\n",
            "4:1 ratio: 1.4183288079511378\n",
            "Ttest_indResult(statistic=1.030952472472328, pvalue=0.3110850809924013)\n"
          ]
        }
      ],
      "source": [
        "from scipy import stats\n",
        "\n",
        "g1 = np.random.normal(0, 1, 17)\n",
        "g2 = np.random.normal(0, 1, 14)\n",
        "\n",
        "variances = [np.var(g1), np.var(g2)]\n",
        "\n",
        "print(stats.levene(g1, g2)) # p > 0.05 signifies eq var\n",
        "print(f'4:1 ratio: {max(variances) / min(variances)}')\n",
        "\n",
        "print(stats.ttest_ind(g1, g2, equal_var=True, alternative='two-sided'))"
      ]
    },
    {
      "cell_type": "markdown",
      "id": "f42dda20",
      "metadata": {
        "id": "f42dda20"
      },
      "source": [
        "### Levene Test\n",
        "\n",
        "Levene's test ( Levene 1960) is used to test if **k samples have equal variances**. Equal variances across samples is called homogeneity of variance. Some statistical tests, for example the analysis of variance, assume that variances are equal across groups or samples. The Levene test can be used to verify that assumption.\n",
        "\n",
        "https://www.itl.nist.gov/div898/handbook/eda/section3/eda35a.htm"
      ]
    },
    {
      "cell_type": "markdown",
      "id": "7ad0c62e",
      "metadata": {
        "id": "7ad0c62e"
      },
      "source": [
        "### Welch's T-Test\n",
        "\n",
        "* Variance's are not similar so we can't use pooled variance\n",
        "* Welch's t-test **removes assumption of similar variances**\n",
        "* t statistic is slightly different with different number of degrees of freedom - $\\nu$\n",
        "\n",
        "[1]"
      ]
    },
    {
      "cell_type": "code",
      "execution_count": null,
      "id": "b131aade",
      "metadata": {
        "id": "b131aade",
        "outputId": "9778d4c0-334e-4e1d-b4d6-e8671151a2f8"
      },
      "outputs": [
        {
          "name": "stdout",
          "output_type": "stream",
          "text": [
            "LeveneResult(statistic=57.813200094086724, pvalue=1.596138781192925e-12)\n",
            "4:1 ratio: 9.798707655597791\n",
            "Ttest_indResult(statistic=-158.35895168479274, pvalue=1.1775863203818505e-147)\n"
          ]
        }
      ],
      "source": [
        "from scipy import stats\n",
        "\n",
        "g1 = np.random.normal(0, 1, 78)\n",
        "g2 = np.random.normal(50, 3, 102)\n",
        "\n",
        "variances = [np.var(g1), np.var(g2)]\n",
        "\n",
        "print(stats.levene(g1, g2)) # p > 0.05 signifies eq var\n",
        "print(f'4:1 ratio: {max(variances) / min(variances)}')\n",
        "\n",
        "print(stats.ttest_ind(g1, g2, equal_var=False, alternative='two-sided'))"
      ]
    },
    {
      "cell_type": "markdown",
      "id": "a9b0682e",
      "metadata": {
        "id": "a9b0682e"
      },
      "source": [
        "### Mann-Whitney U Test\n",
        "\n",
        "In statistics, the Mann–Whitney U test (also called the Mann–Whitney–Wilcoxon (MWW/MWU), Wilcoxon rank-sum test, or Wilcoxon–Mann–Whitney test) is a nonparametric test of the null hypothesis that, for randomly selected values X and Y from two populations, the probability of X being greater than Y is equal to the probability of Y being greater than X. [9]\n",
        "\n",
        "**A measure of the central tendencies of the two groups (means or medians; since the Mann–Whitney U test is an ordinal test, medians are usually recommended)**\n",
        "\n",
        "https://en.wikipedia.org/wiki/Mann%E2%80%93Whitney_U_test"
      ]
    },
    {
      "cell_type": "code",
      "execution_count": null,
      "id": "f5f439d9",
      "metadata": {
        "id": "f5f439d9",
        "outputId": "06d203af-e3dc-4a3e-912a-685c5f23994f"
      },
      "outputs": [
        {
          "name": "stdout",
          "output_type": "stream",
          "text": [
            "Mann-Whitney U Test: u - 298.000, p - 0.002\n"
          ]
        }
      ],
      "source": [
        "from scipy.stats import mannwhitneyu\n",
        "\n",
        "mwu = mannwhitneyu(x, y, use_continuity=False, alternative='two-sided')\n",
        "print(f'Mann-Whitney U Test: u - {mwu.statistic:.3f}, p - {mwu.pvalue:.3f}')"
      ]
    },
    {
      "cell_type": "markdown",
      "id": "513411c4",
      "metadata": {
        "id": "513411c4"
      },
      "source": [
        "### Data Distribution vs Stats Distribution\n",
        "\n",
        "* Tests that rely on the assumption of normally distributed test statistics can also be applied if the original sampling distribution is highly non-normal\n",
        "* The distribution of the test statistic is asymptotically normal as the sample size increases (central limit theorem)\n",
        "* This is very useful in the common case of A/B tests that produce observations that are zero-inflated and/or multimodal\n",
        "\n",
        "If we have enough samples, tests derived under normality assumptions like Z-test, Student’s t-test, and Welch’s t-test can still be applied for observations that signficantly deviate from normality. Indeed, thanks to the central limit theorem, the distribution of the test statistics tends to normality as the sample size increases. In the zero-inflated and multimodal example we are considering, even a sample size of 40 produces a distribution that is well approximated by a normal distribution."
      ]
    },
    {
      "cell_type": "code",
      "execution_count": null,
      "id": "40ee153a",
      "metadata": {
        "id": "40ee153a",
        "outputId": "1ea195e3-cf6a-4838-bef5-c994a4e50eb9"
      },
      "outputs": [
        {
          "data": {
            "image/png": "[encoded data removed]",
            "text/plain": [
              "<Figure size 700x500 with 4 Axes>"
            ]
          },
          "metadata": {},
          "output_type": "display_data"
        }
      ],
      "source": [
        "import matplotlib.pyplot as plt\n",
        "\n",
        "p = np.array([245, 0, 0, 0, 0, 0, 0, 0, 0,  1, 3, 1, 3, 2, 9, 18, 22, 10, 6, 2, 2, 1, 2, 1, 1])\n",
        "a = np.arange(len(p))\n",
        "p = p / p.sum()\n",
        "loc = (p*np.arange(len(p))).sum()\n",
        "nn = [1, 10, 20, 40]\n",
        "f, axx = plt.subplots(2, 2, figsize=(7, 5))\n",
        "\n",
        "for i, n in enumerate(nn):\n",
        "    r, c = divmod(i, 2)\n",
        "    x = p\n",
        "    ax = axx[r, c]\n",
        "    for _ in range(n):\n",
        "        x = np.convolve(x, p)\n",
        "\n",
        "    ax.bar(np.arange(len(x))/n, x*n, width=1/n)\n",
        "    ax.set_ylim([0, 0.51])\n",
        "    ax.vlines(loc, 0, 0.51, 'r')\n",
        "    ax.set_xlabel('statistic')\n",
        "    ax.set_ylabel('prob density')\n",
        "    ax.set_title(f'sample size {n}')\n",
        "\n",
        "f.tight_layout();"
      ]
    },
    {
      "cell_type": "markdown",
      "id": "955b4273",
      "metadata": {
        "id": "955b4273"
      },
      "source": [
        "## Scenario\n",
        "\n",
        "We have a web page with a learn more button. We know that there is 13% conversion rate when new visitors click on the learn more button. The web team has designed a new page with a new look for the `Learn More` button in hopes of a 2% conversion rate increase. You've been asked to run an A/B test.\n",
        "\n",
        "* Control group uses old page\n",
        "* Treatment group uses new page\n",
        "* Groups are independent\n",
        "* Conversion is dependent\n",
        "* $H_0$: base conversion rate = new conversion rate (the conversion rate of visitors to the old site)\n",
        "* $H_a$: base conversion rate $\\neq$ new conversion rate (the conversion rate of visitors to the new site)\n",
        "* Two tailed even though we have base conversion rate because we are comparing groups and want to control for other variables so that we can attribute any differences to the design\n",
        "\n",
        "Readings:\n",
        "\n",
        "* https://www.statsmodels.org/devel/generated/statsmodels.stats.proportion.proportions_ztest.html\n",
        "* https://www.statsmodels.org/dev/generated/statsmodels.stats.proportion.proportion_confint.html\n",
        "\n",
        "[10]"
      ]
    },
    {
      "cell_type": "markdown",
      "id": "8d75f02f",
      "metadata": {
        "id": "8d75f02f"
      },
      "source": [
        "**Designing an A/B Test for an E-commerce Product Page**\n",
        "\n",
        "**Scenario:**\n",
        "\n",
        "Imagine you're on the product team of an online e-commerce store. The UX designer has created a new version of the product page, aiming to increase the conversion rate (the percentage of users who purchase a product). The current conversion rate is 13%, and the team wants to see if the new design can increase it to 15%.\n",
        "\n",
        "**1. Formulate Hypotheses**\n",
        "\n",
        "* We'll use a two-tailed test since the new design could perform better or worse than the current one.\n",
        "* **Null Hypothesis (H0):** The conversion rate of the new design is the same as the old design (p = p0).\n",
        "* **Alternative Hypothesis (Ha):** The conversion rate of the new design is different from the old design (p ≠ p0).\n",
        "\n",
        "**2. Set Significance Level and Confidence Level**\n",
        "\n",
        "* **Alpha (α):** 0.05. This means there's a 5% chance of incorrectly rejecting the null hypothesis (false positive).\n",
        "* **Confidence Level:** 95%. This means we want to be 95% confident that our results accurately reflect the true difference in conversion rates.\n",
        "\n",
        "**3. Define Groups and Variables**\n",
        "\n",
        "* **Control Group:** Users who see the old product page design.\n",
        "* **Experimental Group:** Users who see the new product page design.\n",
        "* **Independent Variable:** The design of the product page (old vs. new).\n",
        "* **Dependent Variable:** The conversion rate (whether the user buys the product).\n",
        "\n",
        "**Why Two Groups?**\n",
        "\n",
        "Having both a control and experimental group allows us to control for external factors (like seasonality) that could influence the results. By comparing the two groups, we can isolate the effect of the design change on the conversion rate.\n",
        "\n",
        "**4. Determine Sample Size with Power Analysis**\n",
        "\n",
        "* To ensure reliable results, we'll use a power analysis to determine the necessary sample size for each group.\n",
        "* **Power (1 - β):** 0.8 (80%). This is the probability of detecting a real difference in conversion rates if one exists.\n",
        "* **Alpha (α):** 0.05\n",
        "* **Effect Size:** The difference between the current conversion rate (13%) and the desired conversion rate (15%).\n",
        "\n",
        "Based on these parameters, the power analysis suggests a sample size of at least 4720 users for each group. This means that if there's a true difference between the designs, we have an 80% chance of detecting it with this sample size."
      ]
    },
    {
      "cell_type": "code",
      "execution_count": null,
      "id": "598d782a",
      "metadata": {
        "id": "598d782a",
        "outputId": "a21aa385-69db-48f4-8c1e-6403422d0dd4",
        "colab": {
          "base_uri": "https://localhost:8080/"
        }
      },
      "outputs": [
        {
          "output_type": "stream",
          "name": "stdout",
          "text": [
            "MDE:  -0.06031230870758997\n",
            "Sample Size:  4315\n"
          ]
        }
      ],
      "source": [
        "# get the sample size\n",
        "import statsmodels.stats.api as sms\n",
        "from math import ceil\n",
        "\n",
        "effect_size = sms.proportion_effectsize(0.13, 0.15)\n",
        "# effect_size = sms.proportion_effectsize(0.116, 0.136)\n",
        "sample_size = sms.NormalIndPower().solve_power(\n",
        "    effect_size, # minimum detectable effect\n",
        "    power=0.8,\n",
        "    alpha=0.05,\n",
        "    ratio=1\n",
        "    )\n",
        "\n",
        "sample_size = int(sample_size)\n",
        "print('Effect Size: ', effect_size)\n",
        "print('Sample Size: ', sample_size)"
      ]
    },
    {
      "cell_type": "markdown",
      "source": [
        "This code calculates the sample size needed for an A/B test using power analysis. Let's break it down step by step:\n",
        "\n",
        "**1. Import necessary libraries**\n",
        "\n",
        "* `statsmodels.stats.api as sms`: This imports the `statsmodels` library, which provides tools for statistical analysis, including power calculations.\n",
        "* `from math import ceil`: This imports the `ceil` function, which rounds a number up to the nearest integer.\n",
        "\n",
        "**2. Calculate the effect size**\n",
        "\n",
        "* `effect_size = sms.proportion_effectsize(0.13, 0.15)`: This calculates the effect size using the `proportion_effectsize` function from `statsmodels`.\n",
        "    * The arguments `0.13` and `0.15` represent the baseline conversion rate (13%) and the desired conversion rate (15%), respectively (which means MDE = 2%).\n",
        "    * The effect size quantifies the difference between these two proportions that you want to be able to detect.\n",
        "    * The function calculates Cohen's h, which is one of the ways to represent the difference between two proportions.\n",
        "\n",
        "**3. Calculate the sample size**\n",
        "\n",
        "* `sample_size = sms.NormalIndPower().solve_power(...)`: This calculates the required sample size using the `solve_power` function from `statsmodels`.\n",
        "    * `effect_size`: The effect size calculated in the previous step.\n",
        "    * `power=0.8`: The desired statistical power (80%).\n",
        "    * `alpha=0.05`: The significance level (5%).\n",
        "    * `ratio=1`: The ratio of the sample sizes in the two groups (1:1 in this case).\n",
        "\n",
        "**4. Round up the sample size**\n",
        "\n",
        "* `sample_size = int(ceil(sample_size))`: This rounds up the calculated sample size to the nearest integer using `ceil` and converts it to an integer. This ensures you have a whole number of participants in each group.\n",
        "\n",
        "**5. Print the results**\n",
        "\n",
        "* `print('Effect Size: ', effect_size)`: Prints the calculated effect size (Cohen's h).\n",
        "* `print('Sample Size: ', sample_size)`: Prints the required sample size per group.\n",
        "\n",
        "**Minimum Detectable Effect (MDE)**\n",
        "\n",
        "The MDE is the smallest difference between the control and treatment groups that you want to be able to reliably detect with your A/B test. In this code, the MDE is implicitly defined by the two proportions passed to `proportion_effectsize` (0.13 and 0.15). This means you're aiming to detect at least a 2% difference in conversion rates.\n",
        "\n",
        "**Key takeaway**\n",
        "\n",
        "This code demonstrates how to use power analysis to determine the sample size needed for an A/B test. By specifying the desired power, significance level, and MDE, you can ensure that your test has a high probability of detecting a meaningful difference if one exists."
      ],
      "metadata": {
        "id": "6q8RWztrV2r9"
      },
      "id": "6q8RWztrV2r9"
    },
    {
      "cell_type": "markdown",
      "source": [
        "Effect size and Minimum Detectable Effect (MDE) are closely related concepts in power analysis, but they have distinct meanings:\n",
        "\n",
        "**Effect Size:**\n",
        "\n",
        "* **Definition:** A quantitative measure of the magnitude of a phenomenon. In the context of A/B testing, it's the size of the difference between the control and treatment groups that you're interested in.\n",
        "* **Examples:**\n",
        "    * Difference in means (e.g., the difference in average revenue between two groups)\n",
        "    * Difference in proportions (e.g., the difference in conversion rates)\n",
        "    * Standardized measures like Cohen's *d* (for differences in means) or Cohen's *h* (for differences in proportions)\n",
        "* **Purpose:** To quantify the practical significance of an effect. A larger effect size means a more substantial difference.\n",
        "\n",
        "**Minimum Detectable Effect (MDE):**\n",
        "\n",
        "* **Definition:** The smallest effect size that you want to be able to reliably detect with your A/B test, given your chosen significance level and power.\n",
        "* **Purpose:** To guide the sample size calculation. A smaller MDE requires a larger sample size to detect.\n",
        "\n",
        "**Relationship**\n",
        "\n",
        "* **MDE is a specific effect size:** The MDE is the *smallest* effect size you care about. Any effect size larger than the MDE is also of interest, but you want to ensure your test is powered to detect at least the MDE.\n",
        "* **Effect size influences power:** For a given sample size, a larger effect size is easier to detect, leading to higher power.\n",
        "* **MDE influences sample size:** For a given power and significance level, a smaller MDE requires a larger sample size.\n",
        "\n",
        "**In simpler terms:**\n",
        "\n",
        "Imagine you're trying to detect a signal (the effect of your treatment) against a background of noise (random variation).\n",
        "\n",
        "* **Effect size** is the strength of the signal.\n",
        "* **MDE** is the faintest signal you want to be able to pick up.\n",
        "\n",
        "**Example:**\n",
        "\n",
        "In the code you provided earlier:\n",
        "\n",
        "```python\n",
        "effect_size = sms.proportion_effectsize(0.13, 0.15)\n",
        "```\n",
        "\n",
        "* The `effect_size` calculated here is Cohen's *h*, representing the difference between the two proportions (0.13 and 0.15).\n",
        "* This effect size is also your MDE because it's the smallest difference you want to detect.\n",
        "\n",
        "By using this effect size in the `solve_power` function, you're essentially saying, \"I want to be able to detect at least this much of a difference with my A/B test.\"\n",
        "\n",
        "Understanding the relationship between effect size and MDE is crucial for designing effective A/B tests and interpreting their results."
      ],
      "metadata": {
        "id": "zDYo3QEpWY-1"
      },
      "id": "zDYo3QEpWY-1"
    },
    {
      "cell_type": "code",
      "execution_count": null,
      "id": "f66e3d5d",
      "metadata": {
        "id": "f66e3d5d",
        "outputId": "a372c054-3098-418a-8894-d44e74022cf2",
        "colab": {
          "base_uri": "https://localhost:8080/"
        }
      },
      "outputs": [
        {
          "output_type": "stream",
          "name": "stdout",
          "text": [
            "(294478, 5)\n",
            "   user_id                   timestamp      group landing_page  converted\n",
            "0   851104  2017-01-21 22:11:48.556739    control     old_page          0\n",
            "1   804228  2017-01-12 08:01:45.159739    control     old_page          0\n",
            "2   661590  2017-01-11 16:55:06.154213  treatment     new_page          0\n",
            "3   853541  2017-01-08 18:28:03.143765  treatment     new_page          0\n",
            "4   864975  2017-01-21 01:52:26.210827    control     old_page          1\n"
          ]
        }
      ],
      "source": [
        "# https://www.kaggle.com/datasets/zhangluyuan/ab-testing?select=ab_data.csv\n",
        "import pandas as pd\n",
        "\n",
        "df = pd.read_csv('https://raw.githubusercontent.com/gitmystuff/Datasets/main/ab_data.csv')\n",
        "print(df.shape)\n",
        "print(df.head())"
      ]
    },
    {
      "cell_type": "code",
      "execution_count": null,
      "id": "5a704b1b",
      "metadata": {
        "id": "5a704b1b",
        "outputId": "e3def909-1f58-4dba-927a-58a4c87d9b5d",
        "colab": {
          "base_uri": "https://localhost:8080/"
        }
      },
      "outputs": [
        {
          "output_type": "stream",
          "name": "stdout",
          "text": [
            "Repeat users: 3894\n"
          ]
        },
        {
          "output_type": "execute_result",
          "data": {
            "text/plain": [
              "(286690, 5)"
            ]
          },
          "metadata": {},
          "execution_count": 39
        }
      ],
      "source": [
        "# delete repeat users\n",
        "session_counts = df['user_id'].value_counts(ascending=False)\n",
        "repeat_users = session_counts[session_counts > 1].count()\n",
        "print(f'Repeat users: {repeat_users}')\n",
        "\n",
        "users_to_drop = session_counts[session_counts > 1].index\n",
        "df = df[~df['user_id'].isin(users_to_drop)]\n",
        "df.shape"
      ]
    },
    {
      "cell_type": "code",
      "execution_count": null,
      "id": "ce555eb3",
      "metadata": {
        "id": "ce555eb3",
        "outputId": "a8a508ce-2ddc-4664-a84d-f60ae8cebad3",
        "colab": {
          "base_uri": "https://localhost:8080/"
        }
      },
      "outputs": [
        {
          "output_type": "stream",
          "name": "stdout",
          "text": [
            "   user_id                   timestamp    group landing_page  converted\n",
            "0   663037  2017-01-05 02:13:38.063443  control     old_page          0\n",
            "1   932826  2017-01-13 04:50:06.941679  control     old_page          1\n",
            "2   922999  2017-01-04 07:19:23.813317  control     old_page          0\n",
            "3   857826  2017-01-19 02:27:37.678241  control     old_page          0\n",
            "4   762926  2017-01-18 17:50:59.261406  control     old_page          0\n",
            "group\n",
            "control      4315\n",
            "treatment    4315\n",
            "Name: count, dtype: int64\n"
          ]
        }
      ],
      "source": [
        "# sample database\n",
        "control_sample = df[df['group'] == 'control'].sample(n=sample_size, random_state=42)\n",
        "treatment_sample = df[df['group'] == 'treatment'].sample(n=sample_size, random_state=42)\n",
        "\n",
        "ab_test = pd.concat([control_sample, treatment_sample], axis=0)\n",
        "ab_test.reset_index(drop=True, inplace=True)\n",
        "\n",
        "print(ab_test.head())\n",
        "print(ab_test['group'].value_counts())"
      ]
    },
    {
      "cell_type": "code",
      "execution_count": null,
      "id": "79b2cc30",
      "metadata": {
        "id": "79b2cc30",
        "outputId": "8cc2a54b-d01a-4351-cf2d-570d60f96dd4",
        "colab": {
          "base_uri": "https://localhost:8080/"
        }
      },
      "outputs": [
        {
          "output_type": "stream",
          "name": "stdout",
          "text": [
            "<class 'pandas.core.frame.DataFrame'>\n",
            "Index: 4315 entries, 293433 to 223665\n",
            "Data columns (total 5 columns):\n",
            " #   Column        Non-Null Count  Dtype \n",
            "---  ------        --------------  ----- \n",
            " 0   user_id       4315 non-null   int64 \n",
            " 1   timestamp     4315 non-null   object\n",
            " 2   group         4315 non-null   object\n",
            " 3   landing_page  4315 non-null   object\n",
            " 4   converted     4315 non-null   int64 \n",
            "dtypes: int64(2), object(3)\n",
            "memory usage: 202.3+ KB\n"
          ]
        }
      ],
      "source": [
        "control_sample.info()"
      ]
    },
    {
      "cell_type": "code",
      "execution_count": null,
      "id": "0e167a27",
      "metadata": {
        "id": "0e167a27",
        "outputId": "71bc5eae-2443-4315-e511-959e985f033b",
        "colab": {
          "base_uri": "https://localhost:8080/",
          "height": 200
        }
      },
      "outputs": [
        {
          "output_type": "stream",
          "name": "stderr",
          "text": [
            "<ipython-input-42-231710bc6f67>:9: FutureWarning: The provided callable <function mean at 0x7a3b8a102160> is currently using SeriesGroupBy.mean. In a future version of pandas, the provided callable will be used directly. To keep current behavior pass the string \"mean\" instead.\n",
            "  conversion_rates = conversion_rates.agg([np.mean, std_p, se_p])\n"
          ]
        },
        {
          "output_type": "execute_result",
          "data": {
            "text/plain": [
              "<pandas.io.formats.style.Styler at 0x7a3b2dfd7d50>"
            ],
            "text/html": [
              "<style type=\"text/css\">\n",
              "</style>\n",
              "<table id=\"T_a521d\" class=\"dataframe\">\n",
              "  <thead>\n",
              "    <tr>\n",
              "      <th class=\"blank level0\" >&nbsp;</th>\n",
              "      <th id=\"T_a521d_level0_col0\" class=\"col_heading level0 col0\" >conversion_rate</th>\n",
              "      <th id=\"T_a521d_level0_col1\" class=\"col_heading level0 col1\" >std_deviation</th>\n",
              "      <th id=\"T_a521d_level0_col2\" class=\"col_heading level0 col2\" >std_error</th>\n",
              "    </tr>\n",
              "    <tr>\n",
              "      <th class=\"index_name level0\" >group</th>\n",
              "      <th class=\"blank col0\" >&nbsp;</th>\n",
              "      <th class=\"blank col1\" >&nbsp;</th>\n",
              "      <th class=\"blank col2\" >&nbsp;</th>\n",
              "    </tr>\n",
              "  </thead>\n",
              "  <tbody>\n",
              "    <tr>\n",
              "      <th id=\"T_a521d_level0_row0\" class=\"row_heading level0 row0\" >control</th>\n",
              "      <td id=\"T_a521d_row0_col0\" class=\"data row0 col0\" >0.113</td>\n",
              "      <td id=\"T_a521d_row0_col1\" class=\"data row0 col1\" >0.316</td>\n",
              "      <td id=\"T_a521d_row0_col2\" class=\"data row0 col2\" >0.005</td>\n",
              "    </tr>\n",
              "    <tr>\n",
              "      <th id=\"T_a521d_level0_row1\" class=\"row_heading level0 row1\" >treatment</th>\n",
              "      <td id=\"T_a521d_row1_col0\" class=\"data row1 col0\" >0.127</td>\n",
              "      <td id=\"T_a521d_row1_col1\" class=\"data row1 col1\" >0.333</td>\n",
              "      <td id=\"T_a521d_row1_col2\" class=\"data row1 col2\" >0.005</td>\n",
              "    </tr>\n",
              "  </tbody>\n",
              "</table>\n"
            ]
          },
          "metadata": {},
          "execution_count": 42
        }
      ],
      "source": [
        "# conversion rates\n",
        "import numpy as np\n",
        "import scipy.stats as stats\n",
        "\n",
        "conversion_rates = ab_test.groupby('group')['converted']\n",
        "std_p = lambda x: np.std(x, ddof=0) # standard deviation\n",
        "se_p = lambda x: stats.sem(x, ddof=0) # standard error\n",
        "\n",
        "conversion_rates = conversion_rates.agg([np.mean, std_p, se_p])\n",
        "conversion_rates.columns = ['conversion_rate', 'std_deviation', 'std_error']\n",
        "conversion_rates.style.format('{:.3f}')"
      ]
    },
    {
      "cell_type": "markdown",
      "id": "b7c107d4",
      "metadata": {
        "id": "b7c107d4"
      },
      "source": [
        "### Test of Proportions\n",
        "\n",
        "$z = \\frac{\\hat{p} - p}{\\sqrt{\\frac{p (1 - p)}{n}}}$"
      ]
    },
    {
      "cell_type": "code",
      "execution_count": null,
      "id": "85d923db",
      "metadata": {
        "id": "85d923db",
        "outputId": "fef51354-1066-4c5a-e3f5-5423bafee93d",
        "colab": {
          "base_uri": "https://localhost:8080/"
        }
      },
      "outputs": [
        {
          "output_type": "stream",
          "name": "stdout",
          "text": [
            "p: 0.040\n",
            "control group ci (95%): [0.103 - 0.122]\n",
            "treatment group ci (95%): [0.117 - 0.137]\n"
          ]
        }
      ],
      "source": [
        "# test of proportions; never use t\n",
        "from scipy import stats\n",
        "from statsmodels.stats.proportion import proportions_ztest, proportion_confint\n",
        "\n",
        "control_group = ab_test[ab_test['group'] == 'control']['converted']\n",
        "treatment_group = ab_test[ab_test['group'] == 'treatment']['converted']\n",
        "n_con = control_group.count()\n",
        "n_treat = treatment_group.count()\n",
        "successes = [control_group.sum(), treatment_group.sum()]\n",
        "n_obs = [n_con, n_treat]\n",
        "\n",
        "_, pval = proportions_ztest(successes, nobs=n_obs)\n",
        "(lower_con, lower_treat), (upper_con, upper_treat) = proportion_confint(successes, nobs=n_obs, alpha=0.05)\n",
        "\n",
        "print(f'p: {pval:.3f}')\n",
        "print(f'control group ci (95%): [{lower_con:.3f} - {upper_con:.3f}]')\n",
        "print(f'treatment group ci (95%): [{lower_treat:.3f} - {upper_treat:.3f}]')"
      ]
    },
    {
      "cell_type": "markdown",
      "id": "92218ac7",
      "metadata": {
        "id": "92218ac7"
      },
      "source": [
        "### Using the t-Test"
      ]
    },
    {
      "cell_type": "code",
      "execution_count": null,
      "id": "8c7a2ecb",
      "metadata": {
        "id": "8c7a2ecb",
        "outputId": "ffa174a3-85fc-4d49-de68-2b77b5ac3bad",
        "colab": {
          "base_uri": "https://localhost:8080/"
        }
      },
      "outputs": [
        {
          "output_type": "execute_result",
          "data": {
            "text/plain": [
              "TtestResult(statistic=2.055418738827564, pvalue=0.0199343042044157, df=8628.0)"
            ]
          },
          "metadata": {},
          "execution_count": 44
        }
      ],
      "source": [
        "# don't know population; always use t\n",
        "from scipy import stats\n",
        "\n",
        "stats.ttest_ind(treatment_group, control_group, equal_var=True, alternative='greater')"
      ]
    },
    {
      "cell_type": "markdown",
      "id": "79f93620",
      "metadata": {
        "id": "79f93620"
      },
      "source": [
        "### Conclusions\n",
        "\n",
        "* Is it smaller than $\\alpha$ (0.05)\n",
        "* our treatment ci upper bound is only 0.139, short of the desired 0.15\n",
        "* statistically significant but not practically significant\n",
        "* the new design did not work"
      ]
    },
    {
      "cell_type": "markdown",
      "source": [
        "### Try Again With New Numbers\n",
        "\n",
        "* Is it smaller than $\\alpha$ (0.05)\n",
        "* our treatment ci upper bound is only 0.137, a little above the desired 0.136\n",
        "* statistically significant and practically significant\n",
        "* now the new design works"
      ],
      "metadata": {
        "id": "n87VzY9lUTVJ"
      },
      "id": "n87VzY9lUTVJ"
    },
    {
      "cell_type": "markdown",
      "id": "fef287b6",
      "metadata": {
        "id": "fef287b6"
      },
      "source": [
        "## References\n",
        "\n",
        "1. https://towardsdatascience.com/a-b-testing-a-complete-guide-to-statistical-testing-e3f1db140499\n",
        "2. https://classroom.udacity.com/courses/ud257/lessons/456f424d-0cbc-481c-a0ab-a6217013f46e/concepts/d87d2932-962d-4c1d-9fdb-c5ac754783b7\n",
        "3. https://www.dataquest.io/blog/a-b-testing-the-definitive-guide-to-improving-your-product/\n",
        "4. https://en.wikipedia.org/wiki/Bounce_rate\n",
        "5. https://en.wikipedia.org/wiki/Kolmogorov%E2%80%93Smirnov_test\n",
        "6. https://www.analytics-toolkit.com/glossary/sample-ratio-mismatch/\n",
        "7. https://en.wikipedia.org/wiki/Fisher's_exact_test\n",
        "8. https://www.statology.org/two-sample-t-test-python/\n",
        "9. https://en.wikipedia.org/wiki/Mann%E2%80%93Whitney_U_test\n",
        "10. https://towardsdatascience.com/ab-testing-with-python-e5964dd66143\n",
        "\n",
        "### Don't Use T-Tests for AB Testing Article\n",
        "\n",
        "* https://towardsdatascience.com/dont-use-a-t-test-for-a-b-testing-e4d2ef7ab9b6"
      ]
    }
  ],
  "metadata": {
    "kernelspec": {
      "display_name": "Python 3 (ipykernel)",
      "language": "python",
      "name": "python3"
    },
    "language_info": {
      "codemirror_mode": {
        "name": "ipython",
        "version": 3
      },
      "file_extension": ".py",
      "mimetype": "text/x-python",
      "name": "python",
      "nbconvert_exporter": "python",
      "pygments_lexer": "ipython3",
      "version": "3.9.7"
    },
    "colab": {
      "provenance": [],
      "toc_visible": true,
      "include_colab_link": true
    }
  },
  "nbformat": 4,
  "nbformat_minor": 5
}