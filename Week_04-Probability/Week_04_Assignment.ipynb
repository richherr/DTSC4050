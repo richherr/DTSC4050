{
  "nbformat": 4,
  "nbformat_minor": 0,
  "metadata": {
    "colab": {
      "provenance": [],
      "authorship_tag": "ABX9TyNTndKgL0ILYqbN+r0bNi1F",
      "include_colab_link": true
    },
    "kernelspec": {
      "name": "python3",
      "display_name": "Python 3"
    },
    "language_info": {
      "name": "python"
    }
  },
  "cells": [
    {
      "cell_type": "markdown",
      "metadata": {
        "id": "view-in-github",
        "colab_type": "text"
      },
      "source": [
        "<a href=\"https://colab.research.google.com/github/gitmystuff/DTSC4050/blob/main/Week_04-Probability/Week_04_Assignment.ipynb\" target=\"_parent\"><img src=\"https://colab.research.google.com/assets/colab-badge.svg\" alt=\"Open In Colab\"/></a>"
      ]
    },
    {
      "cell_type": "markdown",
      "source": [
        "# Week 04 - Assignment\n",
        "\n",
        "Your Name"
      ],
      "metadata": {
        "id": "70apS5bsbtbe"
      }
    },
    {
      "cell_type": "markdown",
      "source": [
        "## Getting Started\n",
        "\n",
        "* Colab - get notebook from gitmystuff DTSC4050 repository\n",
        "* Save a Copy in Drive\n",
        "* Remove Copy of\n",
        "* Edit name\n",
        "* Clean up Colab Notebooks folder\n",
        "* Submit shared link"
      ],
      "metadata": {
        "id": "5O8kAl0BsCmV"
      }
    },
    {
      "cell_type": "markdown",
      "source": [
        "**Instructions:**  Here are 20 dataset examples, each with 3-5 rows, designed to help us practice distinguishing between Exploratory Data Analysis (EDA), Linear Regression, and Logistic Regression scenarios.  Remember, the key is the *type* of dependent variable (or lack thereof).\n",
        "\n",
        "For each dataset, decide whether it's best suited for EDA, Linear Regression, or Logistic Regression, and briefly explain why."
      ],
      "metadata": {
        "id": "-s5BIPd9b2bL"
      }
    },
    {
      "cell_type": "markdown",
      "source": [
        "1. **Car Prices:**\n",
        "\n",
        "| Mileage | Age (Years) | Price |\n",
        "|---|---|---|\n",
        "| 60000 | 5 | 15000 |\n",
        "| 25000 | 2 | 22000 |\n",
        "| 100000 | 8 | 8000 |\n",
        "| 45000 | 4 | 18000 |"
      ],
      "metadata": {
        "id": "INIQLvKpbaOg"
      }
    },
    {
      "cell_type": "markdown",
      "source": [
        "Answer:"
      ],
      "metadata": {
        "id": "NYvo5z7Vblva"
      }
    },
    {
      "cell_type": "markdown",
      "source": [
        "2. **Customer Demographics:**\n",
        "\n",
        "| Age | Income | Education Level |\n",
        "|---|---|---|\n",
        "| 25 | 60000 | Bachelor's |\n",
        "| 35 | 80000 | Master's |\n",
        "| 45 | 100000 | PhD |\n",
        "| 22 | 50000 | Some College |"
      ],
      "metadata": {
        "id": "E1iqal0wcBkj"
      }
    },
    {
      "cell_type": "markdown",
      "source": [
        "Answer:"
      ],
      "metadata": {
        "id": "CIF9gPwVcF1G"
      }
    },
    {
      "cell_type": "markdown",
      "source": [
        "3. **Loan Applications:**\n",
        "\n",
        "| Loan Amount | Credit Score | Approval Status |\n",
        "|---|---|---|\n",
        "| 10000 | 700 | Approved |\n",
        "| 25000 | 650 | Rejected |\n",
        "| 5000 | 750 | Approved |\n",
        "| 15000 | 600 | Rejected |"
      ],
      "metadata": {
        "id": "uXibnGgocKeg"
      }
    },
    {
      "cell_type": "markdown",
      "source": [
        "Answer:"
      ],
      "metadata": {
        "id": "VOzQKAHwcOxC"
      }
    },
    {
      "cell_type": "markdown",
      "source": [
        "4. **House Sizes:**\n",
        "\n",
        "| Square Footage | Number of Bedrooms | Price |\n",
        "|---|---|---|\n",
        "| 1500 | 3 | 250000 |\n",
        "| 2000 | 4 | 350000 |\n",
        "| 1200 | 2 | 200000 |\n",
        "| 2500 | 5 | 400000 |"
      ],
      "metadata": {
        "id": "E0_Gnls8cTPF"
      }
    },
    {
      "cell_type": "markdown",
      "source": [
        "Answer:"
      ],
      "metadata": {
        "id": "nmaVZBHqcXaD"
      }
    },
    {
      "cell_type": "markdown",
      "source": [
        "5. **Movie Genres:**\n",
        "\n",
        "| Title | Genre | Rating |\n",
        "|---|---|---|\n",
        "| Action Movie 1 | Action | 4.5 |\n",
        "| Comedy Movie 2 | Comedy | 3.2 |\n",
        "| Drama Movie 3 | Drama | 4.0 |\n",
        "| Action Movie 4 | Action | 4.8 |\n",
        "\n"
      ],
      "metadata": {
        "id": "BfHgIxIXcdBY"
      }
    },
    {
      "cell_type": "markdown",
      "source": [
        "Answer:"
      ],
      "metadata": {
        "id": "U7m7bIWTcgoo"
      }
    },
    {
      "cell_type": "markdown",
      "source": [
        "6. **Student Grades:**\n",
        "\n",
        "| Hours Studied | Practice Problems | Exam Score |\n",
        "|---|---|---|\n",
        "| 10 | 20 | 85 |\n",
        "| 5 | 10 | 70 |\n",
        "| 15 | 30 | 95 |\n",
        "| 8 | 15 | 78 |\n",
        "\n"
      ],
      "metadata": {
        "id": "0ozKRIGecigb"
      }
    },
    {
      "cell_type": "markdown",
      "source": [
        "Answer:"
      ],
      "metadata": {
        "id": "i2gXDoPicouO"
      }
    },
    {
      "cell_type": "markdown",
      "source": [
        "7. **Disease Diagnosis:**\n",
        "\n",
        "| Symptom A | Symptom B | Disease Present |\n",
        "|---|---|---|\n",
        "| Yes | No | Yes |\n",
        "| No | Yes | No |\n",
        "| Yes | Yes | Yes |\n",
        "| No | No | No |\n",
        "\n"
      ],
      "metadata": {
        "id": "5rKEA_mlctr0"
      }
    },
    {
      "cell_type": "markdown",
      "source": [
        "Answer:"
      ],
      "metadata": {
        "id": "tOEwyTIkcxDQ"
      }
    },
    {
      "cell_type": "markdown",
      "source": [
        "8. **Plant Growth:**\n",
        "\n",
        "| Sunlight (Hours) | Water (ml) | Height (cm) |\n",
        "|---|---|---|\n",
        "| 6 | 50 | 10 |\n",
        "| 8 | 75 | 15 |\n",
        "| 4 | 25 | 5 |\n",
        "| 7 | 60 | 12 |\n",
        "\n"
      ],
      "metadata": {
        "id": "jb_YBTFrczsm"
      }
    },
    {
      "cell_type": "markdown",
      "source": [
        "Answer:"
      ],
      "metadata": {
        "id": "IP6VP1myc44K"
      }
    },
    {
      "cell_type": "markdown",
      "source": [
        "9. **Customer Purchases:**\n",
        "\n",
        "| Product | Price | Purchased |\n",
        "|---|---|---|\n",
        "| Shirt | 20 | Yes |\n",
        "| Pants | 30 | No |\n",
        "| Shoes | 50 | Yes |\n",
        "| Hat | 15 | Yes |\n",
        "\n"
      ],
      "metadata": {
        "id": "7R3p9MUQc8ve"
      }
    },
    {
      "cell_type": "markdown",
      "source": [
        "Answer:"
      ],
      "metadata": {
        "id": "5eiudMExdAbI"
      }
    },
    {
      "cell_type": "markdown",
      "source": [
        "10. **Website Traffic:**\n",
        "\n",
        "| Date | Page Views | Unique Visitors |\n",
        "|---|---|---|\n",
        "| 2024-01-01 | 1000 | 800 |\n",
        "| 2024-01-02 | 1200 | 950 |\n",
        "| 2024-01-03 | 1500 | 1100 |\n",
        "\n"
      ],
      "metadata": {
        "id": "5CYWfavZdDMM"
      }
    },
    {
      "cell_type": "markdown",
      "source": [
        "Answer:"
      ],
      "metadata": {
        "id": "4OJ2YZeFdQ2-"
      }
    },
    {
      "cell_type": "markdown",
      "source": [
        "11. **Restaurant Ratings:**\n",
        "\n",
        "| Food Quality | Service Quality | Overall Rating |\n",
        "|---|---|---|\n",
        "| 4 | 5 | 4.5 |\n",
        "| 3 | 4 | 3.5 |\n",
        "| 5 | 3 | 4.0 |\n",
        "| 2 | 2 | 2.0 |\n",
        "\n"
      ],
      "metadata": {
        "id": "2Ajjj3w7dTEI"
      }
    },
    {
      "cell_type": "markdown",
      "source": [
        "Answer:"
      ],
      "metadata": {
        "id": "S9zLO7Vndg_7"
      }
    },
    {
      "cell_type": "markdown",
      "source": [
        "12. **Election Results:**\n",
        "\n",
        "| Candidate | Votes | Winner |\n",
        "|---|---|---|\n",
        "| A | 15000 | Yes |\n",
        "| B | 12000 | No |\n",
        "| C | 8000 | No |\n",
        "\n"
      ],
      "metadata": {
        "id": "QzW9_kBodVum"
      }
    },
    {
      "cell_type": "markdown",
      "source": [
        "Answer:"
      ],
      "metadata": {
        "id": "p2Ot1dUadhpf"
      }
    },
    {
      "cell_type": "markdown",
      "source": [
        "13. **Air Quality:**\n",
        "\n",
        "| Ozone Level | Particulate Matter | Air Quality Index |\n",
        "|---|---|---|\n",
        "| 50 | 20 | Good |\n",
        "| 80 | 40 | Moderate |\n",
        "| 120 | 60 | Unhealthy |\n",
        "| 30 | 10 | Good |\n",
        "\n"
      ],
      "metadata": {
        "id": "8m1hyCzldbAp"
      }
    },
    {
      "cell_type": "markdown",
      "source": [
        "Answer:"
      ],
      "metadata": {
        "id": "swQYxBLSdiDi"
      }
    },
    {
      "cell_type": "markdown",
      "source": [
        "14. **Video Game Sales:**\n",
        "\n",
        "| Game Title | Genre | Sales (Millions) |\n",
        "|---|---|---|\n",
        "| Game X | Action | 10 |\n",
        "| Game Y | RPG | 5 |\n",
        "| Game Z | Strategy | 2 |\n",
        "| Game W | Action | 8 |\n",
        "\n"
      ],
      "metadata": {
        "id": "DCD7-Gt9dkZW"
      }
    },
    {
      "cell_type": "markdown",
      "source": [
        "Answer:"
      ],
      "metadata": {
        "id": "ZO91X6O9d1Ls"
      }
    },
    {
      "cell_type": "markdown",
      "source": [
        "15. **Social Media Engagement:**\n",
        "\n",
        "| Post Type | Likes | Shares | Comments |\n",
        "|---|---|---|---|\n",
        "| Image | 100 | 20 | 10 |\n",
        "| Video | 200 | 50 | 30 |\n",
        "| Text | 50 | 10 | 5 |\n",
        "\n"
      ],
      "metadata": {
        "id": "hC15YXgadmg4"
      }
    },
    {
      "cell_type": "markdown",
      "source": [
        "Answer:"
      ],
      "metadata": {
        "id": "TVRdY7RPd1lZ"
      }
    },
    {
      "cell_type": "markdown",
      "source": [
        "16. **Weather Data:**\n",
        "\n",
        "| Temperature | Humidity | Rainfall |\n",
        "|---|---|---|\n",
        "| 70 | 60 | 0.2 |\n",
        "| 80 | 70 | 0.5 |\n",
        "| 90 | 80 | 0.1 |\n",
        "| 60 | 50 | 0.0 |\n",
        "\n"
      ],
      "metadata": {
        "id": "1kZY90EndpIG"
      }
    },
    {
      "cell_type": "markdown",
      "source": [
        "Answer:"
      ],
      "metadata": {
        "id": "6kYo1HdMd2CX"
      }
    },
    {
      "cell_type": "markdown",
      "source": [
        "17. **Employee Performance:**\n",
        "\n",
        "| Training Hours | Years of Experience | Performance Rating |\n",
        "|---|---|---|\n",
        "| 20 | 5 | 4 |\n",
        "| 10 | 2 | 3 |\n",
        "| 30 | 8 | 5 |\n",
        "| 15 | 3 | 3 |\n",
        "\n"
      ],
      "metadata": {
        "id": "Gt4FPzXNdruz"
      }
    },
    {
      "cell_type": "markdown",
      "source": [
        "Answer:"
      ],
      "metadata": {
        "id": "hM7AhpRtd2gE"
      }
    },
    {
      "cell_type": "markdown",
      "source": [
        "18. **Product Defects:**\n",
        "\n",
        "| Production Line | Temperature | Defect Rate |\n",
        "|---|---|---|\n",
        "| A | 80 | 0.05 |\n",
        "| B | 90 | 0.10 |\n",
        "| C | 70 | 0.02 |\n",
        "| A | 85 | 0.07 |\n",
        "\n"
      ],
      "metadata": {
        "id": "zXJuMSTTdure"
      }
    },
    {
      "cell_type": "markdown",
      "source": [
        "Answer:"
      ],
      "metadata": {
        "id": "jSGmH7qdd29A"
      }
    },
    {
      "cell_type": "markdown",
      "source": [
        "19. **Wine Quality:**\n",
        "\n",
        "| Acidity | Sugar | Alcohol | Quality Score |\n",
        "|---|---|---|---|\n",
        "| 7 | 2 | 12 | 6 |\n",
        "| 8 | 3 | 13 | 7 |\n",
        "| 6 | 1 | 11 | 5 |\n",
        "| 9 | 4 | 14 | 8 |\n",
        "\n"
      ],
      "metadata": {
        "id": "ZOGKz6ZFdxLQ"
      }
    },
    {
      "cell_type": "markdown",
      "source": [
        "Answer:"
      ],
      "metadata": {
        "id": "juUbkHO9d3Z_"
      }
    },
    {
      "cell_type": "markdown",
      "source": [
        "20. **Sleep Study:**\n",
        "\n",
        "| Hours Slept | Caffeine Intake | Sleep Quality |\n",
        "|---|---|---|\n",
        "| 7 | 0 | Good |\n",
        "| 6 | 1 | Fair |\n",
        "| 8 | 0 | Excellent |\n",
        "| 5 | 2 | Poor |\n"
      ],
      "metadata": {
        "id": "4n93TEHfbWlb"
      }
    },
    {
      "cell_type": "markdown",
      "source": [
        "Answer:"
      ],
      "metadata": {
        "id": "2UOtuemAd32_"
      }
    }
  ]
}