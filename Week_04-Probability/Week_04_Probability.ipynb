{
  "cells": [
    {
      "cell_type": "markdown",
      "metadata": {
        "id": "view-in-github",
        "colab_type": "text"
      },
      "source": [
        "<a href=\"https://colab.research.google.com/github/gitmystuff/DTSC4050/blob/main/Week_04-Probability/Week_04_Probability.ipynb\" target=\"_parent\"><img src=\"https://colab.research.google.com/assets/colab-badge.svg\" alt=\"Open In Colab\"/></a>"
      ]
    },
    {
      "cell_type": "markdown",
      "id": "69574c84",
      "metadata": {
        "id": "69574c84"
      },
      "source": [
        "# Week 04: Probability with Notes\n",
        "\n",
        "Your Name\n",
        "\n"
      ]
    },
    {
      "cell_type": "markdown",
      "source": [
        "## Getting Started\n",
        "\n",
        "* Colab - get notebook from gitmystuff DTSC4050 repository\n",
        "* Save a Copy in Drive\n",
        "* Remove Copy of\n",
        "* Edit name\n",
        "* Take attendance\n",
        "* Clean up Colab Notebooks folder\n",
        "* Submit shared link"
      ],
      "metadata": {
        "id": "5O8kAl0BsCmV"
      },
      "id": "5O8kAl0BsCmV"
    },
    {
      "cell_type": "markdown",
      "source": [
        "## Project Datasets Discussion\n",
        "\n",
        "* Tabular Variables and Observations, Columns and Rows\n",
        "* Target, Dependent Variable\n",
        "  * Linear Regression - Continuous Dependent Variable\n",
        "  * Logistic Regression (Classification) - 2 or more labels that classify that observation"
      ],
      "metadata": {
        "id": "shNx0EqrsDvb"
      },
      "id": "shNx0EqrsDvb"
    },
    {
      "cell_type": "markdown",
      "source": [
        "**1. Exploratory Data Analysis (EDA) - No Dependent Variable**\n",
        "\n",
        "This dataset focuses on exploring relationships *among* variables.\n",
        "\n",
        "| City        | Avg. Temp (°F) | Population (thousands) | Median Home Price ($) |\n",
        "|-------------|----------------|------------------------|-----------------------|\n",
        "| Austin      | 70             | 950                    | 450,000               |\n",
        "| Seattle     | 55             | 750                    | 600,000               |\n",
        "| Denver      | 50             | 700                    | 550,000               |\n",
        "| Miami       | 80             | 500                    | 300,000               |\n",
        "| Minneapolis | 45             | 400                    | 250,000               |\n",
        "\n",
        "*   Why is this an example of an exploratory data analysis? Is there a dependent variable? This is used to explore relationships between average temperature and median home price, or between population and home price.  We can calculate correlation coefficients, create scatter plots, etc.  The focus is on discovering potential relationships, not prediction.\n",
        "\n",
        "**2. Linear Regression - Continuous Dependent Variable**\n",
        "\n",
        "Here, \"Car Mileage\" is the continuous dependent variable we want to predict based on other factors.\n",
        "\n",
        "| Car Model | Engine Size (L) | Horsepower | Weight (lbs) | Car Mileage (mpg) |\n",
        "|-----------|-----------------|------------|--------------|-------------------|\n",
        "| Honda     | 2.0             | 150        | 2500         | 35                |\n",
        "| Ford      | 3.5             | 250        | 3500         | 25                |\n",
        "| Chevy     | 5.0             | 350        | 4000         | 18                |\n",
        "| Toyota    | 2.5             | 180        | 3000         | 30                |\n",
        "| BMW       | 3.0             | 220        | 3200         | 28                |\n",
        "\n",
        "*   This is an example of a linear regression model to predict car mileage based on engine size, horsepower, and weight.  We will learn how to interpret the coefficients and assess the model's fit.\n",
        "\n",
        "**3. Logistic Regression - Binary/Categorical Dependent Variable**\n",
        "\n",
        "\"Heart Disease\" is the binary/categorical dependent variable (yes/no or 1/0) we're trying to predict.\n",
        "\n",
        "| Age | Smoker (Yes/No) | Cholesterol (mg/dL) | Blood Pressure (mmHg) | Heart Disease (Yes/No) |\n",
        "|-----|-----------------|----------------------|-----------------------|-----------------------|\n",
        "| 65  | Yes             | 250                  | 140                   | Yes                   |\n",
        "| 50  | No              | 200                  | 120                   | No                    |\n",
        "| 70  | Yes             | 300                  | 160                   | Yes                   |\n",
        "| 45  | No              | 180                  | 110                   | No                    |\n",
        "| 60  | No              | 220                  | 130                   | Yes                   |\n",
        "\n",
        "*   This example of a logistic regression model can be used to predict the probability of heart disease based on age, smoking status, cholesterol, and blood pressure. We will learn about odds ratios and how to interpret the coefficients in the context of a binary outcome as well as the concept of a classification threshold.\n",
        "\n",
        "\n"
      ],
      "metadata": {
        "id": "KKqoNuAqNDhW"
      },
      "id": "KKqoNuAqNDhW"
    },
    {
      "cell_type": "markdown",
      "source": [
        "## Review\n",
        "\n",
        "Exploratory Data Analysis\n",
        "\n",
        "* Univariate, Bivariate, Multivariate Analysis\n",
        "* Visualizations\n",
        "  * Histograms, Scatterplots, Boxplots, Correlation Heatmaps for Features, Bar Chart Corrwith for Features and Target\n",
        "* Correlation\n",
        "  * Multicollinearity\n",
        "  * Spurious Correlation\n",
        "  * Does correlation mean causation\n",
        "  * What is causal inference?\n",
        "* Summary and Descriptive Statistics\n",
        "  * Measures of Center, Spread, and Shape\n",
        "    * Center\n",
        "    * Mean\n",
        "    * Median\n",
        "    * Mode\n",
        "    * Midrange - Hi + Lo / 2\n",
        "* Spread\n",
        "  * Range\n",
        "  * Interquartile Range\n",
        "  * Variance\n",
        "  * Standard Deviation\n",
        "  * Coefficient of Variation - Standard Deviation (sample) / Sample Mean\n",
        "* Shape\n",
        "  * Skewness - separates the mean, median, and mode\n",
        "  * Kurtosis\n",
        "    * Mesokurtic (medium tails)\n",
        "    * Platykurtic (thin tails)\n",
        "    * Leptokurtic (fat tails)\n"
      ],
      "metadata": {
        "id": "cH8cvdrWOn8B"
      },
      "id": "cH8cvdrWOn8B"
    },
    {
      "cell_type": "markdown",
      "source": [
        "## Probability Introduction\n",
        "\n",
        "A FEW YEARS AGO a man won the Spanish national lottery with a ticket that ended in the number 48. Proud of his “accomplishment,” he revealed the theory that brought him the riches. “I dreamed of the number 7 for seven straight nights,” he said, “and 7 times 7 is 48.”1 Those of us with a better command of our multiplication tables might chuckle at the man’s error, but we all create our own view of the world and then employ it to filter and process our perceptions, extracting meaning from  the ocean of data that washes over us in daily life. And we often make errors that, though less obvious, are just as significant as his.\n",
        "\n",
        "A Drunkard's Walk Prologue Paragraph 1\n",
        "\n",
        "**Notes**\n",
        "\n",
        "* Deterministic programs focus on inputs and outputs (yes and no)\n",
        "* Probabilistic programs focus on decisions under uncertainty (well, maybe, perhaps, it could happen)\n",
        "* Random variables are used to represent uncertainty in that they represent the possible outcomes of a random experiment\n",
        "* The probability of a random variable (flipping a coin, the roll of a die)\n",
        "* Regarding finance, in the case of risk, the outcome is unknown, but the probability distribution governing that outcome is known. Uncertainty, on the other hand, is characterised by both an unknown outcome and an unknown probability distribution. In both cases, preferences are defined across chance distributions of outcomes.\n",
        "* Variance is a measure of the dispersion of a random variable\n",
        "\n",
        ">According to Wikipedia (2022):\n",
        "\n",
        ">> A random variable is a mathematical formalization of a quantity or object which depends on random events. Informally, randomness typically represents some fundamental element of chance, such as in the roll of a dice; it may also represent uncertainty, such as measurement error (para 1).\n",
        "\n",
        ">Random variable. (February 6, 2022). In *Wikipedia*. https://en.wikipedia.org/wiki/Random_variable\n",
        "\n",
        "* Variance shows the relationships between its members and the mean\n",
        "\n",
        ">According to Wikipedia (2022):\n",
        "\n",
        ">> In probability theory and statistics, variance is the expectation of the squared deviation of a random variable from its population mean or sample mean. Variance is a measure of dispersion, meaning it is a measure of how far a set of numbers is spread out from their average value. Variance has a central role in statistics, where some ideas that use it include descriptive statistics, statistical inference, hypothesis testing, goodness of fit, and Monte Carlo sampling. Variance is an important tool in the sciences, where statistical analysis of data is common. The variance is the square of the standard deviation, the second central moment of a distribution, and the covariance of the random variable with itself... (para 1).\n",
        "\n",
        ">Variance. (February 6, 2022). In *Wikipedia*. https://en.wikipedia.org/wiki/Variance\n",
        "\n",
        "* Error is the difference between the true value and the predicted value, or the model describing the values\n",
        "* There is nothing we can do about the variance of the dataset outside of cleaning and elimination meaningless noise\n",
        "* Variance: $s^2 = \\frac{\\sum(x-\\bar{x})^2}{n-1}$\n",
        "* Bessel's Correction (see Notebook)\n",
        "* Standard deviation has the same units as the data being measured\n",
        "* But we can play a role on the variance of a model trained on different data sets\n",
        "* $MSE = \\frac{1}{n} \\sum(y - \\hat{y})^2$\n",
        "* The mean of a random variable is also know as its expected value\n",
        "* The standard deviation of a statistic (a characteristic of a sample) is generally called the standard error\n",
        "\n",
        "## Data Does Not Speak for Itself\n",
        "\n",
        "The numbers have no way of speaking for themselves. We speak for them. We imbue them with meaning. Nate Silver, The Signal and the Noise\n",
        "\n",
        "## Probability\n",
        "\n",
        "* Probability of an event is measured from 0 to 1; 0 event not happening, 1 event always happening\n",
        "* Outcomes you are looking for / total possible outcomes\n",
        "* Terms you may see: events and sample space\n",
        "* Combinations, permutations, factorials\n",
        "* Intersections, unions, and conditional probability\n",
        "* Bayes Theorem and Bayes Inference\n",
        "* Probability is associated with Bootstrapping\n",
        "* Bootstrapping is a statistical procedure that resamples a single dataset to create many simulated samples. This process allows you to calculate standard errors, construct confidence intervals, and perform hypothesis testing for numerous types of sample statistics. (https://statisticsbyjim.com/hypothesis-testing/bootstrapping/).\n",
        "\n",
        "https://www.statology.org/variance-of-probability-distribution/<br />\n",
        "https://www.probabilitycourse.com/preface.php\n",
        "\n",
        "## Types of Probability\n",
        "\n",
        "* Classical Probability: the ratio of the number of outcomes favoring the event divided by the total number of possible outcomes\n",
        "* Enumerative Probability: An extension of classical probability with the idea of a random choice. There are 3 white socks and four black socks and if we take a random sock what is the probability of getting a white sock?\n",
        "* Long Run Frequency Probability: Based on the proportion of times an event occurs in an infinite sequence of identical experiments. Nothing realistically, even in principle, is infinitely repeatable\n",
        "* Propensity or Chance: The idea that there is some objective tendency of the situation to produce and event\n",
        "* Subjective Probability: A specific person's judgement about a specific occasion, based on their current knowledge. Essentially, any numerical probability is constructed according to what is known in the current situation (probability doesn't really exist at all)\n",
        "\n",
        "Art of Statistics"
      ],
      "metadata": {
        "id": "ZIQ8U4VVycWN"
      },
      "id": "ZIQ8U4VVycWN"
    },
    {
      "cell_type": "markdown",
      "source": [
        "## Probability on Steroids\n",
        "\n",
        "**The Problem: Medical Diagnosis (Simplified)**\n",
        "\n",
        "Imagine a new, relatively rare disease called \"Disease X.\"  Only 1 in 10,000 people have Disease X.  There's a new test for it, but it's not perfect.\n",
        "\n",
        "* **Sensitivity:** The test correctly identifies Disease X in 95% of people who actually have it (true positive rate).\n",
        "* **Specificity:** The test correctly identifies the *absence* of Disease X in 98% of people who *don't* have it (true negative rate).\n",
        "\n",
        "You take the test and it comes back positive.  How worried should you be?  What is the probability that you actually have Disease X?\n",
        "\n",
        "**Why this example?**\n",
        "\n",
        "* **Relatable:** Medical diagnoses are something we can understand.\n",
        "* **Counter-intuitive:** Our initial guess at the probability is much higher than the actual answer, demonstrating the importance of Bayes' Theorem.\n",
        "* **Illustrates Base Rate Fallacy:** This problem highlights how ignoring the base rate (prevalence of the disease) can lead to incorrect conclusions.\n",
        "\n",
        "**Solving it with Bayes' Theorem:**\n",
        "\n",
        "We want to find P(Disease X | Positive Test), the probability of having the disease given a positive test result. Bayes' Theorem states:\n",
        "\n",
        "P(Disease X | Positive Test) = [P(Positive Test | Disease X) * P(Disease X)] / P(Positive Test)\n",
        "\n",
        "Let's break down each part:\n",
        "\n",
        "* **P(Positive Test | Disease X):** This is the sensitivity – 0.95.\n",
        "* **P(Disease X):** This is the prevalence – 1/10,000 = 0.0001.\n",
        "* **P(Positive Test):** This is the probability of a positive test result, regardless of whether someone has the disease.  We need to calculate this using the law of total probability:\n",
        "    * P(Positive Test) = [P(Positive Test | Disease X) * P(Disease X)] + [P(Positive Test | No Disease X) * P(No Disease X)]\n",
        "    * P(Positive Test) = (0.95 * 0.0001) + (1 - 0.98) * (1 - 0.0001) = 0.000095 + 0.019998 ≈ 0.020093\n",
        "\n",
        "Now, plug it all back into Bayes' Theorem:\n",
        "\n",
        "P(Disease X | Positive Test) = (0.95 * 0.0001) / 0.020093\n",
        "\n"
      ],
      "metadata": {
        "id": "KUgDrm_PStkb"
      },
      "id": "KUgDrm_PStkb"
    },
    {
      "cell_type": "markdown",
      "source": [
        "## Typing Practice"
      ],
      "metadata": {
        "id": "TnOaqO1ZVopC"
      },
      "id": "TnOaqO1ZVopC"
    },
    {
      "cell_type": "code",
      "source": [
        "# practice here"
      ],
      "metadata": {
        "id": "w49fo7w-VsoU"
      },
      "id": "w49fo7w-VsoU",
      "execution_count": null,
      "outputs": []
    },
    {
      "cell_type": "markdown",
      "id": "070b7df6",
      "metadata": {
        "id": "070b7df6"
      },
      "source": [
        "## Rolling One Die\n",
        "\n",
        "Frequentist vs Bayesians\n",
        "\n",
        "* Bayesian inference takes into consideration prior knowledge, and the parameter is taken as a random variable. Meaning there is a probability that the event will occur. For example, if we were to roll a die, Bayesian inference will state that there is no wrong or right answer, and the probability of the die landing on a number is a matter of perspective (1/6).\n",
        "* People that have a Bayesian mindset, view and use probabilities to measure the likelihood of an event happening. It is what they believe. The probability is based on prior opinions and knowledge as new data is discovered. This is called prior probability, which is concluded before the project starts.\n",
        "* Frequentist inference assumes that events are based on frequencies, and the parameter is not a random variable- meaning there is no probability. Using the same example as above, if you were to roll a die - frequentist inference will state that there is a correct answer based on frequency. If you were to roll a die 100 times and get 6 a 25 times, then the probability of getting a 6 is 25% based on frequency.\n",
        "* This is because a stopping criterion was put in place. The stopping rule determines the sample space, therefore knowledge about it is essential for frequentist inference. For example, with the die a frequentist approach may repeat the test 2000 times, or until it's landed on 300 6s. Researchers don’t typically repeat tests this amount of time.\n",
        "* People that have a Frequentist mindset, view and treat probability the same as frequencies. Their probability depends on something happening if it were to be infinitely repeated.\n",
        "* From a frequentist's point of view, the parameters you use to estimate your population are assumed to be fixed. There’s a single true parameter that you will estimate and it is not modeled as a probability distribution. When new data is available, you will use it to perform new statistical tests and make new probabilities about the data.\n",
        "\n",
        "https://www.kdnuggets.com/2023/05/bayesian-frequentist-statistics-data-science.html"
      ]
    },
    {
      "cell_type": "code",
      "execution_count": null,
      "id": "46d2a667",
      "metadata": {
        "id": "46d2a667"
      },
      "outputs": [],
      "source": [
        "# # uniform distribution\n",
        "# import numpy as np\n",
        "# import matplotlib.pyplot as plt\n",
        "\n",
        "# throws = int(1e5) # 1 multiplied by 10 to the 5th or 100000\n",
        "# observations = []\n",
        "# for i in range(throws):\n",
        "#     roll = np.random.choice(['1', '2', '3', '4', '5', '6']) # roll the die\n",
        "#     observations.append(roll)\n",
        "\n",
        "# val, cnt = np.unique(observations, return_counts=True)\n",
        "# prop = cnt / len(observations)\n",
        "\n",
        "# plt.bar(val, prop)\n",
        "# plt.ylabel('Probability')\n",
        "# plt.xlabel('Roll')\n",
        "# plt.title('Uniform Distribution')\n",
        "# plt.show()"
      ]
    },
    {
      "cell_type": "markdown",
      "id": "5437b9a8",
      "metadata": {
        "id": "5437b9a8"
      },
      "source": [
        "## Rolling Two Die"
      ]
    },
    {
      "cell_type": "code",
      "execution_count": null,
      "id": "c7a3791a",
      "metadata": {
        "id": "c7a3791a"
      },
      "outputs": [],
      "source": [
        "# # plot probability distribution\n",
        "# import matplotlib.pyplot as plt\n",
        "\n",
        "# sums = [2, 3, 4, 5, 6, 7, 8, 9, 10, 11, 12]\n",
        "# probs = [1/36, 2/36, 3/36, 4/36, 5/36, 6/36, 5/36, 4/36, 3/36, 2/36, 1/36]\n",
        "\n",
        "# plt.bar(sums, probs)\n",
        "# plt.xlabel('Sum of Dice')\n",
        "# plt.ylabel('Outcome Probability')\n",
        "# plt.title('Sample Space Probability')\n",
        "# plt.show();"
      ]
    },
    {
      "cell_type": "code",
      "source": [
        "# import math\n",
        "\n",
        "# def prob_pyramid(n: int = 6) -> None:\n",
        "#     \"\"\"\n",
        "#     Enter sides of dice (6) > 1 < 10\n",
        "#     Prints a pyramid of combinations of rolls of two dice\n",
        "#     \"\"\"\n",
        "#     length = (n * 2) - 1\n",
        "#     midpoint = n - 1\n",
        "#     k = math.ceil(n / 2)\n",
        "#     l = n - (k + midpoint - 1)\n",
        "#     oe = n % 2\n",
        "#     d = []\n",
        "#     for i in range(n):\n",
        "#         for j in range(length):\n",
        "#             if j < midpoint - i or j > midpoint + i:\n",
        "#                 print(\"     \", end=\"\")\n",
        "#             else:\n",
        "#                 m = j - i - k + 1\n",
        "#                 p = midpoint + l if j > midpoint else j + l\n",
        "#                 if i % 2 == 0:\n",
        "#                     d = [m + oe if j > midpoint else k, p]\n",
        "#                 else:\n",
        "#                     d = [p + oe, m + 1 if j > midpoint else k - oe]\n",
        "\n",
        "#                 print(\"[{},{}]\".format(d[0],d[1]), end=\"\")\n",
        "\n",
        "#         print()\n",
        "#         if i % 2 == 1:\n",
        "#             k -= 1\n",
        "#             l += 1\n",
        "\n",
        "# prob_pyramid()"
      ],
      "metadata": {
        "id": "2AgIlNRc8Gx0"
      },
      "id": "2AgIlNRc8Gx0",
      "execution_count": null,
      "outputs": []
    },
    {
      "cell_type": "code",
      "execution_count": null,
      "id": "6ac1be1d",
      "metadata": {
        "id": "6ac1be1d"
      },
      "outputs": [],
      "source": [
        "# #Import the relevant packages\n",
        "# import math\n",
        "# import numpy as np\n",
        "# import pandas as pd\n",
        "# import matplotlib.pyplot as plt\n",
        "# import seaborn as sns\n",
        "# import matplotlib.pyplot as plt\n",
        "# from matplotlib import figure\n",
        "# from ipywidgets import interact\n",
        "# from ipywidgets.embed import embed_minimal_html\n",
        "\n",
        "# # A single dice\n",
        "# def TheDice():\n",
        "#     return round(np.random.uniform(low = 0.5, high = 6.5, size = None),0)\n",
        "\n",
        "# #n-dice\n",
        "# def summingDice(n):\n",
        "#     ArrayofDiceoutcomes = np.zeros(n)\n",
        "#     for eachdice in range(0,n):\n",
        "#         ArrayofDiceoutcomes[eachdice] = TheDice()\n",
        "#     return sum(ArrayofDiceoutcomes)\n",
        "\n",
        "# #Throws the set of n dice m times and stores the outcome\n",
        "# def TheRollingOfDice(m,n):\n",
        "#     histo = np.zeros(m)\n",
        "#     for i in range(0,m):\n",
        "#         histo[i] = summingDice(n)\n",
        "#     return histo\n",
        "\n",
        "# # Formulates a histogram from the m trials of experimental data\n",
        "# #and normalises this to gain a probability distribution\n",
        "# def HandMadeHistogram(SimData,minimumofrange,maximumofrange):\n",
        "#     numberofInts = []\n",
        "#     for i in range(minimumofrange,maximumofrange+1):\n",
        "#         numberofsingeint = np.where(SimData == i)[0]\n",
        "#         numberofInts.append(len(numberofsingeint))\n",
        "#     return [float(x)/sum(numberofInts) for x in numberofInts]\n",
        "\n",
        "\n",
        "# # Putting this all together - given the number of trials and the number of dice we can return\n",
        "# # the normalised histogram of the distribution of possible sums, the minimum possible and maximum possible sum\n",
        "# def FromDiceNumberToData(numberoftrials,numberofdice):\n",
        "#     SimData = TheRollingOfDice(numberoftrials,numberofdice)\n",
        "#     minimumofrange,maximumofrange = numberofdice,6*numberofdice\n",
        "#     HandMadeHist = HandMadeHistogram(SimData,minimumofrange,maximumofrange)\n",
        "#     return HandMadeHist,minimumofrange,maximumofrange\n",
        "\n",
        "# # HandMadeHist,minimumofrange,maximumofrange = FromDiceNumberToData(100000,3)\n",
        "\n",
        "# @interact\n",
        "# def nDiceProbabilityDistribution(num_of_dice = 3):\n",
        "#     HandMadeHist, minimumofrange, maximumofrange = FromDiceNumberToData(100000, num_of_dice)\n",
        "#     plt.scatter(range(minimumofrange, maximumofrange+1), HandMadeHist)\n",
        "#     plt.grid(True)\n",
        "#     plt.show()"
      ]
    },
    {
      "cell_type": "markdown",
      "id": "d350c337",
      "metadata": {
        "id": "d350c337"
      },
      "source": [
        "## Gambling\n",
        "\n",
        "* Greeks: Geometry and Form\n",
        "* Not really big on probability because everything was the result of gods\n",
        "* But the Greeks had gambling games\n",
        "* Romans weren't really into beauty and form, but rather war and liesure\n",
        "* While finding little value in abstract geometry, Cicero (Roman) wrote that probability is the very guide of life\n",
        "* **Cicero** argued against divine intervention in gambling success, using probability to show that events can be predicted despite chance\n",
        "  * He ridiculed astrology by noting that people with the same horoscope can have different fates (astrology was outlawed by Romans even thought everybody did it)\n",
        "  * The term 'probabilis' (origin of 'probability') was coined by Cicero\n",
        "  * Roman law incorporated probability concepts, replacing trial by battle with a more nuanced system\n",
        "  * The Romans used half proof and varying witness requirements based on the probability of truth in testimony\n",
        "  * Ancient Rome is the unlikely birthplace of a systematic set of rules based on probability\n",
        "* **Gerolamo Cardano** (24 September 1501– 21 September 1576), The Book on Games of Chance, a 16th-century polymath, made significant contributions to mathematics, particularly probability, despite a tumultuous personal life.  He used gambling to fund his education and is considered a key figure in the early development of probability theory.  His work on games of chance laid the groundwork for future advancements in the field.\n",
        "\n",
        "*   **Early Life:** Faced numerous hardships, including a difficult birth, plague, and family tragedies.\n",
        "*   **Mathematical Contributions:**  Developed early concepts of probability, including the idea of a sample space and calculating the probability of favorable outcomes.  Wrote \"The Book on Games of Chance.\"\n",
        "*   **Historical Context:**  Lived during a time of significant mathematical advancement with the introduction of the Hindu-Arabic numeral system and the development of algebraic symbols.  The Scientific Revolution was beginning to take root.\n",
        "*   **Later Life:** After a period of incarceration, he received a pension from the Pope and continued his medical practice and philosophical studies.\n",
        "\n",
        "\n",
        "* **Galileo Galilei** (15 February 1564 – 8 January 1642), a pivotal figure in the Scientific Revolution, emphasized observation, experimentation, and mathematical analysis in understanding the natural world.  His work on pendulums and probability laid the foundation for future scientific advancements.\n",
        "\n",
        "*   **Pendulum Observations:** Discovered that the period of a pendulum's swing is independent of its amplitude.\n",
        "*   **Scientific Method:** Advocated for a science based on experience and mathematical reasoning, rather than intuition.\n",
        "*   **Probability Theory:**  Wrote \"Thoughts on the Game of Dice,\" analyzing the probabilities of different outcomes when rolling dice.  Corrected the intuitive, but incorrect, assumption that 9 and 10 were equally likely outcomes when rolling three dice, explaining the difference in terms of permutations.\n",
        "*   **Later Life:**  Placed under house arrest for his heretical views, likely due to his support of heliocentrism.\n",
        "\n",
        "    \n",
        "* **Blaise Pascal** (19 June 1623 – 19 August 1662) added to probability and gambling\n",
        "  * Blaise Pascal's work on probability theory, initially inspired by gambling problems, became his most significant contribution to mathematics.  This theory, born from correspondence with Pierre de Fermat, has far-reaching applications today, particularly in economics and actuarial science.\n",
        "\n",
        "  *   **Origins in Gambling:** Pascal's interest in probability arose from questions posed by the Chevalier de Méré regarding fair division of stakes in unfinished games.\n",
        "  *   **Collaboration with Fermat:**  His correspondence with Fermat led to the formal development of mathematical probability theory.\n",
        "  *   **Expected Value:** The concept of expected value emerged from their discussions.\n",
        "  *   **Pascal's Triangle:**  This mathematical construct provides a visual and computational tool for determining combinations (the number of ways to choose items from a set).  It has applications beyond probability, including in algebra and combinatorics. https://en.wikipedia.org/wiki/Pascal%27s_triangle\n",
        "\n",
        "  * Pascal's Triangle example (The Drunkard's Walk): 1996 World Series (Braves vs Yankees). Atlanta was up 2 - 0\n",
        "    * Probabilites for either team to win: possible 5 games to play 2^5 gives us 32 probabilities\n",
        "    * Yankees’ victory, would have been victorious if they had won 4 of the 5 possible remaining games.\n",
        "    * 1 of 5 ways: BYYYY, YBYYY, YYBYY, YYYBY, or YYYYB,  and YYYYY.\n",
        "    * Braves victory: Yankees win only 3 games, 10 possible ways (BBYYY, BYBYY, and so on), or Yankees win only 2 games (which again could have happened in 10 ways), or if the Yankees had won only 1 game (which could have happened in 5 ways), or if they had won none (which could have happened in only 1 way).\n",
        "    * Possibilities = 32, Yankees 6 in 32 and Braves 26 in 32 (Yankees won)\n",
        "    * Considering Pascal's Triangle, We can now read the number of ways in which the Yankees can win 0, 1, 2, 3, 4, or 5 games directly from row 5 of the triangle:\n",
        "    * 1 5 10 10 5 1\n",
        "\n",
        "The numbers 1 5 10 10 5 1 from Pascal's Triangle represent the number of ways each team could have won the 1996 World Series, given that Atlanta was initially up 2-0 and the series could go a maximum of 7 games (2 initial wins + 5 possible remaining games).  Let's break down how it applies:\n",
        "\n",
        "*   **Row 5 of Pascal's Triangle:** This row (1 5 10 10 5 1) corresponds to the possible outcomes of the remaining 5 games.  Each number represents the number of combinations for a specific number of wins for one of the teams (in this case, let's consider it for the Yankees).\n",
        "\n",
        "*   **Interpreting the Numbers:**\n",
        "    *   **1:**  This is the first number. It means the Yankees could win *0* of the remaining 5 games in *1* way. This would mean the Braves win all 5, and the Braves win the series.\n",
        "    *   **5:** This is the second number. It means the Yankees could win *1* of the remaining 5 games in *5* different ways. The Braves would win the series.\n",
        "    *   **10:** This is the third number. It means the Yankees could win *2* of the remaining 5 games in *10* different ways. The Braves would win the series.\n",
        "    *   **10:** This is the fourth number. It means the Yankees could win *3* of the remaining 5 games in *10* different ways. The Braves would win the series.\n",
        "    *   **5:** This is the fifth number. It means the Yankees could win *4* of the remaining 5 games in *5* different ways. The Yankees would win the series.\n",
        "    *   **1:** This is the last number. It means the Yankees could win *5* of the remaining 5 games in *1* way. The Yankees would win the series.\n",
        "\n",
        "*   **Relating to the World Series:**  Since Atlanta was already up 2-0, the Yankees needed to win at least 3 of the remaining 5 games to win the World Series. This corresponds to the last three numbers in the row: 10 + 5 + 1 = 16.  There are 16 ways out of the 32 possible outcomes (2^5) where the Yankees could win. The other 16 outcomes represent the Braves winning the series.\n",
        "\n",
        "In short, Pascal's Triangle provides a quick way to determine the number of combinations for each possible outcome of the remaining games in the series.\n",
        "\n",
        "https://www.mathsisfun.com/pascals-triangle.html\n",
        "\n"
      ]
    },
    {
      "cell_type": "markdown",
      "source": [
        "## Fraternal Twins\n",
        "\n",
        "Suppose a mother is carrying fraternal twins and wants to know the odds of having two girls, a boy and a girl, and so on.\n",
        "\n",
        "* The sample space consists of all the possible lists of the sexes of the children in their birth order: (girl, girl), (girl, boy), (boy, girl), and (boy, boy)\n",
        "* Same with 2 coin toss (HH, TT, HT, TH)\n",
        "* Situation in which one problem is another in disguise: isomorphism\n",
        "* Two girls: 25 percent.\n",
        "* The chance that at least one of the babies will be a girl is the chance that both will be girls plus the chance that just one will be a girl—that is, 25 percent plus 50 percent, which is 75 percent.\n",
        "* What are the chances, given that one of the children is a girl, that both children will be girls? One might reason this way: 50 percent?\n",
        "* Although the statement of the problem says that one child is a girl, it doesn’t say which one, and that changes things. *\n",
        "* The new information—one of the children is a girl—means that we are eliminating from consideration the possibility that both children are boys. So eliminate (boy, boy) from the sample space.\n",
        "* That leaves only 3 outcomes in the sample space: (girl, boy), (boy, girl), and (girl, girl). Of these, only (girl, girl) is the favorable outcome—that is, both children are daughters—so the chances that both children are girls is 1 in 3, or\n",
        "33 percent.\n",
        "* For instance, if the problem had asked for the chances of both children being girls given that the first child is a girl, then we would have eliminated both (boy, boy) and (boy, girl) from the sample space and the odds would have been 1 in 2, or 50 percent"
      ],
      "metadata": {
        "id": "NmzaZeAmiXmW"
      },
      "id": "NmzaZeAmiXmW"
    },
    {
      "cell_type": "markdown",
      "id": "94abe732",
      "metadata": {
        "id": "94abe732"
      },
      "source": [
        "## Probability Foundations\n",
        "\n",
        "* The probability that two events will both occur can never be greater than the probability that each will occur individually. Why not? Simple arithmetic: the chances that event A will occur = the chances that events A and B will occur + the chance that event A will occur and event B will not occur.   \n",
        "* If two possible events, A and B, are independent, then the probability that both A and B will occur is equal to the product of their individual probabilities\n",
        "* If an event can have a number of different and distinct possible outcomes, A, B, C, and so on, then the probability that either A or B will occur is equal to the sum of the individual probabilities of A and B, and the sum of the probabilities of all the possible outcomes (A, B, C, and so on) is 1 (that is, 100%)"
      ]
    },
    {
      "cell_type": "markdown",
      "id": "6306c486",
      "metadata": {
        "id": "6306c486"
      },
      "source": [
        "## Adding or Multiplying Probabilities\n",
        "\n",
        "* If using the word `or`, add\n",
        "* If using the word `and`, multiply\n",
        "    * What's the probability of rolling a 1 or a 6\n",
        "    * What's the probability of first rolling a 1 and then a 6\n",
        "    \n",
        "Here are two examples of using \"or\" in probability problems:\n",
        "\n",
        "###Rolling a Dice###\n",
        "\n",
        "* **Problem:** What is the probability of rolling a 3 *or* a 5 on a standard six-sided die?\n",
        "\n",
        "* **Solution:**\n",
        "    * The probability of rolling a 3 is 1/6.\n",
        "    * The probability of rolling a 5 is 1/6.\n",
        "    * Since these are mutually exclusive events (you can't roll a 3 and a 5 at the same time), you simply add the probabilities: 1/6 + 1/6 = 2/6 = 1/3.\n",
        "    * So, the probability of rolling a 3 or a 5 is 1/3, or approximately 33.33%.\n",
        "\n",
        "###Drawing a Card###\n",
        "\n",
        "* **Problem:** What is the probability of drawing a heart *or* a face card (Jack, Queen, King) from a standard deck of 52 playing cards?\n",
        "\n",
        "* **Solution:**\n",
        "    * There are 13 hearts in a deck.  The probability of drawing a heart is 13/52.\n",
        "    * There are 12 face cards in a deck (4 Jacks, 4 Queens, and 4 Kings). The probability of drawing a face card is 12/52.\n",
        "    * There are 3 cards that are *both* a heart *and* a face card (the Jack, Queen, and King of hearts).  The probability of drawing a heart face card is 3/52.  We need to subtract this to avoid double counting.\n",
        "    * The probability of drawing a heart or a face card is (13/52) + (12/52) - (3/52) = 22/52 = 11/26.\n",
        "    * So, the probability of drawing a heart or a face card is 11/26, or approximately 42.31%.\n",
        "\n",
        "### Probability of Two Events Occurring Together: Independent\n",
        "\n",
        "$P(A \\cap B) = P(A) * P(B)$\n",
        "\n",
        "Multiply the probabilities of each event together\n",
        "\n",
        "Example problem: The probability of getting a job you applied for is 45% and the probability of you getting the apartment you applied for is 75%. What is the probability of getting both the new job and the new car? Is this `and` or `or`?\n",
        "\n",
        "* Step 1: Convert your percentages of the two events to decimals. In the above example:\n",
        "    * 45% = .45\n",
        "    * 75% = .75\n",
        "* Step 2: Multiply the decimals from step 1 together:\n",
        "    * .45 x .75 = .3375 or 33.75 percent.\n",
        "* The probability of you getting the job and the car is 33.75%\n",
        "* The probability that two events will both occur can never be greater than the probability that each will occur individually.\n",
        "\n",
        "\n",
        "### Probability of Two Events Occurring Together: Dependent\n",
        "\n",
        "$P(A \\cap B) = P(A) * P(B|A)$\n",
        "\n",
        "Example problem: Eighty five percent of employees have health insurance. Out of those 85%, 45% had deductibles higher than 1K. What percentage of people had deductibles higher than 1K? Is this `and` or `or`?\n",
        "\n",
        "* Step 1: Convert your percentages of the two events to decimals. In the above example:\n",
        "    * 85% = .85\n",
        "    * 45% = .45\n",
        "* Step 2: Multiply the decimals from step 1 together:\n",
        "    * .85 x .45 = .3825 or 38.25 percent.\n",
        "* The probability of someone having a deductible of over $1,000 is 38.35%\n",
        " The probability that two events will both occur can never be greater than the probability that each will occur individually.\n",
        "\n",
        "https://www.statisticshowto.com/probability-and-statistics/probability-main-index/how-to-find-the-probability-of-two-events-occurring-together/\n",
        "\n",
        "In a pack of 52 cards, a card is drawn at random without replacement. Find the probability of drawing a queen followed by a jack.\n",
        "\n",
        "Solution:\n",
        "\n",
        "* P (drawing a queen in the first place) = 4 / 52\n",
        "* P (drawing jack in the second place given that queen is in the first place) = 4 / 51\n",
        "* P (drawing a queen followed by a jack)\n",
        "* (4/52) * (4/51)"
      ]
    },
    {
      "cell_type": "markdown",
      "id": "87c6db23",
      "metadata": {
        "id": "87c6db23"
      },
      "source": [
        "## The Conjunction Fallacy\n",
        "\n",
        "The Conjunction Fallacy is a fallacy or error in decision making where people judge that a conjunction of two possible events is more likely than one or both of the conjuncts.\n",
        "\n",
        "* Which is greater: the number of six-letter English words having n as their fifth letter or the number of six-letter\n",
        "English words ending in ing?\n",
        "* Which is more likely: that a defendant, after discovering the body, left the scene of the crime or that a defendant, after discovering the body, left the scene of the crime because he feared being accused of the grisly murder?\n",
        "* Is it more probable that the president will increase federal aid to education or that he or she will increase federal aid to education with funding freed by cutting other aid to the states?\n",
        "* Is it more likely that your company will increase sales next year or that it will increase sales next year because the overall economy has had a banner year?\n",
        "\n",
        "In each case, even though the latter is less probable than the former, it may sound more likely. Or as Kahneman and Tversky put it, “A good story is often less probable than a less satisfactory explanation.\n",
        "\n",
        "The Drunkard's Walk"
      ]
    },
    {
      "cell_type": "markdown",
      "source": [
        "## The Prosecutor's Fallacy"
      ],
      "metadata": {
        "id": "7UwWXHnGhiUZ"
      },
      "id": "7UwWXHnGhiUZ"
    },
    {
      "cell_type": "markdown",
      "id": "d251340f",
      "metadata": {
        "id": "d251340f"
      },
      "source": [
        "### Juanita Brooks: Dependent or Independent Variables?\n",
        "\n",
        "* On June 18, 1964, Mrs. Juanita Brooks was walking home along an alley in the San Pedro area of Los Angeles.\n",
        "* She was carrying a basket of groceries and had her purse on top of the packages.\n",
        "* She was using a cane when she was suddenly pushed to the ground by a person she neither saw nor heard approach.\n",
        "* The person stole her purse, which contained between $35 and $40.\n",
        "* Looking up Mrs. Brooks noticed a young woman with light hair running away.\n",
        "* A witness, John Bass, saw a young woman run out of the alley and enter a yellow car.\n",
        "* The car was described as being medium to large in size and yellow, with either an off-white or egg-shell white top.\n",
        "* The driver was described as a person of color, wearing a mustache and beard.\n",
        "* A few days later a police officer spotted a car matching the description of the suspects' vehicle near their home.\n",
        "* The suspects matched the description except for the man's beard.\n",
        "* The police arrested Malcolm Ricardo Collins and his wife Janet.\n",
        "* The victim could not identify Janet and hadn't seen the driver.\n",
        "* The witness couldn't positively identify Malcolm as the driver.\n",
        "\n",
        "Enter the star witness, described in the California Supreme Court opinion only as “an instructor of mathematics at a state college.” This witness testified that the fact that the defendants were “a Caucasian woman with a blond ponytail…[and] a person of color with a beard and mustache” who drove a partly yellow automobile was enough to convict the couple. To illustrate its point, the prosecution presented this table, quoted here verbatim from the supreme court decision:\n",
        "\n",
        "* Partly yellow automobile 1/10\n",
        "* Man with mustache 1/4\n",
        "* Man with beard 1/10\n",
        "* Woman with ponytail 1/10\n",
        "* Woman with blond hair 1/3\n",
        "* Interracial couple in car 1/1,000\n",
        "\n",
        "Results: The math instructor called by the prosecution said that the product rule applies to this data. By multiplying all the probabilities, one concludes that the chances of a couple fitting all these distinctive characteristics are 1 in 12 million. Accordingly, he said, one could infer that the chances that the couple was innocent were 1 in 12 million. The prosecutor then pointed out that these individual probabilities were estimates and invited the jurors to supply their own guesses and then do the math. He himself, he said, believed they were conservative estimates, and the probability he came up with employing the factors he assigned was more like 1 in 1 billion. The jury bought it and convicted the couple.\n",
        "\n",
        "* The math instructor's argument is flawed because the categories are not independent.\n",
        "* Eliminating the category 'Man with beard' reduces the product of probabilities to 1 in 1 million (many have beard and moustache).\n",
        "* The relevant probability is the chance that a matching couple is guilty, not the chance that a random couple matches the description.\n",
        "* Given the population size of several million, the probability of a matching couple being guilty is only 1 in 2 or 3 (1 in a million in a population with several million).\n",
        "* The conviction was overturned due to these errors."
      ]
    },
    {
      "cell_type": "markdown",
      "source": [
        "### O. J. Simpson: The Other Side of Probability\n",
        "\n",
        "* Alan Dershowitz used the prosecutor's fallacy in the O.J. Simpson trial.\n",
        "* The prosecution focused on Simpson's history of violence against Nicole.\n",
        "* Dershowitz argued that most abusive spouses don't kill their partners, which is true.\n",
        "* However, he ignored the statistic that most murdered battered women are killed by their abusers.\n",
        "* The jury found Simpson not guilty.\n",
        "* Dershowitz believes the justice system doesn't require telling the whole truth.\n"
      ],
      "metadata": {
        "id": "mAcQpXyugRtQ"
      },
      "id": "mAcQpXyugRtQ"
    },
    {
      "cell_type": "markdown",
      "id": "a7f98c00",
      "metadata": {
        "id": "a7f98c00"
      },
      "source": [
        "## Monty Hall Problem\n",
        "\n",
        "Ask Marilyn column (in Parade magazine)\n",
        "\n",
        "* Marilyn von Savant\n",
        "* Guinness World Records Hall of Fame highest IQ\n",
        "* Married to Robert Jarvik, artificial heart\n",
        "\n",
        "Let's Make a Deal\n",
        "\n",
        "* Monty Hall\n",
        "* Wayne Brady\n",
        "\n",
        "Suppose the contestants on a game show are given the choice of three doors: Behind one door is\n",
        "a car; behind the others, goats. After a contestant picks a door, the host, who knows what’s\n",
        "behind all the doors, opens one of the unchosen doors, which reveals a goat. He then says to the\n",
        "contestant, “Do you want to switch to the other unopened door?” Is it to the contestant’s\n",
        "advantage to make the switch?\n",
        "\n",
        "* Marilyn says switch\n",
        "* Onslaught of criticism started rolling in\n",
        "* Mathematical Professors and teachers\n",
        "\n",
        "Professor from George Mason: Let me explain: If one door is shown to be a loser, that information changes the probability of either remaining choice—neither of which has any reason to be more likely—to 1/2. As a professional mathematician, I’m very concerned with the general public’s lack of mathematical skills. Please help by confessing your error and, in the future, being more careful.\n",
        "\n",
        "From Dickinson State University came this: “I am in shock that after being corrected by at least three mathematicians, you still do not see your mistake.” From Georgetown: “How many irate mathematicians are needed to change your mind?” And someone from the U.S. Army Research Institute remarked, “If all those PhDs are wrong the country would be in serious trouble.” Responses continued in such great numbers and for such a long time that after devoting quite a bit of column space to the issue, Marilyn decided she would no longer address it.\n",
        "\n",
        "Marilyn was right and here's the breakdown:\n",
        "\n",
        "* Starting with 1 out 3 choice you have the lucky guess scenario of picking the right door (1 out of 3)\n",
        "* The Wrong Guess scenario has chances 2 out of 3 that you are wrong\n",
        "* Host intervenes and opens a door knowing where the car is and not wanting to reveal it yet. This action violates randomness"
      ]
    },
    {
      "cell_type": "markdown",
      "id": "6bab865d",
      "metadata": {
        "id": "6bab865d"
      },
      "source": [
        "<table>\n",
        "<tr>\n",
        "<td>Behind door 1</td>\t<td>Behind door 2</td>\t<td>Behind door 3</td>\t<td>Result if staying at door 1</td>\t<td>Result if switching to the door offered</td>\n",
        "</tr>\n",
        "<tr>\n",
        "<td>Goat</td><td>Goat</td><td>Car</td>\t<td>Wins goat</td>\t<td>Wins car</td>\n",
        "</tr>\n",
        "<tr>\n",
        "<td>Goat</td><td>Car</td>\t<td>Goat</td>\t<td>Wins goat</td>\t<td>Wins car</td>\n",
        "</tr>\n",
        "<tr>\n",
        "<td>Car</td>\t<td>Goat</td><td>Goat</td>\t<td>Wins car</td>\t<td>Wins goat</td>\n",
        "</tr>\n",
        "</table>"
      ]
    },
    {
      "cell_type": "markdown",
      "id": "bbebcab0",
      "metadata": {
        "id": "bbebcab0"
      },
      "source": [
        "https://en.m.wikipedia.org/wiki/Monty_Hall_problem"
      ]
    },
    {
      "cell_type": "markdown",
      "source": [
        "## Formulas"
      ],
      "metadata": {
        "id": "wLLrXikVi1dO"
      },
      "id": "wLLrXikVi1dO"
    },
    {
      "cell_type": "markdown",
      "id": "d4af8014",
      "metadata": {
        "id": "d4af8014"
      },
      "source": [
        "### Factorial\n",
        "\n",
        "$n!$<br />\n",
        "5! = 1 * 2 * 3 * 4 * 5"
      ]
    },
    {
      "cell_type": "code",
      "execution_count": null,
      "id": "c5104c32",
      "metadata": {
        "id": "c5104c32"
      },
      "outputs": [],
      "source": [
        "# import numpy as np\n",
        "# from math import factorial\n",
        "\n",
        "# n = 5\n",
        "# fact = 1\n",
        "# test = 1\n",
        "\n",
        "# print(np.arange(1, n+1))\n",
        "# print(np.arange(1, n+1).prod())\n",
        "# for i in range(1, n+1):\n",
        "#     fact = fact * i\n",
        "#     test *= i # assignment operator https://www.w3schools.com/python/python_operators.asp\n",
        "\n",
        "# print('fact:', fact)\n",
        "# print('test:', test)\n",
        "# print('comprehension:', np.prod([i for i in range(1, n+1)]))\n",
        "# print('factorial:', factorial(n))"
      ]
    },
    {
      "cell_type": "markdown",
      "id": "0d58e552",
      "metadata": {
        "id": "0d58e552"
      },
      "source": [
        "### Permutations\n",
        "\n",
        "Order does matter (permutation, position)<br />\n",
        "The combination of a safe\n",
        "\n",
        "$_{n}P_r = \\frac{n!}{(n-r)!}$\n",
        "\n",
        "with repetitions\n",
        "\n",
        "$n^r$"
      ]
    },
    {
      "cell_type": "code",
      "execution_count": null,
      "id": "14376aa4",
      "metadata": {
        "id": "14376aa4"
      },
      "outputs": [],
      "source": [
        "# from itertools import permutations, product\n",
        "\n",
        "# l = [1, 2, 3]\n",
        "# n = len(l)\n",
        "# r = 3\n",
        "\n",
        "# perms = permutations(l)\n",
        "# print(list(perms))\n",
        "# print(factorial(n)/factorial(n - r))\n",
        "# print()\n",
        "# print('with repetitions (n^r)')\n",
        "# print([p for p in product(l, repeat=r)])\n",
        "# print(n**r)"
      ]
    },
    {
      "cell_type": "markdown",
      "id": "eb335ec6",
      "metadata": {
        "id": "eb335ec6"
      },
      "source": [
        "#### Example\n",
        "\n",
        "$_{n}P_r = \\frac{n!}{(n-r)!}$"
      ]
    },
    {
      "cell_type": "code",
      "execution_count": null,
      "id": "68a7dcf3",
      "metadata": {
        "id": "68a7dcf3"
      },
      "outputs": [],
      "source": [
        "# from itertools import permutations, product\n",
        "\n",
        "# l = [1, 2, 3]\n",
        "# n = len(l)\n",
        "# r = 2\n",
        "\n",
        "# perms = permutations(l, r)\n",
        "# print(list(perms))\n",
        "\n",
        "# print(factorial(n)/factorial(n - r))"
      ]
    },
    {
      "cell_type": "markdown",
      "id": "ff70cd10",
      "metadata": {
        "id": "ff70cd10"
      },
      "source": [
        "#### Another Example\n",
        "\n",
        "$_{16}P_{3}$ = $\\frac{16!}{(16-3)!}$ = 16 x 15 x 14 = 3,360"
      ]
    },
    {
      "cell_type": "code",
      "execution_count": null,
      "id": "aa07856e",
      "metadata": {
        "id": "aa07856e"
      },
      "outputs": [],
      "source": [
        "# # solve\n",
        "# n = 16\n",
        "# r = 3\n",
        "# print(factorial(n)/factorial(n - r))\n",
        "# print(16 * 15 * 14)"
      ]
    },
    {
      "cell_type": "markdown",
      "id": "69a01606",
      "metadata": {
        "id": "69a01606"
      },
      "source": [
        "$_{10}P_{2}$ = $\\frac{10!}{(10-2)!}$ = 10 x 9 = 90"
      ]
    },
    {
      "cell_type": "code",
      "execution_count": null,
      "id": "a5fdda80",
      "metadata": {
        "id": "a5fdda80"
      },
      "outputs": [],
      "source": [
        "# n = 10\n",
        "# r = 2\n",
        "# print(factorial(n)/factorial(n - r))\n",
        "# print(10 * 9)"
      ]
    },
    {
      "cell_type": "markdown",
      "id": "be2b8ad3",
      "metadata": {
        "id": "be2b8ad3"
      },
      "source": [
        "#### Four digit combination using number 0 - 9 without repetition\n",
        "\n",
        "$_{10}P_{4}$"
      ]
    },
    {
      "cell_type": "code",
      "execution_count": null,
      "id": "e77891dd",
      "metadata": {
        "id": "e77891dd"
      },
      "outputs": [],
      "source": [
        "# # how many permutations without repetition?\n",
        "# n = 10\n",
        "# r = 4\n",
        "# print(factorial(n)/factorial(n - r))\n",
        "# print(10 * 9 * 8 * 7)"
      ]
    },
    {
      "cell_type": "markdown",
      "id": "018d2d4c",
      "metadata": {
        "id": "018d2d4c"
      },
      "source": [
        "### Combinations\n",
        "\n",
        "Order doesn't matter<br />\n",
        "Items on a pizza\n",
        "\n",
        "$C(n,r) = C_r^{n} = {_nC_r} = \\binom {n}{r}  = \\frac{n!}{r!(n-r)!}$"
      ]
    },
    {
      "cell_type": "code",
      "execution_count": null,
      "id": "3c975b2d",
      "metadata": {
        "id": "3c975b2d"
      },
      "outputs": [],
      "source": [
        "# from itertools import combinations\n",
        "\n",
        "# l = [1, 2, 3]\n",
        "# n = len(l)\n",
        "# r = 2\n",
        "# combs = combinations(l, r)\n",
        "# print(list(combs))\n",
        "# print(factorial(n)/(factorial(r) * factorial(n - r)))"
      ]
    },
    {
      "cell_type": "markdown",
      "id": "fad946b2",
      "metadata": {
        "id": "fad946b2"
      },
      "source": [
        "**Practice**\n",
        "\n",
        "Solve ${_nC_r} = \\binom {n}{r}  = \\frac{n!}{r!(n-r)!}$<br />\n",
        "Where n = 10 and r = 4"
      ]
    },
    {
      "cell_type": "code",
      "execution_count": null,
      "id": "225743e5",
      "metadata": {
        "id": "225743e5"
      },
      "outputs": [],
      "source": [
        "# # solve\n",
        "# n = 10\n",
        "# r = 4\n",
        "# print(factorial(n)/(factorial(r) * factorial(n - r)))"
      ]
    },
    {
      "cell_type": "markdown",
      "id": "6af51749",
      "metadata": {
        "id": "6af51749"
      },
      "source": [
        "**Relationship with permutations**<br />\n",
        "${_nC_r}$ * $r!$ = permutations"
      ]
    },
    {
      "cell_type": "code",
      "execution_count": null,
      "id": "531eb54f",
      "metadata": {
        "id": "531eb54f"
      },
      "outputs": [],
      "source": [
        "# # solve and compare to permutation where n = 10 and r = 4\n",
        "# # see figure 1 http://mathandmultimedia.com/2010/01/02/intro-to-combinations/\n",
        "# 210 * factorial(4)"
      ]
    },
    {
      "cell_type": "markdown",
      "id": "f5248205",
      "metadata": {
        "id": "f5248205"
      },
      "source": [
        "#### With Replacement\n",
        "\n",
        "$_{n+r-1}C_r = \\frac{(r+n-1)!}{r!(n-1)!}$"
      ]
    },
    {
      "cell_type": "code",
      "execution_count": null,
      "id": "d6ab3b19",
      "metadata": {
        "id": "d6ab3b19"
      },
      "outputs": [],
      "source": [
        "# from itertools import combinations_with_replacement\n",
        "\n",
        "# combs = combinations_with_replacement(l, r)\n",
        "# print(list(combs))\n",
        "# print(factorial(n+r-1)/(factorial(r)*factorial(n-1)))"
      ]
    },
    {
      "cell_type": "markdown",
      "id": "7acc7d0f",
      "metadata": {
        "id": "7acc7d0f"
      },
      "source": [
        "### Intersections\n",
        "\n",
        "$A \\cap B = \\{\\: x: x \\in A \\: and \\: x \\in B \\:\\}$\n",
        "\n",
        "order doesn't matter $A \\cap B$ or $B \\cap A$"
      ]
    },
    {
      "cell_type": "code",
      "execution_count": null,
      "id": "0c0b126d",
      "metadata": {
        "scrolled": true,
        "id": "0c0b126d"
      },
      "outputs": [],
      "source": [
        "# # https://anaconda.org/conda-forge/matplotlib-venn\n",
        "# # https://pypi.org/project/matplotlib-venn/\n",
        "# # https://towardsdatascience.com/visualizing-intersections-and-overlaps-with-python-a6af49c597d9\n",
        "# # https://practicaldatascience.co.uk/data-science/how-to-visualise-data-using-venn-diagrams-in-matplotlib\n",
        "\n",
        "# import matplotlib.pyplot as plt\n",
        "# from matplotlib_venn import venn2, venn2_circles\n",
        "\n",
        "# set1 = {1, 2, 3, 4}\n",
        "# set2 = {3, 4, 5, 6, 7, 8}\n",
        "# print([value for value in set1 if value in set2])\n",
        "# print(set1 & set2)\n",
        "# print(set1.intersection(set2))\n",
        "\n",
        "# venn2([set1, set2])\n",
        "# plt.show()"
      ]
    },
    {
      "cell_type": "markdown",
      "id": "27deb30d",
      "metadata": {
        "id": "27deb30d"
      },
      "source": [
        "#### Independent\n",
        "\n",
        "$P(A \\cap B) = P(A) * P(B)$"
      ]
    },
    {
      "cell_type": "code",
      "execution_count": null,
      "id": "ee2a24e4",
      "metadata": {
        "id": "ee2a24e4"
      },
      "outputs": [],
      "source": [
        "# # what's the probability of a random pick of a number from 1 - 10 if P(A) less than 5 and P(B) odd\n",
        "# # filter https://www.pythonlikeyoumeanit.com/Module2_EssentialsOfPython/Iterables.html\n",
        "# event_space = [1, 2, 3, 4, 5, 6, 7, 8, 9, 10]\n",
        "# N = len(event_space)\n",
        "# a = filter(lambda x: x < 5, event_space)\n",
        "# a = list(a)\n",
        "# print(a)\n",
        "# pa = len(list(a))/N\n",
        "# print(pa)\n",
        "# b = filter(lambda x: x % 2 == 1, event_space)\n",
        "# b = list(b)\n",
        "# print(b)\n",
        "# pb = len(list(b))/N\n",
        "# print(pb)\n",
        "# print(f'Probability of < 5 and odd: {pa * pb}')"
      ]
    },
    {
      "cell_type": "markdown",
      "id": "790132d3",
      "metadata": {
        "id": "790132d3"
      },
      "source": [
        "#### Dependent\n",
        "\n",
        "$P(A \\cap B) = P(A) * P(B|A) = P(B) * P(A|B)$<br />\n",
        "also expressed as P(A and B) = P(A) * P(B given A)"
      ]
    },
    {
      "cell_type": "code",
      "execution_count": null,
      "id": "2a74c112",
      "metadata": {
        "id": "2a74c112"
      },
      "outputs": [],
      "source": [
        "# # https://www.mathsisfun.com/data/probability-events-conditional.html\n",
        "# # https://en.wikipedia.org/wiki/Sample_space\n",
        "# # number of outcomes in event / total possible outcomes in sample space\n",
        "\n",
        "# bag = ['red', 'red', 'red', 'blue', 'blue']\n",
        "# mcolor = 'blue'\n",
        "# print(f'Probability of picking two {mcolor} marbles from this bag:')\n",
        "# bag_dict = {item:bag.count(item) for item in bag}\n",
        "# print(bag_dict)\n",
        "\n",
        "# # P(A) probability of picking blue 2 / 5\n",
        "# pa = bag_dict[mcolor] / len(bag)\n",
        "# print(f'Probability of picking a {mcolor}: {pa}')\n",
        "# bag.remove(mcolor)\n",
        "# print(f'Bag minus one {mcolor}:')\n",
        "# bag_dict = {item:bag.count(item) for item in bag}\n",
        "# print(bag_dict)\n",
        "# print(f'Probability of picking another {mcolor} with just four marbles: {(bag_dict[mcolor] / len(bag))}')\n",
        "# print()\n",
        "# # P(B|A) probability of picking another blue given you already picked a blue\n",
        "# print(f'Probability of picking two {mcolor} marbles in a row: {pa * (bag_dict[mcolor] / len(bag))}')"
      ]
    },
    {
      "cell_type": "markdown",
      "id": "ede727d1",
      "metadata": {
        "id": "ede727d1"
      },
      "source": [
        "### Unions\n",
        "\n",
        "$P(A \\cup B) = P(A) + P(B) - P(A \\cap B)$<br />\n",
        "also expressed P(A or B)<br />\n",
        "order doesn't matter"
      ]
    },
    {
      "cell_type": "code",
      "execution_count": null,
      "id": "d8c48ad6",
      "metadata": {
        "id": "d8c48ad6"
      },
      "outputs": [],
      "source": [
        "# # what's the probability of a random pick of a number from 1 - 10 is P(A) less than 5 or P(B) odd\n",
        "# print(event_space)\n",
        "# print(a)\n",
        "# print(pa)\n",
        "# print(b)\n",
        "# print(pb)\n",
        "# print(f'Probability of the union of A or B is {pa + pb - (pa * pb)}')\n",
        "\n",
        "# venn2([set(a), set(b)])\n",
        "# plt.show()"
      ]
    },
    {
      "cell_type": "markdown",
      "id": "87e841dd",
      "metadata": {
        "id": "87e841dd"
      },
      "source": [
        "#### Unions if mutually exclusive (vs. disjoint)\n",
        "\n",
        "$P(A \\cup B) = P(A) + P(B) - P(A \\cap B)$ where $P(A \\cap B) = 0$\n",
        "<br />so<br />\n",
        "$P(A \\cup B) = P(A) + P(B)$\n",
        "\n",
        "Mutually Exclusive: $P(A \\cap B) = 0$<br />\n",
        "Disjoint (dealing in sets): $A \\cap B = 0$"
      ]
    },
    {
      "cell_type": "code",
      "execution_count": null,
      "id": "fe15cd1e",
      "metadata": {
        "id": "fe15cd1e"
      },
      "outputs": [],
      "source": [
        "# # is drawing an even number or odd number mutually exclusive?\n",
        "# print(event_space)\n",
        "# N = len(event_space)\n",
        "# c = filter(lambda x: x % 2 == 0, event_space)\n",
        "# c = list(c)\n",
        "# print(c)\n",
        "# pc = len(list(c))/N\n",
        "# print(pc)\n",
        "# d = filter(lambda x: x % 2 == 1, event_space)\n",
        "# d = list(d)\n",
        "# print(d)\n",
        "# pd = len(list(d))/N\n",
        "# print(pd)\n",
        "# print(set(c).intersection(set(d)))\n",
        "\n",
        "# venn2([set(c), set(d)])\n",
        "# plt.show()"
      ]
    },
    {
      "cell_type": "markdown",
      "id": "67cfe7cd",
      "metadata": {
        "id": "67cfe7cd"
      },
      "source": [
        "### Compliment\n",
        "\n",
        "Compliment of $A$ is $\\bar{A}$\n",
        "\n",
        "Is the compliment of A mutually exclusive with A?"
      ]
    },
    {
      "cell_type": "code",
      "execution_count": null,
      "id": "768b36c8",
      "metadata": {
        "id": "768b36c8"
      },
      "outputs": [],
      "source": [
        "# event_space = [1, 2, 3, 4, 5, 6, 7, 8, 9, 10]\n",
        "# N = len(event_space)\n",
        "# a = filter(lambda x: x < 5, event_space)\n",
        "# a = list(a)\n",
        "# print(a)\n",
        "\n",
        "# a_compliment = np.setdiff1d(event_space, a)\n",
        "# print(a_compliment)\n",
        "\n",
        "# print([value for value in event_space if value not in a])"
      ]
    },
    {
      "cell_type": "markdown",
      "id": "89fa6789",
      "metadata": {
        "id": "89fa6789"
      },
      "source": [
        "### Conditional Probability\n",
        "\n",
        "https://towardsdatascience.com/conditional-probability-with-a-python-example-fd6f5937cd2<br />\n",
        "https://towardsdatascience.com/conditional-probability-with-python-concepts-tables-code-c23ffe65d110<br />\n",
        "\n",
        "$P(A|B) = \\frac{P(A \\cap B)}{P(B)}$<br />\n",
        "\n",
        "What's the probability of something given something else\n",
        "\n",
        "Terms\n",
        "* $P(A|B)$: Probability of A given B\n",
        "* $P(A \\cap B)$: Probability of A and B\n",
        "* $P(B)$: Probability of B"
      ]
    },
    {
      "cell_type": "markdown",
      "id": "a6bdd5ea",
      "metadata": {
        "id": "a6bdd5ea"
      },
      "source": [
        "### Addition and Multiplication Rules\n",
        "\n",
        "* Addition Rule: $P(A \\cup B) = P(A) + P(B) - P(A \\cap B)$\n",
        "* Multiplication Rule: $P(A \\cap B) = P(A) * P(B|A)$<br />"
      ]
    },
    {
      "cell_type": "markdown",
      "source": [
        "### Decision Tree Example\n",
        "\n",
        "https://mathsathome.com/probability-tree-diagrams/\n",
        "* The probability of rain is 0.2 and the probability of being late given rain is 0.3\n",
        "* if it's raining and late\n",
        "* if it's not raining and late\n",
        "* if it's raining or not raining and late\n"
      ],
      "metadata": {
        "id": "RR1dHLGQwlPK"
      },
      "id": "RR1dHLGQwlPK"
    },
    {
      "cell_type": "markdown",
      "source": [
        "## Tables"
      ],
      "metadata": {
        "id": "2tTO5GxmtZNn"
      },
      "id": "2tTO5GxmtZNn"
    },
    {
      "cell_type": "code",
      "execution_count": null,
      "id": "2b59059b",
      "metadata": {
        "scrolled": true,
        "id": "2b59059b"
      },
      "outputs": [],
      "source": [
        "# # seaborn mpg dataset\n",
        "# import seaborn as sns\n",
        "\n",
        "# mpg = sns.load_dataset('mpg')\n",
        "# print(mpg.shape)\n",
        "# print(mpg.head())"
      ]
    },
    {
      "cell_type": "code",
      "execution_count": null,
      "id": "991d510b",
      "metadata": {
        "id": "991d510b"
      },
      "outputs": [],
      "source": [
        "# # find mpg quartiles\n",
        "# mpg.describe()"
      ]
    },
    {
      "cell_type": "code",
      "source": [
        "# # create a feature where 1 represents horsepower > 94 (median) and 0 if not\n",
        "# import numpy as np\n",
        "\n",
        "# mpg['above_median_hp'] = np.where(mpg['horsepower'] > 94, 1, 0)\n",
        "\n",
        "# # create a feature where 1 represents mpg > 23 and 0 if not\n",
        "# mpg['above_median_mpg'] = np.where(mpg['mpg'] > 23, 1, 0)\n",
        "\n",
        "# mpg['count'] = 1\n",
        "# mpg[['above_median_hp', 'above_median_mpg', 'count']].head()"
      ],
      "metadata": {
        "id": "037Nqumztqvz"
      },
      "id": "037Nqumztqvz",
      "execution_count": null,
      "outputs": []
    },
    {
      "cell_type": "markdown",
      "id": "b8813817",
      "metadata": {
        "id": "b8813817"
      },
      "source": [
        "### Cross Tab\n",
        "\n",
        "According to Wikipedia (2022):\n",
        "\n",
        "> In statistics, a contingency table (also known as a cross tabulation or crosstab) is a type of table in a matrix format that displays the (multivariate) frequency distribution of the variables. They are heavily used in survey research, business intelligence, engineering, and scientific research (para. 1).\n",
        "\n",
        "Contingency table. (February 6, 2022). In *Wikipedia*. https://en.wikipedia.org/wiki/Contingency_table\n",
        "\n",
        "A crosstab is a table showing the relationship between two or more variables. Where the table only shows the relationship between two categorical variables, a crosstab is also known as a contingency table.\n",
        "\n",
        "https://www.displayr.com/what-is-a-crosstab/"
      ]
    },
    {
      "cell_type": "code",
      "execution_count": null,
      "id": "4fd63ce6",
      "metadata": {
        "id": "4fd63ce6"
      },
      "outputs": [],
      "source": [
        "# import pandas as pd\n",
        "\n",
        "# a = mpg['count']\n",
        "# b = mpg['above_median_hp']\n",
        "# c = mpg['above_median_mpg']\n",
        "# pd.crosstab(a, [b, c], rownames=['count'], colnames=['hp', 'mpg'])"
      ]
    },
    {
      "cell_type": "markdown",
      "id": "aa55f18f",
      "metadata": {
        "id": "aa55f18f"
      },
      "source": [
        "### Pivot Table\n",
        "\n",
        "According to Wikipedia (2022):\n",
        "\n",
        "> A pivot table is a table of grouped values that aggregates the individual items of a more extensive table (such as from a database, spreadsheet, or business intelligence program) within one or more discrete categories. This summary might include sums, averages, or other statistics, which the pivot table groups together using a chosen aggregation function applied to the grouped values (para. 1).\n",
        "\n",
        "Contingency table. (February 9, 2022). In *Wikipedia*. https://en.wikipedia.org/wiki/Pivot_table"
      ]
    },
    {
      "cell_type": "code",
      "execution_count": null,
      "id": "2868ca29",
      "metadata": {
        "scrolled": true,
        "id": "2868ca29"
      },
      "outputs": [],
      "source": [
        "# # create pivot table\n",
        "# result_pivot = mpg.pivot_table(values='count', index='above_median_mpg', columns='above_median_hp', aggfunc=np.mean)\n",
        "# result_pivot"
      ]
    },
    {
      "cell_type": "code",
      "execution_count": null,
      "id": "8c8a7ee6",
      "metadata": {
        "id": "8c8a7ee6"
      },
      "outputs": [],
      "source": [
        "# # P(A and B)\n",
        "# round((27) / (103 + 188 + 2 + 105), 2)"
      ]
    },
    {
      "cell_type": "markdown",
      "id": "aa548c68",
      "metadata": {
        "id": "aa548c68"
      },
      "source": [
        "## Bayes’ Theorem"
      ]
    },
    {
      "cell_type": "markdown",
      "id": "ad7fee1f",
      "metadata": {
        "id": "ad7fee1f"
      },
      "source": [
        "## Weather and Grilling\n",
        "\n"
      ]
    },
    {
      "cell_type": "markdown",
      "id": "e5f80a97",
      "metadata": {
        "id": "e5f80a97"
      },
      "source": [
        "## Example Problems"
      ]
    },
    {
      "cell_type": "markdown",
      "id": "53572636",
      "metadata": {
        "id": "53572636"
      },
      "source": [
        "### Problem 1\n",
        "\n",
        "It has started raining. It rains 10% of the time. We know that flooding can happen when it rains but it is rare. Flooding happnes 1% of the time. 90% of the time it floods we see rain. What's the probability of a flood given rain?<br />\n",
        "\n",
        "Review the equation:\n",
        "* P(A|B) = (P(A)P(B|A)) / P(B)\n",
        "* P(Flood|Rain) = (P(Flood)P(Rain|Flood)) / P(Rain)\n",
        "\n",
        "What we know:\n",
        "* P(A) = P(Flood) = .01\n",
        "* P(B) = P(Rain) = .1\n",
        "* P(B|A) = P(Rain|Flood) = .9"
      ]
    },
    {
      "cell_type": "code",
      "execution_count": null,
      "id": "305da8c9",
      "metadata": {
        "id": "305da8c9"
      },
      "outputs": [],
      "source": [
        "# # solve\n",
        "# .01*.9/.1"
      ]
    },
    {
      "cell_type": "markdown",
      "id": "64594915",
      "metadata": {
        "id": "64594915"
      },
      "source": [
        "Expect flooding 9% of the time if it starts raining"
      ]
    },
    {
      "cell_type": "markdown",
      "id": "95bfdad7",
      "metadata": {
        "id": "95bfdad7"
      },
      "source": [
        "### Problem 2\n",
        "\n",
        "A company makes clocks. 1% of the clocks are broken. The company tests for broken clocks and the test identifies a broken clock when it is broken 90% of the time. Unfortunately, the test also identifies a broken clock when it is not defective 9.6% of the time. If a clock tests as broken what's the probability that the clock is actually broken?\n",
        "\n",
        "What we know:\n",
        "* $P(A)$ = P(defective widget) = .01\n",
        "* $P(\\bar{A})$ = P(not defective widget) = .99\n",
        "* $P(B|A)$ = P(test identifies defect| defective widget) = .9\n",
        "* $P(B|\\bar{A})$ = P(test identifies defect| not defective widget) = .096\n",
        "\n",
        "Review the equation:\n",
        "* P(A|B) = (P(A)P(B|A)) / P(B)\n",
        "* P(defective widget| test identifies defect) = (P(defective widget) * P(test identifies defect| defected widget)) / P(B)\n",
        "\n",
        "Sovlve for P(B):\n",
        "* $P(B) = (P(A) * P(B|A)) + (P(\\bar{A}) * P(B|\\bar{A}))$\n",
        "* P(B) = (P(defective widget) * P(test identifies defect| defected widget)) + (P(not defective widget) * P(test identifies defect| not defected widget))\n",
        "* = (.01 * .9) + (.99 * .096)\n",
        "\n",
        "P(A|B) = (.01 * .9)/((.01 * .9) + (.99 * .096)) = .009/(.009+.09504) = 0.08651"
      ]
    },
    {
      "cell_type": "code",
      "execution_count": null,
      "id": "367538e2",
      "metadata": {
        "id": "367538e2"
      },
      "outputs": [],
      "source": [
        "# # solve\n",
        "# (.01 * .9)/((.01 * .9) + (.99 * .096))"
      ]
    },
    {
      "cell_type": "markdown",
      "id": "a08aa176",
      "metadata": {
        "id": "a08aa176"
      },
      "source": [
        "### Problem 3\n",
        "\n",
        "One hundred students enrolled in class and the administration had to divide into two classes. 60 students went into class 1 and 40 students went into class 2. We know that 2% of the students in class 1 are failing and 1.5% of the students are failing in class 2. All one hundred students went on a field trip during midterm. One student was randomly chosen and asked how things were going. Turns out this student is failing. What's the probability that this student is from class 1?\n",
        "\n",
        "What we know:\n",
        "* $P(A)$ = P(students in class 1) = .6\n",
        "* $P(\\bar{A})$ = P(students in class 2) = .4\n",
        "* $P(B)$ = failing\n",
        "* $P(B|A)$ = P(failing|class1) = .02\n",
        "* $P(B|\\bar{A})$ = P(failing|class2) = .015\n",
        "\n",
        "Equation review for P(B):\n",
        "* $P(B) = (P(A) * P(B|A)) + (P(\\bar{A}) * P(B|\\bar{A}))$\n",
        "* P(B) = (0.6 * 0.2) + (0.4 * 0.015) = 0.012 + 0.006 = 0.018<br />\n",
        "\n",
        "P(A|B) = (0.6 * 0.02) / ((0.6 * 0.02) + (0.4 * 0.015))"
      ]
    },
    {
      "cell_type": "code",
      "execution_count": null,
      "id": "fab2c3a8",
      "metadata": {
        "id": "fab2c3a8"
      },
      "outputs": [],
      "source": [
        "# # solve\n",
        "# (.02 * 0.6) / ((.02 * 0.6) + (0.015 * 0.4))"
      ]
    }
  ],
  "metadata": {
    "kernelspec": {
      "display_name": "Python 3 (ipykernel)",
      "language": "python",
      "name": "python3"
    },
    "language_info": {
      "codemirror_mode": {
        "name": "ipython",
        "version": 3
      },
      "file_extension": ".py",
      "mimetype": "text/x-python",
      "name": "python",
      "nbconvert_exporter": "python",
      "pygments_lexer": "ipython3",
      "version": "3.9.7"
    },
    "colab": {
      "provenance": [],
      "include_colab_link": true
    }
  },
  "nbformat": 4,
  "nbformat_minor": 5
}