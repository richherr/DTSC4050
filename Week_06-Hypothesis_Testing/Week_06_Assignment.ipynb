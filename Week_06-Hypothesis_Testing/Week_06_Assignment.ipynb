{
  "nbformat": 4,
  "nbformat_minor": 0,
  "metadata": {
    "colab": {
      "provenance": [],
      "authorship_tag": "ABX9TyOnv8+gh1apFTPz8SBX4wu/",
      "include_colab_link": true
    },
    "kernelspec": {
      "name": "python3",
      "display_name": "Python 3"
    },
    "language_info": {
      "name": "python"
    }
  },
  "cells": [
    {
      "cell_type": "markdown",
      "metadata": {
        "id": "view-in-github",
        "colab_type": "text"
      },
      "source": [
        "<a href=\"https://colab.research.google.com/github/gitmystuff/DTSC4050/blob/main/Week_06-Hypothesis_Testing/Week_06_Assignment.ipynb\" target=\"_parent\"><img src=\"https://colab.research.google.com/assets/colab-badge.svg\" alt=\"Open In Colab\"/></a>"
      ]
    },
    {
      "cell_type": "markdown",
      "source": [
        "# Assignment 06 - Assignment"
      ],
      "metadata": {
        "id": "fo0BDKQGgkWT"
      }
    },
    {
      "cell_type": "markdown",
      "source": [
        "## Getting Started\n",
        "\n",
        "* Colab - get notebook from gitmystuff DTSC4050 repository\n",
        "* Save a Copy in Drive\n",
        "* Remove Copy of\n",
        "* Edit name\n",
        "* Take attendance\n",
        "* Clean up Colab Notebooks folder\n",
        "* Submit shared link"
      ],
      "metadata": {
        "id": "aNoiieoOiHCO"
      }
    },
    {
      "cell_type": "markdown",
      "source": [
        "## Instructions\n",
        "\n",
        "**Statistical Methods for Data Science and Analysis: Hypothesis Testing with t-tests**\n",
        "\n",
        "**Objective:** To understand and apply the principles of hypothesis testing using t-tests.\n",
        "\n",
        "**Instructions:**\n",
        "\n",
        "1. **Review the Completed Example:** Carefully examine the provided completed example. Pay close attention to:\n",
        "    * How the data is generated.\n",
        "    * The stated null hypothesis (H0) and alternative hypothesis (H1).\n",
        "    * The calculation of the t-statistic and p-value using `scipy.stats`.\n",
        "    * The calculation of the degrees of freedom.\n",
        "    * The calculation of the critical value.\n",
        "    * The interpretation of the results and the conclusion drawn.\n",
        "\n",
        "2. **Analyze the Remaining Examples:** For each of the 10 numbered examples:\n",
        "\n",
        "    a. **Inspect the Data:** Look at the generated data for each group (or single group in the case of a one-sample test).  Think about what the data represents and formulate your own research question.\n",
        "\n",
        "    b. **State Your Hypotheses:** Based on your research question, write down the null hypothesis (H0) and the alternative hypothesis (H1) for each example.  Remember:\n",
        "    * The null hypothesis is a statement of no effect or no difference.\n",
        "    * The alternative hypothesis is what you are trying to find evidence for.  It can be one-tailed (directional) or two-tailed (non-directional).  In these examples, we will use two-tailed tests.\n",
        "\n",
        "    c. **Calculate the Test Statistic and P-value:** Use the appropriate `scipy.stats` function (`ttest_ind` for two independent samples, `ttest_1samp` for one sample) to calculate the t-statistic and p-value.\n",
        "\n",
        "    d. **Calculate the Degrees of Freedom:** Determine the correct degrees of freedom for each test.\n",
        "\n",
        "    e. **Calculate the Critical Value:** Calculate the critical value using `scipy.stats.t.ppf`. Remember to use a two-tailed test (alpha/2) and the correct degrees of freedom.\n",
        "\n",
        "    f. **Make a Decision:** Compare the absolute value of the calculated t-statistic to the critical value.  Also, compare the p-value to the significance level (alpha = 0.05, unless otherwise stated).\n",
        "\n",
        "    * If the absolute value of the t-statistic is *greater* than the critical value *and* the p-value is *less than* alpha, you *reject* the null hypothesis.  This means there is statistically significant evidence to support the alternative hypothesis.\n",
        "    * Otherwise, you *fail to reject* the null hypothesis. This means there is not enough evidence to support the alternative hypothesis.\n",
        "\n",
        "    g. **State Your Conclusion:** Write a conclusion in the context of the problem.  For example: \"We reject the null hypothesis and conclude that there is a statistically significant difference between the means of the two groups.\"  Or, \"We fail to reject the null hypothesis and conclude that there is no statistically significant difference between the means of the two groups.\"\n",
        "\n",
        "3. **Submit Your Work:**  Submit the shared link to this notebook including your hypotheses, calculations (t-statistic, p-value, degrees of freedom, critical value), decision (reject or fail to reject H0), and conclusion for each of the 10 examples.\n",
        "\n",
        "**Key Concepts to Remember:**\n",
        "\n",
        "* **Null Hypothesis (H0):** A statement of no effect or no difference.\n",
        "* **Alternative Hypothesis (H1):** A statement of an effect or a difference.\n",
        "* **T-statistic:** A measure of how far the sample mean(s) deviate from the hypothesized mean(s) in terms of standard error.\n",
        "* **P-value:** The probability of observing the data (or more extreme data) if the null hypothesis is true.\n",
        "* **Degrees of Freedom:**  Related to the sample size(s) and used to determine the appropriate t-distribution.\n",
        "* **Critical Value:** The threshold value used to determine statistical significance.\n",
        "* **Alpha (Significance Level):** The probability of rejecting the null hypothesis when it is actually true (Type I error).  Commonly set to 0.05.\n",
        "\n",
        "This detailed instruction set should give your students a clear framework for completing the exercise and understanding the core concepts of hypothesis testing with t-tests.  Encourage them to ask questions and discuss their findings!\n"
      ],
      "metadata": {
        "id": "yxvoQ5w1ggHx"
      }
    },
    {
      "cell_type": "markdown",
      "source": [
        "## Review\n",
        "\n",
        "Example 1:\n",
        "* Define H0 and H1. Example:\n",
        "* H0: The means of the two groups are equal.\n",
        "* H1: The means of the two groups are not equal.\n",
        "\n",
        "* Calculate the t-statistic, p-value, critical value and make a conclusion.\n",
        "* Example calculation:\n",
        "* t_statistic, p_value = stats.ttest_ind(group1, group2)\n",
        "* alpha = 0.05\n",
        "* degrees_of_freedom = len(group1) + len(group2) - 2\n",
        "* critical_value = stats.t.ppf(1 - alpha/2, degrees_of_freedom)\n",
        "\n",
        "Example 2:\n",
        "* Define H0 and H1. Example:\n",
        "* H0: The population mean is 50.\n",
        "* H1: The population mean is not 50.\n",
        "\n",
        "* Calculate the t-statistic, p-value, critical value and make a conclusion.\n",
        "* Example calculation:\n",
        "* t_statistic, p_value = stats.ttest_1samp(data, 50)\n",
        "* alpha = 0.05\n",
        "* degrees_of_freedom = len(data) - 1\n",
        "* critical_value = stats.t.ppf(1 - alpha/2, degrees_of_freedom)"
      ],
      "metadata": {
        "id": "t8-UDUDphPfs"
      }
    },
    {
      "cell_type": "markdown",
      "source": [
        "## Set the Seed"
      ],
      "metadata": {
        "id": "wPEnEoE2hndT"
      }
    },
    {
      "cell_type": "code",
      "source": [
        "# set seed\n",
        "import time\n",
        "import numpy as np\n",
        "import random\n",
        "\n",
        "def generate_user_seed():\n",
        "    # Get current time in nanoseconds (more granular)\n",
        "    nanoseconds = time.time_ns()\n",
        "\n",
        "    # Add a small random component to further reduce collision chances\n",
        "    random_component = random.randint(0, 1000)  # Adjust range as needed\n",
        "\n",
        "    # Combine them (XOR is a good way to mix values)\n",
        "    seed = nanoseconds ^ random_component\n",
        "\n",
        "    # Ensure the seed is within the valid range for numpy's seed\n",
        "    seed = seed % (2**32)  # Modulo to keep it within 32-bit range\n",
        "\n",
        "    return seed\n",
        "\n",
        "user_seed = generate_user_seed()\n",
        "print(user_seed)\n",
        "np.random.seed(user_seed)"
      ],
      "metadata": {
        "colab": {
          "base_uri": "https://localhost:8080/"
        },
        "id": "7NFq86ljcF3i",
        "outputId": "6edd3606-9abf-44f9-f9f5-115e22aa7b10"
      },
      "execution_count": null,
      "outputs": [
        {
          "output_type": "stream",
          "name": "stdout",
          "text": [
            "473075039\n"
          ]
        }
      ]
    },
    {
      "cell_type": "markdown",
      "source": [
        "## Completed Example"
      ],
      "metadata": {
        "id": "SnnkwnQkhqnR"
      }
    },
    {
      "cell_type": "code",
      "execution_count": null,
      "metadata": {
        "colab": {
          "base_uri": "https://localhost:8080/"
        },
        "id": "J2-wEzNdbZLl",
        "outputId": "2bf819b9-b018-4602-c380-ca8adccaaed6"
      },
      "outputs": [
        {
          "output_type": "stream",
          "name": "stdout",
          "text": [
            "Completed Example:\n",
            "T-statistic: -2.969201681099344\n",
            "P-value: 0.004335895638967814\n",
            "Critical Value: 2.0017174841452356\n",
            "Alpha: 0.05\n",
            "Reject the null hypothesis. The means are significantly different.\n",
            "--------------------------------------------------\n"
          ]
        }
      ],
      "source": [
        "import numpy as np\n",
        "import scipy.stats as stats\n",
        "\n",
        "# Completed Example:\n",
        "group1 = np.random.normal(10, 2, 30)  # Mean 10, std dev 2, 30 samples\n",
        "group2 = np.random.normal(12, 2, 30)  # Mean 12, std dev 2, 30 samples\n",
        "\n",
        "# Null Hypothesis (H0): The means of the two groups are equal.\n",
        "# Alternative Hypothesis (H1): The means of the two groups are not equal.\n",
        "\n",
        "t_statistic, p_value = stats.ttest_ind(group1, group2) #Independent samples t-test\n",
        "\n",
        "alpha = 0.05\n",
        "degrees_of_freedom = len(group1) + len(group2) - 2 #Degrees of freedom for a two sample t-test\n",
        "critical_value = stats.t.ppf(1 - alpha/2, degrees_of_freedom) #Two tailed test\n",
        "\n",
        "print(\"Completed Example:\")\n",
        "# print(\"Group 1:\", group1)\n",
        "# print(\"Group 2:\", group2)\n",
        "print(\"T-statistic:\", t_statistic)\n",
        "print(\"P-value:\", p_value)\n",
        "print(\"Critical Value:\", critical_value)\n",
        "print(\"Alpha:\", alpha)\n",
        "\n",
        "if abs(t_statistic) > critical_value and p_value < alpha:\n",
        "    print(\"Reject the null hypothesis. The means are significantly different.\")\n",
        "else:\n",
        "    print(\"Fail to reject the null hypothesis. There is no significant difference in means.\")\n",
        "print(\"-\" * 50)"
      ]
    },
    {
      "cell_type": "markdown",
      "source": [
        "## Create the Data"
      ],
      "metadata": {
        "id": "hjCR-VrJhvoT"
      }
    },
    {
      "cell_type": "code",
      "source": [
        "import numpy as np\n",
        "import scipy.stats as stats\n",
        "import pandas as pd  # Import pandas for data storage\n",
        "\n",
        "# Dictionary to store the data for each example\n",
        "example_data = {}\n",
        "\n",
        "np.random.seed(1)\n",
        "for i in range(1, 11):\n",
        "    if i % 2 == 0:\n",
        "        data = np.random.normal(50, 5, 25)\n",
        "        example_data[f'example_{i}'] = {'data': data}  # Store the data\n",
        "        print(f\"Example {i}\")\n",
        "        print(\"Data:\", data)\n",
        "\n",
        "    else:\n",
        "        group1 = np.random.normal(20, 3, 20)\n",
        "        group2 = np.random.normal(22, 3, 20)\n",
        "        example_data[f'example_{i}'] = {'group1': group1, 'group2': group2}  # Store the data\n",
        "        print(f\"Example {i}\")\n",
        "        print(\"Group 1:\", group1)\n",
        "        print(\"Group 2:\", group2)\n",
        "\n",
        "    print(\"-\" * 50)\n",
        "\n",
        "# --- Saving the data to a CSV file ---\n",
        "data_list = []\n",
        "for example_name, data in example_data.items():\n",
        "    if 'data' in data: #One sample test\n",
        "        df = pd.DataFrame(data['data'], columns=['data'])\n",
        "        df['example'] = example_name\n",
        "        data_list.append(df)\n",
        "    else: #Two sample test\n",
        "        df1 = pd.DataFrame(data['group1'], columns=['group1'])\n",
        "        df2 = pd.DataFrame(data['group2'], columns=['group2'])\n",
        "        df = pd.concat([df1, df2], axis=1)\n",
        "        df['example'] = example_name\n",
        "        data_list.append(df)\n",
        "final_df = pd.concat(data_list, ignore_index=True)\n",
        "final_df.to_csv('hypothesis_testing_data.csv', index=False)"
      ],
      "metadata": {
        "colab": {
          "base_uri": "https://localhost:8080/"
        },
        "id": "JnIu7i7Wd60z",
        "outputId": "3f534db6-ae1d-4470-9dfe-8fb3371a410b"
      },
      "execution_count": null,
      "outputs": [
        {
          "output_type": "stream",
          "name": "stdout",
          "text": [
            "Example 1\n",
            "Group 1: [24.87303609 18.16473076 18.41548474 16.78109413 22.59622289 13.09538391\n",
            " 25.23443529 17.7163793  20.95711729 19.25188887 24.38632381 13.81957787\n",
            " 19.03274839 18.84783694 23.40130833 16.7003262  19.48271538 17.36642475\n",
            " 20.12664124 21.74844564]\n",
            "Group 2: [18.69814247 25.43417113 24.70477216 23.50748302 24.70256785 19.94881642\n",
            " 21.63132932 19.1926917  21.19633576 23.5910664  19.92501774 20.80973942\n",
            " 19.9384819  19.46438308 19.98626161 21.9620062  18.64806895 22.70324709\n",
            " 26.97940653 24.22613248]\n",
            "--------------------------------------------------\n",
            "Example 2\n",
            "Data: [49.04082224 45.56185518 46.26420853 58.46227301 50.25403877 46.81502177\n",
            " 50.95457742 60.50127568 50.60079476 53.08601555 51.5008516  48.23875077\n",
            " 44.28740901 48.25328639 48.95552883 52.93311596 54.19491707 54.65551041\n",
            " 51.42793663 54.42570582 46.2280103  56.26434078 52.5646491  48.50953582\n",
            " 52.44259073]\n",
            "--------------------------------------------------\n",
            "Example 3\n",
            "Group 1: [19.77328486 23.39488816 24.55945045 26.55672622 15.81051099 15.66765858\n",
            " 18.48660241 20.48011121 22.62850676 20.94690484 13.93339635 19.08138796\n",
            " 22.48392393 20.69028421 22.28603354 19.33301557 19.39772579 20.55968417\n",
            " 21.23015494 20.59489916]\n",
            "Group 2: [22.35702594 19.98801314 23.13269136 22.36546381 25.38845172 25.59675364\n",
            " 22.55546925 20.87414515 20.08380878 23.27048306 22.23202021 20.96843897\n",
            " 22.13079057 20.13999747 24.0940961  20.65861431 25.67352311 23.21047493\n",
            " 23.78073557 18.71526446]\n",
            "--------------------------------------------------\n",
            "Example 4\n",
            "Data: [50.84691217 53.70278226 45.23149699 48.66890747 50.16307273 43.1344134\n",
            " 51.57579696 54.23080324 45.7024203  51.75272989 43.43858294 49.80652245\n",
            " 41.92113823 55.60708854 52.04450269 49.87691522 46.1241919  56.36877965\n",
            " 59.83550875 40.71009068 56.18082015 58.13825377 51.69005848 44.00365984\n",
            " 54.31672659]\n",
            "--------------------------------------------------\n",
            "Example 5\n",
            "Group 1: [19.45723909 18.18823812 16.30982559 21.65161249 22.3784206  18.12940781\n",
            " 21.56172901 16.56697583 22.4055831  20.1397019  19.44029068 19.69476238\n",
            " 22.60665847 22.25123492 21.58839597 20.41310363 20.23346338 21.85514079\n",
            " 20.69748368 22.04765422]\n",
            "Group 2: [21.06964968 14.69548671 25.11647381 28.56093894 23.32409333 21.6995343\n",
            " 21.59066577 21.64283744 22.05222822 18.63394381 20.44871663 19.00891952\n",
            " 22.74639748 21.11007654 23.48563397 21.47589052 24.95900556 22.6406017\n",
            " 28.57209919 16.31091723]\n",
            "--------------------------------------------------\n",
            "Example 6\n",
            "Data: [46.76541656 54.50743446 62.64162853 48.75682611 50.21834497 48.86842879\n",
            " 56.65728556 48.56346068 53.4003492  48.40099201 43.63720622 51.5677386\n",
            " 52.51592407 56.46612941 49.44776487 46.91318968 52.81380548 51.20368546\n",
            " 51.40332539 49.63443648 55.80169285 51.84746358 59.52329354 55.55528349\n",
            " 53.29524898]\n",
            "--------------------------------------------------\n",
            "Example 7\n",
            "Group 1: [15.11768498 21.80695784 21.26084661 22.43285502 23.13332628 18.79736542\n",
            " 22.47201686 18.31308371 25.86463423 16.004145   14.71793432 15.0478362\n",
            " 17.32833325 16.6426538  25.86823671 19.02050151 15.97197263 23.34314893\n",
            " 18.24042818 16.28943987]\n",
            "Group 2: [24.62751678 23.87008653 20.69512995 26.22262    22.38730474 26.8508488\n",
            " 23.50822265 26.67641662 22.32820809 18.34076681 29.34810595 20.3626775\n",
            " 21.40348641 19.89880449 21.38981665 22.72800832 22.60549054 23.98306086\n",
            " 27.37647463 21.63860628]\n",
            "--------------------------------------------------\n",
            "Example 8\n",
            "Data: [43.83439632 44.08840937 46.67122741 41.62902096 54.12514912 47.50893218\n",
            " 48.44507511 49.99054259 43.01689788 45.6934182  53.37355763 53.09269565\n",
            " 47.78414035 59.05267457 43.47136539 48.27506395 48.84580128 36.034575\n",
            " 59.68764407 51.83166007 44.77705309 60.25586721 52.92831    52.1476307\n",
            " 46.96500801]\n",
            "--------------------------------------------------\n",
            "Example 9\n",
            "Group 1: [20.31866817 15.42295905 22.38507828 18.87668504 20.40214459 23.60616459\n",
            " 20.85424433 20.78740234 20.82949791 17.80018519 22.50801416 24.63007733\n",
            " 22.27641698 22.65472644 17.36815544 17.39663833 15.67737193 23.69675921\n",
            " 19.2374604  24.19953183]\n",
            "Group 2: [19.65426495 20.68747305 22.28627526 24.76435021 22.18225059 22.63337427\n",
            " 22.0495827  22.53156316 18.65058995 22.2427813  21.44026302 21.82952656\n",
            " 23.47700967 19.95796558 21.74647592 21.10791435 23.25190601 24.35431195\n",
            " 19.13372421 23.75773129]\n",
            "--------------------------------------------------\n",
            "Example 10\n",
            "Data: [60.3289166  42.64421537 45.84914052 45.597112   48.60451139 58.11424543\n",
            " 50.06676338 46.52653202 53.10901752 47.00097734 55.61706081 51.5263352\n",
            " 56.94389698 46.69327878 65.15428556 54.12292313 53.27290076 49.74405776\n",
            " 46.3720144  45.66115661 49.32011337 46.01365107 51.41337856 45.86951284\n",
            " 53.1054135 ]\n",
            "--------------------------------------------------\n"
          ]
        }
      ]
    },
    {
      "cell_type": "markdown",
      "source": [
        "## Solve Problems"
      ],
      "metadata": {
        "id": "yIkF1xm9h0z3"
      }
    },
    {
      "cell_type": "code",
      "source": [
        "# Example of accessing the data\n",
        "import pandas as pd\n",
        "data = pd.read_csv('hypothesis_testing_data.csv')\n",
        "\n",
        "# Accessing the data for Example 3:\n",
        "example = 'example_3'\n",
        "print(example)\n",
        "example_3_data = data[data['example'] == example]\n",
        "group1 = example_3_data['group1'].dropna().values #dropna to remove NaN values from one sample data\n",
        "group2 = example_3_data['group2'].dropna().values\n",
        "\n",
        "print(group1)\n",
        "print(group2)"
      ],
      "metadata": {
        "colab": {
          "base_uri": "https://localhost:8080/"
        },
        "id": "YRk0Gn1-eN2s",
        "outputId": "ffcce6d2-f445-46bc-cdbf-67d646666abd"
      },
      "execution_count": null,
      "outputs": [
        {
          "output_type": "stream",
          "name": "stdout",
          "text": [
            "example_3\n",
            "[19.77328486 23.39488816 24.55945045 26.55672622 15.81051099 15.66765858\n",
            " 18.48660241 20.48011121 22.62850676 20.94690484 13.93339635 19.08138796\n",
            " 22.48392393 20.69028421 22.28603354 19.33301557 19.39772579 20.55968417\n",
            " 21.23015494 20.59489916]\n",
            "[22.35702594 19.98801314 23.13269136 22.36546381 25.38845172 25.59675364\n",
            " 22.55546925 20.87414515 20.08380878 23.27048306 22.23202021 20.96843897\n",
            " 22.13079057 20.13999747 24.0940961  20.65861431 25.67352311 23.21047493\n",
            " 23.78073557 18.71526446]\n"
          ]
        }
      ]
    },
    {
      "cell_type": "code",
      "source": [
        "# Accessing the data for Example 2:\n",
        "example = 'example_2'\n",
        "print(example)\n",
        "example_2_data = data[data['example'] == example]\n",
        "data_2 = example_2_data['data'].values\n",
        "print(data_2)"
      ],
      "metadata": {
        "colab": {
          "base_uri": "https://localhost:8080/"
        },
        "id": "1gx5kYR-e25o",
        "outputId": "0c9af6c8-4915-4b5e-b173-c93688140cd1"
      },
      "execution_count": null,
      "outputs": [
        {
          "output_type": "stream",
          "name": "stdout",
          "text": [
            "example_2\n",
            "[49.04082224 45.56185518 46.26420853 58.46227301 50.25403877 46.81502177\n",
            " 50.95457742 60.50127568 50.60079476 53.08601555 51.5008516  48.23875077\n",
            " 44.28740901 48.25328639 48.95552883 52.93311596 54.19491707 54.65551041\n",
            " 51.42793663 54.42570582 46.2280103  56.26434078 52.5646491  48.50953582\n",
            " 52.44259073]\n"
          ]
        }
      ]
    }
  ]
}